{
 "cells": [
  {
   "cell_type": "markdown",
   "metadata": {
    "id": "ErSwf48lduks"
   },
   "source": [
    "# Library"
   ]
  },
  {
   "cell_type": "code",
   "execution_count": null,
   "metadata": {
    "colab": {
     "base_uri": "https://localhost:8080/"
    },
    "executionInfo": {
     "elapsed": 5008,
     "status": "ok",
     "timestamp": 1667383543552,
     "user": {
      "displayName": "최종원",
      "userId": "06409282717989700908"
     },
     "user_tz": -540
    },
    "id": "VZE2KO4ohB5v",
    "outputId": "64e9079d-5742-4c3e-f7bf-615c317ed85d"
   },
   "outputs": [],
   "source": [
    "!pip install anaconda"
   ]
  },
  {
   "cell_type": "code",
   "execution_count": null,
   "metadata": {
    "colab": {
     "base_uri": "https://localhost:8080/"
    },
    "executionInfo": {
     "elapsed": 4859,
     "status": "ok",
     "timestamp": 1667313080151,
     "user": {
      "displayName": "최종원",
      "userId": "06409282717989700908"
     },
     "user_tz": -540
    },
    "id": "syelKGtpmj88",
    "outputId": "c23220f8-7495-47e8-9dc4-af717db8892b"
   },
   "outputs": [],
   "source": [
    "!pip install folium"
   ]
  },
  {
   "cell_type": "code",
   "execution_count": null,
   "metadata": {
    "colab": {
     "base_uri": "https://localhost:8080/"
    },
    "executionInfo": {
     "elapsed": 7794,
     "status": "ok",
     "timestamp": 1668275094237,
     "user": {
      "displayName": "최종원",
      "userId": "06409282717989700908"
     },
     "user_tz": -540
    },
    "id": "vNiOvLVzexXl",
    "outputId": "41e4ee4c-9025-4008-ba00-fc8ea973326a"
   },
   "outputs": [],
   "source": [
    "# 최적 파라미터를 범위내에서 찾아주는 라이브러리로써 캐글에서 인기 폭발이라고 한다.\n",
    "!pip install optuna"
   ]
  },
  {
   "cell_type": "code",
   "execution_count": null,
   "metadata": {
    "colab": {
     "base_uri": "https://localhost:8080/"
    },
    "executionInfo": {
     "elapsed": 8675,
     "status": "ok",
     "timestamp": 1668356225846,
     "user": {
      "displayName": "최종원",
      "userId": "06409282717989700908"
     },
     "user_tz": -540
    },
    "id": "cZRkUCmu53Pc",
    "outputId": "327377ea-94a4-4d0b-d164-8dfbf915f6b3"
   },
   "outputs": [],
   "source": [
    "!pip install catboost"
   ]
  },
  {
   "cell_type": "code",
   "execution_count": null,
   "metadata": {
    "colab": {
     "base_uri": "https://localhost:8080/"
    },
    "executionInfo": {
     "elapsed": 9926,
     "status": "ok",
     "timestamp": 1665411244081,
     "user": {
      "displayName": "최종원",
      "userId": "06409282717989700908"
     },
     "user_tz": -540
    },
    "id": "L7RHRzAehYNl",
    "outputId": "52f4ddd8-c7c4-4d5f-960f-4fef69872080"
   },
   "outputs": [],
   "source": [
    "!sudo apt-get install -y fonts-nanum\n",
    "!sudo fc-cache -fv\n",
    "!rm ~/.cache/matplotlib -rf\n",
    "#한글폰트 설치. 런타임재사용 필요"
   ]
  },
  {
   "cell_type": "markdown",
   "metadata": {
    "id": "4sg2iS3Hdzyq"
   },
   "source": [
    "# Google_Drive 연동 및 데이터 불러오기."
   ]
  },
  {
   "cell_type": "code",
   "execution_count": null,
   "metadata": {
    "colab": {
     "base_uri": "https://localhost:8080/"
    },
    "executionInfo": {
     "elapsed": 47565,
     "status": "ok",
     "timestamp": 1668660061890,
     "user": {
      "displayName": "최종원",
      "userId": "06409282717989700908"
     },
     "user_tz": -540
    },
    "id": "uoXO4V383aW5",
    "outputId": "ca110afb-8f67-4a1b-bcc1-756091239331"
   },
   "outputs": [],
   "source": [
    "from google.colab import drive\n",
    "drive.mount('/content/drive')\n",
    "#구글드라이브연동"
   ]
  },
  {
   "cell_type": "code",
   "execution_count": null,
   "metadata": {
    "executionInfo": {
     "elapsed": 982,
     "status": "ok",
     "timestamp": 1668660072370,
     "user": {
      "displayName": "최종원",
      "userId": "06409282717989700908"
     },
     "user_tz": -540
    },
    "id": "ZrZHL71Fhh4L"
   },
   "outputs": [],
   "source": [
    "import math\n",
    "import numpy as np\n",
    "import pandas as pd\n",
    "import seaborn as sns\n",
    "import matplotlib.pyplot as plt\n",
    "from sklearn.preprocessing import LabelEncoder\n",
    "import lightgbm as lgb\n",
    "import gc\n",
    "\n",
    "plt.style.use('seaborn')\n",
    "sns.set(font_scale=1)\n",
    "plt.rc('font', family='NanumBarunGothic') \n",
    "plt.rcParams['font.family'] = 'NanumGothic'\n",
    "#한글폰트\n",
    "\n",
    "import warnings\n",
    "warnings.simplefilter(action='ignore', category=FutureWarning)"
   ]
  },
  {
   "cell_type": "code",
   "execution_count": null,
   "metadata": {
    "executionInfo": {
     "elapsed": 6,
     "status": "ok",
     "timestamp": 1668660073102,
     "user": {
      "displayName": "최종원",
      "userId": "06409282717989700908"
     },
     "user_tz": -540
    },
    "id": "gVsBxLmnnTel"
   },
   "outputs": [],
   "source": [
    "def csv_to_parquet(csv_path, save_name):\n",
    "    df = pd.read_csv(csv_path)\n",
    "    df.to_parquet(f'./{save_name}.parquet')\n",
    "    del df\n",
    "    gc.collect()\n",
    "    print(save_name, 'Done.')"
   ]
  },
  {
   "cell_type": "code",
   "execution_count": null,
   "metadata": {
    "colab": {
     "base_uri": "https://localhost:8080/"
    },
    "executionInfo": {
     "elapsed": 26333,
     "status": "ok",
     "timestamp": 1668660101400,
     "user": {
      "displayName": "최종원",
      "userId": "06409282717989700908"
     },
     "user_tz": -540
    },
    "id": "xzIQLB6qhmZa",
    "outputId": "c6614b15-b977-400e-9752-2f871db2ac4c"
   },
   "outputs": [],
   "source": [
    "csv_to_parquet('/content/drive/MyDrive/DACON_Dataset/JEJU_Traffic/open.zip (Unzipped Files)/train.csv','train')\n",
    "csv_to_parquet('/content/drive/MyDrive/DACON_Dataset/JEJU_Traffic/open.zip (Unzipped Files)/test.csv','test')\n",
    "\n",
    "# 22sec #파일경로"
   ]
  },
  {
   "cell_type": "code",
   "execution_count": null,
   "metadata": {
    "executionInfo": {
     "elapsed": 2884,
     "status": "ok",
     "timestamp": 1668660106055,
     "user": {
      "displayName": "최종원",
      "userId": "06409282717989700908"
     },
     "user_tz": -540
    },
    "id": "fkX_3Pd_ntuo"
   },
   "outputs": [],
   "source": [
    "train=pd.read_parquet('train.parquet')\n",
    "test=pd.read_parquet('test.parquet')"
   ]
  },
  {
   "cell_type": "code",
   "execution_count": null,
   "metadata": {
    "colab": {
     "base_uri": "https://localhost:8080/"
    },
    "executionInfo": {
     "elapsed": 626,
     "status": "ok",
     "timestamp": 1667402159983,
     "user": {
      "displayName": "최종원",
      "userId": "06409282717989700908"
     },
     "user_tz": -540
    },
    "id": "aTln1kT-oir_",
    "outputId": "c0a90d20-eb09-41d9-9e2b-d8067b47e3b2"
   },
   "outputs": [],
   "source": [
    "train.road_rating.unique()"
   ]
  },
  {
   "cell_type": "code",
   "execution_count": null,
   "metadata": {
    "executionInfo": {
     "elapsed": 3727,
     "status": "ok",
     "timestamp": 1668660109739,
     "user": {
      "displayName": "최종원",
      "userId": "06409282717989700908"
     },
     "user_tz": -540
    },
    "id": "qyMVTPbp00Vp"
   },
   "outputs": [],
   "source": [
    "train1=pd.read_parquet('train.parquet')\n",
    "test1=pd.read_parquet('test.parquet')"
   ]
  },
  {
   "cell_type": "code",
   "execution_count": null,
   "metadata": {
    "id": "4utlcN7_03Bw"
   },
   "outputs": [],
   "source": [
    "train['base_hour']=train1.base_hour\n",
    "test['base_hour']=test1.base_hour"
   ]
  },
  {
   "cell_type": "code",
   "execution_count": null,
   "metadata": {
    "colab": {
     "base_uri": "https://localhost:8080/",
     "height": 578
    },
    "executionInfo": {
     "elapsed": 402,
     "status": "ok",
     "timestamp": 1668663038552,
     "user": {
      "displayName": "최종원",
      "userId": "06409282717989700908"
     },
     "user_tz": -540
    },
    "id": "yAdDLVcpCMJt",
    "outputId": "9185899c-6537-4742-f2c7-4a3816896375"
   },
   "outputs": [],
   "source": [
    "train.head(10)"
   ]
  },
  {
   "cell_type": "markdown",
   "metadata": {
    "id": "ePlS3PLRbcuQ"
   },
   "source": [
    "# Description\n",
    " \n",
    "- 470만 1217개의 행으로 구성되어 있고, 281개의 일수에서의 요일 값과 24시간 각 시간, 도로 사용여부(0,1), 차선수는 3차선이 최대입니다. 도로등급은 106, 103, 107로 제주도에는 3가지의 등급 밖에 없는것으로 여겨집니다.\n",
    "\n",
    "\n",
    "- 도로명은 61가지가 있으며, 중용구간(2개이상의 노선이 공동으로 사용하는 공간)일수도 있고 아닐 수 도 있습니다. 연결로코드 는 0혹은 103이 될 수 있습니다. 속도제한은 6가지 제한이 있으며, 30-80까지 10단위로 총 6개가 존재합니다. 차량제한(drop)은 없지만, 하중제한은 [32400.,     0., 43200., 50000.]이렇게 존재하고, 높이제한(drop)도 없습니다. \n",
    "\n",
    "\n",
    "-  도로유형은 3번타입 아니면 0번타입 두가지입니다. 시작지점명, 도착지점명은 487곳이고, 시작위경도는 586 * (x,y) 시작, 도착 지점의 회전가능여부도 존재합니다.\n"
   ]
  },
  {
   "cell_type": "markdown",
   "metadata": {
    "id": "WPtCbANQibmV"
   },
   "source": [
    "# Column Description\n",
    "\n",
    "        id\t아이디\n",
    "        base_date\t날짜\n",
    "        day_of_week\t요일\n",
    "        base_hour\t시간대\n",
    "        road_in_use\t도로사용여부\n",
    "        lane_count\t차로수\n",
    "        road_rating\t도로등급\n",
    "        multi_linked\t중용구간 여부\n",
    "        connect_code\t연결로 코드\n",
    "        maximum_speed_limit\t최고속도제한\n",
    "        weight_restricted\t통과제한하중\n",
    "        hight_restricted\t통과제한높이\n",
    "        road_type\t도로유형\n",
    "        start_latitude\t시작지점의 위도\n",
    "        start_longitude\t시작지점의 경도\n",
    "        start_turn_restricted\t시작 지점의 회전제한 유무\n",
    "        end_latitude\t도착지점의 위도\n",
    "        end_longitude\t도착지점의 경도\n",
    "        end_turn_restricted\t도작지점의 회전제한 유무\n",
    "        road_name\t도로명\n",
    "        start_node_name\t시작지점명\n",
    "        end_node_name\t도착지점명\n",
    "        vehicle_restricted\t통과제한차량\n",
    "        target\t평균속도(km) \n",
    "\n",
    "# Numeric vs Categorical\n",
    "틀린것 있을 수 도 있음. ㅋ\n",
    "\n",
    "        Numeric : \n",
    "\n",
    "        base_date ,base_hour lane_count , maximum_speed_limit, weight_restricted, \n",
    "        height_restricted , start_latitude, start_longitude, end_latitude, end_longitude\n",
    "\n",
    "        Categorical :\n",
    "\n",
    "        id, day_of_week, road_in_use, road_rating, multi_linked, connect_code,\n",
    "        start_turn_restricted, road_type, end_turn_restricted, road_name,\n",
    "        start_node_name, end_node_name, vehicle_restricted\n",
    "\n",
    "        Target : target ( 평균속도)"
   ]
  },
  {
   "cell_type": "markdown",
   "metadata": {
    "id": "Rpjcdo1iih4-"
   },
   "source": [
    "# EDA\n",
    "- 결측치는 존재하지 않습니다."
   ]
  },
  {
   "cell_type": "code",
   "execution_count": null,
   "metadata": {
    "colab": {
     "base_uri": "https://localhost:8080/"
    },
    "executionInfo": {
     "elapsed": 2528,
     "status": "ok",
     "timestamp": 1665411402370,
     "user": {
      "displayName": "최종원",
      "userId": "06409282717989700908"
     },
     "user_tz": -540
    },
    "id": "_0No2Hb9iVIm",
    "outputId": "4cf58c6d-8de2-4e63-e693-428b3c1c8413"
   },
   "outputs": [],
   "source": [
    "train.isnull().sum() # wow 제주 대신 train으로 변경할것."
   ]
  },
  {
   "cell_type": "markdown",
   "metadata": {
    "id": "PqVW0zI_R-Gl"
   },
   "source": [
    "-상관계수 분석하기."
   ]
  },
  {
   "cell_type": "code",
   "execution_count": null,
   "metadata": {
    "colab": {
     "base_uri": "https://localhost:8080/",
     "height": 1000
    },
    "executionInfo": {
     "elapsed": 7419,
     "status": "ok",
     "timestamp": 1667140116792,
     "user": {
      "displayName": "최종원",
      "userId": "06409282717989700908"
     },
     "user_tz": -540
    },
    "id": "20zGf9E3R9xR",
    "outputId": "9ec845e1-e93e-4887-9644-452392af7b02"
   },
   "outputs": [],
   "source": [
    "data = train.corr()\n",
    "# 그림 사이즈 지정\n",
    "fig, ax = plt.subplots( figsize=(30,30) )\n",
    "\n",
    "# 삼각형 마스크를 만든다(위 쪽 삼각형에 True, 아래 삼각형에 False)\n",
    "mask = np.zeros_like(data, dtype=np.bool)\n",
    "mask[np.triu_indices_from(mask)] = True\n",
    "\n",
    "# 히트맵을 그린다\n",
    "sns.heatmap(data, \n",
    "            cmap = 'RdYlBu_r', \n",
    "            annot = True,   # 실제 값을 표시한다\n",
    "            mask=mask,      # 표시하지 않을 마스크 부분을 지정한다\n",
    "            linewidths=.5,  # 경계면 실선으로 구분하기\n",
    "            cbar_kws={\"shrink\": .5},# 컬러바 크기 절반으로 줄이기\n",
    "            vmin = -1,vmax = 1   # 컬러바 범위 -1 ~ 1\n",
    "           )\n",
    "plt.title('특성별 상관관계\\n',fontsize=20)  \n",
    "plt.show()"
   ]
  },
  {
   "cell_type": "code",
   "execution_count": null,
   "metadata": {
    "colab": {
     "base_uri": "https://localhost:8080/",
     "height": 399
    },
    "executionInfo": {
     "elapsed": 5497,
     "status": "ok",
     "timestamp": 1665411414584,
     "user": {
      "displayName": "최종원",
      "userId": "06409282717989700908"
     },
     "user_tz": -540
    },
    "id": "3gWAgDBgowD9",
    "outputId": "6163eeb0-ff60-4372-c62d-268fbb262448"
   },
   "outputs": [],
   "source": [
    "sns.histplot(data=train['maximum_speed_limit'])"
   ]
  },
  {
   "cell_type": "code",
   "execution_count": null,
   "metadata": {
    "colab": {
     "base_uri": "https://localhost:8080/",
     "height": 402
    },
    "executionInfo": {
     "elapsed": 915,
     "status": "ok",
     "timestamp": 1665412936305,
     "user": {
      "displayName": "최종원",
      "userId": "06409282717989700908"
     },
     "user_tz": -540
    },
    "id": "7VhTen24pkxg",
    "outputId": "c5821a34-1b7f-43a8-ded3-5efb03abb36a"
   },
   "outputs": [],
   "source": [
    "sns.boxplot(data=train,x='target')\n",
    "plt.title('target')"
   ]
  },
  {
   "cell_type": "code",
   "execution_count": null,
   "metadata": {
    "id": "A5zAR9qubJ4D"
   },
   "outputs": [],
   "source": [
    "sns.countplot(data=train, x=train['day_of_week']);"
   ]
  },
  {
   "cell_type": "code",
   "execution_count": null,
   "metadata": {
    "id": "-46b9F5lbwaH"
   },
   "outputs": [],
   "source": [
    "sns.countplot(data=train, x=train['base_hour']);"
   ]
  },
  {
   "cell_type": "code",
   "execution_count": null,
   "metadata": {
    "id": "NYz96RR9b9Cy"
   },
   "outputs": [],
   "source": [
    "sns.countplot(data=train, x=train['road_in_use']);\n",
    "\n",
    "train['road_in_use'].value_counts() # 개수\n",
    "\n",
    "print('도로를 사용하지 않을 때 평균속도의 mean',train[train['road_in_use']==0]['target'].mean())\n",
    "\n",
    "print('도로를 사용할때 평균속도의 mean',train[train['road_in_use']==1]['target'].mean())"
   ]
  },
  {
   "cell_type": "code",
   "execution_count": null,
   "metadata": {
    "id": "U2g81svSkxcb"
   },
   "outputs": [],
   "source": [
    "# 컬럼별 target분포 히스토그램.\n",
    "def value_hist(df, col, target='target'):\n",
    "\n",
    "  for value in df[col].unique():\n",
    "\n",
    "    cond = (df[col]==value)\n",
    "    cond_df = df.loc[cond]\n",
    "\n",
    "    print(f'{value} 데이터 갯수 : {cond_df.shape[0]}')\n",
    "\n",
    "    \n",
    "\n",
    "    fig, ax = plt.subplots(ncols=2, figsize=(13, 6))\n",
    "\n",
    "    sns.histplot(data=cond_df, x='target', ax=ax[0])\n",
    "    ax[0].set_title(f'{col}의 {value} 히스토그램')\n",
    "    ax[0].set_xticks(range(0,int(df[target].max()+1)), 20)\n",
    "\n",
    "    sns.boxplot(data=cond_df, x='target', ax=ax[1])\n",
    "    ax[1].set_title(f'{col}의 {value} Box Plot')\n",
    "    \n",
    "    plt.show()"
   ]
  },
  {
   "cell_type": "code",
   "execution_count": null,
   "metadata": {
    "colab": {
     "base_uri": "https://localhost:8080/"
    },
    "executionInfo": {
     "elapsed": 615,
     "status": "ok",
     "timestamp": 1665412422038,
     "user": {
      "displayName": "최종원",
      "userId": "06409282717989700908"
     },
     "user_tz": -540
    },
    "id": "EysC8jQgUMTw",
    "outputId": "de19066d-3952-4a18-a81b-bb0baa9dcc4b"
   },
   "outputs": [],
   "source": [
    "train.columns"
   ]
  },
  {
   "cell_type": "code",
   "execution_count": null,
   "metadata": {
    "colab": {
     "base_uri": "https://localhost:8080/",
     "height": 173
    },
    "executionInfo": {
     "elapsed": 407,
     "status": "error",
     "timestamp": 1668313178366,
     "user": {
      "displayName": "최종원",
      "userId": "06409282717989700908"
     },
     "user_tz": -540
    },
    "id": "kQ7cLxRlRGEG",
    "outputId": "77b613d6-badc-4a7c-be85-33c8359e73c0"
   },
   "outputs": [],
   "source": [
    "train.road_name.unique()"
   ]
  },
  {
   "cell_type": "code",
   "execution_count": null,
   "metadata": {
    "id": "IL4XHf0Nk3JM"
   },
   "outputs": [],
   "source": [
    "value_hist(train,'day_of_week') #요일 별 target 히스토그램."
   ]
  },
  {
   "cell_type": "code",
   "execution_count": null,
   "metadata": {
    "colab": {
     "base_uri": "https://localhost:8080/",
     "height": 1000
    },
    "executionInfo": {
     "elapsed": 33401,
     "status": "ok",
     "timestamp": 1665414737907,
     "user": {
      "displayName": "최종원",
      "userId": "06409282717989700908"
     },
     "user_tz": -540
    },
    "id": "RSBaOqCrUFz_",
    "outputId": "24d539a6-8916-4abb-e6f7-a8ca67922609"
   },
   "outputs": [],
   "source": [
    "value_hist(train,'base_hour')"
   ]
  },
  {
   "cell_type": "code",
   "execution_count": null,
   "metadata": {
    "colab": {
     "base_uri": "https://localhost:8080/",
     "height": 1000
    },
    "executionInfo": {
     "elapsed": 8505,
     "status": "ok",
     "timestamp": 1667374350078,
     "user": {
      "displayName": "최종원",
      "userId": "06409282717989700908"
     },
     "user_tz": -540
    },
    "id": "iEyGi6tzdbbN",
    "outputId": "5cf63e59-4541-44be-c4c2-1584a44ac07b"
   },
   "outputs": [],
   "source": [
    "value_hist(train,'road_rating')"
   ]
  },
  {
   "cell_type": "code",
   "execution_count": null,
   "metadata": {
    "colab": {
     "base_uri": "https://localhost:8080/",
     "height": 1000
    },
    "executionInfo": {
     "elapsed": 7025,
     "status": "ok",
     "timestamp": 1665415273601,
     "user": {
      "displayName": "최종원",
      "userId": "06409282717989700908"
     },
     "user_tz": -540
    },
    "id": "xB4CzItsekXE",
    "outputId": "c9b677a9-34ae-48d5-a648-7bb998ccbbdc"
   },
   "outputs": [],
   "source": [
    "value_hist(train,'lane_count')"
   ]
  },
  {
   "cell_type": "code",
   "execution_count": null,
   "metadata": {
    "colab": {
     "base_uri": "https://localhost:8080/",
     "height": 899
    },
    "executionInfo": {
     "elapsed": 8621,
     "status": "ok",
     "timestamp": 1665415981479,
     "user": {
      "displayName": "최종원",
      "userId": "06409282717989700908"
     },
     "user_tz": -540
    },
    "id": "rOeIsYh0hmx4",
    "outputId": "56ddbc51-cbef-4882-8749-9e8cf6b71394"
   },
   "outputs": [],
   "source": [
    "value_hist(train,'end_turn_restricted')"
   ]
  },
  {
   "cell_type": "code",
   "execution_count": null,
   "metadata": {
    "colab": {
     "base_uri": "https://localhost:8080/",
     "height": 899
    },
    "executionInfo": {
     "elapsed": 6112,
     "status": "ok",
     "timestamp": 1665416008035,
     "user": {
      "displayName": "최종원",
      "userId": "06409282717989700908"
     },
     "user_tz": -540
    },
    "id": "B7WMkNY_hz6r",
    "outputId": "4292a3db-7726-40c2-9a01-c98aa5218885"
   },
   "outputs": [],
   "source": [
    "value_hist(train,'start_turn_restricted')"
   ]
  },
  {
   "cell_type": "code",
   "execution_count": null,
   "metadata": {
    "colab": {
     "base_uri": "https://localhost:8080/",
     "height": 1000
    },
    "executionInfo": {
     "elapsed": 38362,
     "status": "ok",
     "timestamp": 1667375655916,
     "user": {
      "displayName": "최종원",
      "userId": "06409282717989700908"
     },
     "user_tz": -540
    },
    "id": "xj31xtMxUxCj",
    "outputId": "16336fbe-2c7d-49f5-fcfb-a9f19cebdd63"
   },
   "outputs": [],
   "source": [
    "train_road103=train[train.road_rating==103]\n",
    "value_hist(train_road103,'base_hour')"
   ]
  },
  {
   "cell_type": "markdown",
   "metadata": {
    "id": "C0gVrmsOUcUJ"
   },
   "source": [
    "- 시간대별 target 분포도"
   ]
  },
  {
   "cell_type": "code",
   "execution_count": null,
   "metadata": {
    "colab": {
     "base_uri": "https://localhost:8080/",
     "height": 391
    },
    "executionInfo": {
     "elapsed": 8,
     "status": "error",
     "timestamp": 1668351801882,
     "user": {
      "displayName": "최종원",
      "userId": "06409282717989700908"
     },
     "user_tz": -540
    },
    "id": "GUqvT6bgRKub",
    "outputId": "af6325c8-74ea-4d46-894c-1ae397a843c5"
   },
   "outputs": [],
   "source": [
    "import mglearn\n",
    "from sklearn.cluster import KMeans\n",
    "from sklearn.metrics import silhouette_score\n",
    "#sns.histplot(train.target.loc[train[train['base_hour']<=6].index])\n",
    "\n",
    "X=train[train['base_hour']<=6][['start_latitude','start_longitude','target']]\n",
    "\n",
    "kmeans = KMeans(n_clusters=5)\n",
    "kmeans.fit(X[['target']])\n",
    "print(silhouette_score(X,kmeans.labels_))\n",
    "mglearn.discrete_scatter(X['start_longitude'],X['start_latitude'],kmeans.labels_,markers='o',s=3,)\n",
    "plt.title('before 6am target_count')"
   ]
  },
  {
   "cell_type": "code",
   "execution_count": null,
   "metadata": {
    "id": "t8LutVy7TLvo"
   },
   "outputs": [],
   "source": [
    "sns.histplot(y.loc[train[(train['base_hour']>6) &(train['base_hour']<=12)].index])\n",
    "plt.title('before 6am to 12pm target_count')"
   ]
  },
  {
   "cell_type": "code",
   "execution_count": null,
   "metadata": {
    "id": "UnxEfLhrUIi4"
   },
   "outputs": [],
   "source": [
    "sns.histplot(y.loc[train[(train['base_hour']>12) &(train['base_hour']<=18)].index])\n",
    "plt.title('before 12pm to 18pm target_count')"
   ]
  },
  {
   "cell_type": "code",
   "execution_count": null,
   "metadata": {
    "id": "LkU3iTBdUP8P"
   },
   "outputs": [],
   "source": [
    "sns.histplot(y.loc[train[(train['base_hour']>18) &(train['base_hour']<=24)].index])\n",
    "plt.title('before 18pm to 24pm target_count')"
   ]
  },
  {
   "cell_type": "code",
   "execution_count": null,
   "metadata": {
    "colab": {
     "base_uri": "https://localhost:8080/"
    },
    "executionInfo": {
     "elapsed": 535,
     "status": "ok",
     "timestamp": 1666318281805,
     "user": {
      "displayName": "최종원",
      "userId": "06409282717989700908"
     },
     "user_tz": -540
    },
    "id": "xChTkVNYTt4N",
    "outputId": "b8616542-dd80-4c16-c5de-aa168fabdfd8"
   },
   "outputs": [],
   "source": [
    "train.base_date.describe()"
   ]
  },
  {
   "cell_type": "code",
   "execution_count": null,
   "metadata": {
    "colab": {
     "base_uri": "https://localhost:8080/"
    },
    "executionInfo": {
     "elapsed": 554,
     "status": "ok",
     "timestamp": 1666318316117,
     "user": {
      "displayName": "최종원",
      "userId": "06409282717989700908"
     },
     "user_tz": -540
    },
    "id": "QxBhj5BPT2_U",
    "outputId": "672d9440-d947-462a-e6c0-043863a7b5ff"
   },
   "outputs": [],
   "source": [
    "test.base_date.describe()"
   ]
  },
  {
   "cell_type": "code",
   "execution_count": null,
   "metadata": {
    "colab": {
     "base_uri": "https://localhost:8080/",
     "height": 1000
    },
    "executionInfo": {
     "elapsed": 44702,
     "status": "error",
     "timestamp": 1666318456633,
     "user": {
      "displayName": "최종원",
      "userId": "06409282717989700908"
     },
     "user_tz": -540
    },
    "id": "d0K9FeypULlH",
    "outputId": "14d3e866-fe88-4b5a-d6de-dc8867bcf552"
   },
   "outputs": [],
   "source": [
    "value_hist(train,'base_date')"
   ]
  },
  {
   "cell_type": "code",
   "execution_count": null,
   "metadata": {
    "colab": {
     "base_uri": "https://localhost:8080/"
    },
    "executionInfo": {
     "elapsed": 525,
     "status": "ok",
     "timestamp": 1666319659643,
     "user": {
      "displayName": "최종원",
      "userId": "06409282717989700908"
     },
     "user_tz": -540
    },
    "id": "wiNA6fXlXvoV",
    "outputId": "ab276cfb-93cb-4871-9ebe-4fe3f18ad830"
   },
   "outputs": [],
   "source": [
    "days=train['base_date'].dt.day_of_week\n",
    "print(days)"
   ]
  },
  {
   "cell_type": "code",
   "execution_count": null,
   "metadata": {
    "colab": {
     "base_uri": "https://localhost:8080/",
     "height": 420
    },
    "executionInfo": {
     "elapsed": 6625,
     "status": "ok",
     "timestamp": 1666928433552,
     "user": {
      "displayName": "최종원",
      "userId": "06409282717989700908"
     },
     "user_tz": -540
    },
    "id": "uuqtnFeOrQSv",
    "outputId": "f41a5df9-2505-4aa6-e935-e27d8f570079"
   },
   "outputs": [],
   "source": [
    "sns.displot(train.distance)"
   ]
  },
  {
   "cell_type": "code",
   "execution_count": null,
   "metadata": {
    "colab": {
     "base_uri": "https://localhost:8080/",
     "height": 488
    },
    "executionInfo": {
     "elapsed": 3098,
     "status": "ok",
     "timestamp": 1667315868637,
     "user": {
      "displayName": "최종원",
      "userId": "06409282717989700908"
     },
     "user_tz": -540
    },
    "id": "wYhoybU_SC76",
    "outputId": "b79a6d19-db29-457e-fdcf-5bc4dec7e993"
   },
   "outputs": [],
   "source": [
    "train[train.road_name=='-']"
   ]
  },
  {
   "cell_type": "markdown",
   "metadata": {
    "id": "JUokVHo5cPVF"
   },
   "source": [
    "#시작위경도를 train의 target값 별 분포를 통해 군집 개수를 정하기."
   ]
  },
  {
   "cell_type": "code",
   "execution_count": null,
   "metadata": {
    "colab": {
     "base_uri": "https://localhost:8080/"
    },
    "executionInfo": {
     "elapsed": 3149,
     "status": "ok",
     "timestamp": 1668273194009,
     "user": {
      "displayName": "최종원",
      "userId": "06409282717989700908"
     },
     "user_tz": -540
    },
    "id": "iUJVXNLzxHXl",
    "outputId": "2789b293-7ec2-4d9c-bb1b-ffcf654e8b18"
   },
   "outputs": [],
   "source": [
    "!pip install mglearn"
   ]
  },
  {
   "cell_type": "code",
   "execution_count": null,
   "metadata": {
    "colab": {
     "base_uri": "https://localhost:8080/",
     "height": 290
    },
    "executionInfo": {
     "elapsed": 3266,
     "status": "ok",
     "timestamp": 1668273142484,
     "user": {
      "displayName": "최종원",
      "userId": "06409282717989700908"
     },
     "user_tz": -540
    },
    "id": "De68-7zdye30",
    "outputId": "dc1b0aaa-4089-4939-8bfc-b98148da4ea2"
   },
   "outputs": [],
   "source": [
    "pip install --upgrade joblib==1.1.0"
   ]
  },
  {
   "cell_type": "code",
   "execution_count": null,
   "metadata": {
    "id": "I8HYFQ1GzUaC"
   },
   "outputs": [],
   "source": []
  },
  {
   "cell_type": "code",
   "execution_count": null,
   "metadata": {
    "colab": {
     "base_uri": "https://localhost:8080/",
     "height": 469
    },
    "executionInfo": {
     "elapsed": 65681,
     "status": "error",
     "timestamp": 1668355826338,
     "user": {
      "displayName": "최종원",
      "userId": "06409282717989700908"
     },
     "user_tz": -540
    },
    "id": "3rDrnEpshayw",
    "outputId": "33f4b4f6-e1f1-4005-9afd-d20e9f21dcad"
   },
   "outputs": [],
   "source": [
    "#import mglearn\n",
    "from sklearn.cluster import KMeans\n",
    "from sklearn.metrics import silhouette_score\n",
    "temp=train.groupby(['start_latitude','start_longitude','end_latitude','end_longitude','road_rating'])[['target']].median().reset_index()\n",
    "\n",
    "X=train[['start_latitude','start_longitude','end_latitude','end_longitude','road_rating','target']]\n",
    "\n",
    "kmeans = KMeans(n_clusters=5,random_state=5)\n",
    "kmeans.fit(X)\n",
    "print(silhouette_score(X,kmeans.labels_))\n",
    "#mglearn.discrete_scatter(temp['start_longitude'],temp['start_latitude'],kmeans.labels_,markers='o',s=3,)\n",
    "#mglearn.discrete_scatter(kmeans.cluster_centers_[:,0],kmeans.cluster_centers_[:,1],[0,1,2,3,4],markers='^',markeredgewidth=2)\n",
    "plt.legend()\n",
    "plt.xlabel('latitude')\n",
    "plt.ylabel('longitude')\n"
   ]
  },
  {
   "cell_type": "code",
   "execution_count": null,
   "metadata": {
    "colab": {
     "base_uri": "https://localhost:8080/"
    },
    "executionInfo": {
     "elapsed": 257,
     "status": "ok",
     "timestamp": 1668273700045,
     "user": {
      "displayName": "최종원",
      "userId": "06409282717989700908"
     },
     "user_tz": -540
    },
    "id": "5af-8yBw1o-v",
    "outputId": "3c22307d-ef55-4424-8f98-9be23181ffb8"
   },
   "outputs": [],
   "source": [
    "temp.shape"
   ]
  },
  {
   "cell_type": "code",
   "execution_count": null,
   "metadata": {
    "id": "CcQqn0OX-086"
   },
   "outputs": [],
   "source": [
    "temp['c_label']=kmeans.labels_"
   ]
  },
  {
   "cell_type": "code",
   "execution_count": null,
   "metadata": {
    "colab": {
     "base_uri": "https://localhost:8080/"
    },
    "executionInfo": {
     "elapsed": 272,
     "status": "ok",
     "timestamp": 1668313294413,
     "user": {
      "displayName": "최종원",
      "userId": "06409282717989700908"
     },
     "user_tz": -540
    },
    "id": "UedY0T2T1rOv",
    "outputId": "dde993ac-688d-43a5-c40f-3d020f7116d9"
   },
   "outputs": [],
   "source": [
    "temp[temp['c_label']==2]['target'].mean()"
   ]
  },
  {
   "cell_type": "code",
   "execution_count": null,
   "metadata": {
    "id": "0hy3fkFY_AME"
   },
   "outputs": [],
   "source": [
    "train['c_label']=0"
   ]
  },
  {
   "cell_type": "code",
   "execution_count": null,
   "metadata": {
    "id": "7HO0f305_C1E"
   },
   "outputs": [],
   "source": [
    "test['c_label']=0"
   ]
  },
  {
   "cell_type": "code",
   "execution_count": null,
   "metadata": {
    "colab": {
     "base_uri": "https://localhost:8080/"
    },
    "executionInfo": {
     "elapsed": 15,
     "status": "ok",
     "timestamp": 1667487269586,
     "user": {
      "displayName": "최종원",
      "userId": "06409282717989700908"
     },
     "user_tz": -540
    },
    "id": "AAi7E-nN_a_4",
    "outputId": "3f8ff748-7034-4d57-9cc0-aeece2370d68"
   },
   "outputs": [],
   "source": [
    "test.c_label.nunique()"
   ]
  },
  {
   "cell_type": "code",
   "execution_count": null,
   "metadata": {
    "colab": {
     "base_uri": "https://localhost:8080/"
    },
    "executionInfo": {
     "elapsed": 601,
     "status": "ok",
     "timestamp": 1667317131624,
     "user": {
      "displayName": "최종원",
      "userId": "06409282717989700908"
     },
     "user_tz": -540
    },
    "id": "4gIFYGRCopsl",
    "outputId": "e6ced86f-bda1-47fe-fe0e-d326f55e0321"
   },
   "outputs": [],
   "source": [
    "temp.road_type.unique()"
   ]
  },
  {
   "cell_type": "code",
   "execution_count": null,
   "metadata": {
    "id": "T0SRKcW-nW5B"
   },
   "outputs": [],
   "source": [
    "train.maximum_speed_limit"
   ]
  },
  {
   "cell_type": "code",
   "execution_count": null,
   "metadata": {
    "colab": {
     "base_uri": "https://localhost:8080/"
    },
    "executionInfo": {
     "elapsed": 371,
     "status": "ok",
     "timestamp": 1667311285436,
     "user": {
      "displayName": "최종원",
      "userId": "06409282717989700908"
     },
     "user_tz": -540
    },
    "id": "pPSykFSyfuXk",
    "outputId": "f681c5d3-442c-4d80-8de4-0402c0b2b5fc"
   },
   "outputs": [],
   "source": [
    "train.start_latitude.nunique()"
   ]
  },
  {
   "cell_type": "code",
   "execution_count": null,
   "metadata": {
    "id": "Ixt1N898ecim"
   },
   "outputs": [],
   "source": [
    "temp1=test.groupby(['start_latitude','start_longitude','end_latitude','end_longitude','road_name','road_type','road_rating','distance']).size().reset_index(name='freq')\n",
    "temp1\n",
    "\n",
    "temp1.to_csv('/content/drive/MyDrive/DACON_Dataset/JEJU_Traffic/open.zip (Unzipped Files)/test_val.csv')"
   ]
  },
  {
   "cell_type": "code",
   "execution_count": null,
   "metadata": {
    "colab": {
     "base_uri": "https://localhost:8080/"
    },
    "executionInfo": {
     "elapsed": 4,
     "status": "ok",
     "timestamp": 1668355423793,
     "user": {
      "displayName": "최종원",
      "userId": "06409282717989700908"
     },
     "user_tz": -540
    },
    "id": "YS2X6B-IxdRX",
    "outputId": "e889a554-6ec5-4fcc-bec4-24f4d4fa490f"
   },
   "outputs": [],
   "source": [
    "temp.c_label.nunique()"
   ]
  },
  {
   "cell_type": "code",
   "execution_count": null,
   "metadata": {
    "colab": {
     "base_uri": "https://localhost:8080/",
     "height": 424
    },
    "executionInfo": {
     "elapsed": 468,
     "status": "ok",
     "timestamp": 1667312206898,
     "user": {
      "displayName": "최종원",
      "userId": "06409282717989700908"
     },
     "user_tz": -540
    },
    "id": "GbFNqJi-i7FT",
    "outputId": "e22e8a29-c238-4dcf-8b63-0a063236b004"
   },
   "outputs": [],
   "source": [
    "temp1=test.groupby(['start_latitude','start_longitude']).size().reset_index(name='freq')\n",
    "temp1.freq()\n",
    "\n"
   ]
  },
  {
   "cell_type": "code",
   "execution_count": null,
   "metadata": {
    "colab": {
     "base_uri": "https://localhost:8080/",
     "height": 424
    },
    "executionInfo": {
     "elapsed": 420,
     "status": "ok",
     "timestamp": 1667316214430,
     "user": {
      "displayName": "최종원",
      "userId": "06409282717989700908"
     },
     "user_tz": -540
    },
    "id": "EKF2x2RVmhtC",
    "outputId": "2269983a-4f0a-41d1-e83a-f19484118ffe"
   },
   "outputs": [],
   "source": [
    "import folium\n",
    "\n",
    "jeju_map = folium.Map(location=[33.2434317486804,126.422025484805], zoom_start=6)\n",
    "\n",
    "df_cities = pd.DataFrame({'시작위도':temp.start_latitude, '시작경도':temp.start_longitude,'도착위도':temp.end_latitude, '도착경도':temp.end_longitude,'도로rating' : temp.road_rating,'도로등급': temp.road_type})\n",
    "\n",
    "df_cities"
   ]
  },
  {
   "cell_type": "code",
   "execution_count": null,
   "metadata": {
    "id": "cgNnzRy-o1_t"
   },
   "outputs": [],
   "source": [
    "for i in range(len(df_cities)):\n",
    "    folium.Marker([df_cities.iloc[i][0], df_cities.iloc[i][1]], popup=[df_cities.index[i],df_cities.iloc[i][4]],icon=folium.Icon(color='blue')).add_to(jeju_map)\n",
    "    folium.Marker([df_cities.iloc[i][2], df_cities.iloc[i][3]], popup=[df_cities.index[i],df_cities.iloc[i][4]],icon=folium.Icon(color='red')).add_to(jeju_map)\n"
   ]
  },
  {
   "cell_type": "code",
   "execution_count": null,
   "metadata": {
    "id": "yoqcR3mBo5vc"
   },
   "outputs": [],
   "source": [
    "jeju_map.save('jeju.html')"
   ]
  },
  {
   "cell_type": "code",
   "execution_count": null,
   "metadata": {
    "colab": {
     "base_uri": "https://localhost:8080/"
    },
    "executionInfo": {
     "elapsed": 403,
     "status": "ok",
     "timestamp": 1667316733436,
     "user": {
      "displayName": "최종원",
      "userId": "06409282717989700908"
     },
     "user_tz": -540
    },
    "id": "7SF70NvZ0hfs",
    "outputId": "b010d1f1-4af1-429f-c599-6036da69c0a6"
   },
   "outputs": [],
   "source": [
    "train.connect_code.unique()"
   ]
  },
  {
   "cell_type": "markdown",
   "metadata": {
    "id": "5zAS1WnmLKNZ"
   },
   "source": [
    "#필요없는 열 삭제."
   ]
  },
  {
   "cell_type": "code",
   "execution_count": null,
   "metadata": {
    "colab": {
     "base_uri": "https://localhost:8080/"
    },
    "executionInfo": {
     "elapsed": 6,
     "status": "ok",
     "timestamp": 1667233597047,
     "user": {
      "displayName": "최종원",
      "userId": "06409282717989700908"
     },
     "user_tz": -540
    },
    "id": "QYoStDfP2n-t",
    "outputId": "541a8ab0-c856-49a6-ab0a-414b49894c29"
   },
   "outputs": [],
   "source": [
    "print('train최소',train.base_date.min())\n",
    "print('train최대',train.base_date.max())\n",
    "\n",
    "print('test최소',test.base_date.min())\n",
    "print('test최대',test.base_date.max())\n"
   ]
  },
  {
   "cell_type": "code",
   "execution_count": null,
   "metadata": {
    "colab": {
     "base_uri": "https://localhost:8080/",
     "height": 592
    },
    "executionInfo": {
     "elapsed": 4201,
     "status": "ok",
     "timestamp": 1667317220147,
     "user": {
      "displayName": "최종원",
      "userId": "06409282717989700908"
     },
     "user_tz": -540
    },
    "id": "ePSgLK08QXq1",
    "outputId": "9d3c32f6-6f8b-46e5-bd78-ddf8550668da"
   },
   "outputs": [],
   "source": [
    "train"
   ]
  },
  {
   "cell_type": "code",
   "execution_count": null,
   "metadata": {
    "id": "tzejb-NKtJ96"
   },
   "outputs": [],
   "source": [
    "train['base_date']= pd.to_datetime(train['base_date'],format='%Y%m%d')\n",
    "#datetime 형식으로 변경 train"
   ]
  },
  {
   "cell_type": "code",
   "execution_count": null,
   "metadata": {
    "id": "9OovnXjQt7F4"
   },
   "outputs": [],
   "source": [
    "test['base_date']= pd.to_datetime(test['base_date'],format='%Y%m%d')\n",
    "#datetime 형식으로 변경 test"
   ]
  },
  {
   "cell_type": "code",
   "execution_count": null,
   "metadata": {
    "id": "wunv9JSQu1u_"
   },
   "outputs": [],
   "source": [
    "train['year']=train['base_date'].dt.year\n",
    "train['month']=train['base_date'].dt.month\n",
    "train['day']=train['base_date'].dt.day\n",
    "# 날짜를 연 월 일로 분리.\n",
    "#train=train.drop(['base_date'],axis=1)\n",
    "# base_date컬럼삭제.\n"
   ]
  },
  {
   "cell_type": "code",
   "execution_count": null,
   "metadata": {
    "id": "YDVxTQWWvF1K"
   },
   "outputs": [],
   "source": [
    "test['year']=test['base_date'].dt.year\n",
    "test['month']=test['base_date'].dt.month\n",
    "test['day']=test['base_date'].dt.day\n",
    "# test도 동일하게 적용.\n",
    "#test=test.drop(['base_date'],axis=1)\n"
   ]
  },
  {
   "cell_type": "code",
   "execution_count": null,
   "metadata": {
    "id": "r3t5YNtCpFfK"
   },
   "outputs": [],
   "source": [
    "train=train.drop(['base_date'],axis=1)"
   ]
  },
  {
   "cell_type": "code",
   "execution_count": null,
   "metadata": {
    "id": "2n0gSI4cpI8V"
   },
   "outputs": [],
   "source": [
    "test=test.drop(['base_date'],axis=1)"
   ]
  },
  {
   "cell_type": "code",
   "execution_count": null,
   "metadata": {
    "colab": {
     "base_uri": "https://localhost:8080/",
     "height": 352
    },
    "executionInfo": {
     "elapsed": 322,
     "status": "ok",
     "timestamp": 1666928480131,
     "user": {
      "displayName": "최종원",
      "userId": "06409282717989700908"
     },
     "user_tz": -540
    },
    "id": "sCTN75xMfxMX",
    "outputId": "89c92bda-77c4-4eb9-cef6-1e00eb2495ee"
   },
   "outputs": [],
   "source": [
    "test.head()"
   ]
  },
  {
   "cell_type": "markdown",
   "metadata": {
    "id": "hrsUrrK_i38B"
   },
   "source": [
    "# 시작위경도와 도착위경도의 유클라디안 거리를 구해 새로운 컬럼으로 설정하기."
   ]
  },
  {
   "cell_type": "code",
   "execution_count": null,
   "metadata": {
    "id": "8JkkYTJ3i3j4"
   },
   "outputs": [],
   "source": [
    "import math\n",
    "\n",
    "def euc_dist(df):\n",
    "  df['distance']=(((df['end_latitude']-df['start_latitude'])**2)+((df['end_longitude']-df['start_longitude'])**2))**(1/2)\n",
    "\n",
    "euc_dist(train)\n",
    "euc_dist(test)\n",
    "\n"
   ]
  },
  {
   "cell_type": "code",
   "execution_count": null,
   "metadata": {
    "id": "vADo-cB7n6Ia"
   },
   "outputs": [],
   "source": [
    "train['peak_c']=0\n",
    "test['peak_c']=0"
   ]
  },
  {
   "cell_type": "code",
   "execution_count": null,
   "metadata": {
    "colab": {
     "base_uri": "https://localhost:8080/"
    },
    "executionInfo": {
     "elapsed": 445,
     "status": "ok",
     "timestamp": 1668353806076,
     "user": {
      "displayName": "최종원",
      "userId": "06409282717989700908"
     },
     "user_tz": -540
    },
    "id": "6rxiAqvboVPB",
    "outputId": "9cd67022-718e-4c26-d2ec-caa2eba6b056"
   },
   "outputs": [],
   "source": [
    "train[train.base_hour.between(5,7)].base_hour.unique()"
   ]
  },
  {
   "cell_type": "code",
   "execution_count": null,
   "metadata": {
    "colab": {
     "base_uri": "https://localhost:8080/"
    },
    "executionInfo": {
     "elapsed": 957,
     "status": "ok",
     "timestamp": 1668355849913,
     "user": {
      "displayName": "최종원",
      "userId": "06409282717989700908"
     },
     "user_tz": -540
    },
    "id": "bCUQHyZRnREZ",
    "outputId": "cc3de3f6-34b2-4f06-817f-d3f5e43cb2be"
   },
   "outputs": [],
   "source": [
    "train['peak_c'][train[train.base_hour.between( 5 , 6)].index]=1\n",
    "test['peak_c'][test[test.base_hour.between( 5 , 6)].index]=1\n",
    "\n",
    "train['peak_c'][train[train.base_hour.between( 18 , 0)].index]=1\n",
    "test['peak_c'][test[test.base_hour.between( 18 , 0)].index]=1\n",
    "\n",
    "\n",
    "train['peak_c'][train[train.base_hour.between( 1 , 4)].index]=2\n",
    "test['peak_c'][test[test.base_hour.between( 1 , 4)].index]=2"
   ]
  },
  {
   "cell_type": "code",
   "execution_count": null,
   "metadata": {
    "colab": {
     "base_uri": "https://localhost:8080/"
    },
    "executionInfo": {
     "elapsed": 18,
     "status": "ok",
     "timestamp": 1668355858218,
     "user": {
      "displayName": "최종원",
      "userId": "06409282717989700908"
     },
     "user_tz": -540
    },
    "id": "G1lPBG9lo6_o",
    "outputId": "fbac7f3f-91ed-4daf-9659-fc6b1ab8d1ba"
   },
   "outputs": [],
   "source": [
    "test.peak_c.unique()"
   ]
  },
  {
   "cell_type": "markdown",
   "metadata": {
    "id": "M_5K1ud-UAFA"
   },
   "source": [
    "# 휴일 및 공휴일 컬럼생성하기."
   ]
  },
  {
   "cell_type": "code",
   "execution_count": null,
   "metadata": {
    "id": "rn_QIAyDUFHW"
   },
   "outputs": [],
   "source": [
    "t21_off = ['2021-09-20','2021-09-21','2021-09-22','2022-01-01','2022-01-29','2022-01-30','2022-01-31','2022-02-01',\n",
    "'2022-02-02','2022-03-01','2022-03-09','2022-05-05','2022-05-09','2022-06-01',\n",
    "'2022-06-06']\n",
    "\n",
    "test_t22_off = ['2022-08-06','2022-08-07','2022-08-13','2022-08-14','2022-08-15'\n",
    ",'2022-08-20','2022-08-21','2022-08-27']\n",
    "\n",
    "train['off_day']=0\n",
    "test['off_day']=0"
   ]
  },
  {
   "cell_type": "code",
   "execution_count": null,
   "metadata": {
    "id": "kpQpMACfZ3JN"
   },
   "outputs": [],
   "source": [
    "for i in t21_off:\n",
    "  dtt=pd.to_datetime(i,format='%Y-%m-%d')\n",
    "  year =dtt.year\n",
    "  month = dtt.month\n",
    "  day = dtt.day\n",
    "  v= (train['year']==year)&(train['month']==month)&(train['day']==day)\n",
    "  train.loc[v,'off_day'] = 1\n",
    "\n",
    "\n",
    "for i in test_t22_off :\n",
    "  dtt=pd.to_datetime(i,format='%Y-%m-%d')\n",
    "  year =dtt.year\n",
    "  month = dtt.month\n",
    "  day = dtt.day\n",
    "  v= (test['year']==year)&(test['month']==month)&(test['day']==day)\n",
    "\n",
    "  test.loc[v,'off_day'] = 1\n",
    "\n",
    "\n",
    "\n",
    "\n",
    "\n",
    "   "
   ]
  },
  {
   "cell_type": "markdown",
   "metadata": {
    "id": "VCifjLJ2t4VR"
   },
   "source": [
    "# 도로 만들기"
   ]
  },
  {
   "cell_type": "code",
   "execution_count": null,
   "metadata": {
    "colab": {
     "base_uri": "https://localhost:8080/"
    },
    "executionInfo": {
     "elapsed": 298,
     "status": "ok",
     "timestamp": 1668271954593,
     "user": {
      "displayName": "최종원",
      "userId": "06409282717989700908"
     },
     "user_tz": -540
    },
    "id": "49oFtmZAt8Bx",
    "outputId": "3aa8404d-ee23-4e25-a6ac-10d5227f9cf1"
   },
   "outputs": [],
   "source": [
    "train.end_latitude.nunique()"
   ]
  },
  {
   "cell_type": "code",
   "execution_count": null,
   "metadata": {
    "id": "i-TWayvhuTTV"
   },
   "outputs": [],
   "source": [
    "temp=train.groupby(['start_latitude','start_longitude','end_latitude','end_longitude']).size().reset_index(name='freq')\n",
    "\n"
   ]
  },
  {
   "cell_type": "code",
   "execution_count": null,
   "metadata": {
    "id": "AK2pc85kwa7q"
   },
   "outputs": [],
   "source": [
    "temp['avg_lat']= (temp['start_latitude']+temp['end_latitude'])/2.0\n",
    "temp['avg_long']= (temp['start_longitude']+temp['end_longitude'])/2.0\n"
   ]
  },
  {
   "cell_type": "code",
   "execution_count": null,
   "metadata": {
    "colab": {
     "base_uri": "https://localhost:8080/",
     "height": 424
    },
    "executionInfo": {
     "elapsed": 337,
     "status": "ok",
     "timestamp": 1668272135435,
     "user": {
      "displayName": "최종원",
      "userId": "06409282717989700908"
     },
     "user_tz": -540
    },
    "id": "QapxX3WYxCCa",
    "outputId": "e3dd6f1b-d2be-4c2f-ab42-fde1959637fb"
   },
   "outputs": [],
   "source": [
    "temp"
   ]
  },
  {
   "cell_type": "code",
   "execution_count": null,
   "metadata": {
    "colab": {
     "base_uri": "https://localhost:8080/",
     "height": 626
    },
    "executionInfo": {
     "elapsed": 422,
     "status": "ok",
     "timestamp": 1668273952904,
     "user": {
      "displayName": "최종원",
      "userId": "06409282717989700908"
     },
     "user_tz": -540
    },
    "id": "YpI5nd0n35UT",
    "outputId": "c56f51df-b140-4faf-8ed3-03830f1b8390"
   },
   "outputs": [],
   "source": [
    "train[train['target']<10]"
   ]
  },
  {
   "cell_type": "code",
   "execution_count": null,
   "metadata": {
    "id": "5apWXkYOvn2l"
   },
   "outputs": [],
   "source": [
    "train['c_label']=0\n",
    "test['c_label']=0"
   ]
  },
  {
   "cell_type": "code",
   "execution_count": null,
   "metadata": {
    "colab": {
     "base_uri": "https://localhost:8080/",
     "height": 424
    },
    "executionInfo": {
     "elapsed": 293,
     "status": "ok",
     "timestamp": 1668354597808,
     "user": {
      "displayName": "최종원",
      "userId": "06409282717989700908"
     },
     "user_tz": -540
    },
    "id": "EfZhkd7pqcpv",
    "outputId": "5044436d-cb22-419e-9b68-5f9e8779d77e"
   },
   "outputs": [],
   "source": [
    "temp"
   ]
  },
  {
   "cell_type": "code",
   "execution_count": null,
   "metadata": {
    "colab": {
     "base_uri": "https://localhost:8080/"
    },
    "executionInfo": {
     "elapsed": 18474,
     "status": "ok",
     "timestamp": 1668355521894,
     "user": {
      "displayName": "최종원",
      "userId": "06409282717989700908"
     },
     "user_tz": -540
    },
    "id": "dNGGMGf8AHWR",
    "outputId": "18300d2c-8a91-4c6b-8e55-ccc554b95f9a"
   },
   "outputs": [],
   "source": [
    "#train['c_label'][train[train['weight_restricted']==32400.].index]=1\n",
    "\n",
    "\n",
    "for sla,slo,ela,elo,label in zip(temp['start_latitude'],temp['start_longitude'],temp['end_latitude'],temp['end_longitude'],temp['c_label']) :\n",
    "  temper = label\n",
    "  train['c_label'][train[ ((train['start_latitude']==sla) & (train['start_longitude']==slo) & (train['end_latitude']==ela )&(train['end_longitude']==elo)) ].index]=temper\n",
    "  test['c_label'][test[ ((test['start_latitude']==sla) & (test['start_longitude']==slo) & (test['end_latitude']==ela )&(test['end_longitude']==elo)) ].index]=temper\n",
    "#46sec\n",
    "  \n"
   ]
  },
  {
   "cell_type": "code",
   "execution_count": null,
   "metadata": {
    "colab": {
     "base_uri": "https://localhost:8080/"
    },
    "executionInfo": {
     "elapsed": 298,
     "status": "ok",
     "timestamp": 1668355539016,
     "user": {
      "displayName": "최종원",
      "userId": "06409282717989700908"
     },
     "user_tz": -540
    },
    "id": "RFiroTbYqicD",
    "outputId": "fc771f8b-7c88-4139-874c-067c4b65cb1c"
   },
   "outputs": [],
   "source": [
    "train.c_label.nunique()"
   ]
  },
  {
   "cell_type": "code",
   "execution_count": null,
   "metadata": {
    "colab": {
     "base_uri": "https://localhost:8080/"
    },
    "executionInfo": {
     "elapsed": 308,
     "status": "ok",
     "timestamp": 1667902717740,
     "user": {
      "displayName": "최종원",
      "userId": "06409282717989700908"
     },
     "user_tz": -540
    },
    "id": "QnOFU_Ncv2uA",
    "outputId": "c1a43732-dcf3-4a32-d3f9-48980b4ad292"
   },
   "outputs": [],
   "source": [
    "train.road_num.max()"
   ]
  },
  {
   "cell_type": "markdown",
   "metadata": {
    "id": "psUJkeEicMIy"
   },
   "source": [
    "# Preprocessing"
   ]
  },
  {
   "cell_type": "markdown",
   "metadata": {
    "id": "tZfx1j1ccycE"
   },
   "source": [
    "# Labeling"
   ]
  },
  {
   "cell_type": "code",
   "execution_count": null,
   "metadata": {
    "id": "kpmSoyUpoqr8"
   },
   "outputs": [],
   "source": [
    "cate_val = ['day_of_week','start_turn_restricted','end_turn_restricted']\n",
    "for i in cate_val :\n",
    "  enc = LabelEncoder()\n",
    "  enc=enc.fit(train[i])\n",
    "  train[i]=enc.transform(train[i])\n",
    "  for label in np.unique(test[i]):\n",
    "        if label not in enc.classes_: \n",
    "            enc.classes_ = np.append(enc.classes_, label)\n",
    "  test[i]=enc.transform(test[i]) # data leakage 주의\n",
    "# 한글로 되어있는 열 라벨링"
   ]
  },
  {
   "cell_type": "code",
   "execution_count": null,
   "metadata": {
    "colab": {
     "base_uri": "https://localhost:8080/"
    },
    "executionInfo": {
     "elapsed": 367,
     "status": "ok",
     "timestamp": 1668355874007,
     "user": {
      "displayName": "최종원",
      "userId": "06409282717989700908"
     },
     "user_tz": -540
    },
    "id": "Fi5xQqKvwCMq",
    "outputId": "cfb608cf-5783-4013-bb9d-840d21837d20"
   },
   "outputs": [],
   "source": [
    "train.dtypes\n"
   ]
  },
  {
   "cell_type": "code",
   "execution_count": null,
   "metadata": {
    "id": "S9QgeSVDp9my"
   },
   "outputs": [],
   "source": [
    "train=train.drop(['base_hour'],axis=1)\n",
    "test=test.drop(['base_hour'],axis=1)"
   ]
  },
  {
   "cell_type": "markdown",
   "metadata": {
    "id": "8_kvF7Of83Vs"
   },
   "source": [
    "----------------------------------------------------"
   ]
  },
  {
   "cell_type": "markdown",
   "metadata": {
    "id": "lTjcwLPKm3jb"
   },
   "source": [
    "# Try 1 Day를 살리고, 요일컬럼을 삭제."
   ]
  },
  {
   "cell_type": "code",
   "execution_count": null,
   "metadata": {
    "id": "C43kU20am94J"
   },
   "outputs": [],
   "source": [
    "train=train.drop(['day_of_week'],axis=1)\n",
    "test=test.drop(['day_of_week'],axis=1)"
   ]
  },
  {
   "cell_type": "markdown",
   "metadata": {
    "id": "Hs_zxb5KgO8G"
   },
   "source": [
    "# Try 2 도착 위경도 데이터만을 이용하여 예측\n",
    "근거 : 시작위도 경도 값은 도착 위경도 값이랑 상관관계가 높아 과적합의 가능성?"
   ]
  },
  {
   "cell_type": "code",
   "execution_count": null,
   "metadata": {
    "id": "Hnj6ZQDzgatU"
   },
   "outputs": [],
   "source": [
    "train=train.drop(['start_latitude','start_longitude'],axis=1)\n",
    "test=test.drop(['start_latitude','start_longitude'],axis=1)"
   ]
  },
  {
   "cell_type": "code",
   "execution_count": null,
   "metadata": {
    "id": "iQcCCbLfgw23"
   },
   "outputs": [],
   "source": [
    "from sklearn.preprocessing import QuantileTransformer, StandardScaler\n",
    "\n",
    "min_max = ['end_latitude','end_longitude']\n",
    "train_num = train[min_max].copy()\n",
    "\n",
    "test_num = test[min_max].copy()\n",
    "\n",
    "\n",
    "scaler=QuantileTransformer(n_quantiles=900)\n",
    "\n",
    "scaler.fit(train_num)\n",
    "\n",
    "train_num[min_max]=scaler.transform(train_num[min_max])\n",
    "\n",
    "\n",
    "\n",
    "test_num[min_max]=scaler.transform(test_num[min_max]) # leakage 주의\n",
    "\n",
    "\n",
    "train[min_max] = train_num[min_max]\n",
    "test[min_max] = test_num[min_max]  "
   ]
  },
  {
   "cell_type": "markdown",
   "metadata": {
    "id": "XkMFz2Gqc3qq"
   },
   "source": [
    "# 데이터 분리."
   ]
  },
  {
   "cell_type": "code",
   "execution_count": null,
   "metadata": {
    "id": "2IhcJhUi82uv"
   },
   "outputs": [],
   "source": [
    "from sklearn.model_selection import train_test_split\n",
    "y=train['target']\n",
    "# target분리.\n",
    "train=train.drop(['id','vehicle_restricted','height_restricted','road_name', 'start_node_name', 'end_node_name','road_in_use'],axis=1)\n",
    "# 학습에 필요없는 문자열, 인덱스 , 모든행이 0인컬럼. target 삭제.\n",
    "#x_train , x_valid , y_train, y_valid = train_test_split(train,y,test_size=0.2,random_state=5)\n",
    "# target열이 섞여있어, 임의로 뒤에 20프로 검증세트로 사용. -> test셋을 예측하는 것이므로, 일반화 성능을 확인할 방법이 ㅇ벗음.\n",
    "# 모델의 일반화 성능이 검증되면(하이퍼파라미터), 전체세트로 사용해야함.\n"
   ]
  },
  {
   "cell_type": "code",
   "execution_count": null,
   "metadata": {
    "id": "uC9y3hZoSoJE"
   },
   "outputs": [],
   "source": [
    "train=train.drop('target',axis=1)"
   ]
  },
  {
   "cell_type": "code",
   "execution_count": null,
   "metadata": {
    "id": "LycYs6tkB_GG"
   },
   "outputs": [],
   "source": [
    "train=train.drop(['day'],axis=1)"
   ]
  },
  {
   "cell_type": "code",
   "execution_count": null,
   "metadata": {
    "colab": {
     "base_uri": "https://localhost:8080/"
    },
    "executionInfo": {
     "elapsed": 9,
     "status": "ok",
     "timestamp": 1668354202462,
     "user": {
      "displayName": "최종원",
      "userId": "06409282717989700908"
     },
     "user_tz": -540
    },
    "id": "ENI96SEXSD69",
    "outputId": "8d536387-30db-4ea0-a6cb-3cb80a7dd922"
   },
   "outputs": [],
   "source": [
    "train.shape"
   ]
  },
  {
   "cell_type": "code",
   "execution_count": null,
   "metadata": {
    "id": "_Uy7dVo4jS-1"
   },
   "outputs": [],
   "source": [
    "#train=train.drop(['year'],axis=1)"
   ]
  },
  {
   "cell_type": "code",
   "execution_count": null,
   "metadata": {
    "colab": {
     "base_uri": "https://localhost:8080/"
    },
    "executionInfo": {
     "elapsed": 4,
     "status": "ok",
     "timestamp": 1665663542882,
     "user": {
      "displayName": "youngmi kim",
      "userId": "08819677002019807677"
     },
     "user_tz": -540
    },
    "id": "gcFMt5aZSHK-",
    "outputId": "b2ca13e1-3933-47e5-8749-282c8aa56dd1"
   },
   "outputs": [],
   "source": [
    "test.day.nunique()"
   ]
  },
  {
   "cell_type": "code",
   "execution_count": null,
   "metadata": {
    "colab": {
     "base_uri": "https://localhost:8080/"
    },
    "executionInfo": {
     "elapsed": 18,
     "status": "ok",
     "timestamp": 1668355894618,
     "user": {
      "displayName": "최종원",
      "userId": "06409282717989700908"
     },
     "user_tz": -540
    },
    "id": "3sOvvO8_-Jsu",
    "outputId": "685e2f60-c8e0-46ae-9d0e-66029fc5903c"
   },
   "outputs": [],
   "source": [
    "# test셋에서도 동일하게 하기.\n",
    "test=test.drop(['id','vehicle_restricted','height_restricted','road_name','road_in_use', 'start_node_name', 'end_node_name'],axis=1)\n",
    "#test=test.drop(['year'],axis=1)\n",
    "test.shape"
   ]
  },
  {
   "cell_type": "code",
   "execution_count": null,
   "metadata": {
    "id": "xVg-4YIKhTuk"
   },
   "outputs": [],
   "source": [
    "test=test.drop(['day'],axis=1)"
   ]
  },
  {
   "cell_type": "code",
   "execution_count": null,
   "metadata": {
    "id": "g-fOercjrTGK"
   },
   "outputs": [],
   "source": [
    "#test=test.drop(['year'],axis=1)"
   ]
  },
  {
   "cell_type": "code",
   "execution_count": null,
   "metadata": {
    "colab": {
     "base_uri": "https://localhost:8080/",
     "height": 488
    },
    "executionInfo": {
     "elapsed": 284,
     "status": "ok",
     "timestamp": 1668355632894,
     "user": {
      "displayName": "최종원",
      "userId": "06409282717989700908"
     },
     "user_tz": -540
    },
    "id": "bgKzVxEovgNf",
    "outputId": "7fec4d0a-ff8c-4a8d-fcf0-b52cfd50df00"
   },
   "outputs": [],
   "source": [
    "test"
   ]
  },
  {
   "cell_type": "markdown",
   "metadata": {
    "id": "SYb5kpTz84xN"
   },
   "source": [
    "---------------------------------------------------------"
   ]
  },
  {
   "cell_type": "markdown",
   "metadata": {
    "id": "FaAu_lcoclw2"
   },
   "source": [
    "# Outlier -> IQR # 했을 떄 성능이 낮아짐."
   ]
  },
  {
   "cell_type": "code",
   "execution_count": null,
   "metadata": {
    "colab": {
     "base_uri": "https://localhost:8080/",
     "height": 370
    },
    "executionInfo": {
     "elapsed": 15082,
     "status": "ok",
     "timestamp": 1665246185825,
     "user": {
      "displayName": "최종원",
      "userId": "06409282717989700908"
     },
     "user_tz": -540
    },
    "id": "jJSVuZmRV4oz",
    "outputId": "68784133-2c70-4a37-9dcb-c0aa1c69590f"
   },
   "outputs": [],
   "source": [
    "def draw_line(plt,col):\n",
    "  mean= train.describe().loc['mean',col]\n",
    "  m25 = train.describe().loc['25%',col]\n",
    "  m50 = train.describe().loc['50%',col]\n",
    "  m75 = train.describe().loc['75%',col]\n",
    "\n",
    "  plt.axvline(mean,color='red')\n",
    "  plt.axvline(m25,color='blue')\n",
    "  plt.axvline(m50,color='green')\n",
    "  plt.axvline(m75,color='purple')\n",
    "\n",
    "  plt.legend(['Mean','25%','50%','75%'])\n",
    "\n",
    "pp=sns.histplot(train['start_latitude'])\n",
    "draw_line(pp,'start_latitude')"
   ]
  },
  {
   "cell_type": "code",
   "execution_count": null,
   "metadata": {
    "colab": {
     "base_uri": "https://localhost:8080/",
     "height": 320
    },
    "executionInfo": {
     "elapsed": 9,
     "status": "ok",
     "timestamp": 1665416048010,
     "user": {
      "displayName": "최종원",
      "userId": "06409282717989700908"
     },
     "user_tz": -540
    },
    "id": "_NH1ACduYH8m",
    "outputId": "dffc6cec-52e1-4cc6-b2f0-68756b3f4b40"
   },
   "outputs": [],
   "source": [
    "train.head(4)"
   ]
  },
  {
   "cell_type": "code",
   "execution_count": null,
   "metadata": {
    "colab": {
     "base_uri": "https://localhost:8080/",
     "height": 542
    },
    "executionInfo": {
     "elapsed": 733,
     "status": "error",
     "timestamp": 1668313500278,
     "user": {
      "displayName": "최종원",
      "userId": "06409282717989700908"
     },
     "user_tz": -540
    },
    "id": "E3CCTVnycQfC",
    "outputId": "ef46e7ae-3e15-4e49-e674-c635d8c478e6"
   },
   "outputs": [],
   "source": [
    "# base_hour와 target과의 상관관계가 낮아서, 각 시간별 분포에서 outlier를 삭제.\n",
    "def outlier_proc(train,col):\n",
    "\n",
    "  df_train=train.copy()\n",
    "\n",
    "  print('outlier잡기전 : ',df_train.shape)\n",
    "  for i in train[col].unique():\n",
    "    df = df_train[df_train[col]==i]\n",
    "    q1,q3 = np.percentile(df['target'],[25,75])\n",
    "\n",
    "    print(i,'시',q1, q3)\n",
    "    iqr = q3 -q1\n",
    "    print('저점',(q1-(iqr*1.5)))\n",
    "    print('고점',(q3+(iqr*1.5)))\n",
    "    low=(q1-(iqr*1.5))\n",
    "    high=(q3+(iqr*1.5))\n",
    "    if low <=0 :\n",
    "      train=train.drop(index=df[df['target']>high].index)\n",
    "    else :\n",
    "      train=train.drop(index=df[df['target']<low].index)\n",
    "      train=train.drop(index=df[df['target']>high].index)\n",
    "  print('outlier잡은후 : ',train.shape)\n",
    "  return train\n",
    "\n",
    "train=outlier_proc(train,'base_hour')\n",
    "    \n",
    "''''condition1 = df['target']<(q1-(iqr*1.5))\n",
    "  \n",
    "print('lower_bound : ', condition1.shape[0])\n",
    "\n",
    "  condition2 = df['target']>(q3+(iqr*1.5))\n",
    "  print('upper_bound : ',condition2.shape[0])\n",
    "  print(condition2.shape[0])\n",
    "  print(condition1.index)\n",
    "\n",
    " 정규분포일때만 가능.'''"
   ]
  },
  {
   "cell_type": "code",
   "execution_count": null,
   "metadata": {
    "colab": {
     "base_uri": "https://localhost:8080/"
    },
    "executionInfo": {
     "elapsed": 11101,
     "status": "ok",
     "timestamp": 1665559695900,
     "user": {
      "displayName": "youngmi kim",
      "userId": "08819677002019807677"
     },
     "user_tz": -540
    },
    "id": "wxnANXfVdmsp",
    "outputId": "06697b36-ae5f-418a-fdeb-0b8f2a36b877"
   },
   "outputs": [],
   "source": [
    "train=outlier_proc(train,'road_rating')\n",
    "train=outlier_proc(train,'lane_count')"
   ]
  },
  {
   "cell_type": "code",
   "execution_count": null,
   "metadata": {
    "colab": {
     "base_uri": "https://localhost:8080/"
    },
    "executionInfo": {
     "elapsed": 530,
     "status": "ok",
     "timestamp": 1665416361654,
     "user": {
      "displayName": "최종원",
      "userId": "06409282717989700908"
     },
     "user_tz": -540
    },
    "id": "A9IPsKx8igRD",
    "outputId": "f2aa08a9-db8a-4ab2-b602-74ea34a08e41"
   },
   "outputs": [],
   "source": [
    "train.shape"
   ]
  },
  {
   "cell_type": "markdown",
   "metadata": {
    "id": "It4ZCyXCyaJb"
   },
   "source": [
    "# 위,경도 컬럼 Scaling"
   ]
  },
  {
   "cell_type": "code",
   "execution_count": null,
   "metadata": {
    "id": "opGQ2VloyZ0W"
   },
   "outputs": [],
   "source": [
    "from sklearn.preprocessing import QuantileTransformer, StandardScaler,MinMaxScaler\n",
    "\n",
    "min_max = ['start_latitude','start_longitude','end_latitude','end_longitude']\n",
    "train_num = train[min_max].copy()\n",
    "\n",
    "test_num = test[min_max].copy()\n",
    "\n",
    "\n",
    "scaler=QuantileTransformer(n_quantiles=800)\n",
    "\n",
    "\n",
    "scaler.fit(train_num)\n",
    "\n",
    "train_num[min_max]=scaler.transform(train_num[min_max])\n",
    "\n",
    "\n",
    "# leakage 주의\n",
    "\n",
    "test_num[min_max]=scaler.transform(test_num[min_max])\n",
    "\n",
    "train[min_max] = train_num[min_max]\n",
    "test[min_max] = test_num[min_max]   "
   ]
  },
  {
   "cell_type": "code",
   "execution_count": null,
   "metadata": {
    "colab": {
     "base_uri": "https://localhost:8080/",
     "height": 239
    },
    "executionInfo": {
     "elapsed": 418,
     "status": "ok",
     "timestamp": 1667487431377,
     "user": {
      "displayName": "최종원",
      "userId": "06409282717989700908"
     },
     "user_tz": -540
    },
    "id": "Tuxq_7hs2OVD",
    "outputId": "74fbfc51-56a7-452b-a99e-6cd91009cbaf"
   },
   "outputs": [],
   "source": [
    "train.head(4)"
   ]
  },
  {
   "cell_type": "markdown",
   "metadata": {
    "id": "HI1twLlz4x3I"
   },
   "source": [
    "# 하중제한 라벨링"
   ]
  },
  {
   "cell_type": "code",
   "execution_count": null,
   "metadata": {
    "colab": {
     "base_uri": "https://localhost:8080/"
    },
    "executionInfo": {
     "elapsed": 447,
     "status": "ok",
     "timestamp": 1665237532807,
     "user": {
      "displayName": "최종원",
      "userId": "06409282717989700908"
     },
     "user_tz": -540
    },
    "id": "3TDZZs5B43zd",
    "outputId": "74c974d8-9649-4873-b2d2-5d50dfd7df5f"
   },
   "outputs": [],
   "source": [
    "train['weight_restricted'].unique()"
   ]
  },
  {
   "cell_type": "code",
   "execution_count": null,
   "metadata": {
    "colab": {
     "base_uri": "https://localhost:8080/"
    },
    "executionInfo": {
     "elapsed": 9,
     "status": "ok",
     "timestamp": 1668355902625,
     "user": {
      "displayName": "최종원",
      "userId": "06409282717989700908"
     },
     "user_tz": -540
    },
    "id": "vHMwxh2g5Kn_",
    "outputId": "4e0d19ab-8b3a-4d72-e9ed-9f6a20c7c991"
   },
   "outputs": [],
   "source": [
    "train['weight_restricted'][train[train['weight_restricted']==32400.].index]=1\n",
    "train['weight_restricted'][train[train['weight_restricted']==43200.].index]=2\n",
    "train['weight_restricted'][train[train['weight_restricted']==50000.].index]=3\n",
    "\n",
    "# train의 범주 값에 맞추어 test도 라벨링\n",
    "train['weight_restricted']=train['weight_restricted'].astype('int')\n",
    "\n",
    "test['weight_restricted'][test[test['weight_restricted']==32400.].index]=1\n",
    "test['weight_restricted'][test[test['weight_restricted']==43200.].index]=2\n",
    "test['weight_restricted'][test[test['weight_restricted']==50000.].index]=3\n",
    "\n",
    "test['weight_restricted']=test['weight_restricted'].astype('int')"
   ]
  },
  {
   "cell_type": "code",
   "execution_count": null,
   "metadata": {
    "colab": {
     "base_uri": "https://localhost:8080/"
    },
    "executionInfo": {
     "elapsed": 430,
     "status": "ok",
     "timestamp": 1665242566027,
     "user": {
      "displayName": "최종원",
      "userId": "06409282717989700908"
     },
     "user_tz": -540
    },
    "id": "V02EqGDs5_Io",
    "outputId": "f4535618-7900-41bc-921b-73ee566e0bf5"
   },
   "outputs": [],
   "source": [
    "test['weight_restricted'].unique()"
   ]
  },
  {
   "cell_type": "code",
   "execution_count": null,
   "metadata": {
    "colab": {
     "base_uri": "https://localhost:8080/"
    },
    "executionInfo": {
     "elapsed": 503,
     "status": "ok",
     "timestamp": 1665322676976,
     "user": {
      "displayName": "최종원",
      "userId": "06409282717989700908"
     },
     "user_tz": -540
    },
    "id": "wBM51X9P77Gm",
    "outputId": "7898e626-b0cb-48d0-e233-15a5de9893b6"
   },
   "outputs": [],
   "source": [
    "train.shape"
   ]
  },
  {
   "cell_type": "code",
   "execution_count": null,
   "metadata": {
    "id": "VHdDN_wEWu2y"
   },
   "outputs": [],
   "source": [
    "# 최대 속도제한 float -> int형으로 변환\n",
    "train.maximum_speed_limit = train['maximum_speed_limit'].astype('int')"
   ]
  },
  {
   "cell_type": "code",
   "execution_count": null,
   "metadata": {
    "id": "1tcK20gi8MBV"
   },
   "outputs": [],
   "source": [
    "test.maximum_speed_limit = test['maximum_speed_limit'].astype('int')"
   ]
  },
  {
   "cell_type": "code",
   "execution_count": null,
   "metadata": {
    "colab": {
     "base_uri": "https://localhost:8080/"
    },
    "executionInfo": {
     "elapsed": 281,
     "status": "ok",
     "timestamp": 1667902962980,
     "user": {
      "displayName": "최종원",
      "userId": "06409282717989700908"
     },
     "user_tz": -540
    },
    "id": "K2ddMoPQAjOc",
    "outputId": "88598ec3-4f52-4dc6-f9d4-26ac9700742a"
   },
   "outputs": [],
   "source": [
    "train.info()"
   ]
  },
  {
   "cell_type": "code",
   "execution_count": null,
   "metadata": {
    "id": "4puGIcSwAmns"
   },
   "outputs": [],
   "source": []
  },
  {
   "cell_type": "markdown",
   "metadata": {
    "id": "GVcc5t__jxvi"
   },
   "source": [
    "# road_rating 라벨링 ( 클러스터링 적용한 c_label 적용시 실행하지 말것.)"
   ]
  },
  {
   "cell_type": "code",
   "execution_count": null,
   "metadata": {
    "colab": {
     "base_uri": "https://localhost:8080/"
    },
    "executionInfo": {
     "elapsed": 5,
     "status": "ok",
     "timestamp": 1668355689769,
     "user": {
      "displayName": "최종원",
      "userId": "06409282717989700908"
     },
     "user_tz": -540
    },
    "id": "FIFu1BYEv3KM",
    "outputId": "1fa24fae-d80a-4fac-fb04-3d8fd29cbf3f"
   },
   "outputs": [],
   "source": [
    "train.dtypes"
   ]
  },
  {
   "cell_type": "code",
   "execution_count": null,
   "metadata": {
    "id": "BpELrcSAjzr2"
   },
   "outputs": [],
   "source": [
    "train.loc[train['road_rating']==103,'road_rating'] = 1\n",
    "train.loc[train['road_rating']==106,'road_rating'] = 2\n",
    "train.loc[train['road_rating']==107,'road_rating'] = 3\n",
    "test.loc[test['road_rating']==103,'road_rating'] = 1\n",
    "test.loc[test['road_rating']==106,'road_rating'] = 2\n",
    "test.loc[test['road_rating']==107,'road_rating'] = 3"
   ]
  },
  {
   "cell_type": "code",
   "execution_count": null,
   "metadata": {
    "colab": {
     "base_uri": "https://localhost:8080/"
    },
    "executionInfo": {
     "elapsed": 468,
     "status": "ok",
     "timestamp": 1667403868675,
     "user": {
      "displayName": "최종원",
      "userId": "06409282717989700908"
     },
     "user_tz": -540
    },
    "id": "vdnVOCz7kNBW",
    "outputId": "73f15e41-1eca-4ec9-9860-94394f2385e0"
   },
   "outputs": [],
   "source": [
    "train.road_type.unique()"
   ]
  },
  {
   "cell_type": "markdown",
   "metadata": {
    "id": "aPGDt6Lsb6um"
   },
   "source": [
    "#XGBOOST전처리"
   ]
  },
  {
   "cell_type": "code",
   "execution_count": null,
   "metadata": {
    "colab": {
     "base_uri": "https://localhost:8080/"
    },
    "executionInfo": {
     "elapsed": 257,
     "status": "ok",
     "timestamp": 1668350488860,
     "user": {
      "displayName": "최종원",
      "userId": "06409282717989700908"
     },
     "user_tz": -540
    },
    "id": "coSwsfNDb8hN",
    "outputId": "8c5bdb90-2d7e-40d2-84ea-83bf8cd1c9fa"
   },
   "outputs": [],
   "source": [
    "train.columns"
   ]
  },
  {
   "cell_type": "code",
   "execution_count": null,
   "metadata": {
    "id": "v3L-HqZ2b_6T"
   },
   "outputs": [],
   "source": [
    "# day_of_week base_hour lane_count road_rating maximum_speed_limit road_type start_turn_restricted c_label \n",
    "# year month"
   ]
  },
  {
   "cell_type": "code",
   "execution_count": null,
   "metadata": {
    "colab": {
     "base_uri": "https://localhost:8080/",
     "height": 488
    },
    "executionInfo": {
     "elapsed": 422,
     "status": "ok",
     "timestamp": 1668352784177,
     "user": {
      "displayName": "최종원",
      "userId": "06409282717989700908"
     },
     "user_tz": -540
    },
    "id": "EUIMU1ZRky3-",
    "outputId": "29e27f38-024c-4074-b4a3-6d61bf8ede58"
   },
   "outputs": [],
   "source": [
    "train"
   ]
  },
  {
   "cell_type": "code",
   "execution_count": null,
   "metadata": {
    "id": "TZxw88UrcgMy"
   },
   "outputs": [],
   "source": [
    "from sklearn.preprocessing import OneHotEncoder\n",
    "from sklearn.compose import ColumnTransformer\n",
    "from sklearn.pipeline import Pipeline"
   ]
  },
  {
   "cell_type": "code",
   "execution_count": null,
   "metadata": {
    "id": "DfBNYaQHjUZ-"
   },
   "outputs": [],
   "source": [
    "cat_features = ['road_rating','road_type','start_turn_restricted','c_label','year','month']\n",
    "for i in cat_features:\n",
    "  train[i]=train[i].astype('str')\n",
    "  test[i]=test[i].astype('str')\n",
    "  "
   ]
  },
  {
   "cell_type": "code",
   "execution_count": null,
   "metadata": {
    "id": "lgHqpey9lNaC"
   },
   "outputs": [],
   "source": [
    "ct = ColumnTransformer([('onehot',OneHotEncoder(sparse=False,handle_unknown = 'ignore'),cat_features)])\n",
    "pipe = Pipeline([('scaling',ct)])\n",
    "train_transformed=pipe.fit_transform(train[cat_features])\n",
    "\n",
    "train_transformed"
   ]
  },
  {
   "cell_type": "code",
   "execution_count": null,
   "metadata": {
    "colab": {
     "base_uri": "https://localhost:8080/"
    },
    "executionInfo": {
     "elapsed": 10,
     "status": "ok",
     "timestamp": 1668353185231,
     "user": {
      "displayName": "최종원",
      "userId": "06409282717989700908"
     },
     "user_tz": -540
    },
    "id": "PLj-wWDVlvT0",
    "outputId": "8c058813-14d9-43fa-ef05-aa593f9c12ba"
   },
   "outputs": [],
   "source": [
    "train_transformed.shape"
   ]
  },
  {
   "cell_type": "markdown",
   "metadata": {
    "id": "eFySRfCObid2"
   },
   "source": [
    "#XGBOOST"
   ]
  },
  {
   "cell_type": "code",
   "execution_count": null,
   "metadata": {
    "id": "KAIgTjqraXkz"
   },
   "outputs": [],
   "source": [
    "\n",
    "import xgboost as xgb"
   ]
  },
  {
   "cell_type": "code",
   "execution_count": null,
   "metadata": {
    "colab": {
     "base_uri": "https://localhost:8080/",
     "height": 360
    },
    "executionInfo": {
     "elapsed": 15,
     "status": "error",
     "timestamp": 1668357082082,
     "user": {
      "displayName": "최종원",
      "userId": "06409282717989700908"
     },
     "user_tz": -540
    },
    "id": "rTuofhAXd8PT",
    "outputId": "6b3e4a04-ff68-479e-c2ea-a1ce57ac329c"
   },
   "outputs": [],
   "source": [
    "dtrain = xgb.DMatrix(data=x_train, label = y_train)\n",
    "dtest = xgb.DMatrix(data=x_valid, label=y_valid)"
   ]
  },
  {
   "cell_type": "code",
   "execution_count": null,
   "metadata": {
    "id": "2NfJ1kUToYoe"
   },
   "outputs": [],
   "source": [
    "params = {'max_depth' : 7,\n",
    "         'eta' : 0.18, \n",
    "         'objective' : 'reg:linear',\n",
    "         'eval_metric' : 'mae',\n",
    "         'early_stoppings' : 100,\n",
    "          'gpu-id':0,'tree_method' : 'gpu_hist',\n",
    "          'gamma':0.3\n",
    "          }\n",
    "\n",
    "num_rounds = 15000"
   ]
  },
  {
   "cell_type": "code",
   "execution_count": null,
   "metadata": {
    "colab": {
     "background_save": true,
     "base_uri": "https://localhost:8080/"
    },
    "id": "R_u404XtooXT",
    "outputId": "37eb3120-2cdc-4bca-a3fd-8f28b195cb21"
   },
   "outputs": [],
   "source": [
    "wlist = [(dtrain, 'train'), (dtest,'eval')]\n",
    "# 하이퍼 파라미터와 early stopping 파라미터를 train() 함수의 파라미터로 전달\n",
    "xgb_model = xgb.train(params = params, dtrain=dtrain,verbose_eval=100, num_boost_round=num_rounds, evals=wlist)"
   ]
  },
  {
   "cell_type": "markdown",
   "metadata": {
    "id": "_VNjb4ox6rUF"
   },
   "source": [
    "# Catboost"
   ]
  },
  {
   "cell_type": "code",
   "execution_count": null,
   "metadata": {
    "id": "ZtuNxbakSdHm"
   },
   "outputs": [],
   "source": [
    "import catboost as cb\n",
    "from sklearn.model_selection import KFold\n",
    "from sklearn.metrics import mean_absolute_error"
   ]
  },
  {
   "cell_type": "markdown",
   "metadata": {
    "id": "-TB8nFxJw-Jp"
   },
   "source": [
    "# Fold_Staking ( 시도x)"
   ]
  },
  {
   "cell_type": "code",
   "execution_count": null,
   "metadata": {
    "colab": {
     "base_uri": "https://localhost:8080/",
     "height": 439
    },
    "executionInfo": {
     "elapsed": 27582,
     "status": "error",
     "timestamp": 1665285983502,
     "user": {
      "displayName": "최종원",
      "userId": "06409282717989700908"
     },
     "user_tz": -540
    },
    "id": "GkLH8JaDxDX4",
    "outputId": "8267ec9a-4bae-4777-b113-fa9e61b6090e"
   },
   "outputs": [],
   "source": [
    "from sklearn.model_selection import KFold\n",
    "from sklearn.metrics import mean_absolute_error\n",
    "\n",
    "# 개별 기반 모델에서 최종 메타 모델이 사용할 학습 및 테스트용 데이터를 생성하기 위한 함수\n",
    "def get_stacking_base_datasets(model, X_train_n, y_train_n, X_test_n, n_folds):\n",
    "    # 지정된 n_folds 값으로 KFold 생성\n",
    "    kf = KFold(n_splits=n_folds, shuffle=False,random_state=None)\n",
    "    \n",
    "    # 추후 메타 모델이 사용할 학습 데이터 반환을 위한 넘파이 배열 초기화\n",
    "    train_fold_pred = np.zeros((X_train_n.shape[0], 1))\n",
    "    test_pred = np.zeros((X_test_n.shape[0], n_folds))\n",
    "    print(model.__class__.__name__,' model 시작')\n",
    "    \n",
    "    for folder_counter, (train_index, valid_index) in enumerate(kf.split(X_train_n)):\n",
    "        # 입력된 학습 데이터에서 기반 모델이 학습/예측할 폴드 데이터 세트 추출\n",
    "        print('\\t 폴드 세트: ',folder_counter+1,' 시작')\n",
    "        X_tr = X_train_n.loc[train_index]\n",
    "        y_tr = y_train_n.loc[train_index]\n",
    "        X_te = X_train_n.loc[valid_index]\n",
    "        \n",
    "        # 폴드 세트 내부에서 다시 만들어진 학습 데이터로 기반 모델의 학습 수행\n",
    "        model.fit(X_tr, y_tr)\n",
    "        # 폴드 세트 내부에서 다시 만들어지 검증 데이터로 기반 모델 예측 후 데이터 저장\n",
    "        train_fold_pred[valid_index, :] = model.predict(X_te).reshape(-1, 1)\n",
    "        # 입력된 원본 테스트 데이터를 폴드 세트내 학습된 기반 모델에서 예측 후 데이터 저장\n",
    "        test_pred[:, folder_counter] = model.predict(X_test_n)\n",
    "        \n",
    "    # 폴드 세트 내에서 원본 테스트 데이터를 예측한 데이터를 평균하여 테스트 데이터로 생성\n",
    "    test_pred_mean = np.mean(test_pred, axis=1).reshape(-1,1)\n",
    "    \n",
    "    # train_fold_pred는 최종 메타 모델이 사용하는 학습 데이터, test_pred_mean은 테스트 데이터\n",
    "    return train_fold_pred, test_pred_mean\n",
    "from sklearn.ensemble import RandomForestRegressor\n",
    "from sklearn.ensemble import AdaBoostRegressor\n",
    "one_hot = ['month','day_of_week','road_type','road_rating','weight_restricted','lane_count','road_rating','maximum_speed_limit']\n",
    "c_train = train.copy()\n",
    "c_train[one_hot] = c_train[one_hot].astype('str') # adaboosting과 randomforest는 cat_features를 알려줄 수 없어서, str처리 혹은 one_hot을 해야한다.\n",
    "rf_clf = RandomForestRegressor(n_estimators=100)\n",
    "ada_clf = AdaBoostRegressor(n_estimators=100)\n",
    "cat_clf = cb.CatBoostRegressor(iterations=1000,learning_rate=.87,l2_leaf_reg=0.5,cat_features=one_hot)\n",
    "\n",
    "\n",
    "rf_train, rf_test = get_stacking_base_datasets(rf_clf, c_train, y, test, 4) # 4는 폴드수\n",
    "ada_train, ada_test = get_stacking_base_datasets(ada_clf, c_train, y, test, 4)\n",
    "cat_train, cat_test = get_stacking_base_datasets(cat_clf, train, y, test, 4)"
   ]
  },
  {
   "cell_type": "code",
   "execution_count": null,
   "metadata": {
    "colab": {
     "base_uri": "https://localhost:8080/",
     "height": 488
    },
    "executionInfo": {
     "elapsed": 11,
     "status": "ok",
     "timestamp": 1665241014835,
     "user": {
      "displayName": "최종원",
      "userId": "06409282717989700908"
     },
     "user_tz": -540
    },
    "id": "34hUHEAOFjc5",
    "outputId": "63dbd92e-b61a-4165-d288-ce14b73bfa1f"
   },
   "outputs": [],
   "source": [
    "a=train[train['weight_restricted']==1].index\n",
    "train.loc[a]"
   ]
  },
  {
   "cell_type": "code",
   "execution_count": null,
   "metadata": {
    "id": "LfQnUyJVxV2N"
   },
   "outputs": [],
   "source": [
    "\n",
    "Stack_final_X_train = np.concatenate((knn_train, rf_train, dt_train, ada_train), axis=1)\n",
    "Stack_final_X_test = np.concatenate((knn_test, rf_test, dt_test, ada_test), axis=1)\n",
    "print('원본 학습 피처 데이터 shape:', X_train.shape, '원본 테스트 피처 shape:',X_test.shape)\n",
    "print('스태킹 학습 피처 데이터 shape:',Stack_final_X_train.shape,\n",
    "     '스태킹 테스트 피처 데이터 shape:',Stack_final_X_test.shape)"
   ]
  },
  {
   "cell_type": "code",
   "execution_count": null,
   "metadata": {
    "id": "fpNcSO816tP-"
   },
   "outputs": [],
   "source": [
    "import catboost as cb\n",
    "from sklearn.metrics import mean_absolute_error "
   ]
  },
  {
   "cell_type": "markdown",
   "metadata": {
    "id": "m93Sp4ki2THF"
   },
   "source": [
    "#GridSearch (시도 x)"
   ]
  },
  {
   "cell_type": "code",
   "execution_count": null,
   "metadata": {
    "colab": {
     "base_uri": "https://localhost:8080/"
    },
    "executionInfo": {
     "elapsed": 513,
     "status": "ok",
     "timestamp": 1665587874454,
     "user": {
      "displayName": "youngmi kim",
      "userId": "08819677002019807677"
     },
     "user_tz": -540
    },
    "id": "Q4PzZ0faaYxk",
    "outputId": "75679030-7e27-424d-c0d9-e140846f72f1"
   },
   "outputs": [],
   "source": [
    "train.columns"
   ]
  },
  {
   "cell_type": "code",
   "execution_count": null,
   "metadata": {
    "colab": {
     "base_uri": "https://localhost:8080/",
     "height": 1000
    },
    "executionInfo": {
     "elapsed": 17944663,
     "status": "error",
     "timestamp": 1665618625977,
     "user": {
      "displayName": "youngmi kim",
      "userId": "08819677002019807677"
     },
     "user_tz": -540
    },
    "id": "p54KCocz2SCn",
    "outputId": "09696b21-d95a-49b9-c19c-b7271a3a0a62"
   },
   "outputs": [],
   "source": [
    "from sklearn.model_selection import StratifiedKFold\n",
    "one_hot = ['month','day_of_week','road_type','road_rating','weight_restricted','lane_count','road_rating','maximum_speed_limit']\n",
    "model = cb.CatBoostRegressor(loss_function='MAE',one_hot_max_size=10,metric_period=50)\n",
    "#cb_model.fit(X_train, Y_train, cat_features = cat_features)\n",
    "grid = {'iterations' : [50000],\n",
    "    'learning_rate': [0.3]\n",
    "        ,'l2_leaf_reg': [0.5],\n",
    "        'depth':[8]}\n",
    "# stratified 적용 x\n",
    "#skf=StratifiedKFold(n_splits=4,random_state=None,shuffle=False)\n",
    "grid_search_result = model.grid_search(grid, \n",
    "                                       X=bf_train, \n",
    "                                       y=y, \n",
    "                                       plot=True,cv=4)"
   ]
  },
  {
   "cell_type": "markdown",
   "metadata": {
    "id": "KIQECnaZX3LM"
   },
   "source": [
    "https://velog.io/@dohy426/Cat-Boost-Regressor-Optuna"
   ]
  },
  {
   "cell_type": "code",
   "execution_count": null,
   "metadata": {
    "id": "bttUctLe5Axw"
   },
   "outputs": [],
   "source": [
    "print(grid_search_result.best_params_)\n",
    "print(grid_search_result.best_score_)\n",
    "\n",
    "em = grid_search_result.best_estimator_\n",
    "pred = em.predict(bf_test)\n",
    "\n",
    "sample_submission = pd.read_csv('/content/drive/MyDrive/DACON_Dataset/JEJU_Traffic/open.zip (Unzipped Files)/sample_submission.csv')\n",
    "sample_submission['target']=pred\n",
    "sample_submission.to_csv('/content/drive/MyDrive/DACON_Dataset/JEJU_Traffic/open.zip (Unzipped Files)/submission_14.csv',index=False)"
   ]
  },
  {
   "cell_type": "markdown",
   "metadata": {
    "id": "DV8Jdm4M2VJC"
   },
   "source": [
    "# BF (x_train, x_valid) 적용. -> 이걸로 진행.\n",
    "\n",
    "- 그리드서치를 적용 하지 않아, 검증셋과 학습셋 성능차이가 있다."
   ]
  },
  {
   "cell_type": "code",
   "execution_count": null,
   "metadata": {
    "colab": {
     "base_uri": "https://localhost:8080/"
    },
    "executionInfo": {
     "elapsed": 497,
     "status": "ok",
     "timestamp": 1668357071339,
     "user": {
      "displayName": "최종원",
      "userId": "06409282717989700908"
     },
     "user_tz": -540
    },
    "id": "ylgipDWzw8uS",
    "outputId": "66a37f40-c3f1-4ada-c928-dd99bfb5877a"
   },
   "outputs": [],
   "source": [
    "bf_train.dtypes"
   ]
  },
  {
   "cell_type": "code",
   "execution_count": null,
   "metadata": {
    "id": "t9ZrwaUFxNnN"
   },
   "outputs": [],
   "source": [
    "cat_type = ['day_of_week','start_turn_restricted','peak_c']\n",
    "for i in cat_type:\n",
    "  train[i]=train[i].astype('str')\n",
    "  test[i]=test[i].astype('str')"
   ]
  },
  {
   "cell_type": "markdown",
   "metadata": {
    "id": "3MQh7_zifHvK"
   },
   "source": [
    "# Optuna를 통한 최적 파라미터 탐색 ( 시도 x)\n",
    "- trial은 50이하로 해야 적당하다고 한다."
   ]
  },
  {
   "cell_type": "code",
   "execution_count": null,
   "metadata": {
    "id": "dWJYNX05fHHJ"
   },
   "outputs": [],
   "source": [
    "import optuna\n",
    "from optuna import Trial\n",
    "from optuna.samplers import TPESampler"
   ]
  },
  {
   "cell_type": "code",
   "execution_count": null,
   "metadata": {
    "id": "Y9G4X0lagtd5"
   },
   "outputs": [],
   "source": [
    "bf_train = train.copy()\n",
    "bf_test = test.copy()\n",
    "bf_train = bf_train.drop(['multi_linked','connect_code','end_turn_restricted'],axis=1) # road_type\n",
    "bf_test = bf_test.drop(['multi_linked','connect_code','end_turn_restricted'],axis=1) # road_type"
   ]
  },
  {
   "cell_type": "code",
   "execution_count": null,
   "metadata": {
    "id": "KMRhsxjguLnc"
   },
   "outputs": [],
   "source": [
    " x_train , x_valid , y_train, y_valid = train_test_split(bf_train,y,test_size=0.2,random_state=10)"
   ]
  },
  {
   "cell_type": "code",
   "execution_count": null,
   "metadata": {
    "colab": {
     "base_uri": "https://localhost:8080/",
     "height": 796
    },
    "executionInfo": {
     "elapsed": 467088,
     "status": "error",
     "timestamp": 1668275892624,
     "user": {
      "displayName": "최종원",
      "userId": "06409282717989700908"
     },
     "user_tz": -540
    },
    "id": "y10oUBbIfVTq",
    "outputId": "447fd9c6-66f3-4562-ab7b-b10648d537be"
   },
   "outputs": [],
   "source": [
    "# 데이터 분리에서 x_train , x_valid , y_train , y_valid \n",
    "#분리해놓은 것을 통해 최적 파라미터를 탐색한다.\n",
    "\n",
    "# random sampler\n",
    "sampler = TPESampler(seed=10)\n",
    "\n",
    "# define function\n",
    "def objective(trial):\n",
    "\n",
    "    cbrm_param = {\n",
    "        'iterations':2000,\n",
    "        #'od_wait':trial.suggest_int('od_wait', 500, 2300),\n",
    "        'learning_rate' : trial.suggest_uniform('learning_rate',0.1, 0.4),\n",
    "        'reg_lambda': trial.suggest_uniform('reg_lambda',1e-5,100),\n",
    "        #'subsample': trial.suggest_uniform('subsample',0,1),\n",
    "        'random_strength': trial.suggest_uniform('random_strength',10,50),\n",
    "        'depth': trial.suggest_int('depth',5, 12),\n",
    "        'min_data_in_leaf': trial.suggest_int('min_data_in_leaf',1,30),\n",
    "        'leaf_estimation_iterations': trial.suggest_int('leaf_estimation_iterations',1,15),\n",
    "        'bagging_temperature' :trial.suggest_loguniform('bagging_temperature', 0.01, 100.00),\n",
    "        'colsample_bylevel':trial.suggest_float('colsample_bylevel', 0.4, 1.0),\n",
    "        \n",
    "    }\n",
    "\n",
    "    # Generate model\n",
    "    cat_features=['day_of_week','road_rating','month','year','road_type','start_turn_restricted','c_label']\n",
    "    model_cbrm = cb.CatBoostRegressor(**cbrm_param,one_hot_max_size=6,metric_period=100,cat_features=cat_features)\n",
    "    model_cbrm = model_cbrm.fit(x_train, y_train, eval_set=[(x_valid, y_valid)])\n",
    "                           \n",
    "\t# 평가지표 원하는 평가 지표가 있을 시 바꾸어 준다.\n",
    "    MAE = mean_absolute_error(y_valid, model_cbrm.predict(x_valid))\n",
    "    return MAE\n",
    "\n",
    "optuna_cbrm = optuna.create_study(direction='minimize', sampler=sampler)\n",
    "optuna_cbrm.optimize(objective, n_trials=10)\n"
   ]
  },
  {
   "cell_type": "code",
   "execution_count": null,
   "metadata": {
    "id": "OanG00gggWFh"
   },
   "outputs": [],
   "source": [
    "cbrm_trial = optuna_cbrm.best_trial\n",
    "cbrm_trial_params = cbrm_trial.params\n",
    "print('Best Trial: score {},\\nparams {}'.format(cbrm_trial.best_value, cbrm_trial_params))"
   ]
  },
  {
   "cell_type": "code",
   "execution_count": null,
   "metadata": {
    "colab": {
     "base_uri": "https://localhost:8080/"
    },
    "executionInfo": {
     "elapsed": 291,
     "status": "ok",
     "timestamp": 1668313670456,
     "user": {
      "displayName": "최종원",
      "userId": "06409282717989700908"
     },
     "user_tz": -540
    },
    "id": "zTDe69ilPLUs",
    "outputId": "f85c9428-ba80-4bb6-f607-cfa08a88e5d6"
   },
   "outputs": [],
   "source": [
    "train.dtypes"
   ]
  },
  {
   "cell_type": "code",
   "execution_count": null,
   "metadata": {
    "colab": {
     "base_uri": "https://localhost:8080/"
    },
    "executionInfo": {
     "elapsed": 4323,
     "status": "ok",
     "timestamp": 1668313666422,
     "user": {
      "displayName": "최종원",
      "userId": "06409282717989700908"
     },
     "user_tz": -540
    },
    "id": "SVGg-t1FxAY0",
    "outputId": "43fba572-6d93-4a40-ff95-4e7ead34caa5"
   },
   "outputs": [],
   "source": [
    "train.info()\n",
    "#obj : road_rating, road_type , road_num\n",
    "\n",
    "train.road_rating=train.road_rating.astype('str')\n",
    "train.road_type=train.road_type.astype('int')\n",
    "train.c_label=train.c_label.astype('str')\n",
    "train.day_of_week = train.day_of_week.astype('str')\n",
    "train.start_turn_restricted = train.start_turn_restricted.astype('str')\n",
    "train.month = train.month.astype('int')\n",
    "train.year = train.year.astype('int')\n",
    "#test\n",
    "\n",
    "test.road_rating=test.road_rating.astype('str')\n",
    "test.road_type=test.road_type.astype('int')\n",
    "test.c_label=test.c_label.astype('str')\n",
    "test.day_of_week = test.day_of_week.astype('str')\n",
    "test.start_turn_restricted = test.start_turn_restricted.astype('str')\n",
    "train.year = train.year.astype('int')\n",
    "train.month = train.month.astype('int')"
   ]
  },
  {
   "cell_type": "code",
   "execution_count": null,
   "metadata": {
    "colab": {
     "base_uri": "https://localhost:8080/"
    },
    "executionInfo": {
     "elapsed": 287,
     "status": "ok",
     "timestamp": 1668313689987,
     "user": {
      "displayName": "최종원",
      "userId": "06409282717989700908"
     },
     "user_tz": -540
    },
    "id": "TmHtTrALyVvu",
    "outputId": "84abb908-0569-4fc0-bd84-f958e4c64987"
   },
   "outputs": [],
   "source": [
    "bf_train.info()"
   ]
  },
  {
   "cell_type": "code",
   "execution_count": null,
   "metadata": {
    "colab": {
     "base_uri": "https://localhost:8080/",
     "height": 270
    },
    "executionInfo": {
     "elapsed": 485,
     "status": "ok",
     "timestamp": 1667904549515,
     "user": {
      "displayName": "최종원",
      "userId": "06409282717989700908"
     },
     "user_tz": -540
    },
    "id": "cxMpOUipyHG6",
    "outputId": "19ad1eda-ae33-4527-ddb1-f09c289aaf00"
   },
   "outputs": [],
   "source": [
    "train.head()"
   ]
  },
  {
   "cell_type": "markdown",
   "metadata": {
    "id": "jBPD6qaoyo6P"
   },
   "source": [
    "# K-Fold 적용해보기."
   ]
  },
  {
   "cell_type": "code",
   "execution_count": null,
   "metadata": {
    "id": "D-bOdcgv4SDg"
   },
   "outputs": [],
   "source": [
    "skf = KFold(n_splits=4, shuffle=True, random_state=10)\n",
    "folds = []\n",
    "for train_idx, valid_idx in skf.split(train, y):\n",
    "  folds.append((train_idx,valid_idx))"
   ]
  },
  {
   "cell_type": "code",
   "execution_count": null,
   "metadata": {
    "id": "Tr7_Zku0yrsD"
   },
   "outputs": [],
   "source": [
    "from catboost.core import CatBoostRegressor\n",
    "random.seed(10)\n",
    "cat_models={}\n",
    "\n",
    "cat_features =[0,1,2,5,6,7,8,15,18]\n",
    "\n",
    "for fold in range(4):\n",
    "  print(f'===================================={fold+1}============================================')\n",
    "  train_idx, valid_idx = folds[fold]\n",
    "  X_train = train.drop(['credit'],axis=1).iloc[train_idx].values \n",
    "  X_valid = train.drop(['credit'],axis=1).iloc[valid_idx].values\n",
    "  y_train = train['credit'][train_idx].values\n",
    "  y_valid = train['credit'][valid_idx].values\n",
    "\n",
    "  cat = CatBoostRegressor(**cbrm_trial.best_params)\n",
    "  cat.fit(X_train, y_train,\n",
    "          eval_set=[(X_train, y_train), (X_valid,y_valid)],\n",
    "          early_stopping_rounds=35,cat_features=cat_features,\n",
    "          verbose=100)\n",
    "  cat_models[fold] = cat"
   ]
  },
  {
   "cell_type": "code",
   "execution_count": null,
   "metadata": {
    "id": "NLvgxBBnfinE"
   },
   "outputs": [],
   "source": [
    "x_train , x_valid , y_train, y_valid = train_test_split(bf_train,y,test_size=0.2,random_state=5)"
   ]
  },
  {
   "cell_type": "code",
   "execution_count": null,
   "metadata": {
    "id": "W3O4AJ24CGb_"
   },
   "outputs": [],
   "source": [
    "x_train.reset_index(inplace=True, drop=True)\n",
    "y_train.reset_index(inplace=True, drop=True)\n",
    "\n",
    "x_valid.reset_index(inplace=True, drop=True)\n",
    "y_valid.reset_index(inplace=True, drop=True)"
   ]
  },
  {
   "cell_type": "code",
   "execution_count": null,
   "metadata": {
    "colab": {
     "base_uri": "https://localhost:8080/"
    },
    "executionInfo": {
     "elapsed": 12,
     "status": "ok",
     "timestamp": 1668357585217,
     "user": {
      "displayName": "최종원",
      "userId": "06409282717989700908"
     },
     "user_tz": -540
    },
    "id": "l6YlQn78akGV",
    "outputId": "126bc5ce-74d6-4a5e-df86-b126b329e91e"
   },
   "outputs": [],
   "source": [
    "bf_test.info()"
   ]
  },
  {
   "cell_type": "code",
   "execution_count": null,
   "metadata": {
    "colab": {
     "base_uri": "https://localhost:8080/"
    },
    "executionInfo": {
     "elapsed": 414,
     "status": "ok",
     "timestamp": 1668274619709,
     "user": {
      "displayName": "최종원",
      "userId": "06409282717989700908"
     },
     "user_tz": -540
    },
    "id": "S0GMqRcR6LtF",
    "outputId": "00ac9727-d813-4eaa-bd52-c3a723465847"
   },
   "outputs": [],
   "source": [
    "bf_test.info()"
   ]
  },
  {
   "cell_type": "code",
   "execution_count": null,
   "metadata": {
    "id": "aqeokvI16Q-b"
   },
   "outputs": [],
   "source": [
    "bf_train = bf_train.astype({'day_of_week' : 'int', 'road_rating' : 'str','month' : 'int','year':'int','road_type':'str','start_turn_restricted':'str','c_label':'str'})\n",
    "bf_test = bf_test.astype({'day_of_week' : 'str', 'road_rating' : 'str','month' : 'str','year':'str','road_rating':'str','road_type':'str','start_turn_restricted':'str','c_label':'str'})"
   ]
  },
  {
   "cell_type": "code",
   "execution_count": null,
   "metadata": {
    "id": "xX5bSMn97tsR"
   },
   "outputs": [],
   "source": [
    "bf_train['base_hour']=bf_train['base_hour'].astype('str')\n",
    "bf_test['base_hour']=bf_test['base_hour'].astype('str')"
   ]
  },
  {
   "cell_type": "code",
   "execution_count": null,
   "metadata": {
    "id": "TlaydMht73u6"
   },
   "outputs": [],
   "source": [
    "bf_train['maximum_speed_limit']=bf_train['maximum_speed_limit'].astype('int')\n",
    "bf_test['maximum_speed_limit']=bf_test['maximum_speed_limit'].astype('int')"
   ]
  },
  {
   "cell_type": "code",
   "execution_count": null,
   "metadata": {
    "id": "WlEvOUMejMFS"
   },
   "outputs": [],
   "source": [
    "bf_train = bf_train.astype({'day_of_week' : 'int', 'road_rating' : 'int','road_type':'int','start_turn_restricted':'str','c_label':'str','weight_restricted':'str'})\n",
    "bf_test = bf_test.astype({'day_of_week' : 'int', 'road_rating' : 'int','road_type':'int','start_turn_restricted':'str','c_label':'str','weight_restricted':'str'})"
   ]
  },
  {
   "cell_type": "code",
   "execution_count": null,
   "metadata": {
    "colab": {
     "base_uri": "https://localhost:8080/"
    },
    "executionInfo": {
     "elapsed": 291,
     "status": "ok",
     "timestamp": 1668318946637,
     "user": {
      "displayName": "최종원",
      "userId": "06409282717989700908"
     },
     "user_tz": -540
    },
    "id": "z1wJF11Q7iSz",
    "outputId": "0c39d78f-63bd-432d-9561-b05e55fee0fa"
   },
   "outputs": [],
   "source": [
    "bf_test.dtypes"
   ]
  },
  {
   "cell_type": "code",
   "execution_count": null,
   "metadata": {
    "colab": {
     "base_uri": "https://localhost:8080/"
    },
    "executionInfo": {
     "elapsed": 312,
     "status": "ok",
     "timestamp": 1668318956691,
     "user": {
      "displayName": "최종원",
      "userId": "06409282717989700908"
     },
     "user_tz": -540
    },
    "id": "rH80_4FGjvOz",
    "outputId": "fd3d270a-acf5-4c33-dcc3-6ce2a71fcf18"
   },
   "outputs": [],
   "source": [
    "bf_train.dtypes"
   ]
  },
  {
   "cell_type": "code",
   "execution_count": null,
   "metadata": {
    "id": "BtQEViTO2kt0"
   },
   "outputs": [],
   "source": [
    "catt=['road_type','road_rating','maximum_speed_limit']\n",
    "\n",
    "for i in catt :\n",
    "  train[i]=train[i].astype('str')\n",
    "  test[i]=test[i].astype('str')"
   ]
  },
  {
   "cell_type": "code",
   "execution_count": null,
   "metadata": {
    "colab": {
     "base_uri": "https://localhost:8080/"
    },
    "executionInfo": {
     "elapsed": 17371177,
     "status": "ok",
     "timestamp": 1668375531077,
     "user": {
      "displayName": "최종원",
      "userId": "06409282717989700908"
     },
     "user_tz": -540
    },
    "id": "LedfIBX064_e",
    "outputId": "3b194298-6481-48bc-fc47-d9cbce802be4"
   },
   "outputs": [],
   "source": [
    "# day 까지 포함해서 모델링!! -> 기각\n",
    "\n",
    "#one_hot = ['month','day_of_week','road_type','weight_restricted','road_rating','maximum_speed_limit']\n",
    "\n",
    "cat_features=['day_of_week','start_turn_restricted','peak_c','road_type','road_rating','maximum_speed_limit']\n",
    "train_dataset=cb.Pool(data=x_train,label=y_train,cat_features=cat_features)\n",
    "valid_dataset=cb.Pool(data=x_valid,label=y_valid,cat_features=cat_features)\n",
    "# task_type = 'GPU'로 하면 처리속도가 엄청 향상되는데, CPU로 작업했을 때랑 성능이 다르다.... 왜 그런지 모르겠다.\n",
    "# 파라미터 : 반복횟수, 학습률, 손실함수, l2규제, 화면표시 몇개당 나오게 할지.\n",
    "\n",
    "# k-fold 적용해보기.\n",
    "model = cb.CatBoostRegressor(iterations=60000,learning_rate=0.25,loss_function='MAE',\n",
    "                             l2_leaf_reg=0.5,metric_period = 100,one_hot_max_size=12,depth=8,cat_features=cat_features)\n",
    "\n",
    "#valid_set : 3.028->model = cb.CatBoostRegressor(iterations=50000,learning_rate=0.3,loss_function='MAE', test_score : 3.14몇.\n",
    "                            # l2_leaf_reg=0.5,metric_period = 100,depth=8,one_hot_max_size=25)\n",
    "model.fit(train_dataset,eval_set = valid_dataset) # valid_set score도 같이 표시됨.\n",
    "\n",
    "pred=model.predict(x_valid) \n",
    "\n",
    "print(mean_absolute_error(y_valid,pred))\n",
    "\n"
   ]
  },
  {
   "cell_type": "markdown",
   "metadata": {
    "id": "NA-6Rfectplk"
   },
   "source": [
    "learn: 3.0512080 -> valid score : 3.119756768711377\n",
    "-> test_score : 3.20712\n",
    "\n",
    "learn: 2.9782695 -> valid score : 3.0890392776\n",
    "-> test_score : 3.1793\n",
    "\n",
    "learn: 2.9182695 -> valid score : 3.0709392776\n",
    "-> test_score : 3.1717\n"
   ]
  },
  {
   "cell_type": "code",
   "execution_count": null,
   "metadata": {
    "colab": {
     "base_uri": "https://localhost:8080/"
    },
    "executionInfo": {
     "elapsed": 395,
     "status": "ok",
     "timestamp": 1666356187658,
     "user": {
      "displayName": "최종원",
      "userId": "06409282717989700908"
     },
     "user_tz": -540
    },
    "id": "kjsuUHl9kSAs",
    "outputId": "c2af1902-97ca-4fec-e5fe-9664baf2742c"
   },
   "outputs": [],
   "source": [
    "bf_test.off_day.value_counts()"
   ]
  },
  {
   "cell_type": "code",
   "execution_count": null,
   "metadata": {
    "colab": {
     "base_uri": "https://localhost:8080/"
    },
    "executionInfo": {
     "elapsed": 4198,
     "status": "ok",
     "timestamp": 1668375535257,
     "user": {
      "displayName": "최종원",
      "userId": "06409282717989700908"
     },
     "user_tz": -540
    },
    "id": "Xy4XtW867RWl",
    "outputId": "994859d3-0ecc-40a9-91d0-14af6794f42f"
   },
   "outputs": [],
   "source": [
    "# 예측 및 제출 파일 제출.\n",
    "sub_pred=model.predict(bf_test)\n",
    "\n",
    "print(sub_pred)"
   ]
  },
  {
   "cell_type": "code",
   "execution_count": null,
   "metadata": {
    "id": "gJbolQgtF8YS"
   },
   "outputs": [],
   "source": [
    "sample_submission = pd.read_csv('/content/drive/MyDrive/DACON_Dataset/JEJU_Traffic/open.zip (Unzipped Files)/sample_submission.csv')"
   ]
  },
  {
   "cell_type": "code",
   "execution_count": null,
   "metadata": {
    "id": "j4ePV0GoGOGX"
   },
   "outputs": [],
   "source": [
    "sample_submission['target']=sub_pred"
   ]
  },
  {
   "cell_type": "code",
   "execution_count": null,
   "metadata": {
    "id": "P81aBGlzdg2-"
   },
   "outputs": [],
   "source": [
    "sample_submission.to_csv('/content/drive/MyDrive/DACON_Dataset/JEJU_Traffic/open.zip (Unzipped Files)/submission_last.csv',index=False)\n",
    "\n",
    "# 파일명 변경하기."
   ]
  },
  {
   "cell_type": "markdown",
   "metadata": {
    "id": "y-3MgWbzdWv2"
   },
   "source": [
    "# Featrue_Importance"
   ]
  },
  {
   "cell_type": "code",
   "execution_count": null,
   "metadata": {
    "id": "vrv1sKcCFHFe"
   },
   "outputs": [],
   "source": [
    "# 특성 중요도 뽑기.\n",
    "def plot_feature_importance(importance,names,model_type):\n",
    "    \n",
    "    feature_importance = np.array(importance)\n",
    "    feature_names = np.array(names)\n",
    "    \n",
    "    data={'feature_names':feature_names,'feature_importance':feature_importance}\n",
    "    fi_df = pd.DataFrame(data)\n",
    "    \n",
    "    fi_df.sort_values(by=['feature_importance'], ascending=False,inplace=True)\n",
    "\n",
    "    plt.figure(figsize=(10,8))\n",
    "\n",
    "    sns.barplot(x=fi_df['feature_importance'], y=fi_df['feature_names'])\n",
    "\n",
    "    plt.title(model_type + ' Feature Importance')\n",
    "    plt.xlabel('Feature Importance')\n",
    "    plt.ylabel('Feature Names')"
   ]
  },
  {
   "cell_type": "code",
   "execution_count": null,
   "metadata": {
    "colab": {
     "base_uri": "https://localhost:8080/",
     "height": 559
    },
    "executionInfo": {
     "elapsed": 625,
     "status": "ok",
     "timestamp": 1665178622527,
     "user": {
      "displayName": "최종원",
      "userId": "06409282717989700908"
     },
     "user_tz": -540
    },
    "id": "DB70a7dZEX32",
    "outputId": "8b3b7e81-6d65-4445-94be-aa8d386a1ad8"
   },
   "outputs": [],
   "source": [
    "plot_feature_importance(model.get_feature_importance(),x_valid.columns,'CATBOOST')"
   ]
  }
 ],
 "metadata": {
  "accelerator": "GPU",
  "colab": {
   "collapsed_sections": [
    "psUJkeEicMIy",
    "tZfx1j1ccycE",
    "FaAu_lcoclw2",
    "-TB8nFxJw-Jp",
    "3MQh7_zifHvK",
    "m93Sp4ki2THF"
   ],
   "machine_shape": "hm",
   "provenance": [
    {
     "file_id": "1-_ERkoK4htcBq8OCIbSPMybNN5QZytrc",
     "timestamp": 1667881458805
    },
    {
     "file_id": "1y_jmiRVfdwY51kCOvJ3ZJUutvC0MVJzr",
     "timestamp": 1666269380840
    },
    {
     "file_id": "1XockAkWFIF_b-gu4deXWE0a-_O05tYPB",
     "timestamp": 1664896906350
    }
   ]
  },
  "gpuClass": "premium",
  "kernelspec": {
   "display_name": "Python 3 (ipykernel)",
   "language": "python",
   "name": "python3"
  },
  "language_info": {
   "codemirror_mode": {
    "name": "ipython",
    "version": 3
   },
   "file_extension": ".py",
   "mimetype": "text/x-python",
   "name": "python",
   "nbconvert_exporter": "python",
   "pygments_lexer": "ipython3",
   "version": "3.10.9"
  }
 },
 "nbformat": 4,
 "nbformat_minor": 1
}
