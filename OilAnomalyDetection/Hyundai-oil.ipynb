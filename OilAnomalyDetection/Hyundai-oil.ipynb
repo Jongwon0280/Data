{
 "cells": [
  {
   "cell_type": "markdown",
   "metadata": {
    "id": "_JbhDwbtLhx-"
   },
   "source": [
    "Description This Code\n",
    "\n",
    "- Sclaer : MinMax()\n",
    "\n",
    "- Feature_Selection : Drop Soot , FNOX , FOXID, FSO4, ZN, V100\n",
    "\n",
    "- XGB\n",
    "\n",
    "(Optuna Tuning S-KFOLD\n",
    "Best Trial: score 0.8292545137031471,<-m_F1\n",
    "params {'max_depth': 10, 'learning_rate': 0.23720667234749193, 'n_estimators': 1100}\n",
    "\n",
    "- LGB\n",
    "\n",
    "hand-crafted paramter tuning\n",
    "{'n_estimators':2000,'learning_rate':0.01, 'max_depth':13, 'n_jobs':-1,                 'boost_from_average':False}\n",
    "\n",
    "- TH :0.23\n",
    "\n",
    "-> 0.589653 (pub : 20)\n"
   ]
  },
  {
   "cell_type": "markdown",
   "metadata": {
    "id": "kKwE02DlZLBS"
   },
   "source": [
    "#라이브러리 불러오기"
   ]
  },
  {
   "cell_type": "code",
   "execution_count": null,
   "metadata": {
    "colab": {
     "base_uri": "https://localhost:8080/"
    },
    "id": "aUdQ_cEtTAUw",
    "outputId": "6eb65781-0a62-4943-85c9-bd453655a4f9"
   },
   "outputs": [],
   "source": [
    "# 최적 파라미터를 범위내에서 찾아주는 라이브러리로써 캐글에서 인기 폭발이라고 한다.\n",
    "!pip install optuna"
   ]
  },
  {
   "cell_type": "code",
   "execution_count": null,
   "metadata": {
    "colab": {
     "base_uri": "https://localhost:8080/"
    },
    "id": "aj9-S8V1vVui",
    "outputId": "60245731-de2e-42e2-8605-f5cf4fa806b5"
   },
   "outputs": [],
   "source": [
    "pip install xgboost"
   ]
  },
  {
   "cell_type": "code",
   "execution_count": null,
   "metadata": {
    "colab": {
     "base_uri": "https://localhost:8080/"
    },
    "id": "K_H3Y727vYSa",
    "outputId": "542a4f2c-84db-4e4d-b39b-e33e6f4904f8"
   },
   "outputs": [],
   "source": [
    "pip install lightgbm"
   ]
  },
  {
   "cell_type": "code",
   "execution_count": null,
   "metadata": {
    "colab": {
     "base_uri": "https://localhost:8080/"
    },
    "id": "29OTAREKYqFG",
    "outputId": "24973fc0-8585-46a7-fdff-e867d99692ac"
   },
   "outputs": [],
   "source": [
    "pip install anaconda"
   ]
  },
  {
   "cell_type": "code",
   "execution_count": null,
   "metadata": {
    "id": "vS1K-D2l-sdp"
   },
   "outputs": [],
   "source": [
    "pip install catboost"
   ]
  },
  {
   "cell_type": "markdown",
   "metadata": {
    "id": "tpwoddAbAr1j"
   },
   "source": [
    "- profiling_tool (굳이 안해도됨.)"
   ]
  },
  {
   "cell_type": "code",
   "execution_count": null,
   "metadata": {
    "id": "IMF9GWsAbGeZ"
   },
   "outputs": [],
   "source": [
    "!pip install https://github.com/pandas-profiling/pandas-profiling/archive/master.zip"
   ]
  },
  {
   "cell_type": "code",
   "execution_count": null,
   "metadata": {
    "id": "rowq1GdvY5zh"
   },
   "outputs": [],
   "source": [
    "import math\n",
    "import numpy as np\n",
    "import pandas as pd\n",
    "import seaborn as sns\n",
    "import matplotlib.pyplot as plt\n",
    "from sklearn.preprocessing import LabelEncoder\n",
    "from sklearn.model_selection import train_test_split\n",
    "import gc\n",
    "\n",
    "plt.style.use('seaborn')\n",
    "sns.set(font_scale=1)\n",
    "plt.rc('font', family='NanumBarunGothic') \n",
    "plt.rcParams['font.family'] = 'NanumGothic'\n",
    "#한글폰트\n",
    "\n",
    "import warnings\n",
    "warnings.simplefilter(action='ignore', category=FutureWarning)"
   ]
  },
  {
   "cell_type": "code",
   "execution_count": null,
   "metadata": {
    "colab": {
     "base_uri": "https://localhost:8080/"
    },
    "id": "GWAprZbTZIGj",
    "outputId": "1680318b-0553-4b1b-a9c5-6c270891e105"
   },
   "outputs": [],
   "source": [
    "from google.colab import drive\n",
    "drive.mount('/content/drive')\n",
    "#구글드라이브연동"
   ]
  },
  {
   "cell_type": "code",
   "execution_count": null,
   "metadata": {
    "id": "mb3hSDfZZWdJ"
   },
   "outputs": [],
   "source": [
    "!sudo apt-get install -y fonts-nanum\n",
    "!sudo fc-cache -fv\n",
    "!rm ~/.cache/matplotlib -rf\n",
    "#한글폰트 설치. 런타임재사용 필요"
   ]
  },
  {
   "cell_type": "markdown",
   "metadata": {
    "id": "ng8cr3bjAMy2"
   },
   "source": [
    "- 데이터불러오기. (경로설정해주기)"
   ]
  },
  {
   "cell_type": "code",
   "execution_count": null,
   "metadata": {
    "id": "HheH5UiRaGtR"
   },
   "outputs": [],
   "source": [
    "train=pd.read_csv('/content/drive/MyDrive/DACON_Dataset/Hyundai_oil/train.csv')\n"
   ]
  },
  {
   "cell_type": "code",
   "execution_count": null,
   "metadata": {
    "id": "uISff1Qz_L3_"
   },
   "outputs": [],
   "source": [
    "test=pd.read_csv('/content/drive/MyDrive/DACON_Dataset/Hyundai_oil/test.csv')"
   ]
  },
  {
   "cell_type": "markdown",
   "metadata": {
    "id": "X-cJG3LfKiK4"
   },
   "source": [
    "# dataframe 사이즈 줄이기."
   ]
  },
  {
   "cell_type": "code",
   "execution_count": null,
   "metadata": {
    "id": "VdBOH9i8H935"
   },
   "outputs": [],
   "source": [
    "int64_col=list(train.columns[train.dtypes=='int64'])\n",
    "float64_col=list(train.columns[train.dtypes=='float64'])"
   ]
  },
  {
   "cell_type": "code",
   "execution_count": null,
   "metadata": {
    "id": "bSgNMG6mJsFO"
   },
   "outputs": [],
   "source": [
    "# train_data size 줄이기. int64->int32\n",
    "for i in int64_col :\n",
    "  train[i]=train[i].astype('int32')\n",
    "  \n",
    "\n",
    "for i in float64_col : #float64 -> float32\n",
    "  train[i]=train[i].astype('float32')\n",
    "  "
   ]
  },
  {
   "cell_type": "code",
   "execution_count": null,
   "metadata": {
    "id": "oF40SWjLsxiW"
   },
   "outputs": [],
   "source": [
    "int64_col=list(test.columns[test.dtypes=='int64'])\n",
    "float64_col=list(test.columns[test.dtypes=='float64'])"
   ]
  },
  {
   "cell_type": "code",
   "execution_count": null,
   "metadata": {
    "id": "E0hEHQULstBJ"
   },
   "outputs": [],
   "source": [
    "# test_data size 줄이기.\n",
    "for i in int64_col :\n",
    "  \n",
    "  test[i]=test[i].astype('int32')\n",
    "\n",
    "for i in float64_col :\n",
    "  \n",
    "  test[i]=test[i].astype('float32')"
   ]
  },
  {
   "cell_type": "markdown",
   "metadata": {
    "id": "E9kr56BPljzS"
   },
   "source": [
    "# 문자열 간단히 라벨링."
   ]
  },
  {
   "cell_type": "markdown",
   "metadata": {
    "id": "gYT5bT9IAc0C"
   },
   "source": [
    "- 라벨인코더 사용. (ordinal_Encoder사용해도됨)"
   ]
  },
  {
   "cell_type": "code",
   "execution_count": null,
   "metadata": {
    "id": "_2VhoDR0lmG5"
   },
   "outputs": [],
   "source": [
    "cate_val = ['COMPONENT_ARBITRARY']\n",
    "for i in cate_val :\n",
    "  enc = LabelEncoder()\n",
    "  enc=enc.fit(train[i])\n",
    "  train[i]=enc.transform(train[i])\n",
    "  for label in np.unique(test[i]):\n",
    "        if label not in enc.classes_: \n",
    "            enc.classes_ = np.append(enc.classes_, label)\n",
    "  test[i]=enc.transform(test[i]) # data leakage 주의"
   ]
  },
  {
   "cell_type": "code",
   "execution_count": null,
   "metadata": {
    "colab": {
     "base_uri": "https://localhost:8080/"
    },
    "id": "hQnUeu-4e9wa",
    "outputId": "b2f2f220-3102-4fa3-9baa-e37217898487"
   },
   "outputs": [],
   "source": [
    "train.COMPONENT_ARBITRARY.unique()"
   ]
  },
  {
   "cell_type": "markdown",
   "metadata": {
    "id": "j2rs8R9fVMmh"
   },
   "source": [
    "#NAN 확인 (test셋에는 결측치가 없다.)"
   ]
  },
  {
   "cell_type": "code",
   "execution_count": null,
   "metadata": {
    "colab": {
     "base_uri": "https://localhost:8080/"
    },
    "id": "Rk_B8n-GA6GT",
    "outputId": "d86f9f94-21f4-4450-f794-19a675a985a0"
   },
   "outputs": [],
   "source": [
    "train.isnull().sum()"
   ]
  },
  {
   "cell_type": "markdown",
   "metadata": {
    "id": "Zr8nPlM7A8if"
   },
   "source": [
    "# exp1) 결측치가 한컴포넌트를 제외한 모든 값인경우 특성을 제외시켜보기."
   ]
  },
  {
   "cell_type": "code",
   "execution_count": null,
   "metadata": {
    "id": "z50nb_bdzLP4"
   },
   "outputs": [],
   "source": [
    "exclude_col=train.columns[train.isnull().sum()> 10000]\n",
    "\n",
    "train=train.drop(exclude_col,axis=1)\n"
   ]
  },
  {
   "cell_type": "code",
   "execution_count": null,
   "metadata": {
    "colab": {
     "base_uri": "https://localhost:8080/"
    },
    "id": "yiwXnE-yB6oB",
    "outputId": "1c2a48b7-0029-470c-c444-9ceed1922d71"
   },
   "outputs": [],
   "source": [
    "train.columns"
   ]
  },
  {
   "cell_type": "markdown",
   "metadata": {
    "id": "CJyubRMkDEsF"
   },
   "source": [
    "#exp1) 공선성제거하기.\n",
    "(S FE 제거해보기.)"
   ]
  },
  {
   "cell_type": "code",
   "execution_count": null,
   "metadata": {
    "id": "P5nSGr06DEfs"
   },
   "outputs": [],
   "source": [
    "temp1=temp.drop(['S','FE'],axis=1)"
   ]
  },
  {
   "cell_type": "code",
   "execution_count": null,
   "metadata": {
    "colab": {
     "base_uri": "https://localhost:8080/"
    },
    "id": "_bdnSPt8KS58",
    "outputId": "bd149690-0aa4-47b6-9c05-6c43c08b9460"
   },
   "outputs": [],
   "source": [
    "temp.columns"
   ]
  },
  {
   "cell_type": "markdown",
   "metadata": {
    "id": "o-sZzaiQAmme"
   },
   "source": [
    "# Component별 데이터 분리."
   ]
  },
  {
   "cell_type": "code",
   "execution_count": null,
   "metadata": {
    "colab": {
     "base_uri": "https://localhost:8080/"
    },
    "id": "4plAGeg6eQh2",
    "outputId": "40fe4df0-2511-41b7-907b-b6f50a646f7d"
   },
   "outputs": [],
   "source": [
    "comp0 = train[train['COMPONENT_ARBITRARY']==0]\n",
    "comp1 = train[train['COMPONENT_ARBITRARY']==1]\n",
    "comp2 = train[train['COMPONENT_ARBITRARY']==2]\n",
    "comp3 = train[train['COMPONENT_ARBITRARY']==3]\n",
    "\n",
    "print(comp0.shape, comp1.shape, comp2.shape,comp3.shape)"
   ]
  },
  {
   "cell_type": "markdown",
   "metadata": {
    "id": "eXwvPu9WPi7u"
   },
   "source": [
    "#EDA"
   ]
  },
  {
   "cell_type": "code",
   "execution_count": null,
   "metadata": {
    "id": "YAcPnSfTbHNu"
   },
   "outputs": [],
   "source": [
    "train=temp"
   ]
  },
  {
   "cell_type": "code",
   "execution_count": null,
   "metadata": {
    "colab": {
     "base_uri": "https://localhost:8080/",
     "height": 338
    },
    "id": "2geMYgBrdlIn",
    "outputId": "2841fd5f-4136-4714-c75c-09029e490331"
   },
   "outputs": [],
   "source": [
    "comp0[['ANONYMOUS_1', 'YEAR', 'SAMPLE_TRANSFER_DAY',\n",
    "       'ANONYMOUS_2', 'AG', 'AL', 'B', 'BA', 'BE']].plot(kind='box', subplots=True, layout=(3, 3), figsize=(20, 10))\n",
    "plt.show()  "
   ]
  },
  {
   "cell_type": "code",
   "execution_count": null,
   "metadata": {
    "id": "3HRQ_HMVgbz7"
   },
   "outputs": [],
   "source": [
    "def hist_draw(f_name,comp0):\n",
    "\n",
    "  fig,axes=plt.subplots(1,2)\n",
    "  plt.figure(figsize=(10,10))\n",
    "  sns.histplot(comp0[comp0.Y_LABEL==0][f_name],ax=axes[0],bins=100,color='blue',stat='probability')\n",
    "  sns.histplot(comp0[comp0.Y_LABEL==1][f_name],ax=axes[1],bins=100,color='red',stat='probability')\n",
    "\n",
    "  #axes[0].set_xlim(0,2000)\n",
    "  axes[0].set_title(f_name+'_normal')\n",
    "  #axes[1].set_xlim(0,2000)\n",
    "  axes[1].set_title( f_name+'_abnormal')\n"
   ]
  },
  {
   "cell_type": "code",
   "execution_count": null,
   "metadata": {
    "colab": {
     "base_uri": "https://localhost:8080/",
     "height": 404
    },
    "id": "d-WfQyqXrK8K",
    "outputId": "2ac680de-2b13-41e9-a85c-ea3241b73eca"
   },
   "outputs": [],
   "source": [
    "hist_draw('PQINDEX',comp1)"
   ]
  },
  {
   "cell_type": "markdown",
   "metadata": {
    "id": "0lD3JFueeRRQ"
   },
   "source": [
    "- 컴포넌트별로 분포를 띄어보자."
   ]
  },
  {
   "cell_type": "code",
   "execution_count": null,
   "metadata": {
    "colab": {
     "base_uri": "https://localhost:8080/"
    },
    "id": "lanTRWppegAI",
    "outputId": "7a3e3265-203f-4e7e-811d-628348abf317"
   },
   "outputs": [],
   "source": [
    "train.COMPONENT_ARBITRARY.unique()"
   ]
  },
  {
   "cell_type": "code",
   "execution_count": null,
   "metadata": {
    "colab": {
     "base_uri": "https://localhost:8080/",
     "height": 461
    },
    "id": "HCMsRAzufMZJ",
    "outputId": "9607f7da-5ef5-4a86-980c-d079db0bc1c9"
   },
   "outputs": [],
   "source": [
    "fig, ax = plt.subplots()\n",
    "sns.histplot(comp0.ANONYMOUS_1, ax=ax,kde=True,color='blue',bins=300) \n",
    "sns.histplot(comp1.ANONYMOUS_1, ax=ax,kde=True,color='green',bins=300)\n",
    "sns.histplot(comp2.ANONYMOUS_1, ax=ax,kde=True,color='red',bins=300)\n",
    "sns.histplot(comp3.ANONYMOUS_1, ax=ax,kde=True,color='yellow',bins=300)\n",
    "ax.set_xlim(0,50000)\n",
    "ax.set_title('ANONYMOUS_1')"
   ]
  },
  {
   "cell_type": "code",
   "execution_count": null,
   "metadata": {
    "colab": {
     "base_uri": "https://localhost:8080/",
     "height": 423
    },
    "id": "AICMYGwff0LR",
    "outputId": "b842039f-2be5-4b8b-ec7d-feac9e56d342"
   },
   "outputs": [],
   "source": [
    "fig, ax = plt.subplots(4,1)\n",
    "plt.figure(figsize=(60,20))\n",
    "sns.histplot(comp0.ANONYMOUS_2, ax=ax[0],kde=True,color='blue',bins=50,stat='probability') \n",
    "sns.histplot(comp1.ANONYMOUS_2, ax=ax[1],kde=True,color='green',bins=50,stat='probability')\n",
    "sns.histplot(comp2.ANONYMOUS_2, ax=ax[2],kde=True,color='red',bins=50,stat='probability')\n",
    "sns.histplot(comp3.ANONYMOUS_2, ax=ax[3],kde=True,color='yellow',bins=50,stat='probability')\n",
    "\n",
    "ax[0].set_title('ANONYMOUS_2')\n",
    "#ax.set_xlim(0,10000)\n",
    "#ax.set_title('ANONYMOUS_2')"
   ]
  },
  {
   "cell_type": "code",
   "execution_count": null,
   "metadata": {
    "colab": {
     "base_uri": "https://localhost:8080/",
     "height": 423
    },
    "id": "JKh8_2rMh1ff",
    "outputId": "a95a04ff-2c60-4ab1-d24e-f427e3089e98"
   },
   "outputs": [],
   "source": [
    "fig, ax = plt.subplots(4,1)\n",
    "plt.figure(figsize=(60,20))\n",
    "sns.histplot(comp0.AG, ax=ax[0],kde=True,color='blue',bins=50,stat='probability') \n",
    "sns.histplot(comp1.AG, ax=ax[1],kde=True,color='green',bins=50,stat='probability')\n",
    "sns.histplot(comp2.AG, ax=ax[2],kde=True,color='red',bins=50,stat='probability')\n",
    "sns.histplot(comp3.AG, ax=ax[3],kde=True,color='yellow',bins=50,stat='probability')\n",
    "\n",
    "ax[0].set_title('AG')\n",
    "#ax.set_xlim(0,10000)\n",
    "#ax.set_title('ANONYMOUS_2')"
   ]
  },
  {
   "cell_type": "code",
   "execution_count": null,
   "metadata": {
    "colab": {
     "base_uri": "https://localhost:8080/",
     "height": 423
    },
    "id": "jaB3A9W5h8vI",
    "outputId": "615765b3-4640-403a-83f7-fecb261c3dde"
   },
   "outputs": [],
   "source": [
    "fig, ax = plt.subplots(4,1)\n",
    "plt.figure(figsize=(60,20))\n",
    "sns.histplot(comp0.CO, ax=ax[0],kde=True,color='blue',bins=50,stat='probability') \n",
    "sns.histplot(comp1.CO, ax=ax[1],kde=True,color='green',bins=50,stat='probability')\n",
    "sns.histplot(comp2.CO, ax=ax[2],kde=True,color='red',bins=50,stat='probability')\n",
    "sns.histplot(comp3.CO, ax=ax[3],kde=True,color='yellow',bins=50,stat='probability')\n",
    "\n",
    "ax[0].set_title('CO')\n",
    "#ax.set_xlim(0,10000)\n",
    "#ax.set_title('ANONYMOUS_2')"
   ]
  },
  {
   "cell_type": "code",
   "execution_count": null,
   "metadata": {
    "colab": {
     "base_uri": "https://localhost:8080/",
     "height": 423
    },
    "id": "re_W18JMiNkk",
    "outputId": "a053b81b-71a0-420e-8bcc-7cc49b96d9c1"
   },
   "outputs": [],
   "source": [
    "fig, ax = plt.subplots(4,1)\n",
    "plt.figure(figsize=(60,20))\n",
    "sns.histplot(comp0.CR, ax=ax[0],kde=True,color='blue',bins=100,stat='probability') \n",
    "sns.histplot(comp1.CR, ax=ax[1],kde=True,color='green',bins=100,stat='probability')\n",
    "sns.histplot(comp2.CR, ax=ax[2],kde=True,color='red',bins=100,stat='probability')\n",
    "sns.histplot(comp3.CR, ax=ax[3],kde=True,color='yellow',bins=100,stat='probability')\n",
    "\n",
    "ax[0].set_title('CR')\n",
    "#ax.set_xlim(0,10000)\n",
    "#ax.set_title('ANONYMOUS_2')"
   ]
  },
  {
   "cell_type": "code",
   "execution_count": null,
   "metadata": {
    "colab": {
     "base_uri": "https://localhost:8080/"
    },
    "id": "NHI_dt49i1JF",
    "outputId": "b21a8816-bf49-4dd1-b0c9-974570e28ae8"
   },
   "outputs": [],
   "source": [
    "comp3.CR.value_counts()\n",
    "\n"
   ]
  },
  {
   "cell_type": "code",
   "execution_count": null,
   "metadata": {
    "colab": {
     "base_uri": "https://localhost:8080/",
     "height": 423
    },
    "id": "rgLVubHuim2h",
    "outputId": "79f519ec-b7ae-401a-fdde-1941caac9fa8"
   },
   "outputs": [],
   "source": [
    "fig, ax = plt.subplots(4,1)\n",
    "plt.figure(figsize=(60,20))\n",
    "sns.histplot(comp0.CU, ax=ax[0],kde=True,color='blue',bins=100,stat='probability') \n",
    "sns.histplot(comp1.CU, ax=ax[1],kde=True,color='green',bins=100,stat='probability')\n",
    "sns.histplot(comp2.CU, ax=ax[2],kde=True,color='red',bins=100,stat='probability')\n",
    "sns.histplot(comp3.CU, ax=ax[3],kde=True,color='yellow',bins=100,stat='probability')\n",
    "\n",
    "ax[0].set_title('CU')\n",
    "#ax.set_xlim(0,10000)\n",
    "#ax.set_title('ANONYMOUS_2')"
   ]
  },
  {
   "cell_type": "code",
   "execution_count": null,
   "metadata": {
    "colab": {
     "base_uri": "https://localhost:8080/",
     "height": 552
    },
    "id": "tCk_-M2Eho0A",
    "outputId": "55b212e8-afe5-435f-a080-39bc0bd893b5"
   },
   "outputs": [],
   "source": [
    "fig, ax = plt.subplots(4,1)\n",
    "plt.figure(figsize=(60,20))\n",
    "sns.histplot(comp0.FOXID, ax=ax[0],kde=True,color='blue',bins=100,stat='probability') \n",
    "sns.histplot(comp1.FOXID, ax=ax[1],kde=True,color='green',bins=100,stat='probability')\n",
    "sns.histplot(comp2.FOXID, ax=ax[2],kde=True,color='red',bins=100,stat='probability')\n",
    "sns.histplot(comp3.FOXID, ax=ax[3],kde=True,color='yellow',bins=100,stat='probability')\n",
    "\n",
    "ax[0].set_title('FOXID')\n",
    "#ax.set_xlim(0,10000)\n",
    "#ax.set_title('ANONYMOUS_2')"
   ]
  },
  {
   "cell_type": "code",
   "execution_count": null,
   "metadata": {
    "colab": {
     "base_uri": "https://localhost:8080/",
     "height": 552
    },
    "id": "JZauxC9flQB4",
    "outputId": "a857c65b-3a0d-4a1d-d411-91b966ef8903"
   },
   "outputs": [],
   "source": [
    "fig, ax = plt.subplots(4,1)\n",
    "plt.figure(figsize=(60,20))\n",
    "sns.histplot(comp0.U100, ax=ax[0],kde=True,color='blue',bins=50,stat='probability') \n",
    "sns.histplot(comp1.U100, ax=ax[1],kde=True,color='green',bins=50,stat='probability')\n",
    "sns.histplot(comp2.U100, ax=ax[2],kde=True,color='red',bins=50,stat='probability')\n",
    "sns.histplot(comp3.U100, ax=ax[3],kde=True,color='yellow',bins=50,stat='probability')\n",
    "\n",
    "ax[0].set_title('U100')\n",
    "#ax.set_xlim(0,10000)\n",
    "#ax.set_title('ANONYMOUS_2')"
   ]
  },
  {
   "cell_type": "code",
   "execution_count": null,
   "metadata": {
    "colab": {
     "base_uri": "https://localhost:8080/",
     "height": 552
    },
    "id": "_KVobK64lx5f",
    "outputId": "e0e5f603-ae05-420e-cc02-c26edb91097a"
   },
   "outputs": [],
   "source": [
    "fig, ax = plt.subplots(4,1)\n",
    "plt.figure(figsize=(60,20))\n",
    "sns.histplot(comp0.U14, ax=ax[0],kde=True,color='blue',bins=50,stat='probability') \n",
    "sns.histplot(comp1.U14, ax=ax[1],kde=True,color='green',bins=50,stat='probability')\n",
    "sns.histplot(comp2.U14, ax=ax[2],kde=True,color='red',bins=50,stat='probability')\n",
    "sns.histplot(comp3.U14, ax=ax[3],kde=True,color='yellow',bins=50,stat='probability')\n",
    "\n",
    "ax[0].set_title('U14')\n",
    "#ax.set_xlim(0,10000)\n",
    "#ax.set_title('ANONYMOUS_2')"
   ]
  },
  {
   "cell_type": "code",
   "execution_count": null,
   "metadata": {
    "colab": {
     "base_uri": "https://localhost:8080/"
    },
    "id": "b7jHEimIjXEg",
    "outputId": "dfeef0cf-4907-4124-acc8-767c830f16b0"
   },
   "outputs": [],
   "source": [
    "comp3.CD.isnull().sum()"
   ]
  },
  {
   "cell_type": "code",
   "execution_count": null,
   "metadata": {
    "colab": {
     "base_uri": "https://localhost:8080/",
     "height": 423
    },
    "id": "pTo6KAenkHwU",
    "outputId": "a41d6410-aa4c-465e-f113-0387fb6d44c7"
   },
   "outputs": [],
   "source": [
    "fig, ax = plt.subplots(4,1)\n",
    "plt.figure(figsize=(60,20))\n",
    "sns.histplot(comp0.CD, ax=ax[0],kde=True,color='blue',bins=100,stat='probability') \n",
    "sns.histplot(comp1.CD, ax=ax[1],kde=True,color='green',bins=100,stat='probability')\n",
    "sns.histplot(comp2.CD, ax=ax[2],kde=True,color='red',bins=100,stat='probability')\n",
    "sns.histplot(comp3.CD, ax=ax[3],kde=True,color='yellow',bins=100,stat='probability')\n",
    "\n",
    "ax[0].set_title('CD')\n",
    "#ax.set_xlim(0,10000)\n",
    "#ax.set_title('ANONYMOUS_2')"
   ]
  },
  {
   "cell_type": "code",
   "execution_count": null,
   "metadata": {
    "colab": {
     "base_uri": "https://localhost:8080/",
     "height": 423
    },
    "id": "-ryY_02mt4GS",
    "outputId": "f191fa40-0b72-4845-cf83-031ca0f83b70"
   },
   "outputs": [],
   "source": [
    "fig, ax = plt.subplots(4,1)\n",
    "plt.figure(figsize=(100,40))\n",
    "sns.histplot(data=comp0,x='V40', ax=ax[0],kde=True,hue='Y_LABEL',bins=50,stat='probability')\n",
    "sns.histplot(data=comp1,x='V40', ax=ax[1],kde=True,hue='Y_LABEL',bins=50,stat='probability')\n",
    "sns.histplot(data=comp2,x='V40', ax=ax[2],kde=True,hue='Y_LABEL',bins=50,stat='probability')\n",
    "sns.histplot(data=comp3,x='V40', ax=ax[3],kde=True,hue='Y_LABEL',bins=50,stat='probability')\n",
    "\n",
    "ax[0].set_title('V40')\n",
    "#ax.set_xlim(0,10000)\n",
    "#ax.set_title('ANONYMOUS_2')"
   ]
  },
  {
   "cell_type": "markdown",
   "metadata": {
    "id": "-Gj-pIt7kIh8"
   },
   "source": [
    "각 컴포넌트별 사이즈 :\n",
    "\n",
    "0(3890, 54) 1(2316, 54) 2(7050, 54) 3(839, 54)\n",
    "\n",
    "\n",
    "FH2O                   10205-> 10205는 0번을 제외한 모든 컴포넌트\n",
    "\n",
    "FNOX                   10205\n",
    "\n",
    "\n",
    "FOPTIMETHGLY           10205\n",
    "\n",
    "\n",
    "FOXID                  10205\n",
    "FSO4                   10205\n",
    "\n",
    "\n",
    "FTBN                   10205\n",
    "\n",
    "\n",
    "FUEL                   10205\n",
    "\n",
    "SOOTPERCENTAGE         10205\n",
    "\n",
    "\n",
    "-> component 0을 제외한 나머지 component는 수집되지 않거나, 측정할 수 없는 지표로 추정.\n",
    "\n",
    "0(3890, 54) 1(2316, 54) 2(7050, 54) 3(839, 54)\n",
    "\n",
    "\n",
    "U100                   11779->1번 컴포넌트를 제외한 모든 컴포넌트\n",
    "\n",
    "\n",
    "U75                    11779\n",
    "\n",
    "\n",
    "U50                    11779\n",
    "\n",
    "\n",
    "U25                    11779\n",
    "\n",
    "\n",
    "U20                    11779\n",
    "\n",
    "\n",
    "->11977은 컴포넌트 1에서의 결측값이다.\n",
    "U14                    11977->(198개는 컴포넌트1안에서의 결측값이다.)\n",
    "\n",
    "\n",
    "U6                     11977\n",
    "\n",
    "\n",
    "U4                     11977\n",
    "\n",
    "\n",
    "\n",
    "컴포넌트 0을 제외한 모든 컴포넌트가 결측이며, + 컴포넌트0에도 결측치가 미세하게 존재한다.\n",
    "\n",
    "V100                   10371\n",
    "\n",
    "\n",
    "그 외 모든 결측열 ( K, CD)는 모든 컴포넌트에 골고루 존재함."
   ]
  },
  {
   "cell_type": "code",
   "execution_count": null,
   "metadata": {
    "colab": {
     "base_uri": "https://localhost:8080/",
     "height": 423
    },
    "id": "6UbdEuIAyuqA",
    "outputId": "b521db96-419b-4c34-f799-2488ba4d87f1"
   },
   "outputs": [],
   "source": [
    "fig, ax = plt.subplots(8,1)\n",
    "plt.figure(figsize=(100,20))\n",
    "\n",
    "sns.histplot(comp1[comp1.Y_LABEL==0].U4, ax=ax[0],kde=True,color='green',bins=50)\n",
    "sns.histplot(comp1[comp1.Y_LABEL==1].U4, ax=ax[0],kde=True,color='red',bins=50)\n",
    "\n",
    "sns.histplot(comp1[comp1.Y_LABEL==0].U6, ax=ax[1],kde=True,color='green',bins=50)\n",
    "sns.histplot(comp1[comp1.Y_LABEL==1].U6, ax=ax[1],kde=True,color='red',bins=50)\n",
    "\n",
    "sns.histplot(comp1[comp1.Y_LABEL==0].U14, ax=ax[2],kde=True,color='green',bins=50)\n",
    "sns.histplot(comp1[comp1.Y_LABEL==1].U14, ax=ax[2],kde=True,color='red',bins=50)\n",
    "\n",
    "sns.histplot(comp1[comp1.Y_LABEL==0].U20, ax=ax[3],kde=True,color='green',bins=50)\n",
    "sns.histplot(comp1[comp1.Y_LABEL==1].U20, ax=ax[3],kde=True,color='red',bins=50)\n",
    "\n",
    "sns.histplot(comp1[comp1.Y_LABEL==0].U25, ax=ax[4],kde=True,color='green',bins=50)\n",
    "sns.histplot(comp1[comp1.Y_LABEL==1].U25, ax=ax[4],kde=True,color='red',bins=50)\n",
    "\n",
    "sns.histplot(comp1[comp1.Y_LABEL==0].U50, ax=ax[5],kde=True,color='green',bins=50)\n",
    "sns.histplot(comp1[comp1.Y_LABEL==1].U50, ax=ax[5],kde=True,color='red',bins=50)\n",
    "\n",
    "sns.histplot(comp1[comp1.Y_LABEL==0].U75, ax=ax[6],kde=True,color='green',bins=50)\n",
    "sns.histplot(comp1[comp1.Y_LABEL==1].U75, ax=ax[6],kde=True,color='red',bins=50)\n",
    "\n",
    "sns.histplot(comp1[comp1.Y_LABEL==0].U100, ax=ax[7],kde=True,color='green',bins=50)\n",
    "sns.histplot(comp1[comp1.Y_LABEL==1].U100, ax=ax[7],kde=True,color='red',bins=50)\n",
    "\n",
    "\n",
    "ax[0].set_title('U')\n",
    "#ax.set_xlim(0,10000)\n",
    "#ax.set_title('ANONYMOUS_2')"
   ]
  },
  {
   "cell_type": "markdown",
   "metadata": {
    "id": "2GiOdvxFp4oq"
   },
   "source": [
    "# 컴포넌트별 특성별 박스플롯."
   ]
  },
  {
   "cell_type": "code",
   "execution_count": null,
   "metadata": {
    "id": "66Y8cF5BqqsG"
   },
   "outputs": [],
   "source": [
    "def comp_boxplot(comp_list,f_name):\n",
    "  fig, ax = plt.subplots(2,4)\n",
    "  plt.figure(figsize=(200,300))\n",
    "  for i,col in zip(range(0,4,1),['blue','green','red','yellow']):\n",
    "    \n",
    "    \n",
    "    sns.boxplot(data=comp_list[i],y=f_name, ax=ax[0][i],color=col)\n",
    "\n",
    "    ax[0][i].set_title('comp'+str(i)+'normal') \n",
    "  for i,col in zip(range(0,4,1),['blue','green','red','yellow']):\n",
    "\n",
    "    \n",
    "    \n",
    "    sns.boxplot(data=comp_list[i],y=f_name, ax=ax[1][i],color=col)\n",
    "\n",
    "    ax[1][i].set_title('comp'+str(i)+'abnormal') \n",
    "\n",
    "\n"
   ]
  },
  {
   "cell_type": "code",
   "execution_count": null,
   "metadata": {
    "colab": {
     "base_uri": "https://localhost:8080/",
     "height": 367
    },
    "id": "yxBIOM6Kp4E8",
    "outputId": "80cfe6d5-e33c-4b04-ab6a-214aeff434f6"
   },
   "outputs": [],
   "source": [
    "comp_list = [comp0,comp1,comp2,comp3]\n",
    "\n",
    "comp_boxplot(comp_list,'ANONYMOUS_2')"
   ]
  },
  {
   "cell_type": "code",
   "execution_count": null,
   "metadata": {
    "colab": {
     "base_uri": "https://localhost:8080/",
     "height": 364
    },
    "id": "UcaAAm_CsC6r",
    "outputId": "42f3a11e-fd4a-48c2-91fa-6825b4dcf502"
   },
   "outputs": [],
   "source": [
    "comp_boxplot(comp_list,'B')"
   ]
  },
  {
   "cell_type": "code",
   "execution_count": null,
   "metadata": {
    "colab": {
     "base_uri": "https://localhost:8080/",
     "height": 364
    },
    "id": "SwHXgUj_viqC",
    "outputId": "3e56165a-ea15-4f19-cfe0-255cee257f4d"
   },
   "outputs": [],
   "source": [
    "comp_boxplot(comp_list,'AL')"
   ]
  },
  {
   "cell_type": "markdown",
   "metadata": {
    "id": "4-7dj_h5fM18"
   },
   "source": [
    "- 전체데이터셋에대한 eda"
   ]
  },
  {
   "cell_type": "code",
   "execution_count": null,
   "metadata": {
    "colab": {
     "base_uri": "https://localhost:8080/",
     "height": 388
    },
    "id": "KKEl4X-sPj6p",
    "outputId": "7faad5a6-5512-49be-dba2-61ce2f31832f"
   },
   "outputs": [],
   "source": [
    "sns.barplot(train.YEAR,train.Y_LABEL)"
   ]
  },
  {
   "cell_type": "code",
   "execution_count": null,
   "metadata": {
    "colab": {
     "base_uri": "https://localhost:8080/",
     "height": 388
    },
    "id": "_4Nvu_IESOrE",
    "outputId": "49236075-7543-4c34-ad5b-12073938999b"
   },
   "outputs": [],
   "source": [
    "sns.barplot(train.COMPONENT_ARBITRARY,train.Y_LABEL)"
   ]
  },
  {
   "cell_type": "code",
   "execution_count": null,
   "metadata": {
    "colab": {
     "base_uri": "https://localhost:8080/",
     "height": 404
    },
    "id": "muQgiEIdc2KV",
    "outputId": "6fcd5501-bded-40f0-a0ef-5b7ca38ea9a9"
   },
   "outputs": [],
   "source": [
    "sns.boxplot(y=train.CD,manage_xticks=False)"
   ]
  },
  {
   "cell_type": "code",
   "execution_count": null,
   "metadata": {
    "colab": {
     "base_uri": "https://localhost:8080/",
     "height": 404
    },
    "id": "rYe4PsB2dgOu",
    "outputId": "049973ec-1780-4c21-e348-038401e382e9"
   },
   "outputs": [],
   "source": [
    "fig, ax = plt.subplots()\n",
    "sns.histplot(train.ANONYMOUS_1, ax=ax,kde=True,color='blue',bins=300,stat='probability')  # distplot is deprecate and replaced by histplot\n",
    "sns.histplot(train[train.Y_LABEL==1]['ANONYMOUS_1'],color='red', ax=ax,kde=True,bins=150,stat='probability')\n",
    "ax.set_xlim(0,50000)\n",
    "ax.set_title('ANONYMOUS_1')\n",
    "#ax.set_xticks(range(1,32))"
   ]
  },
  {
   "cell_type": "code",
   "execution_count": null,
   "metadata": {
    "colab": {
     "base_uri": "https://localhost:8080/",
     "height": 404
    },
    "id": "vR3IC5nOQbLq",
    "outputId": "12c22123-7a2d-407e-e1e6-ed8e7cd7c061"
   },
   "outputs": [],
   "source": [
    "fig, ax = plt.subplots()\n",
    "sns.histplot(train.ANONYMOUS_2, ax=ax,kde=True,color='blue',bins=10)  # distplot is deprecate and replaced by histplot\n",
    "sns.histplot(train[train.Y_LABEL==1]['ANONYMOUS_2'],color='red', ax=ax,kde=True,bins=10)\n",
    "ax.set_xlim(0,2000)\n",
    "#ax.set_ylim(0,0.2)\n",
    "\n",
    "ax.set_title('ANONYMOUS_2')\n",
    "#ax.set_xticks(range(1,32))"
   ]
  },
  {
   "cell_type": "markdown",
   "metadata": {
    "id": "TSOK45kNP6_z"
   },
   "source": [
    "- 비슷한 분포를 보이는 것으로 보아 별의미 없는 컬럼."
   ]
  },
  {
   "cell_type": "code",
   "execution_count": null,
   "metadata": {
    "colab": {
     "base_uri": "https://localhost:8080/",
     "height": 404
    },
    "id": "Z6X8cx23AnPq",
    "outputId": "7ea717b5-454e-4e81-80cb-affb6396d77e"
   },
   "outputs": [],
   "source": [
    "fig, ax = plt.subplots()\n",
    "sns.histplot(train.SAMPLE_TRANSFER_DAY,color='blue', ax=ax,kde=True,bins=150,stat='probability')\n",
    "sns.histplot(train[train.Y_LABEL==1]['SAMPLE_TRANSFER_DAY'],color='red', ax=ax,kde=True,bins=150,stat='probability')  \n",
    "# distplot is deprecate and replaced by histplot\n",
    "ax.set_xlim(0,50)\n",
    "ax.set_title('SAMPLE_TRANSFER_DAY')"
   ]
  },
  {
   "cell_type": "code",
   "execution_count": null,
   "metadata": {
    "colab": {
     "base_uri": "https://localhost:8080/",
     "height": 404
    },
    "id": "FzPp4LZXGkvq",
    "outputId": "86250d33-3dd6-4268-e593-6b240c0619ba"
   },
   "outputs": [],
   "source": [
    "fig, ax = plt.subplots()\n",
    "sns.histplot(train.FH2O,color='blue', ax=ax,kde=True,bins=150,stat='probability')\n",
    "sns.histplot(train[train.Y_LABEL==1]['FH2O'],color='red', ax=ax,kde=True,bins=150,stat='probability')  \n",
    "# distplot is deprecate and replaced by histplot\n",
    "ax.set_xlim(0,50)\n",
    "ax.set_title('FH2O')"
   ]
  },
  {
   "cell_type": "code",
   "execution_count": null,
   "metadata": {
    "colab": {
     "base_uri": "https://localhost:8080/",
     "height": 404
    },
    "id": "UQmKmu2czd4w",
    "outputId": "67596a4a-60a0-409f-8a5d-9a8d2fd8cebb"
   },
   "outputs": [],
   "source": [
    "fig, ax = plt.subplots()\n",
    "sns.histplot(train.FNOX,color='blue', ax=ax,kde=True,bins=50,stat='probability')\n",
    "sns.histplot(train[train.Y_LABEL==1]['FNOX'],color='red', ax=ax,kde=True,bins=50,stat='probability')  \n",
    "# distplot is deprecate and replaced by histplot\n",
    "ax.set_xlim(0,50)\n",
    "ax.set_title('FNOX')"
   ]
  },
  {
   "cell_type": "markdown",
   "metadata": {
    "id": "H7vJK0AxPn0S"
   },
   "source": [
    "- 최근에 점검했을수록 불량률 떨어진다."
   ]
  },
  {
   "cell_type": "code",
   "execution_count": null,
   "metadata": {
    "colab": {
     "base_uri": "https://localhost:8080/",
     "height": 404
    },
    "id": "zpPkmDivB01R",
    "outputId": "b46fbc93-c209-4e0b-cbca-15201b7847dd"
   },
   "outputs": [],
   "source": [
    "fig, ax = plt.subplots()\n",
    "sns.histplot(train[train.Y_LABEL==0]['YEAR'], ax=ax,color='blue',kde=True)  \n",
    "sns.histplot(train[train.Y_LABEL==1]['YEAR'],color='red', ax=ax,kde=True)  \n",
    "# distplot is deprecate and replaced by histplot\n",
    "\n",
    "ax.set_title('YEAR')"
   ]
  },
  {
   "cell_type": "markdown",
   "metadata": {
    "id": "BLNcv_kYPggG"
   },
   "source": [
    "- CD는 수치가 낮으면 불량일 가능성 존재."
   ]
  },
  {
   "cell_type": "code",
   "execution_count": null,
   "metadata": {
    "colab": {
     "base_uri": "https://localhost:8080/",
     "height": 404
    },
    "id": "N9kUO0BONv1f",
    "outputId": "b6132dac-2e0d-4f7b-c555-39ff42983762"
   },
   "outputs": [],
   "source": [
    "fig, ax = plt.subplots()\n",
    "sns.histplot(train.CD, ax=ax,color='blue',kde=True,bins=300)  \n",
    "sns.histplot(train[train.Y_LABEL==1]['CD'],color='red', ax=ax,kde=True,bins=300)  \n",
    "# distplot is deprecate and replaced by histplot\n",
    "ax.set_xlim(0,1.0)\n",
    "ax.set_ylim(0,5000)\n",
    "\n",
    "ax.set_title('CD')"
   ]
  },
  {
   "cell_type": "code",
   "execution_count": null,
   "metadata": {
    "colab": {
     "base_uri": "https://localhost:8080/"
    },
    "id": "6zGSizZmO9RM",
    "outputId": "eb268e5f-4dea-4380-aa63-e7d32a521d6d"
   },
   "outputs": [],
   "source": [
    "temp.columns"
   ]
  },
  {
   "cell_type": "code",
   "execution_count": null,
   "metadata": {
    "colab": {
     "base_uri": "https://localhost:8080/",
     "height": 404
    },
    "id": "HFSFfmwMO9af",
    "outputId": "76fbaec3-aa35-40d6-f2e7-c24410553aa9"
   },
   "outputs": [],
   "source": [
    "fig, ax = plt.subplots()\n",
    "sns.histplot(train.AL, ax=ax,color='blue',kde=True,bins=1000)  \n",
    "sns.histplot(train[train.Y_LABEL==1]['AL'],color='red', ax=ax,kde=True,bins=1000,stat='probability')  \n",
    "# distplot is deprecate and replaced by histplot\n",
    "ax.set_xlim(0,10)\n",
    "#ax.set_ylim(0,5000)\n",
    "\n",
    "ax.set_title('AL')"
   ]
  },
  {
   "cell_type": "code",
   "execution_count": null,
   "metadata": {
    "colab": {
     "base_uri": "https://localhost:8080/",
     "height": 404
    },
    "id": "0haoEMKeRhIh",
    "outputId": "4aaaf4b7-bda6-4d23-91db-de44826bd291"
   },
   "outputs": [],
   "source": [
    "fig, ax = plt.subplots()\n",
    "sns.histplot(train['H2O'], ax=ax,color='blue',kde=True,bins=100,stat='probability')  \n",
    "sns.histplot(train[train.Y_LABEL==1]['H2O'],color='red', ax=ax,kde=True,bins=100,stat='probability')  \n",
    "# distplot is deprecate and replaced by histplot\n",
    "ax.set_xlim(0,10)\n",
    "ax.set_ylim(0,0.2)\n",
    "\n",
    "ax.set_title('H2O')"
   ]
  },
  {
   "cell_type": "code",
   "execution_count": null,
   "metadata": {
    "colab": {
     "base_uri": "https://localhost:8080/",
     "height": 404
    },
    "id": "cb_oXNMdTQw1",
    "outputId": "cb3da40f-5285-4ae6-ac90-53e4667b6fbf"
   },
   "outputs": [],
   "source": [
    "fig, ax = plt.subplots()\n",
    "sns.histplot(temp['CR'], ax=ax,color='blue',kde=True,bins=10,stat='probability')  \n",
    "sns.histplot(temp[temp.Y_LABEL==1]['CR'],color='red', ax=ax,kde=True,bins=10,stat='probability')  \n",
    "# distplot is deprecate and replaced by histplot\n",
    "ax.set_xlim(0,500)\n",
    "ax.set_ylim(0,5.0)\n",
    "\n",
    "ax.set_title('CR')"
   ]
  },
  {
   "cell_type": "code",
   "execution_count": null,
   "metadata": {
    "colab": {
     "base_uri": "https://localhost:8080/",
     "height": 404
    },
    "id": "BMwF3ZyhVdiC",
    "outputId": "9ce95671-fc3d-49c0-d44c-be6c1f372910"
   },
   "outputs": [],
   "source": [
    "fig, ax = plt.subplots()\n",
    "sns.histplot(np.log(temp['AG']+0.0001), ax=ax,color='blue',kde=True,bins=10,stat='probability')  \n",
    "sns.histplot(np.log(temp[temp.Y_LABEL==1]['AG']+0.0001),color='red', ax=ax,kde=True,bins=10,stat='probability')  \n",
    "# distplot is deprecate and replaced by histplot\n",
    "#ax.set_xlim(0,500)\n",
    "#ax.set_ylim(0,5.0)\n",
    "\n",
    "ax.set_title('AG')"
   ]
  },
  {
   "cell_type": "code",
   "execution_count": null,
   "metadata": {
    "colab": {
     "base_uri": "https://localhost:8080/",
     "height": 404
    },
    "id": "07FpOGDI52ZP",
    "outputId": "baf2ad35-c4f3-4d2d-b5d8-e0cdf27d03b7"
   },
   "outputs": [],
   "source": [
    "fig, ax = plt.subplots()\n",
    "sns.histplot(comp0[comp0.Y_LABEL==0]['SOOTPERCENTAGE'], ax=ax,color='blue',kde=True)  \n",
    "sns.histplot(comp0[comp0.Y_LABEL==1]['SOOTPERCENTAGE'],color='red', ax=ax,kde=True)  \n",
    "# distplot is deprecate and replaced by histplot\n",
    "\n",
    "ax.set_title('SOOTPERCENTAGE')"
   ]
  },
  {
   "cell_type": "code",
   "execution_count": null,
   "metadata": {
    "colab": {
     "base_uri": "https://localhost:8080/",
     "height": 404
    },
    "id": "lSRULCR_67Nm",
    "outputId": "2ecb812d-38b4-4102-c335-063cd8699803"
   },
   "outputs": [],
   "source": [
    "fig, ax = plt.subplots()\n",
    "sns.histplot(train[train.Y_LABEL==0]['V40'], ax=ax,color='blue',kde=True)  \n",
    "sns.histplot(train[train.Y_LABEL==1]['V40'],color='red', ax=ax,kde=True)  \n",
    "# distplot is deprecate and replaced by histplot\n",
    "\n",
    "ax.set_xlim(0,500)\n",
    "\n",
    "ax.set_title('V40')"
   ]
  },
  {
   "cell_type": "code",
   "execution_count": null,
   "metadata": {
    "colab": {
     "base_uri": "https://localhost:8080/",
     "height": 404
    },
    "id": "zQaWHuZf7dw1",
    "outputId": "1a2b9815-9b78-4b09-e68c-62cab4f958ba"
   },
   "outputs": [],
   "source": [
    "fig, ax = plt.subplots()\n",
    "sns.histplot(train[train.Y_LABEL==0]['V100'], ax=ax,color='blue',kde=True)  \n",
    "sns.histplot(train[train.Y_LABEL==1]['V100'],color='red', ax=ax,kde=True)  \n",
    "# distplot is deprecate and replaced by histplot\n",
    "\n",
    "ax.set_xlim(0,60)\n",
    "\n",
    "ax.set_title('V100')"
   ]
  },
  {
   "cell_type": "code",
   "execution_count": null,
   "metadata": {
    "colab": {
     "base_uri": "https://localhost:8080/",
     "height": 371
    },
    "id": "OcXMWMndOUex",
    "outputId": "01721f64-de91-4567-b511-d34be15b602d"
   },
   "outputs": [],
   "source": [
    "train.BE.plot()"
   ]
  },
  {
   "cell_type": "markdown",
   "metadata": {
    "id": "JPahwUg3G61q"
   },
   "source": [
    "- 컬럼별 왜도확인"
   ]
  },
  {
   "cell_type": "code",
   "execution_count": null,
   "metadata": {
    "id": "B5Q8gep1HUo_"
   },
   "outputs": [],
   "source": [
    "int32_col=list(train.columns[train.dtypes=='int32'])\n",
    "float32_col=list(train.columns[train.dtypes=='float32'])"
   ]
  },
  {
   "cell_type": "code",
   "execution_count": null,
   "metadata": {
    "id": "zvbvFsyjHUpA"
   },
   "outputs": [],
   "source": [
    "num_val=int32_col +float32_col"
   ]
  },
  {
   "cell_type": "code",
   "execution_count": null,
   "metadata": {
    "id": "CK64IJyaaKxx"
   },
   "outputs": [],
   "source": [
    "tmp = ['YEAR','Y_LABEL']\n",
    "num_val = [x for x in num_val if x not in tmp]"
   ]
  },
  {
   "cell_type": "code",
   "execution_count": null,
   "metadata": {
    "id": "FJ-i-Dnfbuz0"
   },
   "outputs": [],
   "source": [
    "test_num_col=list(test.columns[(test.columns !='YEAR') & (test.columns !='COMPONENT_ARBITRARY') ])"
   ]
  },
  {
   "cell_type": "code",
   "execution_count": null,
   "metadata": {
    "id": "y2yNbkOuG9nk"
   },
   "outputs": [],
   "source": [
    "from scipy.stats import skew, kurtosis,boxcox\n",
    "\n",
    "skew_num_val=[]\n",
    "for i in test_num_col:\n",
    "  \n",
    "  print(i,\" : \",skew((temp[i])))\n",
    "  if abs(skew(temp[i]))>1:\n",
    "\n",
    "    skew_num_val.append(i)\n",
    "\n"
   ]
  },
  {
   "cell_type": "markdown",
   "metadata": {
    "id": "nbjI8laksBvP"
   },
   "source": [
    "- 상관계수 분석 (다중공선성 제거를 위한)"
   ]
  },
  {
   "cell_type": "code",
   "execution_count": null,
   "metadata": {
    "id": "XZXvJTSj8orJ"
   },
   "outputs": [],
   "source": [
    "train.corr(method='pearson')"
   ]
  },
  {
   "cell_type": "code",
   "execution_count": null,
   "metadata": {
    "colab": {
     "base_uri": "https://localhost:8080/",
     "height": 1000
    },
    "id": "xfXWeM0Wsvhs",
    "outputId": "2325604d-08b6-409b-89d8-1d78e5d66b7c"
   },
   "outputs": [],
   "source": [
    "train.corr()"
   ]
  },
  {
   "cell_type": "code",
   "execution_count": null,
   "metadata": {
    "colab": {
     "base_uri": "https://localhost:8080/",
     "height": 678
    },
    "id": "TgKtlaWatYgF",
    "outputId": "0aa207cf-69cf-4909-952e-1762270af751"
   },
   "outputs": [],
   "source": [
    "test.corr()"
   ]
  },
  {
   "cell_type": "code",
   "execution_count": null,
   "metadata": {
    "id": "sDSaLgciSNkZ"
   },
   "outputs": [],
   "source": [
    "temp1=train.copy()"
   ]
  },
  {
   "cell_type": "code",
   "execution_count": null,
   "metadata": {
    "colab": {
     "base_uri": "https://localhost:8080/"
    },
    "id": "8znzHGT_S5Ab",
    "outputId": "d3ef1872-87bf-47cd-c38d-1d15c446fa5e"
   },
   "outputs": [],
   "source": [
    "temp1.columns"
   ]
  },
  {
   "cell_type": "code",
   "execution_count": null,
   "metadata": {
    "id": "uf0sDpc1VxpP"
   },
   "outputs": [],
   "source": [
    "train.columns\n",
    "\n",
    "num_val = [x for x in train.columns if x not in temp1.columns]"
   ]
  },
  {
   "cell_type": "code",
   "execution_count": null,
   "metadata": {
    "colab": {
     "base_uri": "https://localhost:8080/"
    },
    "id": "D148biI9dWgC",
    "outputId": "23bae3c7-6664-4bf0-c29d-3dfaa8672560"
   },
   "outputs": [],
   "source": [
    "num_val"
   ]
  },
  {
   "cell_type": "markdown",
   "metadata": {
    "id": "Ek-1HRFbQHSw"
   },
   "source": [
    "# Corr"
   ]
  },
  {
   "cell_type": "code",
   "execution_count": null,
   "metadata": {
    "colab": {
     "base_uri": "https://localhost:8080/",
     "height": 488
    },
    "id": "SIY9nhumCJ9V",
    "outputId": "78d77c21-a12a-41b3-aee2-2579f231a793"
   },
   "outputs": [],
   "source": [
    "temp"
   ]
  },
  {
   "cell_type": "code",
   "execution_count": null,
   "metadata": {
    "id": "eoPmgnRKZcz6"
   },
   "outputs": [],
   "source": [
    "temp1 =temp.copy()"
   ]
  },
  {
   "cell_type": "code",
   "execution_count": null,
   "metadata": {
    "colab": {
     "base_uri": "https://localhost:8080/",
     "height": 1000
    },
    "id": "FnmmLJ8osEWz",
    "outputId": "7c5ebea5-cb7d-4d61-e51e-031c12e38c46"
   },
   "outputs": [],
   "source": [
    "data = temp.corr()\n",
    "# 그림 사이즈 지정\n",
    "fig, ax = plt.subplots( figsize=(100,100) )\n",
    "\n",
    "# 삼각형 마스크를 만든다(위 쪽 삼각형에 True, 아래 삼각형에 False)\n",
    "mask = np.zeros_like(data, dtype=np.bool)\n",
    "mask[np.triu_indices_from(mask)] = True\n",
    "\n",
    "# 히트맵을 그린다\n",
    "sns.heatmap(data, \n",
    "            cmap = 'RdYlBu_r', \n",
    "            annot = True,   # 실제 값을 표시한다\n",
    "            mask=mask,      # 표시하지 않을 마스크 부분을 지정한다\n",
    "            linewidths=.5,  # 경계면 실선으로 구분하기\n",
    "            cbar_kws={\"shrink\": .5},# 컬러바 크기 절반으로 줄이기\n",
    "            vmin = -1,vmax = 1   # 컬러바 범위 -1 ~ 1\n",
    "           )\n",
    "plt.title('0.5<coef_variables_onTest\\n',fontsize=30)  \n",
    "plt.show()"
   ]
  },
  {
   "cell_type": "code",
   "execution_count": null,
   "metadata": {
    "colab": {
     "base_uri": "https://localhost:8080/"
    },
    "id": "SIfG-qokZw3Q",
    "outputId": "cff1308a-ebe5-4fc0-f591-ba9780c6a927"
   },
   "outputs": [],
   "source": [
    "temp.columns"
   ]
  },
  {
   "cell_type": "code",
   "execution_count": null,
   "metadata": {
    "id": "lzuUG2XkZkIi"
   },
   "outputs": [],
   "source": [
    "temp.drop(['V100','ZN'],axis=1,inplace=True)"
   ]
  },
  {
   "cell_type": "code",
   "execution_count": null,
   "metadata": {
    "id": "IIZZLvFEsmKE"
   },
   "outputs": [],
   "source": [
    "temp.drop('S',axis=1,inplace=True)"
   ]
  },
  {
   "cell_type": "code",
   "execution_count": null,
   "metadata": {
    "id": "_VMHa2q-aNLa"
   },
   "outputs": [],
   "source": [
    "temp.drop('V',axis=1,inplace=True) #,'S'"
   ]
  },
  {
   "cell_type": "code",
   "execution_count": null,
   "metadata": {
    "id": "JQWzJoB-ZkIj"
   },
   "outputs": [],
   "source": [
    "test.drop(['ZN'],axis=1,inplace=True)"
   ]
  },
  {
   "cell_type": "code",
   "execution_count": null,
   "metadata": {
    "id": "LJbyD7H8aRht"
   },
   "outputs": [],
   "source": [
    "test.drop(['V'],axis=1,inplace=True)"
   ]
  },
  {
   "cell_type": "code",
   "execution_count": null,
   "metadata": {
    "id": "459xCU7TahiJ"
   },
   "outputs": [],
   "source": [
    "temp.drop('MN',axis=1,inplace=True)"
   ]
  },
  {
   "cell_type": "code",
   "execution_count": null,
   "metadata": {
    "id": "oXrGsWOSahiK"
   },
   "outputs": [],
   "source": [
    "test.drop(['MN'],axis=1,inplace=True)"
   ]
  },
  {
   "cell_type": "code",
   "execution_count": null,
   "metadata": {
    "id": "FXr6EVKWZkIk"
   },
   "outputs": [],
   "source": [
    "temp.drop(['SOOTPERCENTAGE'],axis=1,inplace=True)"
   ]
  },
  {
   "cell_type": "code",
   "execution_count": null,
   "metadata": {
    "id": "rKQG7xRiZkIl"
   },
   "outputs": [],
   "source": [
    "temp.drop('FNOX',axis=1,inplace=True)"
   ]
  },
  {
   "cell_type": "code",
   "execution_count": null,
   "metadata": {
    "id": "N_brg9ECZkIl"
   },
   "outputs": [],
   "source": [
    "temp.drop('FOXID',axis=1,inplace=True)"
   ]
  },
  {
   "cell_type": "code",
   "execution_count": null,
   "metadata": {
    "id": "kFsDgi9tZkIl"
   },
   "outputs": [],
   "source": [
    "temp.drop('FSO4',axis=1,inplace=True)"
   ]
  },
  {
   "cell_type": "markdown",
   "metadata": {
    "id": "Cr9wpyx_Pjrz"
   },
   "source": [
    "결측치가 없는 Test셋에서는.\n",
    "\n",
    " - MN & FE ( 0.72)\n",
    " - NI & FE ( 0.59)\n",
    " - NI & CU ( 0.69)\n",
    " - NI & MN ( 0.54)\n",
    " - TI & MN ( 0.58)\n",
    " - V  & TI (0.73) \n",
    " - FE & CO ( 0.59)\n"
   ]
  },
  {
   "cell_type": "code",
   "execution_count": null,
   "metadata": {
    "colab": {
     "base_uri": "https://localhost:8080/",
     "height": 811
    },
    "id": "xtVytF4TP5au",
    "outputId": "54d9df34-c176-4371-b46e-17e5ff0a8708"
   },
   "outputs": [],
   "source": [
    "data = train[test.columns].corr()\n",
    "# 그림 사이즈 지정\n",
    "fig, ax = plt.subplots( figsize=(15,15) )\n",
    "\n",
    "# 삼각형 마스크를 만든다(위 쪽 삼각형에 True, 아래 삼각형에 False)\n",
    "mask = np.zeros_like(data, dtype=np.bool)\n",
    "mask[np.triu_indices_from(mask)] = True\n",
    "\n",
    "# 히트맵을 그린다\n",
    "sns.heatmap(data[abs(data)>0.5], \n",
    "            cmap = 'RdYlBu_r', \n",
    "            annot = True,   # 실제 값을 표시한다\n",
    "            mask=mask,      # 표시하지 않을 마스크 부분을 지정한다\n",
    "            linewidths=.5,  # 경계면 실선으로 구분하기\n",
    "            cbar_kws={\"shrink\": .5},# 컬러바 크기 절반으로 줄이기\n",
    "            vmin = -1,vmax = 1   # 컬러바 범위 -1 ~ 1\n",
    "           )\n",
    "plt.title('0.5<coef_variables_onTrain(Test_col)\\n',fontsize=30)  \n",
    "plt.show()"
   ]
  },
  {
   "cell_type": "markdown",
   "metadata": {
    "id": "ZpJhmpiESqb5"
   },
   "source": [
    "결측치가 있는 Train셋에서는.\n",
    "\n",
    " - MN & FE ( 0.62)\n",
    " - NI & FE ( 0.58)\n",
    "\n",
    " - NI & MN ( 0.53)\n",
    " - TI & MN ( 0.59)\n",
    " - V  & TI (0.68) \n",
    " - FE & CO ( 0.54)\n",
    "\n",
    " \n",
    "\n",
    "---\n",
    "NI & CU 높은 상관관계가 사라짐.\n",
    "\n",
    "-> 결측치를 제거 (iterative or knn) 한 후에\n",
    "test분포와 비교해봄으로써, 합리적인 대체인지 확인한다. \n"
   ]
  },
  {
   "cell_type": "code",
   "execution_count": null,
   "metadata": {
    "colab": {
     "base_uri": "https://localhost:8080/",
     "height": 813
    },
    "id": "vU7EB083XK-w",
    "outputId": "b74012a7-3b84-4c7d-87f5-c0a350164dcb"
   },
   "outputs": [],
   "source": [
    "data = train.corr()\n",
    "# 그림 사이즈 지정\n",
    "fig, ax = plt.subplots( figsize=(30,30) )\n",
    "\n",
    "# 삼각형 마스크를 만든다(위 쪽 삼각형에 True, 아래 삼각형에 False)\n",
    "mask = np.zeros_like(data, dtype=np.bool)\n",
    "mask[np.triu_indices_from(mask)] = True\n",
    "\n",
    "# 히트맵을 그린다\n",
    "sns.heatmap(data[abs(data)>0.5], \n",
    "            cmap = 'RdYlBu_r', \n",
    "            annot = True,   # 실제 값을 표시한다\n",
    "            \n",
    "            mask=mask,      # 표시하지 않을 마스크 부분을 지정한다\n",
    "            linewidths=.5,  # 경계면 실선으로 구분하기\n",
    "            cbar_kws={\"shrink\": .5},# 컬러바 크기 절반으로 줄이기\n",
    "            vmin = -1,vmax = 1   # 컬러바 범위 -1 ~ 1\n",
    "           )\n",
    "plt.title('0.5<coef_variables_onTrain(ALL)\\n',fontsize=30)  \n",
    "plt.show()"
   ]
  },
  {
   "cell_type": "code",
   "execution_count": null,
   "metadata": {
    "colab": {
     "base_uri": "https://localhost:8080/"
    },
    "id": "aTzZ5vS9jnVZ",
    "outputId": "618a40da-cdd0-450f-8724-4396521d413e"
   },
   "outputs": [],
   "source": [
    "print(train[train['COMPONENT_ARBITRARY']==3].isnull().sum())\n",
    "train_c0=train[train['COMPONENT_ARBITRARY']==3]\n",
    "print(train_c0.shape)"
   ]
  },
  {
   "cell_type": "code",
   "execution_count": null,
   "metadata": {
    "colab": {
     "base_uri": "https://localhost:8080/"
    },
    "id": "0K2rhs60nLdV",
    "outputId": "cc28a50f-2ed7-4f0a-83d3-522fb801c171"
   },
   "outputs": [],
   "source": [
    "train_c0[train_c0['Y_LABEL']==1].isnull().sum()"
   ]
  },
  {
   "cell_type": "code",
   "execution_count": null,
   "metadata": {
    "colab": {
     "base_uri": "https://localhost:8080/"
    },
    "id": "gFAUrWgGouLM",
    "outputId": "2ab55c41-f6fd-4b00-825a-1103953df32a"
   },
   "outputs": [],
   "source": [
    "train_c0.FH2O"
   ]
  },
  {
   "cell_type": "markdown",
   "metadata": {
    "id": "_1P-AMkKwqbR"
   },
   "source": [
    "- Isolation_Forest를 통한 이상치 탐지."
   ]
  },
  {
   "cell_type": "code",
   "execution_count": null,
   "metadata": {
    "colab": {
     "base_uri": "https://localhost:8080/",
     "height": 488
    },
    "id": "R68uHIXu3meW",
    "outputId": "f3c20af6-073a-4b60-bb99-d182a59e7f0c"
   },
   "outputs": [],
   "source": [
    "comp2"
   ]
  },
  {
   "cell_type": "code",
   "execution_count": null,
   "metadata": {
    "colab": {
     "base_uri": "https://localhost:8080/",
     "height": 488
    },
    "id": "Bfy2Z8jk31bq",
    "outputId": "de286e17-257d-44f1-d3c1-d37ba86c1b8b"
   },
   "outputs": [],
   "source": [
    "comp2"
   ]
  },
  {
   "cell_type": "markdown",
   "metadata": {
    "id": "pegr5jx1i8C9"
   },
   "source": [
    "# 결측치 처리하기."
   ]
  },
  {
   "cell_type": "code",
   "execution_count": null,
   "metadata": {
    "id": "tiUFizFwkOnf"
   },
   "outputs": [],
   "source": [
    "from sklearn.impute import KNNImputer\n",
    "from sklearn.experimental import enable_iterative_imputer\n",
    "from sklearn.impute import IterativeImputer"
   ]
  },
  {
   "cell_type": "code",
   "execution_count": null,
   "metadata": {
    "colab": {
     "base_uri": "https://localhost:8080/",
     "height": 394
    },
    "id": "6mNHaKIhi41g",
    "outputId": "f8408f24-a1e7-4a56-e359-7b1153166625"
   },
   "outputs": [],
   "source": [
    "train.describe()"
   ]
  },
  {
   "cell_type": "markdown",
   "metadata": {
    "id": "5XA0fmOqkVRQ"
   },
   "source": [
    "- 간단한 샘플 결과제출을 위한 knn_imputer적용 "
   ]
  },
  {
   "cell_type": "code",
   "execution_count": null,
   "metadata": {
    "id": "OBehVunZlAlZ"
   },
   "outputs": [],
   "source": [
    "train=train.drop('ID',axis=1) # 필요없는 ID제거.\n",
    "test=test.drop('ID',axis=1)"
   ]
  },
  {
   "cell_type": "markdown",
   "metadata": {
    "id": "eT8J53I9BGnl"
   },
   "source": [
    "- 좀더 합리적인 결측치처리가 필요함. "
   ]
  },
  {
   "cell_type": "code",
   "execution_count": null,
   "metadata": {
    "id": "JIegJDfj8iPN"
   },
   "outputs": [],
   "source": [
    "comp0=comp0.drop('ID',axis=1)\n",
    "comp1=comp1.drop('ID',axis=1)\n",
    "comp2=comp2.drop('ID',axis=1)\n",
    "comp3=comp3.drop('ID',axis=1)"
   ]
  },
  {
   "cell_type": "markdown",
   "metadata": {
    "id": "sHlvzLWL7Bx3"
   },
   "source": [
    "- knn_imputer"
   ]
  },
  {
   "cell_type": "code",
   "execution_count": null,
   "metadata": {
    "id": "Y9Be3Jbk1_Pz"
   },
   "outputs": [],
   "source": [
    "zero_fill = ['FH2O','FNOX','FOXID','FSO4','FOPTIMETHGLY','FTBN','FUEL','SOOTPERCENTAGE','U100','U75','U50','U25','U20']\n",
    "for i in zero_fill:\n",
    "  \n",
    "  comp0[i]=comp0[i].fillna(0)\n",
    "  comp1[i]=comp1[i].fillna(0)\n",
    "  comp2[i]=comp2[i].fillna(0)\n",
    "  comp3[i]=comp3[i].fillna(0)\n"
   ]
  },
  {
   "cell_type": "code",
   "execution_count": null,
   "metadata": {
    "id": "vU53zfwY4fu4"
   },
   "outputs": [],
   "source": [
    "zero_fill1=['U14','U6','U4']\n",
    "\n",
    "for i in zero_fill1:\n",
    "   comp0[i]=comp0[i].fillna(0)\n",
    "   comp2[i]=comp2[i].fillna(0)\n",
    "   comp3[i]=comp3[i].fillna(0)\n",
    "\n",
    "  "
   ]
  },
  {
   "cell_type": "code",
   "execution_count": null,
   "metadata": {
    "id": "IUCyVtWH6q6r"
   },
   "outputs": [],
   "source": [
    "comp1['V100']=comp1['V100'].fillna(0)\n",
    "comp2['V100']=comp2['V100'].fillna(0)\n",
    "comp3['V100']=comp3['V100'].fillna(0)"
   ]
  },
  {
   "cell_type": "code",
   "execution_count": null,
   "metadata": {
    "colab": {
     "base_uri": "https://localhost:8080/"
    },
    "id": "KSULtVCHGAO3",
    "outputId": "1232afe0-0ab0-4ea8-a040-2bedc3c23c8e"
   },
   "outputs": [],
   "source": [
    "train.columns"
   ]
  },
  {
   "cell_type": "code",
   "execution_count": null,
   "metadata": {
    "colab": {
     "base_uri": "https://localhost:8080/",
     "height": 488
    },
    "id": "mnHfWLGokM1s",
    "outputId": "de013616-1bdf-4284-a36e-186b99a3c611"
   },
   "outputs": [],
   "source": [
    "\n",
    "\n",
    "imputer = KNNImputer(n_neighbors=2)\n",
    "data_imputed=imputer.fit_transform(comp0)\n",
    "comp0=pd.DataFrame(data_imputed)\n",
    "comp0.columns=train.columns\n",
    "\n",
    "imputer = KNNImputer(n_neighbors=2)\n",
    "data_imputed=imputer.fit_transform(comp1)\n",
    "comp1=pd.DataFrame(data_imputed)\n",
    "comp1.columns=train.columns\n",
    "\n",
    "imputer = KNNImputer(n_neighbors=2)\n",
    "data_imputed=imputer.fit_transform(comp2)\n",
    "comp2=pd.DataFrame(data_imputed)\n",
    "comp2.columns=train.columns\n",
    "\n",
    "imputer = KNNImputer(n_neighbors=2)\n",
    "data_imputed=imputer.fit_transform(comp3)\n",
    "comp3=pd.DataFrame(data_imputed)\n",
    "comp3.columns=train.columns\n",
    "\n",
    "\n",
    "temp=pd.concat([comp0,comp1,comp2,comp3])\n",
    "temp"
   ]
  },
  {
   "cell_type": "code",
   "execution_count": null,
   "metadata": {
    "colab": {
     "base_uri": "https://localhost:8080/"
    },
    "id": "VG3AKYUX9G-o",
    "outputId": "bd6cda03-3dce-4e4a-9235-6839145f60a2"
   },
   "outputs": [],
   "source": [
    "temp.isnull().sum()"
   ]
  },
  {
   "cell_type": "markdown",
   "metadata": {
    "id": "FeT1ZHK7A8iD"
   },
   "source": [
    "- YEAR , COMPONENT_ARBITRARY, Y_LABEL \n",
    "INT형으로 변환"
   ]
  },
  {
   "cell_type": "code",
   "execution_count": null,
   "metadata": {
    "id": "no6vfcTBnGnH"
   },
   "outputs": [],
   "source": [
    "temp[['YEAR','COMPONENT_ARBITRARY','Y_LABEL']]=temp[['YEAR','COMPONENT_ARBITRARY','Y_LABEL']].astype('int')"
   ]
  },
  {
   "cell_type": "code",
   "execution_count": null,
   "metadata": {
    "id": "WRefDQKFnVFG"
   },
   "outputs": [],
   "source": [
    "test[['YEAR','COMPONENT_ARBITRARY']]=test[['YEAR','COMPONENT_ARBITRARY']].astype('int')"
   ]
  },
  {
   "cell_type": "markdown",
   "metadata": {
    "id": "wS-XIIHs7HF1"
   },
   "source": [
    "- simple_imputer (중앙값 대치)"
   ]
  },
  {
   "cell_type": "code",
   "execution_count": null,
   "metadata": {
    "id": "InLC2cEH7JTm"
   },
   "outputs": [],
   "source": [
    "from sklearn.impute import SimpleImputer\n",
    "\n",
    "# 중간값으로 Imputer 선언\n",
    "imputer_mid = SimpleImputer(strategy='median')\n",
    "imputer_mid.fit(train)\n",
    "data_imputed=imputer_mid.transform(train)\n",
    "temp=pd.DataFrame(data_imputed)"
   ]
  },
  {
   "cell_type": "markdown",
   "metadata": {
    "id": "p2F4NVqAYn6p"
   },
   "source": [
    "- iterative_imputer"
   ]
  },
  {
   "cell_type": "code",
   "execution_count": null,
   "metadata": {
    "colab": {
     "base_uri": "https://localhost:8080/"
    },
    "id": "ADGg2uPEYqDE",
    "outputId": "da11e62c-a651-4470-a0f0-bfdf44f593df"
   },
   "outputs": [],
   "source": [
    "imputer_it = IterativeImputer(max_iter = 30, random_state = 0)\n",
    "data_imputed=imputer_it.fit_transform(train)\n",
    "temp=pd.DataFrame(data_imputed)"
   ]
  },
  {
   "cell_type": "markdown",
   "metadata": {
    "id": "0YvX5OfKwSdo"
   },
   "source": [
    "# Isolation Forest"
   ]
  },
  {
   "cell_type": "code",
   "execution_count": null,
   "metadata": {
    "id": "RXUt1welwqId"
   },
   "outputs": [],
   "source": [
    "from sklearn.ensemble import IsolationForest"
   ]
  },
  {
   "cell_type": "code",
   "execution_count": null,
   "metadata": {
    "id": "WpXzz_MQAied"
   },
   "outputs": [],
   "source": [
    "comp_list= [ comp0,comp1,comp2,comp3]\n",
    "c_n0=comp0[comp0.Y_LABEL==0]\n",
    "c_n1=comp1[comp1.Y_LABEL==0]\n",
    "c_n2=comp2[comp2.Y_LABEL==0]\n",
    "c_n3=comp3[comp3.Y_LABEL==0]\n",
    "\n",
    "c_an0=comp0[comp0.Y_LABEL==1]\n",
    "c_an1=comp1[comp1.Y_LABEL==1]\n",
    "c_an2=comp2[comp2.Y_LABEL==1]\n",
    "c_an3=comp3[comp3.Y_LABEL==1]\n",
    "\n",
    "comp_normal =[c_n0,c_n1,c_n2,c_n3]\n",
    "comp_abnormal =[c_an0,c_an1,c_an2,c_an3]\n"
   ]
  },
  {
   "cell_type": "markdown",
   "metadata": {
    "id": "SZbcRU0B15LN"
   },
   "source": [
    "- 정상데이터 이상치 제거."
   ]
  },
  {
   "cell_type": "code",
   "execution_count": null,
   "metadata": {
    "colab": {
     "base_uri": "https://localhost:8080/"
    },
    "id": "ISAQCkylxDHd",
    "outputId": "c101ed58-dfe2-46c1-aed4-d4be5eac20cd"
   },
   "outputs": [],
   "source": [
    "for com in comp_normal:\n",
    "  model=IsolationForest(n_estimators=400, max_samples='auto', n_jobs=-1,\n",
    "                      max_features=2, contamination=0.01,random_state=6)\n",
    "  model.fit(com.to_numpy())\n",
    "  score = model.decision_function(com.to_numpy())\n",
    "  anomaly = model.predict(com.to_numpy())\n",
    "  \n",
    "  com['anomaly']= anomaly\n",
    "  anomaly_data = com.loc[com['anomaly']==-1] # 이상값은 -1으로 나타낸다.\n",
    "  anomaly_data"
   ]
  },
  {
   "cell_type": "code",
   "execution_count": null,
   "metadata": {
    "colab": {
     "base_uri": "https://localhost:8080/"
    },
    "id": "FrdSRZWm3MkJ",
    "outputId": "7ac6d55e-019b-4602-8966-9bdd7c8073e0"
   },
   "outputs": [],
   "source": [
    "c_n0.columns"
   ]
  },
  {
   "cell_type": "code",
   "execution_count": null,
   "metadata": {
    "id": "Zb6GANxv2vte"
   },
   "outputs": [],
   "source": [
    "c_n0=c_n0.drop(index=c_n0[c_n0['anomaly']==-1].index,axis=0)\n",
    "c_n1=c_n1.drop(index=c_n1[c_n1['anomaly']==-1].index,axis=0)\n",
    "c_n2=c_n2.drop(index=c_n2[c_n2['anomaly']==-1].index,axis=0)\n",
    "c_n3=c_n3.drop(index=c_n3[c_n3['anomaly']==-1].index,axis=0)"
   ]
  },
  {
   "cell_type": "code",
   "execution_count": null,
   "metadata": {
    "id": "Sv7w61Sy13LD"
   },
   "outputs": [],
   "source": [
    "c_n0=c_n0.drop('anomaly',axis=1)\n",
    "c_n1=c_n1.drop('anomaly',axis=1)\n",
    "c_n2=c_n2.drop('anomaly',axis=1)\n",
    "c_n3=c_n3.drop('anomaly',axis=1)"
   ]
  },
  {
   "cell_type": "markdown",
   "metadata": {
    "id": "-R9v22sY2Evx"
   },
   "source": [
    "- 비정상데이터 이상치제거."
   ]
  },
  {
   "cell_type": "code",
   "execution_count": null,
   "metadata": {
    "colab": {
     "base_uri": "https://localhost:8080/"
    },
    "id": "W95Nvwiq1dF2",
    "outputId": "6c1e896a-bc39-4e7f-f4d3-efb3d12e4cdb"
   },
   "outputs": [],
   "source": [
    "for com in comp_abnormal:\n",
    "\n",
    "\n",
    "  model=IsolationForest(n_estimators=400, max_samples='auto', n_jobs=-1,\n",
    "                      max_features=2, contamination=0.01,random_state=3)\n",
    "  model.fit(com.to_numpy())\n",
    "  score = model.decision_function(com.to_numpy())\n",
    "  anomaly = model.predict(com.to_numpy())\n",
    "  \n",
    "  com['anomaly']= anomaly\n",
    "  anomaly_data = com.loc[com['anomaly']==-1] # 이상값은 -1으로 나타낸다.\n",
    "  anomaly_data"
   ]
  },
  {
   "cell_type": "code",
   "execution_count": null,
   "metadata": {
    "id": "nZzs2ZKF1lqb"
   },
   "outputs": [],
   "source": [
    "c_an0=c_an0.drop(index=c_an0[c_an0['anomaly']==-1].index,axis=0)\n",
    "c_an1=c_an1.drop(index=c_an1[c_an1['anomaly']==-1].index,axis=0)\n",
    "c_an2=c_an2.drop(index=c_an2[c_an2['anomaly']==-1].index,axis=0)\n",
    "c_an3=c_an3.drop(index=c_an3[c_an3['anomaly']==-1].index,axis=0)"
   ]
  },
  {
   "cell_type": "code",
   "execution_count": null,
   "metadata": {
    "id": "yA2XWd5V1vcz"
   },
   "outputs": [],
   "source": [
    "c_an0=c_an0.drop('anomaly',axis=1)\n",
    "c_an1=c_an1.drop('anomaly',axis=1)\n",
    "c_an2=c_an2.drop('anomaly',axis=1)\n",
    "c_an3=c_an3.drop('anomaly',axis=1)"
   ]
  },
  {
   "cell_type": "code",
   "execution_count": null,
   "metadata": {
    "id": "AcTnXVwNPtBE"
   },
   "outputs": [],
   "source": [
    "temp=pd.concat([c_n0,c_an0,c_n1,c_an1,c_n2,c_an2,c_n3,c_an3],axis=0)"
   ]
  },
  {
   "cell_type": "code",
   "execution_count": null,
   "metadata": {
    "colab": {
     "base_uri": "https://localhost:8080/"
    },
    "id": "OUkrfQLXQesX",
    "outputId": "41efbbbe-1fdc-411b-9664-7f5dfb7c0b03"
   },
   "outputs": [],
   "source": [
    "temp.isnull().sum()"
   ]
  },
  {
   "cell_type": "code",
   "execution_count": null,
   "metadata": {
    "colab": {
     "base_uri": "https://localhost:8080/"
    },
    "id": "3Kt3H3HOyAO5",
    "outputId": "270ea9ba-36c0-4c3f-91b8-67ecfeda2c07"
   },
   "outputs": [],
   "source": [
    "temp.shape"
   ]
  },
  {
   "cell_type": "markdown",
   "metadata": {
    "id": "SPCQQYfqbkIi"
   },
   "source": [
    "# Simple_profile ( x)"
   ]
  },
  {
   "cell_type": "code",
   "execution_count": null,
   "metadata": {
    "id": "lJBxKWCKzLkO"
   },
   "outputs": [],
   "source": [
    "from pandas_profiling import ProfileReport"
   ]
  },
  {
   "cell_type": "code",
   "execution_count": null,
   "metadata": {
    "id": "KWkdYuL5zdJO"
   },
   "outputs": [],
   "source": [
    "profile = ProfileReport(train)"
   ]
  },
  {
   "cell_type": "code",
   "execution_count": null,
   "metadata": {
    "colab": {
     "base_uri": "https://localhost:8080/",
     "height": 169,
     "referenced_widgets": [
      "0e433fe83dd24d33b9f6cd16649243c5",
      "0dff712ee0114affb0d75b74104c52c6",
      "640e61fd16884dfe9caf69c63813b598",
      "52e6e4ecb6d34a77b4763c63d7127d55",
      "f784db6f45c647b299aadb6984a9d8cf",
      "befa706b4de14e238846532fbb9f4ae5",
      "6b9e52b151da478882c1eab0d8b5739c",
      "f6b21eeb68834253bd7a9c221629c9e6",
      "49f5c3c651184908be7c9e112e4a0220",
      "797719294d32430a9c948500efae813d",
      "8971e2c75e3c4df4ab426ba735c7ad4c",
      "cc471a068aaf4bf6b8df2b977a13e04f",
      "19a2af58d0d44c068f178fdd7f2876f9",
      "989b6a7e0c604d35b79b8f6f846aa4a7",
      "08e6c190c833447bb0cf4e313290723f",
      "4935518981884b7ea71fe5bf50a960cf",
      "03b340c229c947da997d22f4eee79e17",
      "977eb8dbb83e40bfaf734ed5c41efacf",
      "f0d7a06bd5844feeb69b6ef7dc42a9f3",
      "99c57d2f731a45faaee9de88d411b4c9",
      "5e665a296e4e4eacb02c7a01841adb2f",
      "6b8a752499c348108e0fd9528475bea3",
      "5d292c2653cb46d7a335e47ab1240d72",
      "18648f6532314cde8397a6df32403f53",
      "f0f433ddc6eb4ec8a2b8f6e97d1aedb1",
      "e5788dcaebbe4bacadae53f9e2c5f59d",
      "d25ee0c6c6e84405a13036c93db1c399",
      "58a4abc727e5498fb487f1ceeb9a124e",
      "5422d3b60b244d03a938a3c38478155c",
      "ad21f2a9e00d4a3f8702745c0a389871",
      "de9f28e59e9847e2a789a5c091e6816d",
      "3cba9c31555b4b959592f1ca8e7014dd",
      "3c4705c800eb4f2e844c4c3c2ebb7070"
     ]
    },
    "id": "WukJwfRWzhlU",
    "outputId": "6e201d7e-a0c4-4136-d803-04980ff9bb02"
   },
   "outputs": [],
   "source": [
    "profile.to_notebook_iframe()"
   ]
  },
  {
   "cell_type": "code",
   "execution_count": null,
   "metadata": {
    "colab": {
     "base_uri": "https://localhost:8080/",
     "height": 49,
     "referenced_widgets": [
      "abfafb94cb574835ac388cefe3cea5ef",
      "f31b86d61b5247c58e2cf2ce48e31396",
      "7810bfab15d6485da68b9062b456a4a0",
      "071f52cfc6d841a8b415aaf4c8fa78c9",
      "7ad2fdb28eb74464b967499406c278a6",
      "c711927fc0164bfbaadba8dd125f60df",
      "4e3926c419f8420c9036d5789f907462",
      "c3f0814f1b3843be8947c53dabb60c40",
      "9d24937a4edd4016836d6de1aec43fe9",
      "c5cbebec12494107a3234f1192071acd",
      "c6e0e71d77ef415b944a175fc911053a"
     ]
    },
    "id": "_46kE6YKdVM-",
    "outputId": "632d02ab-0b62-4dd4-d601-1da3b4bb71fa"
   },
   "outputs": [],
   "source": [
    "profile.to_file(output_file=\"train_profiling.html\") # html"
   ]
  },
  {
   "cell_type": "markdown",
   "metadata": {
    "id": "TxYLV4Y5MP0c"
   },
   "source": [
    "# U(입자크기관련 컬럼들 범위조정을 통한 공선성 없애기.)"
   ]
  },
  {
   "cell_type": "code",
   "execution_count": null,
   "metadata": {
    "id": "q66yyfTyJb8L"
   },
   "outputs": [],
   "source": [
    "comp1.U4=comp1.U4-comp1.U6\n",
    "comp1.U6=comp1.U6-comp1.U14\n",
    "comp1.U14=comp1.U14-comp1.U20\n",
    "comp1.U20=comp1.U20-comp1.U25\n",
    "comp1.U25=comp1.U25-comp1.U50\n",
    "comp1.U50=comp1.U50-comp1.U75\n",
    "comp1.U75=comp1.U75-comp1.U100"
   ]
  },
  {
   "cell_type": "markdown",
   "metadata": {
    "id": "b5vZ1LgWoCdV"
   },
   "source": [
    "#Scaling ( MinMax Scaler | Quantile| Power(BOXCOX)"
   ]
  },
  {
   "cell_type": "markdown",
   "metadata": {
    "id": "MRW6K2qjBPoE"
   },
   "source": [
    "- test데이터의 18개 컬럼에대한 스케일링을 먼저 진행"
   ]
  },
  {
   "cell_type": "markdown",
   "metadata": {
    "id": "9a5lqX-YBZ2r"
   },
   "source": [
    "  - YEAR , COMPONENT_ARBITRARY는 스케일링 컬럼에서 제외시켜주기."
   ]
  },
  {
   "cell_type": "code",
   "execution_count": null,
   "metadata": {
    "colab": {
     "base_uri": "https://localhost:8080/"
    },
    "id": "B8w1q9A-a9vi",
    "outputId": "04459018-d869-4e50-ef0d-758e58b04379"
   },
   "outputs": [],
   "source": [
    "temp.columns"
   ]
  },
  {
   "cell_type": "code",
   "execution_count": null,
   "metadata": {
    "id": "rPusUOt9pQ8C"
   },
   "outputs": [],
   "source": [
    "test_num_col=list(test.columns[(test.columns !='YEAR') & (test.columns !='COMPONENT_ARBITRARY') ])"
   ]
  },
  {
   "cell_type": "markdown",
   "metadata": {
    "id": "9hBQ2ge6BsV8"
   },
   "source": [
    "- train데이터의 51개 컬럼중 num컬럼만 가져오기. ( Y_LABEL , YEAR 제외시켜주기.)"
   ]
  },
  {
   "cell_type": "code",
   "execution_count": null,
   "metadata": {
    "id": "cbyEgUmwtp4c"
   },
   "outputs": [],
   "source": [
    "int32_col=list(train.columns[train.dtypes=='int32'])\n",
    "float32_col=list(train.columns[train.dtypes=='float32'])"
   ]
  },
  {
   "cell_type": "code",
   "execution_count": null,
   "metadata": {
    "id": "D-zR1lS_o0MW"
   },
   "outputs": [],
   "source": [
    "num_val=int32_col +float32_col"
   ]
  },
  {
   "cell_type": "code",
   "execution_count": null,
   "metadata": {
    "id": "85AnutN4qjto"
   },
   "outputs": [],
   "source": [
    "train_num_col = [x for x in num_val if x not in test_num_col]\n"
   ]
  },
  {
   "cell_type": "code",
   "execution_count": null,
   "metadata": {
    "id": "HruXMiwErDqN"
   },
   "outputs": [],
   "source": [
    "tmp = ['YEAR','Y_LABEL','SAMPLE_TRANSFER_DAY']\n",
    "train_num_col = [x for x in num_val if x not in tmp]"
   ]
  },
  {
   "cell_type": "markdown",
   "metadata": {
    "id": "2wtj0iEoqSXa"
   },
   "source": [
    "-student test셋에 해당하는 num컬럼에 대해서 먼저 스케일링진행하기."
   ]
  },
  {
   "cell_type": "code",
   "execution_count": null,
   "metadata": {
    "id": "b6SKV4EsoCDE"
   },
   "outputs": [],
   "source": [
    "#int64_col float64_col\n",
    "# test에 해당하는 num열 스케일링.\n",
    "#here\n",
    "from sklearn.preprocessing import MinMaxScaler, PowerTransformer,StandardScaler\n",
    "\n",
    "min_max=test_num_col\n",
    "train_num = temp[min_max].copy()\n",
    "\n",
    "test_num = test[min_max].copy()\n",
    "\n",
    "\n",
    "scaler=MinMaxScaler()\n",
    "\n",
    "scaler.fit(train_num)\n",
    "\n",
    "train_num[min_max]=scaler.transform(train_num[min_max])\n",
    "\n",
    "\n",
    "\n",
    "test_num[min_max]=scaler.transform(test_num[min_max]) # leakage 주의\n",
    "\n",
    "\n",
    "temp[min_max] = train_num[min_max]\n",
    "test[min_max] = test_num[min_max]  "
   ]
  },
  {
   "cell_type": "code",
   "execution_count": null,
   "metadata": {
    "id": "m5rclT-sgQK-"
   },
   "outputs": [],
   "source": [
    "for i in test_num_col:\n",
    "  print(i,\" : \",skew(temp[i]))\n",
    "  print(\"test\",\" : \",skew(test[i]))"
   ]
  },
  {
   "cell_type": "markdown",
   "metadata": {
    "id": "N-P7IIiruaqj"
   },
   "source": [
    "- Qunantile_transformer ( MinMax or Quanitle 중 고르는 것.)"
   ]
  },
  {
   "cell_type": "code",
   "execution_count": null,
   "metadata": {
    "id": "h366lKnXudOK"
   },
   "outputs": [],
   "source": [
    "#int64_col float64_col\n",
    "# test에 해당하는 num열 스케일링.\n",
    "\n",
    "from sklearn.preprocessing import MinMaxScaler, StandardScaler,QuantileTransformer\n",
    "\n",
    "min_max=test_num_col\n",
    "train_num = temp[min_max].copy()\n",
    "\n",
    "test_num = test[min_max].copy()\n",
    "\n",
    "\n",
    "scaler=QuantileTransformer(n_quantiles=1000)\n",
    "\n",
    "scaler.fit(train_num)\n",
    "\n",
    "train_num[min_max]=scaler.transform(train_num[min_max])\n",
    "\n",
    "\n",
    "\n",
    "test_num[min_max]=scaler.transform(test_num[min_max]) # leakage 주의\n",
    "\n",
    "\n",
    "temp[min_max] = train_num[min_max]\n",
    "test[min_max] = test_num[min_max]  "
   ]
  },
  {
   "cell_type": "markdown",
   "metadata": {
    "id": "9EoGFuMPvDr0"
   },
   "source": [
    "-teacher train셋에 해당하는 num컬럼에 대해서 스케일링진행하기."
   ]
  },
  {
   "cell_type": "code",
   "execution_count": null,
   "metadata": {
    "id": "t5ud0kV8qes5"
   },
   "outputs": [],
   "source": [
    "from sklearn.preprocessing import RobustScaler,QuantileTransformer, StandardScaler\n",
    "#here\n",
    "min_max=train_num_col\n",
    "train_num = temp[min_max].copy()\n",
    "\n",
    "scaler=MinMaxScaler()\n",
    "\n",
    "scaler.fit(train_num)\n",
    "\n",
    "train_num[min_max]=scaler.transform(train_num[min_max])\n",
    "\n",
    "\n",
    "temp[min_max] = train_num[min_max]\n"
   ]
  },
  {
   "cell_type": "markdown",
   "metadata": {
    "id": "WlJFnWEsuyyA"
   },
   "source": [
    "- Qunantile_transformer"
   ]
  },
  {
   "cell_type": "code",
   "execution_count": null,
   "metadata": {
    "id": "XaB7MRWduyyB"
   },
   "outputs": [],
   "source": [
    "#int64_col float64_col\n",
    "# teacher_train에 해당하는 num열 스케일링.\n",
    "\n",
    "from sklearn.preprocessing import MinMaxScaler, StandardScaler,QuantileTransformer\n",
    "\n",
    "min_max=train_num_col\n",
    "train_num = temp[min_max].copy()\n",
    "\n",
    "scaler=QuantileTransformer(n_quantiles=1000) # 분위수는 조절가능.\n",
    "\n",
    "scaler.fit(train_num)\n",
    "\n",
    "\n",
    "train_num[min_max]=scaler.transform(train_num[min_max])\n",
    "\n",
    "\n",
    "temp[min_max] = train_num[min_max]"
   ]
  },
  {
   "cell_type": "code",
   "execution_count": null,
   "metadata": {
    "id": "DdfL4yT3jm-R"
   },
   "outputs": [],
   "source": [
    "for i in train_num_col:\n",
    "  print(i,\" : \",skew(temp[i]))\n",
    " "
   ]
  },
  {
   "cell_type": "code",
   "execution_count": null,
   "metadata": {
    "colab": {
     "base_uri": "https://localhost:8080/"
    },
    "id": "u5di2W3-VaW_",
    "outputId": "dbffccc9-429f-489a-ba58-91b9b555941f"
   },
   "outputs": [],
   "source": [
    "temp.SAMPLE_TRANSFER_DAY = np.log(temp.SAMPLE_TRANSFER_DAY)"
   ]
  },
  {
   "cell_type": "markdown",
   "metadata": {
    "id": "TUEIeZegyGT8"
   },
   "source": [
    "#Feature_Selection (model_based)"
   ]
  },
  {
   "cell_type": "markdown",
   "metadata": {
    "id": "YgnuSo5tCPPs"
   },
   "source": [
    "- 랜덤포레스트를 통한 특성중요도를 뽑아 넘파이 행렬 형태로 저장. (성능향상 x)"
   ]
  },
  {
   "cell_type": "code",
   "execution_count": null,
   "metadata": {
    "id": "nSq70csOyXZy"
   },
   "outputs": [],
   "source": [
    "from sklearn.feature_selection import SelectFromModel\n",
    "from sklearn.ensemble import RandomForestClassifier\n",
    "select = SelectFromModel(\n",
    "    RandomForestClassifier(n_estimators=700,random_state=42),threshold='mean')\n"
   ]
  },
  {
   "cell_type": "code",
   "execution_count": null,
   "metadata": {
    "colab": {
     "base_uri": "https://localhost:8080/"
    },
    "id": "huKh3VLsyubG",
    "outputId": "1dc8a6d1-1824-4650-8b34-394bdc1f486a"
   },
   "outputs": [],
   "source": [
    "y=temp['Y_LABEL']\n",
    "temp=temp.drop('Y_LABEL',axis=1)\n",
    "select.fit(temp,y)\n",
    "f_temp=select.transform(temp)\n",
    "\n",
    "f_temp.shape"
   ]
  },
  {
   "cell_type": "markdown",
   "metadata": {
    "id": "FJ2R7siwLCOJ"
   },
   "source": [
    "#Feature_Selection (Based Corr)"
   ]
  },
  {
   "cell_type": "code",
   "execution_count": null,
   "metadata": {
    "id": "Sonu2DAKKtX7"
   },
   "outputs": [],
   "source": [
    "temp.drop(['V100','ZN'],axis=1,inplace=True)"
   ]
  },
  {
   "cell_type": "code",
   "execution_count": null,
   "metadata": {
    "id": "wjLb7CFiK5ad"
   },
   "outputs": [],
   "source": [
    "test.drop(['ZN'],axis=1,inplace=True)"
   ]
  },
  {
   "cell_type": "code",
   "execution_count": null,
   "metadata": {
    "id": "oIlmQJhoSRqT"
   },
   "outputs": [],
   "source": [
    "temp.drop(['SOOTPERCENTAGE'],axis=1,inplace=True)"
   ]
  },
  {
   "cell_type": "code",
   "execution_count": null,
   "metadata": {
    "id": "DRfJVS1RUqEn"
   },
   "outputs": [],
   "source": [
    "temp.drop('FNOX',axis=1,inplace=True)"
   ]
  },
  {
   "cell_type": "code",
   "execution_count": null,
   "metadata": {
    "id": "xuAf8W1tVIVX"
   },
   "outputs": [],
   "source": [
    "temp.drop('FOXID',axis=1,inplace=True)"
   ]
  },
  {
   "cell_type": "code",
   "execution_count": null,
   "metadata": {
    "id": "h3BBspq5Ve29"
   },
   "outputs": [],
   "source": [
    "temp.drop('FSO4',axis=1,inplace=True)"
   ]
  },
  {
   "cell_type": "code",
   "execution_count": null,
   "metadata": {
    "id": "aXUTgAzww4VO"
   },
   "outputs": [],
   "source": [
    "temp['U25low']= temp.U4 + temp.U6 + temp.U14+ temp.U25\n",
    "temp['U25high']= temp.U25 + temp.U50 + temp.U75+ temp.U100\n",
    "\n",
    "temp.drop(['U100', 'U75', 'U50', 'U25', 'U20', 'U14', 'U6', 'U4'],axis=1,inplace=True)"
   ]
  },
  {
   "cell_type": "code",
   "execution_count": null,
   "metadata": {
    "colab": {
     "base_uri": "https://localhost:8080/"
    },
    "id": "Ffg8z_cHw_i6",
    "outputId": "0132b304-0a0b-4a46-f744-91a71c8f13f9"
   },
   "outputs": [],
   "source": [
    "temp.columns"
   ]
  },
  {
   "cell_type": "markdown",
   "metadata": {
    "id": "-xogSxvExil6"
   },
   "source": [
    "# LGBM Classifier or XGBOOST ( choose one!)"
   ]
  },
  {
   "cell_type": "code",
   "execution_count": null,
   "metadata": {
    "colab": {
     "base_uri": "https://localhost:8080/"
    },
    "id": "WvA0ml0vQcft",
    "outputId": "95085294-f823-41f4-d556-717bd938efb9"
   },
   "outputs": [],
   "source": [
    "temp.columns"
   ]
  },
  {
   "cell_type": "code",
   "execution_count": null,
   "metadata": {
    "id": "UBDtfShJz4-Q"
   },
   "outputs": [],
   "source": [
    "from sklearn.metrics import confusion_matrix, accuracy_score, precision_score, recall_score,f1_score,roc_auc_score,roc_curve"
   ]
  },
  {
   "cell_type": "code",
   "execution_count": null,
   "metadata": {
    "id": "hiT_zeXkkKca"
   },
   "outputs": [],
   "source": [
    "import lightgbm as lgb\n",
    "import xgboost as xgb\n",
    "#import catboost as cb"
   ]
  },
  {
   "cell_type": "markdown",
   "metadata": {
    "id": "xPHl9eLvCjUL"
   },
   "source": [
    "- train 인덱스 재정의"
   ]
  },
  {
   "cell_type": "code",
   "execution_count": null,
   "metadata": {
    "id": "mdeiLMQFWUnf"
   },
   "outputs": [],
   "source": [
    "temp=temp1"
   ]
  },
  {
   "cell_type": "code",
   "execution_count": null,
   "metadata": {
    "id": "EE_BjOCMCfVm"
   },
   "outputs": [],
   "source": [
    "temp=temp.reset_index(drop=True)"
   ]
  },
  {
   "cell_type": "code",
   "execution_count": null,
   "metadata": {
    "colab": {
     "base_uri": "https://localhost:8080/"
    },
    "id": "3NHiUMZz64xx",
    "outputId": "c2f8e27e-69fe-41b2-f667-993bbd600e89"
   },
   "outputs": [],
   "source": [
    "temp1.columns"
   ]
  },
  {
   "cell_type": "markdown",
   "metadata": {
    "id": "tF3qu4jQBrPg"
   },
   "source": [
    "- valid_set .2로 설정. (Hold_Out으로 일단 확인)\n",
    "- K-Fold를 통해 평균을 냄으로써, 과적합 및 일반화 성능을 올려야함."
   ]
  },
  {
   "cell_type": "code",
   "execution_count": null,
   "metadata": {
    "colab": {
     "base_uri": "https://localhost:8080/"
    },
    "id": "k4efrQ3Wk_u3",
    "outputId": "6e76be43-23f6-4af3-e557-3bc42c602afd"
   },
   "outputs": [],
   "source": [
    "test.columns"
   ]
  },
  {
   "cell_type": "code",
   "execution_count": null,
   "metadata": {
    "id": "cn5qUlzYk9LH"
   },
   "outputs": [],
   "source": [
    "temp=temp.drop('SAMPLE_TRANSFER_DAY',axis=1)"
   ]
  },
  {
   "cell_type": "markdown",
   "metadata": {
    "id": "TI8Qs_6MwoPY"
   },
   "source": [
    "- LGBM"
   ]
  },
  {
   "cell_type": "markdown",
   "metadata": {
    "id": "4KF38hmNBmYJ"
   },
   "source": [
    "- 카테고리컬 컬럼에 대해서 전처리.\n",
    "(LGBM은 category 타입으로 지정해주면 categorical하게 처리한다.)"
   ]
  },
  {
   "cell_type": "code",
   "execution_count": null,
   "metadata": {
    "id": "630YaHg61J8H"
   },
   "outputs": [],
   "source": [
    "temp[['YEAR','COMPONENT_ARBITRARY']]=temp[['YEAR','COMPONENT_ARBITRARY']].astype('category')"
   ]
  },
  {
   "cell_type": "code",
   "execution_count": null,
   "metadata": {
    "id": "ad38ny6qDYzE"
   },
   "outputs": [],
   "source": [
    "test[['YEAR','COMPONENT_ARBITRARY']]=test[['YEAR','COMPONENT_ARBITRARY']].astype('category')"
   ]
  },
  {
   "cell_type": "code",
   "execution_count": null,
   "metadata": {
    "id": "1jpdaL9i1S_g"
   },
   "outputs": [],
   "source": [
    "temp.dtypes"
   ]
  },
  {
   "cell_type": "markdown",
   "metadata": {
    "id": "OqkuhY0gwG-g"
   },
   "source": [
    "- 아래쪽에 Optuna를 활용하여 파라미터튜닝을 간단히 할 수 있다. \n",
    "\n",
    "-> Optuna_Tuning(first_classification)\n",
    "\n",
    "- xgboost와 lgbm마다 파라미터 튜닝이 다르기 때문에 params를 구글링을 통해 바꾸어서 실행할것."
   ]
  },
  {
   "cell_type": "markdown",
   "metadata": {
    "id": "A5gIEXZ5wNkS"
   },
   "source": [
    "- xgboost ( xgboost는 카테고리컬하게 처리하기 위해선, 원핫 인코딩이나 라벨링(int형변수)이여야함."
   ]
  },
  {
   "cell_type": "code",
   "execution_count": null,
   "metadata": {
    "id": "IEff_ps8PyIy"
   },
   "outputs": [],
   "source": [
    "temp[['COMPONENT_ARBITRARY', 'YEAR']] = temp[['COMPONENT_ARBITRARY', 'YEAR']].astype('int')\n",
    "test[['COMPONENT_ARBITRARY', 'YEAR']] = test[['COMPONENT_ARBITRARY', 'YEAR']].astype('int')"
   ]
  },
  {
   "cell_type": "code",
   "execution_count": null,
   "metadata": {
    "id": "w0ohgu9PWcA7"
   },
   "outputs": [],
   "source": [
    "temp.Y_LABEL = temp.Y_LABEL.astype('int')"
   ]
  },
  {
   "cell_type": "code",
   "execution_count": null,
   "metadata": {
    "id": "1NgN4-FAvI4X"
   },
   "outputs": [],
   "source": [
    "y=temp['Y_LABEL']\n",
    "temp=temp.drop('Y_LABEL',axis=1)\n",
    "# train .8 valid .2\n",
    "#x_train , x_valid , y_train, y_valid=train_test_split(temp,y,test_size=.2,stratify=y,random_state=5)"
   ]
  },
  {
   "cell_type": "markdown",
   "metadata": {
    "id": "eKc8VYTOxWAs"
   },
   "source": [
    "- 혼동행렬, 정확도(AC), 정밀도(PR), 재현율(RR), F1(MACRO), AUC 출력. "
   ]
  },
  {
   "cell_type": "code",
   "execution_count": null,
   "metadata": {
    "id": "CHwvrFJVzcCl"
   },
   "outputs": [],
   "source": [
    "def get_clf_eval(y_test, y_pred=None, pred_proba=None):\n",
    "    confusion = confusion_matrix(y_test, y_pred)\n",
    "    accuracy = accuracy_score(y_test, y_pred)\n",
    "    precision = precision_score(y_test, y_pred)\n",
    "    recall = recall_score(y_test, y_pred)\n",
    "    F1 = f1_score(y_test, y_pred)\n",
    "    m_F1 = f1_score(y_test, y_pred,average='macro')\n",
    "    AUC = roc_auc_score(y_test, pred_proba)\n",
    "\n",
    "    print('오차행렬:\\n', confusion)\n",
    "    print('\\n정확도: {:.4f}'.format(accuracy))\n",
    "    print('정밀도: {:.4f}'.format(precision))\n",
    "    print('재현율: {:.4f}'.format(recall))\n",
    "    print('F1: {:.4f}'.format(F1))\n",
    "    print('MACRO_F1: {:.4f}'.format(m_F1))\n",
    "    print('AUC: {:.4f}'.format(AUC))"
   ]
  },
  {
   "cell_type": "markdown",
   "metadata": {
    "id": "sCJQlW2GDR_J"
   },
   "source": [
    "- stratified_kfold 적용하기. (o)\n",
    "1. fold 별 optuna를 최적 파라미터를 찾고 val-set의 평균을 낸다. \n",
    "2. fold별 최적파라미터를 이용해 train셋을 예측하고 평균을 구한다.\n",
    "\n",
    "\n",
    "\n"
   ]
  },
  {
   "cell_type": "markdown",
   "metadata": {
    "id": "dVPZk6k-b25i"
   },
   "source": [
    "'COMPONENT_ARBITRARY', 'ANONYMOUS_1', 'YEAR', 'SAMPLE_TRANSFER_DAY',\n",
    "       'ANONYMOUS_2', 'AG', 'AL', 'B', 'BA', 'BE', 'CA', 'CD', 'CO', 'CR',\n",
    "       'CU', 'FH2O', 'FOPTIMETHGLY', 'FTBN', 'FE', 'FUEL', 'H2O', 'K', 'LI',\n",
    "       'MG', 'MN', 'MO', 'NA', 'NI', 'P', 'PB', 'PQINDEX', 'S', 'SB', 'SI',\n",
    "       'SN', 'TI', 'U100', 'U75', 'U50', 'U25', 'U20', 'U14', 'U6', 'U4', 'V',\n",
    "       'V40' \n",
    "       \n",
    "       Drop) 'FNOX', 'FOXID', 'FSO4', 'ZN', 'V100' 'SOOTPERCENTAGE'"
   ]
  },
  {
   "cell_type": "code",
   "execution_count": null,
   "metadata": {
    "colab": {
     "base_uri": "https://localhost:8080/",
     "height": 1000
    },
    "id": "4DLHLISjxSaU",
    "outputId": "2bf792b9-8c50-402b-b07f-b9b3750678e6"
   },
   "outputs": [],
   "source": [
    "from sklearn.model_selection import StratifiedKFold\n",
    "\n",
    "# split 개수, 셔플 여부 및 seed 설정\n",
    "model_history=[]\n",
    "str_kf = StratifiedKFold(n_splits = 10, shuffle = True, random_state = 50)\n",
    "f_score=[]\n",
    "train_proba=[]\n",
    "train_pred=[]\n",
    "# split 개수 스텝 만큼 train, test 데이터셋을 매번 분할\n",
    "for train_index, test_index in str_kf.split(temp,y):\n",
    "    x_train, x_valid = temp.iloc[train_index], temp.iloc[test_index]\n",
    "    y_train, y_valid = y.iloc[train_index], y.iloc[test_index]\n",
    "    optuna_cbrm = optuna.create_study(direction='maximize', sampler=sampler)\n",
    "    optuna_cbrm.optimize(objective, n_trials=20)\n",
    "    cbrm_trial = optuna_cbrm.best_trial\n",
    "    cbrm_trial_params = cbrm_trial.params\n",
    "\n",
    "    clf = xgb.XGBClassifier(**cbrm_trial.params,use_missing=False,boost_from_average=False)\n",
    "    clf.fit(x_train,y_train,eval_set=[(x_valid,y_valid)],early_stopping_rounds=200,verbose=True)\n",
    "\n",
    "    # valid_set 성능 및 student_set 예측하기.\n",
    "    val_pred=clf.predict(x_valid)\n",
    "    val_proba=clf.predict_proba(x_valid)[:,1]\n",
    "    f_score.append(f1_score(y_valid, val_pred))\n",
    "    train_proba.append(clf.predict_proba(temp)[:,1])\n",
    "    train_pred.append(clf.predict(temp))\n",
    "    get_clf_eval(y_valid,val_pred,val_proba)\n",
    "\n",
    "print('S-KFold f1score mean : ' ,np.mean(f_score))\n",
    "train_p=pd.DataFrame(np.mean(train_proba,axis=0))\n",
    "train_p\n"
   ]
  },
  {
   "cell_type": "code",
   "execution_count": null,
   "metadata": {
    "colab": {
     "base_uri": "https://localhost:8080/"
    },
    "id": "drWWNbL_nJkE",
    "outputId": "74150259-77ad-41c0-cdfb-a8267e4e2744"
   },
   "outputs": [],
   "source": [
    "for th in range(10,40,1):\n",
    "  temp_sub = train_p.copy()\n",
    "  example=pd.DataFrame(temp_sub)\n",
    "  example.columns=['pred']\n",
    "  example['pred'][example['pred']>(th*0.01)]=1.0\n",
    "  example['pred'][example['pred']<=(th*0.01)]=0.0\n",
    "\n",
    "  m_F1 = f1_score(y, example.pred,average='macro')\n",
    "  print('th : {:.1f} MACRO_F1: {:.4f}'.format(th,m_F1))\n",
    "\n"
   ]
  },
  {
   "cell_type": "code",
   "execution_count": null,
   "metadata": {
    "colab": {
     "base_uri": "https://localhost:8080/"
    },
    "id": "Jo35BPDfX8Vt",
    "outputId": "2b266fde-ad00-4aea-9765-95afe66c88b5"
   },
   "outputs": [],
   "source": [
    "train_proba"
   ]
  },
  {
   "cell_type": "markdown",
   "metadata": {
    "id": "3Aw-GDZdDSSa"
   },
   "source": [
    "- optuna_tuning 진행 후 실행할 것."
   ]
  },
  {
   "cell_type": "code",
   "execution_count": null,
   "metadata": {
    "id": "dgNLqCKfySkX"
   },
   "outputs": [],
   "source": [
    "0#here\n",
    "clf = xgb.XGBClassifier(**cbrm_trial.params,use_missing=False,boost_from_average=False)\n",
    "clf.fit(x_train,y_train,eval_set=[(x_valid,y_valid)],early_stopping_rounds=60,verbose=True)"
   ]
  },
  {
   "cell_type": "markdown",
   "metadata": {
    "id": "H7x1ee37LP0j"
   },
   "source": [
    "{'max_depth': 10, 'learning_rate': 0.23720667234749193, 'n_estimators': 1100}"
   ]
  },
  {
   "cell_type": "markdown",
   "metadata": {
    "id": "XM2dcWmyC5Y6"
   },
   "source": [
    "- feature_importance"
   ]
  },
  {
   "cell_type": "markdown",
   "metadata": {
    "id": "0dWsKBIaDXML"
   },
   "source": [
    "- 트리모델들은 특성중요도라는 항목을 제공."
   ]
  },
  {
   "cell_type": "code",
   "execution_count": null,
   "metadata": {
    "id": "GJsXvlpAC7WM"
   },
   "outputs": [],
   "source": [
    "# 특성 중요도 뽑기.\n",
    "def plot_feature_importance(importance,names,model_type):\n",
    "    \n",
    "    feature_importance = np.array(importance)\n",
    "    feature_names = np.array(names)\n",
    "    \n",
    "    data={'feature_names':feature_names,'feature_importance':feature_importance}\n",
    "    fi_df = pd.DataFrame(data)\n",
    "    \n",
    "    fi_df.sort_values(by=['feature_importance'], ascending=False,inplace=True)\n",
    "\n",
    "    plt.figure(figsize=(10,8))\n",
    "\n",
    "    sns.barplot(x=fi_df['feature_importance'], y=fi_df['feature_names'])\n",
    "\n",
    "    plt.title(model_type + ' Feature Importance')\n",
    "    plt.xlabel('Feature Importance')\n",
    "    plt.ylabel('Feature Names')"
   ]
  },
  {
   "cell_type": "code",
   "execution_count": null,
   "metadata": {
    "colab": {
     "base_uri": "https://localhost:8080/",
     "height": 458
    },
    "id": "65r9AmPTvWPE",
    "outputId": "b0db1246-06ec-4699-ce53-0f436f1f8366"
   },
   "outputs": [],
   "source": [
    "plot_feature_importance(clf.feature_importances_,x_valid.columns,'XGBOOST')"
   ]
  },
  {
   "cell_type": "markdown",
   "metadata": {
    "id": "VYME-YX9xObB"
   },
   "source": [
    "- lgbm(category -> astype('categry')로 변경해주면됨.\n",
    "위에 코드 존재."
   ]
  },
  {
   "cell_type": "markdown",
   "metadata": {
    "id": "Ql2gR6l0DdPM"
   },
   "source": [
    "- 실행x"
   ]
  },
  {
   "cell_type": "code",
   "execution_count": null,
   "metadata": {
    "id": "gSSPa8T-gbJ-"
   },
   "outputs": [],
   "source": [
    "\n",
    "from sklearn.model_selection import StratifiedKFold\n",
    "\n",
    "# split 개수, 셔플 여부 및 seed 설정\n",
    "model_history=[]\n",
    "val_history=[]\n",
    "val_pred_hist=[]\n",
    "str_kf = StratifiedKFold(n_splits = 5)\n",
    "lgb_clf = lgb.LGBMClassifier(n_estimators=1000, boosting_type='gbdt',learning_rate=0.23,max_depth=8, n_jobs=-1,boost_from_average=False)\n",
    "# split 개수 스텝 만큼 train, test 데이터셋을 매번 분할\n",
    "for train_index, test_index in str_kf.split(temp,y):\n",
    "    X_train, X_test = temp.loc[train_index], temp.loc[test_index]\n",
    "    y_train, y_test = y.loc[train_index], y.loc[test_index]\n",
    "    lgb_clf.fit(X_train,y_train)\n",
    "    val_pred=lgb_clf.predict(X_test)\n",
    "    val_pred_hist.append(val_pred)\n",
    "    val_proba=lgb_clf.predict_proba(X_test)[:,1]\n",
    "    val_history.append(val_proba)\n",
    "    get_clf_eval(y_test,val_pred,val_proba)\n",
    "    "
   ]
  },
  {
   "cell_type": "code",
   "execution_count": null,
   "metadata": {
    "id": "y71ftBbVLf2L"
   },
   "outputs": [],
   "source": [
    "lgb_clf = lgb.LGBMClassifier(n_estimators=1000,eval_metric='AUC', boosting_type='gbdt',use_missing=False,learning_rate=0.04,max_depth=13, n_jobs=-1,boost_from_average=False)"
   ]
  },
  {
   "cell_type": "code",
   "execution_count": null,
   "metadata": {
    "id": "rocYP39lgo5_"
   },
   "outputs": [],
   "source": [
    "lgb_clf.fit(x_train,y_train,eval_set=[(x_valid,y_valid)],verbose=True,early_stopping_rounds=200,eval_metric='logloss')"
   ]
  },
  {
   "cell_type": "markdown",
   "metadata": {
    "id": "e3twQx3FEqkQ"
   },
   "source": [
    "- valid_set으로 예측한 macro-f1 score\n",
    "(xgb)\n"
   ]
  },
  {
   "cell_type": "code",
   "execution_count": null,
   "metadata": {
    "colab": {
     "base_uri": "https://localhost:8080/"
    },
    "id": "3732MHL_zj2B",
    "outputId": "338c0f6a-372f-415d-e3ed-b59071768827"
   },
   "outputs": [],
   "source": [
    "#here\n",
    "val_pred=clf.predict(x_valid)\n",
    "val_proba=clf.predict_proba(x_valid)[:,1]\n",
    "get_clf_eval(y_valid,val_pred,val_proba)\n"
   ]
  },
  {
   "cell_type": "markdown",
   "metadata": {
    "id": "0rzL9GKPMePy"
   },
   "source": [
    "오차행렬:\n",
    " [[2597   12]\n",
    " [  96  114]]\n",
    "\n",
    "정확도: 0.9617\n",
    "정밀도: 0.9048\n",
    "재현율: 0.5429\n",
    "F1: 0.6786\n",
    "MACRO_F1: 0.8291\n",
    "AUC: 0.8867"
   ]
  },
  {
   "cell_type": "markdown",
   "metadata": {
    "id": "qV6KUGDeg4n-"
   },
   "source": [
    "- valid_set으로 예측한 macro-f1 score\n",
    "(lgb)\n"
   ]
  },
  {
   "cell_type": "code",
   "execution_count": null,
   "metadata": {
    "colab": {
     "base_uri": "https://localhost:8080/"
    },
    "id": "5DWPk52Sgx-a",
    "outputId": "88ee3f0b-1c26-4a49-dab1-1f7fec10ca97"
   },
   "outputs": [],
   "source": [
    "val_pred=lgb_clf.predict(x_valid)\n",
    "val_proba=lgb_clf.predict_proba(x_valid)[:,1]\n",
    "get_clf_eval(y_valid,val_pred,val_proba)"
   ]
  },
  {
   "cell_type": "markdown",
   "metadata": {
    "id": "h7P_At8cD_Mx"
   },
   "source": [
    "- train proba 예측 및 컬럼 생성.\n",
    "    - xgb train_proba"
   ]
  },
  {
   "cell_type": "code",
   "execution_count": null,
   "metadata": {
    "colab": {
     "base_uri": "https://localhost:8080/"
    },
    "id": "4cB8a_vCD--g",
    "outputId": "89604f11-6a2d-4fc8-e8a5-d21dfc138932"
   },
   "outputs": [],
   "source": [
    "#here\n",
    "val_pred=clf.predict(temp)\n",
    "val_proba=clf.predict_proba(temp)[:,1]\n",
    "get_clf_eval(y,val_pred,val_proba)"
   ]
  },
  {
   "cell_type": "code",
   "execution_count": null,
   "metadata": {
    "id": "T6gW4VPTMuun"
   },
   "outputs": [],
   "source": [
    "temp.dtypes"
   ]
  },
  {
   "cell_type": "markdown",
   "metadata": {
    "id": "GRYVheiZh2yi"
   },
   "source": [
    "- lgbm train_proba"
   ]
  },
  {
   "cell_type": "code",
   "execution_count": null,
   "metadata": {
    "colab": {
     "base_uri": "https://localhost:8080/"
    },
    "id": "ZkSrRK64h41I",
    "outputId": "50ded438-0511-42f4-f624-8040026f4fad"
   },
   "outputs": [],
   "source": [
    "val_pred=lgb_clf.predict(temp)\n",
    "val_proba=lgb_clf.predict_proba(temp)[:,1]\n",
    "get_clf_eval(y,val_pred,val_proba)"
   ]
  },
  {
   "cell_type": "code",
   "execution_count": null,
   "metadata": {
    "id": "XhZv1_mX-q7N"
   },
   "outputs": [],
   "source": [
    "x_valid.dtypes"
   ]
  },
  {
   "cell_type": "markdown",
   "metadata": {
    "id": "nivfsCfH46SP"
   },
   "source": [
    "# 이젠 test_col X로 위에서 나온 확률 값을 예측하고, test set prediction "
   ]
  },
  {
   "cell_type": "markdown",
   "metadata": {
    "id": "s2Z_-dEgCqCS"
   },
   "source": [
    "- lgbm_regressor를 사용해서 test_col X로 proba예측\n"
   ]
  },
  {
   "cell_type": "code",
   "execution_count": null,
   "metadata": {
    "colab": {
     "base_uri": "https://localhost:8080/"
    },
    "id": "p_i9n_NUd1nu",
    "outputId": "78226532-18a5-4e4e-8a84-e4dfb7c6516a"
   },
   "outputs": [],
   "source": [
    "test.columns"
   ]
  },
  {
   "cell_type": "code",
   "execution_count": null,
   "metadata": {
    "id": "7c-aAI0VNELa"
   },
   "outputs": [],
   "source": [
    "test.drop('FE',axis=1,inplace=True)"
   ]
  },
  {
   "cell_type": "code",
   "execution_count": null,
   "metadata": {
    "id": "S7DqUPfPeaiQ"
   },
   "outputs": [],
   "source": [
    "val_proba=train_p"
   ]
  },
  {
   "cell_type": "code",
   "execution_count": null,
   "metadata": {
    "id": "lijjAt3SeDoV"
   },
   "outputs": [],
   "source": [
    "test_col=test.columns"
   ]
  },
  {
   "cell_type": "code",
   "execution_count": null,
   "metadata": {
    "id": "TlD7VthjeL3P"
   },
   "outputs": [],
   "source": [
    "test_col=['COMPONENT_ARBITRARY', 'ANONYMOUS_1', 'YEAR', 'ANONYMOUS_2', 'AG', 'CO',\n",
    "       'CR', 'CU', 'FE', 'H2O', 'MN', 'MO', 'NI', 'PQINDEX', 'TI', 'V', 'V40']"
   ]
  },
  {
   "cell_type": "code",
   "execution_count": null,
   "metadata": {
    "id": "Zi6PHd2eCyw0"
   },
   "outputs": [],
   "source": [
    "temp_regress = temp[test_col]"
   ]
  },
  {
   "cell_type": "code",
   "execution_count": null,
   "metadata": {
    "colab": {
     "base_uri": "https://localhost:8080/"
    },
    "id": "krC4q3-uDyDJ",
    "outputId": "b5ab7736-91d0-4186-a485-dea6a4e3df87"
   },
   "outputs": [],
   "source": [
    "temp_regress['Y_PROBA']=val_proba"
   ]
  },
  {
   "cell_type": "code",
   "execution_count": null,
   "metadata": {
    "colab": {
     "base_uri": "https://localhost:8080/"
    },
    "id": "gsLoc9N3D7RF",
    "outputId": "ac422bd1-d161-43d4-da99-88e9a45771ba"
   },
   "outputs": [],
   "source": [
    "temp_regress.Y_PROBA"
   ]
  },
  {
   "cell_type": "code",
   "execution_count": null,
   "metadata": {
    "colab": {
     "base_uri": "https://localhost:8080/"
    },
    "id": "DEtFQYYXDDdW",
    "outputId": "b20d94d7-66ec-459d-9fcc-31de5e5c4982"
   },
   "outputs": [],
   "source": [
    "temp_regress.dtypes"
   ]
  },
  {
   "cell_type": "code",
   "execution_count": null,
   "metadata": {
    "colab": {
     "base_uri": "https://localhost:8080/",
     "height": 488
    },
    "id": "R6JCrjyTDLis",
    "outputId": "4a59ffb0-94d6-4731-f8c1-6ca721b05bcb"
   },
   "outputs": [],
   "source": [
    "test"
   ]
  },
  {
   "cell_type": "markdown",
   "metadata": {
    "id": "Goqe-8RcFLbU"
   },
   "source": [
    "# Proba 예측을 위한 회귀 모형 생성."
   ]
  },
  {
   "cell_type": "markdown",
   "metadata": {
    "id": "zfz1qJZtFuSJ"
   },
   "source": [
    "- valid_set .2로 설정. (Hold_Out으로 일단 확인)"
   ]
  },
  {
   "cell_type": "code",
   "execution_count": null,
   "metadata": {
    "id": "9sx7SpA93ZxP"
   },
   "outputs": [],
   "source": [
    "y_regress=temp_regress['Y_PROBA']\n",
    "temp_regress=temp_regress.drop('Y_PROBA',axis=1)"
   ]
  },
  {
   "cell_type": "markdown",
   "metadata": {
    "id": "Ro1r98Wu3jqt"
   },
   "source": [
    "#Feature_Selection (model_based)"
   ]
  },
  {
   "cell_type": "markdown",
   "metadata": {
    "id": "F4SAZSs0DsXV"
   },
   "source": [
    "- 실행하지말것."
   ]
  },
  {
   "cell_type": "code",
   "execution_count": null,
   "metadata": {
    "id": "g4bkXNiO3jqu"
   },
   "outputs": [],
   "source": [
    "from sklearn.feature_selection import SelectFromModel\n",
    "from sklearn.ensemble import RandomForestClassifier , RandomForestRegressor\n",
    "select = SelectFromModel(\n",
    "    RandomForestRegressor(n_estimators=1000,random_state=42),threshold='mean')\n"
   ]
  },
  {
   "cell_type": "code",
   "execution_count": null,
   "metadata": {
    "id": "TCkinS5O3jqv"
   },
   "outputs": [],
   "source": [
    "#y=temp['Y_LABEL']\n",
    "#temp=temp.drop('Y_LABEL',axis=1)\n",
    "select.fit(temp_regress,y_regress)\n",
    "f_temp=select.transform(temp_regress)\n",
    "t_temp=select.transform(test)\n",
    "f_temp.shape"
   ]
  },
  {
   "cell_type": "markdown",
   "metadata": {
    "id": "y-B72bUZDuwz"
   },
   "source": [
    "# 회귀 모델링"
   ]
  },
  {
   "cell_type": "code",
   "execution_count": null,
   "metadata": {
    "id": "ObtbM-4vldrL"
   },
   "outputs": [],
   "source": [
    "def best_th(y_valid, y_pred):\n",
    "\n",
    "  m_f1=0.0\n",
    "  for th in range(10,40,1):\n",
    "\n",
    "    temp_sub = y_pred\n",
    "    example=pd.DataFrame(temp_sub)\n",
    "    example.columns=['pred']\n",
    "    example['pred'][example['pred']>(th*0.01)]=1.0\n",
    "    example['pred'][example['pred']<=(th*0.01)]=0.0\n",
    "\n",
    "    if f1_score(y_valid, example.pred,average='macro') > m_f1:\n",
    "      m_f1 =f1_score(y_valid, example.pred,average='macro')\n",
    "    \n",
    "  return m_f1\n",
    "  \n"
   ]
  },
  {
   "cell_type": "markdown",
   "metadata": {
    "id": "HRLbYy1We1ND"
   },
   "source": [
    "- Hold Out"
   ]
  },
  {
   "cell_type": "code",
   "execution_count": null,
   "metadata": {
    "id": "M3yrMX1bFb7B"
   },
   "outputs": [],
   "source": [
    "#.8 .2\n",
    "x_r_train , x_r_valid , y_r_train, y_r_valid=train_test_split(temp_regress,y_regress,test_size=.2,random_state=5)"
   ]
  },
  {
   "cell_type": "markdown",
   "metadata": {
    "id": "NJ8jIqPhe34X"
   },
   "source": [
    "- kfold Optuna"
   ]
  },
  {
   "cell_type": "code",
   "execution_count": null,
   "metadata": {
    "colab": {
     "base_uri": "https://localhost:8080/",
     "height": 1000
    },
    "id": "DbB8fkzPe75Z",
    "outputId": "8693415a-e86b-4ef2-ce63-e017fa09f39a"
   },
   "outputs": [],
   "source": [
    "from sklearn.model_selection import StratifiedKFold\n",
    "from sklearn.model_selection import KFold\n",
    "# split 개수, 셔플 여부 및 seed 설정\n",
    "model_history=[]\n",
    "str_kf = KFold(n_splits = 10, shuffle = True, random_state = 50)\n",
    "k_TH=[]\n",
    "test_pred=[]\n",
    "# split 개수 스텝 만큼 train, test 데이터셋을 매번 분할\n",
    "for train_index, test_index in str_kf.split(temp_regress,y_regress):\n",
    "\n",
    "\n",
    "    x_r_train, x_r_valid = temp_regress.iloc[train_index], temp_regress.iloc[test_index]\n",
    "    y_r_train, y_r_valid = y_regress.iloc[train_index], y_regress.iloc[test_index]\n",
    "    # 성능확인을 위한 y_train값과 y_valid값을 가져오기.\n",
    "    y_train, y_valid = y.iloc[train_index], y.iloc[test_index]\n",
    "    \n",
    "    optuna_cbrm_reg = optuna.create_study(direction='minimize', sampler=sampler)\n",
    "    optuna_cbrm_reg.optimize(objective, n_trials=15)\n",
    "    cbrm_trial_reg = optuna_cbrm_reg.best_trial\n",
    "    cbrm_trial_params = cbrm_trial_reg.params\n",
    "\n",
    "    clf = xgb.XGBRegressor(**cbrm_trial.params,use_missing=False,boost_from_average=False)\n",
    "    clf.fit(x_r_train,y_r_train,eval_set=[(x_r_valid,y_r_valid)],early_stopping_rounds=70,verbose=True)\n",
    "\n",
    "    # valid_set 성능 및 student_set 예측하기.\n",
    "    val_pred=clf.predict(x_r_valid)\n",
    "    k_TH.append(best_th(y_valid,val_pred))\n",
    "    print(mean_absolute_error(y_r_valid,val_pred))\n",
    "    test_pred.append(clf.predict(test))\n",
    "    \n",
    "\n",
    "\n",
    "test_p=pd.DataFrame(np.mean(test_pred,axis=0))\n",
    "test_p\n",
    "\n",
    "\n"
   ]
  },
  {
   "cell_type": "code",
   "execution_count": null,
   "metadata": {
    "colab": {
     "base_uri": "https://localhost:8080/"
    },
    "id": "1dfDxUtbosuu",
    "outputId": "96a26d9a-262b-483e-d2c8-d575d37edcd3"
   },
   "outputs": [],
   "source": [
    "k_TH"
   ]
  },
  {
   "cell_type": "code",
   "execution_count": null,
   "metadata": {
    "id": "ugN3tbZUoC-l"
   },
   "outputs": [],
   "source": []
  },
  {
   "cell_type": "markdown",
   "metadata": {
    "id": "DuE4DoUqx6V8"
   },
   "source": [
    "- lgb"
   ]
  },
  {
   "cell_type": "code",
   "execution_count": null,
   "metadata": {
    "id": "nZqdxSIoFFqa"
   },
   "outputs": [],
   "source": [
    "import lightgbm as lgb\n",
    "#here\n",
    "clf_r = lgb.LGBMRegressor(n_estimators=3000,learning_rate=0.01, max_depth=15, n_jobs=-1, \n",
    "                         boost_from_average=False)\n",
    "\n"
   ]
  },
  {
   "cell_type": "markdown",
   "metadata": {
    "id": "0wdhacXd1wWC"
   },
   "source": [
    "- lgb_optuna"
   ]
  },
  {
   "cell_type": "code",
   "execution_count": null,
   "metadata": {
    "id": "T9nuAfOh0zcX"
   },
   "outputs": [],
   "source": [
    "import lightgbm as lgb\n",
    "\n",
    "clf_r = lgb.LGBMRegressor(**trial_params,boost_from_average=False)\n"
   ]
  },
  {
   "cell_type": "markdown",
   "metadata": {
    "id": "uvxVOPObx71V"
   },
   "source": [
    "- xgb"
   ]
  },
  {
   "cell_type": "code",
   "execution_count": null,
   "metadata": {
    "id": "SaXgGMrYjH5i"
   },
   "outputs": [],
   "source": [
    "\n",
    "clf_x = xgb.XGBRegressor(**cbrm_trial.params,boost_from_average=False)\n",
    "\n"
   ]
  },
  {
   "cell_type": "markdown",
   "metadata": {
    "id": "QWgBN0_Wx-mI"
   },
   "source": [
    "- 평가지표는 MeanAbsoluteError"
   ]
  },
  {
   "cell_type": "markdown",
   "metadata": {
    "id": "zdco28zV1HFR"
   },
   "source": [
    "- xgboost_regress"
   ]
  },
  {
   "cell_type": "code",
   "execution_count": null,
   "metadata": {
    "id": "G9PbcfDiFFqb"
   },
   "outputs": [],
   "source": [
    "clf_x.fit(x_r_train,y_r_train,eval_set=[(x_r_valid,y_r_valid)],verbose=True)"
   ]
  },
  {
   "cell_type": "markdown",
   "metadata": {
    "id": "-GSLP8KM1LWe"
   },
   "source": [
    "- lightgbm_regress"
   ]
  },
  {
   "cell_type": "code",
   "execution_count": null,
   "metadata": {
    "colab": {
     "base_uri": "https://localhost:8080/"
    },
    "id": "Uvqn8Xum1FXJ",
    "outputId": "ef68955d-0d0e-4a43-9843-e589438f73da"
   },
   "outputs": [],
   "source": [
    "clf_r.fit(x_r_train,y_r_train,eval_set=[(x_r_valid,y_r_valid)],verbose=True,eval_metric='mae')"
   ]
  },
  {
   "cell_type": "markdown",
   "metadata": {
    "id": "DwDW0bzK1eE-"
   },
   "source": [
    "- lightgbm_performance"
   ]
  },
  {
   "cell_type": "code",
   "execution_count": null,
   "metadata": {
    "colab": {
     "base_uri": "https://localhost:8080/"
    },
    "id": "zzCMYuYOGSnz",
    "outputId": "6c9d78a1-68cd-47f2-f985-ef4b643086fc"
   },
   "outputs": [],
   "source": [
    "from sklearn.metrics import mean_absolute_error\n",
    "val_r_prob=clf_r.predict(x_r_valid)\n",
    "train_r_prob=clf_r.predict(x_r_train)\n",
    "train_mae=mean_absolute_error(y_r_train,train_r_prob)\n",
    "valid_mae=mean_absolute_error(y_r_valid,val_r_prob)\n",
    "print('train_MAE: {:.4f}'.format(train_mae))\n",
    "print('valid_MAE: {:.4f}'.format(valid_mae))\n"
   ]
  },
  {
   "cell_type": "markdown",
   "metadata": {
    "id": "-N5hC1XQ1jjk"
   },
   "source": [
    "- xgboost_performance"
   ]
  },
  {
   "cell_type": "code",
   "execution_count": null,
   "metadata": {
    "colab": {
     "base_uri": "https://localhost:8080/"
    },
    "id": "do4gQjZg1bCx",
    "outputId": "f5c73734-b1e5-4765-a3be-5ba469d80b15"
   },
   "outputs": [],
   "source": [
    "from sklearn.metrics import mean_absolute_error\n",
    "val_r_prob=clf_x.predict(x_r_valid)\n",
    "train_r_prob=clf_x.predict(x_r_train)\n",
    "train_mae=mean_absolute_error(y_r_train,train_r_prob)\n",
    "valid_mae=mean_absolute_error(y_r_valid,val_r_prob)\n",
    "print('train_MAE: {:.4f}'.format(train_mae))\n",
    "print('valid_MAE: {:.4f}'.format(valid_mae))\n"
   ]
  },
  {
   "cell_type": "code",
   "execution_count": null,
   "metadata": {
    "id": "sxT4zO1JlGZ0"
   },
   "outputs": [],
   "source": [
    "x_r_valid.dtypes"
   ]
  },
  {
   "cell_type": "code",
   "execution_count": null,
   "metadata": {
    "colab": {
     "base_uri": "https://localhost:8080/"
    },
    "id": "SacJXDvtqPil",
    "outputId": "66b5a35e-1efe-4565-d9ae-4f96aefc5140"
   },
   "outputs": [],
   "source": [
    "val_r_prob[val_r_prob>0.2].shape"
   ]
  },
  {
   "cell_type": "markdown",
   "metadata": {
    "id": "Hhc157sjk2hp"
   },
   "source": [
    "train_MAE: 0.0986\n",
    "valid_MAE: 0.1192"
   ]
  },
  {
   "cell_type": "markdown",
   "metadata": {
    "id": "RVNulX-oH3df"
   },
   "source": [
    "# TEST set 예측 생성"
   ]
  },
  {
   "cell_type": "markdown",
   "metadata": {
    "id": "Xf33eIYzyKid"
   },
   "source": [
    "- 최적 TH을 일단 찾기."
   ]
  },
  {
   "cell_type": "code",
   "execution_count": null,
   "metadata": {
    "id": "3sDewW8DImFl"
   },
   "outputs": [],
   "source": [
    "#train_mae=mean_absolute_error(y_r_train,train_r_prob)\n",
    "for th in range(10,40,1):\n",
    "  temp_sub = val_r_prob.copy()\n",
    "  example=pd.DataFrame(temp_sub)\n",
    "  example.columns=['pred']\n",
    "  example['pred'][example['pred']>(th*0.01)]=1.0\n",
    "  example['pred'][example['pred']<=(th*0.01)]=0.0\n",
    "\n",
    "  m_F1 = f1_score(y_valid, example.pred,average='macro')\n",
    "  print('th : {:.1f} MACRO_F1: {:.4f}'.format(th,m_F1))\n"
   ]
  },
  {
   "cell_type": "code",
   "execution_count": null,
   "metadata": {
    "id": "LzBPTbvgrLW_"
   },
   "outputs": [],
   "source": [
    "test_p=pd.DataFrame(np.mean(test_pred,axis=0))"
   ]
  },
  {
   "cell_type": "markdown",
   "metadata": {
    "id": "27Hygh-Q3vHv"
   },
   "source": [
    "- xgb_prediction"
   ]
  },
  {
   "cell_type": "code",
   "execution_count": null,
   "metadata": {
    "id": "MKCOR86gH6QB"
   },
   "outputs": [],
   "source": [
    "sub_proba=clf_x.predict(test)"
   ]
  },
  {
   "cell_type": "markdown",
   "metadata": {
    "id": "oRqr___p3yk3"
   },
   "source": [
    "- lgbm_prediction"
   ]
  },
  {
   "cell_type": "code",
   "execution_count": null,
   "metadata": {
    "id": "unXkdJnb3tHF"
   },
   "outputs": [],
   "source": [
    "sub_proba=clf_r.predict(test)"
   ]
  },
  {
   "cell_type": "code",
   "execution_count": null,
   "metadata": {
    "id": "JM1VPFTPpKO-"
   },
   "outputs": [],
   "source": [
    "sub_proba=test_p"
   ]
  },
  {
   "cell_type": "code",
   "execution_count": null,
   "metadata": {
    "colab": {
     "base_uri": "https://localhost:8080/",
     "height": 424
    },
    "id": "DUY8ZgPIpc1v",
    "outputId": "3a5c1432-5399-4fbf-8c3b-2c017e4adade"
   },
   "outputs": [],
   "source": [
    "test_p"
   ]
  },
  {
   "cell_type": "code",
   "execution_count": null,
   "metadata": {
    "id": "ULfnaDF3KLNg"
   },
   "outputs": [],
   "source": [
    "example=pd.DataFrame(sub_proba)\n",
    "\n",
    "example.columns=['pred']"
   ]
  },
  {
   "cell_type": "code",
   "execution_count": null,
   "metadata": {
    "colab": {
     "base_uri": "https://localhost:8080/",
     "height": 424
    },
    "id": "7PtT8eyfJ7AU",
    "outputId": "52d69b0b-48b7-46d0-9426-7fe4230eb8d8"
   },
   "outputs": [],
   "source": [
    "example"
   ]
  },
  {
   "cell_type": "markdown",
   "metadata": {
    "id": "oqRt2TKGyUwb"
   },
   "source": [
    "- th는 변환가능."
   ]
  },
  {
   "cell_type": "code",
   "execution_count": null,
   "metadata": {
    "colab": {
     "base_uri": "https://localhost:8080/",
     "height": 424
    },
    "id": "gNyxh0lqe0Cc",
    "outputId": "b559c3bf-35be-4620-918f-c3791029eea7"
   },
   "outputs": [],
   "source": [
    "example[example['pred']>0.20]"
   ]
  },
  {
   "cell_type": "code",
   "execution_count": null,
   "metadata": {
    "id": "KRoWvQc-Lnsl"
   },
   "outputs": [],
   "source": [
    "example['pred'][example['pred']>0.195]=1.0\n",
    "example['pred'][example['pred']<=0.195]=0.0"
   ]
  },
  {
   "cell_type": "code",
   "execution_count": null,
   "metadata": {
    "colab": {
     "base_uri": "https://localhost:8080/"
    },
    "id": "5nisnNlgL3nM",
    "outputId": "835f9d9f-2f9c-45a7-f502-d548a4044fdc"
   },
   "outputs": [],
   "source": [
    "example.pred.value_counts()"
   ]
  },
  {
   "cell_type": "markdown",
   "metadata": {
    "id": "QOginkWeOEnC"
   },
   "source": [
    "# 제출파일 형성."
   ]
  },
  {
   "cell_type": "code",
   "execution_count": null,
   "metadata": {
    "id": "bZ0q9XelNryg"
   },
   "outputs": [],
   "source": [
    "submit=pd.read_csv('/content/drive/MyDrive/DACON_Dataset/Hyundai_oil/sample_submission.csv')"
   ]
  },
  {
   "cell_type": "code",
   "execution_count": null,
   "metadata": {
    "id": "qXma6G6kObAz"
   },
   "outputs": [],
   "source": [
    "example.pred = example.pred.astype('int32')"
   ]
  },
  {
   "cell_type": "code",
   "execution_count": null,
   "metadata": {
    "id": "Suc5B-cEOMsf"
   },
   "outputs": [],
   "source": [
    "submit.Y_LABEL = example.pred"
   ]
  },
  {
   "cell_type": "code",
   "execution_count": null,
   "metadata": {
    "id": "9dlkq6DvOmA_"
   },
   "outputs": [],
   "source": [
    "submit.to_csv('/content/drive/MyDrive/DACON_Dataset/Hyundai_oil/sample19_sub.csv',index=False)"
   ]
  },
  {
   "cell_type": "markdown",
   "metadata": {
    "id": "Imt4Mb5ETY7n"
   },
   "source": [
    "#Optuna_Tuning ( first_classification)"
   ]
  },
  {
   "cell_type": "code",
   "execution_count": null,
   "metadata": {
    "id": "dWJYNX05fHHJ"
   },
   "outputs": [],
   "source": [
    "import optuna\n",
    "from optuna import Trial\n",
    "from optuna.samplers import TPESampler\n",
    "from sklearn.model_selection import StratifiedKFold"
   ]
  },
  {
   "cell_type": "code",
   "execution_count": null,
   "metadata": {
    "id": "EyozBTrscs-Z"
   },
   "outputs": [],
   "source": [
    "x_train.dtypes"
   ]
  },
  {
   "cell_type": "markdown",
   "metadata": {
    "id": "RtmpQxMqnu-h"
   },
   "source": [
    "    cbrm_param = {\n",
    "        \"objective\": \"binary:logistic\",\n",
    "        \"eval_metric\":'logloss',\n",
    "        \"booster\": 'gbtree',\n",
    "        #'tree_method':'gpu_hist', 'predictor':'gpu_predictor', 'gpu_id': 0, # GPU 사용시\n",
    "        \"tree_method\": 'gpu_hist', 'gpu_id': 0,  # CPU 사용시\n",
    "        \"verbosity\": 0,\n",
    "        \"max_depth\": trial.suggest_int(\"max_depth\", 4, 10),\n",
    "        \"learning_rate\": trial.suggest_uniform('learning_rate', 0.08, 0.3),\n",
    "        'n_estimators': trial.suggest_int(\"n_estimators\",100,1000 ,step=50),\n",
    "        \"colsample_bytree\": trial.suggest_float(\"colsample_bytree\", 0.5, 0.7),\n",
    "        \"colsample_bylevel\": trial.suggest_float(\"colsample_bylevel\", 0.9, 1.0),\n",
    "        \"colsample_bynode\": trial.suggest_float(\"colsample_bynode\", 0.5, 1.0),\n",
    "        \"reg_lambda\": trial.suggest_loguniform(\"reg_lambda\", 1e-2, 1),\n",
    "        \"reg_alpha\": trial.suggest_loguniform(\"reg_alpha\", 1e-2, 1),\n",
    "        'subsample': trial.suggest_discrete_uniform('subsample', 0.6, 1.0, 0.05),     \n",
    "        'min_child_weight': trial.suggest_int('min_child_weight', 2, 15),\n",
    "        \"gamma\": trial.suggest_float(\"gamma\", 0.1, 1.0, log=True)\n",
    "    }"
   ]
  },
  {
   "cell_type": "markdown",
   "metadata": {
    "id": "ITsHoh3EoaQ_"
   },
   "source": [
    "Best Trial: score 0.8269007480183096,\n",
    "params {'max_depth': 4, 'learning_rate': 0.23077916004091537, 'n_estimators': 1000}"
   ]
  },
  {
   "cell_type": "code",
   "execution_count": null,
   "metadata": {
    "id": "Bk_Ut38s-GVk"
   },
   "outputs": [],
   "source": [
    "temp[['COMPONENT_ARBITRARY', 'YEAR']] = temp[['COMPONENT_ARBITRARY', 'YEAR']].astype('int')\n",
    "test[['COMPONENT_ARBITRARY', 'YEAR']] = test[['COMPONENT_ARBITRARY', 'YEAR']].astype('int')"
   ]
  },
  {
   "cell_type": "code",
   "execution_count": null,
   "metadata": {
    "id": "y10oUBbIfVTq"
   },
   "outputs": [],
   "source": [
    "# 데이터 분리에서 x_train , x_valid , y_train , y_valid \n",
    "#분리해놓은 것을 통해 최적 파라미터를 탐색한다.\n",
    "#Best Trial: score 0.8174589706374902,\n",
    "#params {'max_depth': 6, 'learning_rate': 0.0896457098432712, 'n_estimators': 800, 'colsample_bytree': 0.5569921809317748, 'colsample_bylevel': 0.9143406631538383, 'colsample_bynode': 0.5234481596946249, 'reg_lambda': 0.17888515294488294, 'reg_alpha': 0.12450084866814962, 'subsample': 0.95, 'min_child_weight': 4, 'gamma': 0.7192010329138374}\n",
    "# random sampler\n",
    "\n",
    "#Best Trial: score 0.8174589706374902,\n",
    "#params {'max_depth': 6, 'learning_rate': 0.0896457098432712, 'n_estimators': 800, 'colsample_bytree': 0.5569921809317748, 'colsample_bylevel': 0.9143406631538383, 'colsample_bynode': 0.5234481596946249, 'reg_lambda': 0.17888515294488294, 'reg_alpha': 0.12450084866814962, 'subsample': 0.95, 'min_child_weight': 4, 'gamma': 0.7192010329138374}\n",
    "sampler = TPESampler(seed=10)\n",
    "\n",
    "# define function\n",
    "def objective(trial):\n",
    "\n",
    "    cbrm_param = {\n",
    "        \"objective\": \"binary:logistic\",\n",
    "        \"booster\": 'gbtree',\n",
    "        #'tree_method':'gpu_hist', 'predictor':'gpu_predictor', 'gpu_id': 0, # GPU 사용시\n",
    "        \"tree_method\": 'gpu_hist', 'gpu_id': 0,  # CPU 사용시\n",
    "        \"verbosity\": 0,\n",
    "        \"max_depth\": trial.suggest_int(\"max_depth\", 4, 13),\n",
    "        \"learning_rate\": trial.suggest_uniform('learning_rate', 0.08, 0.3), #0.08 ,0.3\n",
    "        'n_estimators': trial.suggest_int(\"n_estimators\",100,2000 ,step=100),\n",
    "        \n",
    "    }\n",
    "\n",
    "    # Generate model\n",
    "   \n",
    "    model_cbrm = xgb.XGBClassifier(**cbrm_param  \n",
    "                        ,boost_from_average=False)\n",
    "\n",
    "    model_cbrm = model_cbrm.fit(x_train, y_train, eval_set=[(x_valid, y_valid)],early_stopping_rounds=200)\n",
    "                           \n",
    "\t# 평가지표 원하는 평가 지표가 있을 시 바꾸어 준다.\n",
    "    F1 = f1_score(y_valid, model_cbrm.predict(x_valid))\n",
    "    return F1\n",
    "\n",
    "#optuna_cbrm = optuna.create_study(direction='maximize', sampler=sampler)\n",
    "#optuna_cbrm.optimize(objective, n_trials=20)\n",
    "#'colsample_bytree': 0.6547660592421192, \n",
    "#'colsample_bylevel': 0.9039959208689977, \n",
    "#'colsample_bynode': 0.7147460892158192, \n",
    "#'reg_lambda': 0.04264358848236461, \n",
    "#'reg_alpha': 0.18749180329486492, \n",
    "#'subsample': 0.75, 'min_child_weight': 2,\n",
    "# 'gamma': 0.7584294257259844"
   ]
  },
  {
   "cell_type": "code",
   "execution_count": null,
   "metadata": {
    "colab": {
     "base_uri": "https://localhost:8080/"
    },
    "id": "OanG00gggWFh",
    "outputId": "78b79a54-8acd-4449-c619-4d87c7e063eb"
   },
   "outputs": [],
   "source": [
    "cbrm_trial = optuna_cbrm.best_trial\n",
    "cbrm_trial_params = cbrm_trial.params\n",
    "print('Best Trial: score {},\\nparams {}'.format(cbrm_trial.value, cbrm_trial_params))\n",
    "\n"
   ]
  },
  {
   "cell_type": "code",
   "execution_count": null,
   "metadata": {
    "id": "rWKG6V30W7jh"
   },
   "outputs": [],
   "source": []
  },
  {
   "cell_type": "code",
   "execution_count": null,
   "metadata": {
    "id": "LdiMc8Fa9XSS"
   },
   "outputs": [],
   "source": [
    "skf = StratifiedKFold(n_splits=5, shuffle=True, random_state=42)\n",
    "folds = []\n",
    "for train_idx, valid_idx in skf.split(temp, y):\n",
    "  folds.append((train_idx,valid_idx))"
   ]
  },
  {
   "cell_type": "code",
   "execution_count": null,
   "metadata": {
    "colab": {
     "base_uri": "https://localhost:8080/"
    },
    "id": "eFMXrR7U9XSS",
    "outputId": "aa16a804-31c3-494d-f069-338753d374bd"
   },
   "outputs": [],
   "source": [
    "random.seed(10)\n",
    "best_params=[]\n",
    "y_sum=y.copy()\n",
    "y_sum=y_sum.astype('float')\n",
    "y_sum=0\n",
    "for fold in range(5):\n",
    "  print(f'===================================={fold+1}============================================')\n",
    "  train_idx, valid_idx = folds[fold]\n",
    "  x_train = temp.iloc[train_idx].values \n",
    "  x_valid = temp.iloc[valid_idx].values\n",
    "  y_train = y.iloc[train_idx]\n",
    "  y_valid = y.iloc[valid_idx]\n",
    "  optuna_cbrm = optuna.create_study(direction='maximize', sampler=sampler)\n",
    "  optuna_cbrm.optimize(objective, n_trials=3)\n",
    "  cbrm_trial = optuna_cbrm.best_trial\n",
    "  cbrm_trial_params = cbrm_trial.params\n",
    "  best_params.append(cbrm_trial_params)\n",
    "  clf = xgb.XGBClassifier(**cbrm_trial.params,use_missing=False,boost_from_average=False)\n",
    "  clf.fit(x_train,y_train,eval_set=[(x_valid,y_valid)],early_stopping_rounds=60,verbose=True)\n",
    "  val_proba=clf.predict_proba(x_valid)[:,1]\n",
    "  y_sum= y_sum+val_proba\n",
    "\n",
    "\n",
    "  print(f'================================================================================\\n\\n')"
   ]
  },
  {
   "cell_type": "code",
   "execution_count": null,
   "metadata": {
    "colab": {
     "base_uri": "https://localhost:8080/"
    },
    "id": "ey29kC5EDhkf",
    "outputId": "b64bea58-3756-45b9-f8d0-d65db2d75a6f"
   },
   "outputs": [],
   "source": [
    "y_sum"
   ]
  },
  {
   "cell_type": "markdown",
   "metadata": {
    "id": "nO3_M4FIDuZ9"
   },
   "source": [
    "- catboost optuna"
   ]
  },
  {
   "cell_type": "code",
   "execution_count": null,
   "metadata": {
    "id": "U8sV1XBGECk2"
   },
   "outputs": [],
   "source": [
    "temp[['COMPONENT_ARBITRARY' ,'YEAR']]=temp[['COMPONENT_ARBITRARY' ,'YEAR']].astype('str')"
   ]
  },
  {
   "cell_type": "code",
   "execution_count": null,
   "metadata": {
    "id": "N5jv-W3pD6vG"
   },
   "outputs": [],
   "source": [
    "from sklearn.metrics import log_loss\n",
    "from catboost import CatBoostClassifier"
   ]
  },
  {
   "cell_type": "code",
   "execution_count": null,
   "metadata": {
    "id": "6GYj1Rg1byGR"
   },
   "outputs": [],
   "source": [
    "def objective(trial):\n",
    "  param = {\n",
    "      \"random_state\":42,\n",
    "      'learning_rate' : trial.suggest_loguniform('learning_rate', 0.01, 0.3),\n",
    "      'bagging_temperature' :trial.suggest_loguniform('bagging_temperature', 0.01, 100.00),\n",
    "      \"n_estimators\":trial.suggest_int(\"n_estimators\", 1000, 10000),\n",
    "      \"max_depth\":trial.suggest_int(\"max_depth\", 4, 16),\n",
    "      'random_strength' :trial.suggest_int('random_strength', 0, 100),\n",
    "      \"colsample_bylevel\":trial.suggest_float(\"colsample_bylevel\", 0.4, 1.0),\n",
    "      \"l2_leaf_reg\":trial.suggest_float(\"l2_leaf_reg\",1e-8,3e-5),\n",
    "      \"min_child_samples\": trial.suggest_int(\"min_child_samples\", 5, 100),\n",
    "      \"max_bin\": trial.suggest_int(\"max_bin\", 200, 500),\n",
    "      'od_type': trial.suggest_categorical('od_type', ['IncToDec', 'Iter']),\n",
    "  }\n",
    "\n",
    "  X_train, X_valid, y_train, y_valid = train_test_split(temp,y,test_size=0.2)\n",
    "  \n",
    "  cat_features =['COMPONENT_ARBITRARY' ,'YEAR']\n",
    "  cat = CatBoostClassifier(**param)\n",
    "  cat.fit(X_train, y_train,\n",
    "          eval_set=[(X_train, y_train), (X_valid,y_valid)],\n",
    "          early_stopping_rounds=50,cat_features=cat_features,\n",
    "          verbose=100)\n",
    "  cat_pred = cat.predict_proba(X_valid)\n",
    "  m_F1 = f1_score(y_valid, cat.predict(X_valid),average='macro')\n",
    "  \n",
    "  return m_F1"
   ]
  },
  {
   "cell_type": "code",
   "execution_count": null,
   "metadata": {
    "id": "Uv0QTcK-D5JQ"
   },
   "outputs": [],
   "source": [
    "sampler = TPESampler(seed=42)\n",
    "study = optuna.create_study(\n",
    "    study_name = 'cat_parameter_opt',\n",
    "    direction = 'maximize',\n",
    "    sampler = sampler,\n",
    ")\n",
    "study.optimize(objective, n_trials=10)\n",
    "print(\"Best Score:\",study.best_value)\n",
    "print(\"Best trial\",study.best_trial.params)"
   ]
  },
  {
   "cell_type": "markdown",
   "metadata": {
    "id": "CRkax8TpPTi-"
   },
   "source": [
    "- catboost kfold"
   ]
  },
  {
   "cell_type": "code",
   "execution_count": null,
   "metadata": {
    "id": "-W3sS8KzP0Bq"
   },
   "outputs": [],
   "source": [
    "import random"
   ]
  },
  {
   "cell_type": "code",
   "execution_count": null,
   "metadata": {
    "id": "D5qWFxQmPTRu"
   },
   "outputs": [],
   "source": [
    "skf = StratifiedKFold(n_splits=5, shuffle=True, random_state=42)\n",
    "folds = []\n",
    "for train_idx, valid_idx in skf.split(temp, y):\n",
    "  folds.append((train_idx,valid_idx))"
   ]
  },
  {
   "cell_type": "code",
   "execution_count": null,
   "metadata": {
    "id": "XPU_oVGGPWd1"
   },
   "outputs": [],
   "source": [
    "random.seed(42)\n",
    "cat_models={}\n",
    "\n",
    "cat_features =[0,2]\n",
    "cat_proba=np.zeros(shape=(14095,1))\n",
    "for fold in range(5):\n",
    "  print(f'===================================={fold+1}============================================')\n",
    "  train_idx, valid_idx = folds[fold]\n",
    "  X_train = temp.iloc[train_idx].values \n",
    "  X_valid = temp.iloc[valid_idx].values\n",
    "  y_train = y[train_idx]\n",
    "  y_valid = y[valid_idx]\n",
    "\n",
    "  cat = CatBoostClassifier(**study.best_params)\n",
    "  cat.fit(X_train, y_train,\n",
    "          eval_set=[(X_train, y_train), (X_valid,y_valid)],\n",
    "          early_stopping_rounds=35,cat_features=cat_features,\n",
    "          verbose=100)\n",
    "  cat_proba=cat_proba+cat.predict_proba(temp)\n",
    "  print(f'================================================================================\\n\\n')"
   ]
  },
  {
   "cell_type": "code",
   "execution_count": null,
   "metadata": {
    "id": "MdoKSrRnQD8T"
   },
   "outputs": [],
   "source": [
    "cat_proba=cat_proba/5.0"
   ]
  },
  {
   "cell_type": "code",
   "execution_count": null,
   "metadata": {
    "colab": {
     "base_uri": "https://localhost:8080/"
    },
    "id": "MLzayzL5SnvX",
    "outputId": "dc6f7f65-984f-4116-ebb2-0a10bf19dee6"
   },
   "outputs": [],
   "source": [
    "sum(np.where(cat_proba > 0.3, True, False))"
   ]
  },
  {
   "cell_type": "markdown",
   "metadata": {
    "id": "U1wycP-5dbio"
   },
   "source": [
    "#Optuna_Tuning ( Second_Regression)"
   ]
  },
  {
   "cell_type": "code",
   "execution_count": null,
   "metadata": {
    "id": "SltzSNIupItM"
   },
   "outputs": [],
   "source": [
    "from sklearn.metrics import mean_absolute_error"
   ]
  },
  {
   "cell_type": "code",
   "execution_count": null,
   "metadata": {
    "id": "WOv3wjTbdbip"
   },
   "outputs": [],
   "source": [
    "x_r_train.dtypes"
   ]
  },
  {
   "cell_type": "code",
   "execution_count": null,
   "metadata": {
    "id": "BeRysk9Ddbip"
   },
   "outputs": [],
   "source": [
    "# 데이터 분리에서 x_train , x_valid , y_train , y_valid \n",
    "#분리해놓은 것을 통해 최적 파라미터를 탐색한다.\n",
    "#Best Trial: score 0.8174589706374902,\n",
    "#params {'max_depth': 6, 'learning_rate': 0.0896457098432712, 'n_estimators': 800, 'colsample_bytree': 0.5569921809317748, 'colsample_bylevel': 0.9143406631538383, 'colsample_bynode': 0.5234481596946249, 'reg_lambda': 0.17888515294488294, 'reg_alpha': 0.12450084866814962, 'subsample': 0.95, 'min_child_weight': 4, 'gamma': 0.7192010329138374}\n",
    "# random sampler\n",
    "\n",
    "#Best Trial: score 0.8174589706374902,\n",
    "#params {'max_depth': 6, 'learning_rate': 0.0896457098432712, 'n_estimators': 800, 'colsample_bytree': 0.5569921809317748, 'colsample_bylevel': 0.9143406631538383, 'colsample_bynode': 0.5234481596946249, 'reg_lambda': 0.17888515294488294, 'reg_alpha': 0.12450084866814962, 'subsample': 0.95, 'min_child_weight': 4, 'gamma': 0.7192010329138374}\n",
    "sampler = TPESampler(seed=10)\n",
    "\n",
    "# define function\n",
    "def objective(trial):\n",
    "\n",
    "    cbrm_param = {\n",
    "         # 회귀\n",
    "        \"objective\": \"reg:squarederror\",\n",
    "        'tree_method':'gpu_hist',  # this parameter means using the GPU when training our model to speedup the training process\n",
    "        'lambda': trial.suggest_loguniform('lambda', 1e-3, 10.0),\n",
    "        'alpha': trial.suggest_loguniform('alpha', 1e-3, 10.0),\n",
    "        'colsample_bytree': trial.suggest_categorical('colsample_bytree', [0.3,0.4,0.5,0.6,0.7,0.8,0.9, 1.0]),\n",
    "        'subsample': trial.suggest_categorical('subsample', [0.4,0.5,0.6,0.7,0.8,1.0]),\n",
    "        'learning_rate': trial.suggest_categorical('learning_rate', [0.008,0.01,0.012,0.014,0.016,0.018, 0.02]),\n",
    "        'n_estimators': trial.suggest_int('n_estimators', 100, 2000,step=100),\n",
    "        \"max_depth\": trial.suggest_int(\"max_depth\", 4, 10),\n",
    "        'random_state': trial.suggest_categorical('random_state', [2020]),\n",
    "        'min_child_weight': trial.suggest_int('min_child_weight', 1, 300),\n",
    "    }\n",
    "\n",
    "    # Generate model\n",
    "   \n",
    "    model_cbrm_reg = xgb.XGBRegressor(**cbrm_param  \n",
    "                        ,boost_from_average=False)\n",
    "\n",
    "    model_cbrm_reg = model_cbrm_reg.fit(x_r_train, y_r_train, eval_set=[(x_r_valid, y_r_valid)],early_stopping_rounds=200)\n",
    "                           \n",
    "\t# 평가지표 원하는 평가 지표가 있을 시 바꾸어 준다.\n",
    "    mae = mean_absolute_error(y_r_valid, model_cbrm_reg.predict(x_r_valid))\n",
    "    return mae\n",
    "\n",
    "\n"
   ]
  },
  {
   "cell_type": "code",
   "execution_count": null,
   "metadata": {
    "colab": {
     "base_uri": "https://localhost:8080/"
    },
    "id": "-9sNrDtPdbip",
    "outputId": "2710e527-27ea-483b-f66a-3d485e8e9f0d"
   },
   "outputs": [],
   "source": [
    "cbrm_trial = optuna_cbrm.best_trial\n",
    "cbrm_trial_params = cbrm_trial.params\n",
    "print('Best Trial: score {},\\nparams {}'.format(cbrm_trial.value, cbrm_trial_params))\n",
    "\n"
   ]
  },
  {
   "cell_type": "markdown",
   "metadata": {
    "id": "7J-DkJn1zsTT"
   },
   "source": [
    "#LGB Regressor."
   ]
  },
  {
   "cell_type": "code",
   "execution_count": null,
   "metadata": {
    "colab": {
     "base_uri": "https://localhost:8080/"
    },
    "id": "BCNU5U8Wzpr6",
    "outputId": "88a0d0f6-35b6-4e5d-ed72-69a05ae348fc"
   },
   "outputs": [],
   "source": [
    "\n",
    "from optuna.samplers import TPESampler\n",
    "\n",
    "sampler = TPESampler(seed=10)\n",
    "\n",
    "def objective(trial):\n",
    "   \n",
    "\n",
    "    param = {\n",
    "        'objective': 'regression', # 회귀\n",
    "        \n",
    "        'metric': 'mae', \n",
    "        'max_depth': trial.suggest_int('max_depth',3, 15),\n",
    "        'learning_rate': trial.suggest_loguniform(\"learning_rate\", 1e-8, 1e-2),\n",
    "        'n_estimators': trial.suggest_int('n_estimators', 100, 3000),\n",
    "        'min_child_samples': trial.suggest_int('min_child_samples', 5, 100),\n",
    "        'subsample': trial.suggest_loguniform('subsample', 0.4, 1),\n",
    "    }\n",
    "\n",
    "    model = lgb.LGBMRegressor(**param)\n",
    "    lgb_model = model.fit(x_r_train, y_r_train, eval_set=[(x_r_valid, y_r_valid)], verbose=0, early_stopping_rounds=75)\n",
    "    mae = mean_absolute_error(y_r_valid, lgb_model.predict(x_r_valid))\n",
    "    return mae\n",
    "        \n",
    "study_lgb = optuna.create_study(direction='minimize', sampler=sampler)\n",
    "study_lgb.optimize(objective, n_trials=20)"
   ]
  },
  {
   "cell_type": "code",
   "execution_count": null,
   "metadata": {
    "colab": {
     "base_uri": "https://localhost:8080/"
    },
    "id": "spuBOhPlzpsC",
    "outputId": "9db2a997-950d-4427-9a05-29ad7c2c0996"
   },
   "outputs": [],
   "source": [
    "trial = study_lgb.best_trial\n",
    "trial_params = trial.params\n",
    "print('Best Trial: score {},\\nparams {}'.format(trial.value, trial_params))\n",
    "\n"
   ]
  }
 ],
 "metadata": {
  "accelerator": "GPU",
  "colab": {
   "collapsed_sections": [
    "SPCQQYfqbkIi"
   ],
   "machine_shape": "hm",
   "provenance": [],
   "toc_visible": true
  },
  "gpuClass": "standard",
  "kernelspec": {
   "display_name": "Python 3 (ipykernel)",
   "language": "python",
   "name": "python3"
  },
  "language_info": {
   "codemirror_mode": {
    "name": "ipython",
    "version": 3
   },
   "file_extension": ".py",
   "mimetype": "text/x-python",
   "name": "python",
   "nbconvert_exporter": "python",
   "pygments_lexer": "ipython3",
   "version": "3.10.9"
  },
  "widgets": {
   "application/vnd.jupyter.widget-state+json": {
    "03b340c229c947da997d22f4eee79e17": {
     "model_module": "@jupyter-widgets/base",
     "model_module_version": "1.2.0",
     "model_name": "LayoutModel",
     "state": {
      "_model_module": "@jupyter-widgets/base",
      "_model_module_version": "1.2.0",
      "_model_name": "LayoutModel",
      "_view_count": null,
      "_view_module": "@jupyter-widgets/base",
      "_view_module_version": "1.2.0",
      "_view_name": "LayoutView",
      "align_content": null,
      "align_items": null,
      "align_self": null,
      "border": null,
      "bottom": null,
      "display": null,
      "flex": null,
      "flex_flow": null,
      "grid_area": null,
      "grid_auto_columns": null,
      "grid_auto_flow": null,
      "grid_auto_rows": null,
      "grid_column": null,
      "grid_gap": null,
      "grid_row": null,
      "grid_template_areas": null,
      "grid_template_columns": null,
      "grid_template_rows": null,
      "height": null,
      "justify_content": null,
      "justify_items": null,
      "left": null,
      "margin": null,
      "max_height": null,
      "max_width": null,
      "min_height": null,
      "min_width": null,
      "object_fit": null,
      "object_position": null,
      "order": null,
      "overflow": null,
      "overflow_x": null,
      "overflow_y": null,
      "padding": null,
      "right": null,
      "top": null,
      "visibility": null,
      "width": null
     }
    },
    "071f52cfc6d841a8b415aaf4c8fa78c9": {
     "model_module": "@jupyter-widgets/controls",
     "model_module_version": "1.5.0",
     "model_name": "HTMLModel",
     "state": {
      "_dom_classes": [],
      "_model_module": "@jupyter-widgets/controls",
      "_model_module_version": "1.5.0",
      "_model_name": "HTMLModel",
      "_view_count": null,
      "_view_module": "@jupyter-widgets/controls",
      "_view_module_version": "1.5.0",
      "_view_name": "HTMLView",
      "description": "",
      "description_tooltip": null,
      "layout": "IPY_MODEL_c5cbebec12494107a3234f1192071acd",
      "placeholder": "​",
      "style": "IPY_MODEL_c6e0e71d77ef415b944a175fc911053a",
      "value": " 1/1 [00:00&lt;00:00,  2.27it/s]"
     }
    },
    "08e6c190c833447bb0cf4e313290723f": {
     "model_module": "@jupyter-widgets/controls",
     "model_module_version": "1.5.0",
     "model_name": "HTMLModel",
     "state": {
      "_dom_classes": [],
      "_model_module": "@jupyter-widgets/controls",
      "_model_module_version": "1.5.0",
      "_model_name": "HTMLModel",
      "_view_count": null,
      "_view_module": "@jupyter-widgets/controls",
      "_view_module_version": "1.5.0",
      "_view_name": "HTMLView",
      "description": "",
      "description_tooltip": null,
      "layout": "IPY_MODEL_5e665a296e4e4eacb02c7a01841adb2f",
      "placeholder": "​",
      "style": "IPY_MODEL_6b8a752499c348108e0fd9528475bea3",
      "value": " 1/1 [00:25&lt;00:00, 25.34s/it]"
     }
    },
    "0dff712ee0114affb0d75b74104c52c6": {
     "model_module": "@jupyter-widgets/controls",
     "model_module_version": "1.5.0",
     "model_name": "HTMLModel",
     "state": {
      "_dom_classes": [],
      "_model_module": "@jupyter-widgets/controls",
      "_model_module_version": "1.5.0",
      "_model_name": "HTMLModel",
      "_view_count": null,
      "_view_module": "@jupyter-widgets/controls",
      "_view_module_version": "1.5.0",
      "_view_name": "HTMLView",
      "description": "",
      "description_tooltip": null,
      "layout": "IPY_MODEL_befa706b4de14e238846532fbb9f4ae5",
      "placeholder": "​",
      "style": "IPY_MODEL_6b9e52b151da478882c1eab0d8b5739c",
      "value": "Summarize dataset: 100%"
     }
    },
    "0e433fe83dd24d33b9f6cd16649243c5": {
     "model_module": "@jupyter-widgets/controls",
     "model_module_version": "1.5.0",
     "model_name": "HBoxModel",
     "state": {
      "_dom_classes": [],
      "_model_module": "@jupyter-widgets/controls",
      "_model_module_version": "1.5.0",
      "_model_name": "HBoxModel",
      "_view_count": null,
      "_view_module": "@jupyter-widgets/controls",
      "_view_module_version": "1.5.0",
      "_view_name": "HBoxView",
      "box_style": "",
      "children": [
       "IPY_MODEL_0dff712ee0114affb0d75b74104c52c6",
       "IPY_MODEL_640e61fd16884dfe9caf69c63813b598",
       "IPY_MODEL_52e6e4ecb6d34a77b4763c63d7127d55"
      ],
      "layout": "IPY_MODEL_f784db6f45c647b299aadb6984a9d8cf"
     }
    },
    "18648f6532314cde8397a6df32403f53": {
     "model_module": "@jupyter-widgets/controls",
     "model_module_version": "1.5.0",
     "model_name": "HTMLModel",
     "state": {
      "_dom_classes": [],
      "_model_module": "@jupyter-widgets/controls",
      "_model_module_version": "1.5.0",
      "_model_name": "HTMLModel",
      "_view_count": null,
      "_view_module": "@jupyter-widgets/controls",
      "_view_module_version": "1.5.0",
      "_view_name": "HTMLView",
      "description": "",
      "description_tooltip": null,
      "layout": "IPY_MODEL_58a4abc727e5498fb487f1ceeb9a124e",
      "placeholder": "​",
      "style": "IPY_MODEL_5422d3b60b244d03a938a3c38478155c",
      "value": "Render HTML: 100%"
     }
    },
    "19a2af58d0d44c068f178fdd7f2876f9": {
     "model_module": "@jupyter-widgets/controls",
     "model_module_version": "1.5.0",
     "model_name": "HTMLModel",
     "state": {
      "_dom_classes": [],
      "_model_module": "@jupyter-widgets/controls",
      "_model_module_version": "1.5.0",
      "_model_name": "HTMLModel",
      "_view_count": null,
      "_view_module": "@jupyter-widgets/controls",
      "_view_module_version": "1.5.0",
      "_view_name": "HTMLView",
      "description": "",
      "description_tooltip": null,
      "layout": "IPY_MODEL_03b340c229c947da997d22f4eee79e17",
      "placeholder": "​",
      "style": "IPY_MODEL_977eb8dbb83e40bfaf734ed5c41efacf",
      "value": "Generate report structure: 100%"
     }
    },
    "3c4705c800eb4f2e844c4c3c2ebb7070": {
     "model_module": "@jupyter-widgets/controls",
     "model_module_version": "1.5.0",
     "model_name": "DescriptionStyleModel",
     "state": {
      "_model_module": "@jupyter-widgets/controls",
      "_model_module_version": "1.5.0",
      "_model_name": "DescriptionStyleModel",
      "_view_count": null,
      "_view_module": "@jupyter-widgets/base",
      "_view_module_version": "1.2.0",
      "_view_name": "StyleView",
      "description_width": ""
     }
    },
    "3cba9c31555b4b959592f1ca8e7014dd": {
     "model_module": "@jupyter-widgets/base",
     "model_module_version": "1.2.0",
     "model_name": "LayoutModel",
     "state": {
      "_model_module": "@jupyter-widgets/base",
      "_model_module_version": "1.2.0",
      "_model_name": "LayoutModel",
      "_view_count": null,
      "_view_module": "@jupyter-widgets/base",
      "_view_module_version": "1.2.0",
      "_view_name": "LayoutView",
      "align_content": null,
      "align_items": null,
      "align_self": null,
      "border": null,
      "bottom": null,
      "display": null,
      "flex": null,
      "flex_flow": null,
      "grid_area": null,
      "grid_auto_columns": null,
      "grid_auto_flow": null,
      "grid_auto_rows": null,
      "grid_column": null,
      "grid_gap": null,
      "grid_row": null,
      "grid_template_areas": null,
      "grid_template_columns": null,
      "grid_template_rows": null,
      "height": null,
      "justify_content": null,
      "justify_items": null,
      "left": null,
      "margin": null,
      "max_height": null,
      "max_width": null,
      "min_height": null,
      "min_width": null,
      "object_fit": null,
      "object_position": null,
      "order": null,
      "overflow": null,
      "overflow_x": null,
      "overflow_y": null,
      "padding": null,
      "right": null,
      "top": null,
      "visibility": null,
      "width": null
     }
    },
    "4935518981884b7ea71fe5bf50a960cf": {
     "model_module": "@jupyter-widgets/base",
     "model_module_version": "1.2.0",
     "model_name": "LayoutModel",
     "state": {
      "_model_module": "@jupyter-widgets/base",
      "_model_module_version": "1.2.0",
      "_model_name": "LayoutModel",
      "_view_count": null,
      "_view_module": "@jupyter-widgets/base",
      "_view_module_version": "1.2.0",
      "_view_name": "LayoutView",
      "align_content": null,
      "align_items": null,
      "align_self": null,
      "border": null,
      "bottom": null,
      "display": null,
      "flex": null,
      "flex_flow": null,
      "grid_area": null,
      "grid_auto_columns": null,
      "grid_auto_flow": null,
      "grid_auto_rows": null,
      "grid_column": null,
      "grid_gap": null,
      "grid_row": null,
      "grid_template_areas": null,
      "grid_template_columns": null,
      "grid_template_rows": null,
      "height": null,
      "justify_content": null,
      "justify_items": null,
      "left": null,
      "margin": null,
      "max_height": null,
      "max_width": null,
      "min_height": null,
      "min_width": null,
      "object_fit": null,
      "object_position": null,
      "order": null,
      "overflow": null,
      "overflow_x": null,
      "overflow_y": null,
      "padding": null,
      "right": null,
      "top": null,
      "visibility": null,
      "width": null
     }
    },
    "49f5c3c651184908be7c9e112e4a0220": {
     "model_module": "@jupyter-widgets/controls",
     "model_module_version": "1.5.0",
     "model_name": "ProgressStyleModel",
     "state": {
      "_model_module": "@jupyter-widgets/controls",
      "_model_module_version": "1.5.0",
      "_model_name": "ProgressStyleModel",
      "_view_count": null,
      "_view_module": "@jupyter-widgets/base",
      "_view_module_version": "1.2.0",
      "_view_name": "StyleView",
      "bar_color": null,
      "description_width": ""
     }
    },
    "4e3926c419f8420c9036d5789f907462": {
     "model_module": "@jupyter-widgets/controls",
     "model_module_version": "1.5.0",
     "model_name": "DescriptionStyleModel",
     "state": {
      "_model_module": "@jupyter-widgets/controls",
      "_model_module_version": "1.5.0",
      "_model_name": "DescriptionStyleModel",
      "_view_count": null,
      "_view_module": "@jupyter-widgets/base",
      "_view_module_version": "1.2.0",
      "_view_name": "StyleView",
      "description_width": ""
     }
    },
    "52e6e4ecb6d34a77b4763c63d7127d55": {
     "model_module": "@jupyter-widgets/controls",
     "model_module_version": "1.5.0",
     "model_name": "HTMLModel",
     "state": {
      "_dom_classes": [],
      "_model_module": "@jupyter-widgets/controls",
      "_model_module_version": "1.5.0",
      "_model_name": "HTMLModel",
      "_view_count": null,
      "_view_module": "@jupyter-widgets/controls",
      "_view_module_version": "1.5.0",
      "_view_name": "HTMLView",
      "description": "",
      "description_tooltip": null,
      "layout": "IPY_MODEL_797719294d32430a9c948500efae813d",
      "placeholder": "​",
      "style": "IPY_MODEL_8971e2c75e3c4df4ab426ba735c7ad4c",
      "value": " 2570/2570 [05:46&lt;00:00,  2.90it/s, Completed]"
     }
    },
    "5422d3b60b244d03a938a3c38478155c": {
     "model_module": "@jupyter-widgets/controls",
     "model_module_version": "1.5.0",
     "model_name": "DescriptionStyleModel",
     "state": {
      "_model_module": "@jupyter-widgets/controls",
      "_model_module_version": "1.5.0",
      "_model_name": "DescriptionStyleModel",
      "_view_count": null,
      "_view_module": "@jupyter-widgets/base",
      "_view_module_version": "1.2.0",
      "_view_name": "StyleView",
      "description_width": ""
     }
    },
    "58a4abc727e5498fb487f1ceeb9a124e": {
     "model_module": "@jupyter-widgets/base",
     "model_module_version": "1.2.0",
     "model_name": "LayoutModel",
     "state": {
      "_model_module": "@jupyter-widgets/base",
      "_model_module_version": "1.2.0",
      "_model_name": "LayoutModel",
      "_view_count": null,
      "_view_module": "@jupyter-widgets/base",
      "_view_module_version": "1.2.0",
      "_view_name": "LayoutView",
      "align_content": null,
      "align_items": null,
      "align_self": null,
      "border": null,
      "bottom": null,
      "display": null,
      "flex": null,
      "flex_flow": null,
      "grid_area": null,
      "grid_auto_columns": null,
      "grid_auto_flow": null,
      "grid_auto_rows": null,
      "grid_column": null,
      "grid_gap": null,
      "grid_row": null,
      "grid_template_areas": null,
      "grid_template_columns": null,
      "grid_template_rows": null,
      "height": null,
      "justify_content": null,
      "justify_items": null,
      "left": null,
      "margin": null,
      "max_height": null,
      "max_width": null,
      "min_height": null,
      "min_width": null,
      "object_fit": null,
      "object_position": null,
      "order": null,
      "overflow": null,
      "overflow_x": null,
      "overflow_y": null,
      "padding": null,
      "right": null,
      "top": null,
      "visibility": null,
      "width": null
     }
    },
    "5d292c2653cb46d7a335e47ab1240d72": {
     "model_module": "@jupyter-widgets/controls",
     "model_module_version": "1.5.0",
     "model_name": "HBoxModel",
     "state": {
      "_dom_classes": [],
      "_model_module": "@jupyter-widgets/controls",
      "_model_module_version": "1.5.0",
      "_model_name": "HBoxModel",
      "_view_count": null,
      "_view_module": "@jupyter-widgets/controls",
      "_view_module_version": "1.5.0",
      "_view_name": "HBoxView",
      "box_style": "",
      "children": [
       "IPY_MODEL_18648f6532314cde8397a6df32403f53",
       "IPY_MODEL_f0f433ddc6eb4ec8a2b8f6e97d1aedb1",
       "IPY_MODEL_e5788dcaebbe4bacadae53f9e2c5f59d"
      ],
      "layout": "IPY_MODEL_d25ee0c6c6e84405a13036c93db1c399"
     }
    },
    "5e665a296e4e4eacb02c7a01841adb2f": {
     "model_module": "@jupyter-widgets/base",
     "model_module_version": "1.2.0",
     "model_name": "LayoutModel",
     "state": {
      "_model_module": "@jupyter-widgets/base",
      "_model_module_version": "1.2.0",
      "_model_name": "LayoutModel",
      "_view_count": null,
      "_view_module": "@jupyter-widgets/base",
      "_view_module_version": "1.2.0",
      "_view_name": "LayoutView",
      "align_content": null,
      "align_items": null,
      "align_self": null,
      "border": null,
      "bottom": null,
      "display": null,
      "flex": null,
      "flex_flow": null,
      "grid_area": null,
      "grid_auto_columns": null,
      "grid_auto_flow": null,
      "grid_auto_rows": null,
      "grid_column": null,
      "grid_gap": null,
      "grid_row": null,
      "grid_template_areas": null,
      "grid_template_columns": null,
      "grid_template_rows": null,
      "height": null,
      "justify_content": null,
      "justify_items": null,
      "left": null,
      "margin": null,
      "max_height": null,
      "max_width": null,
      "min_height": null,
      "min_width": null,
      "object_fit": null,
      "object_position": null,
      "order": null,
      "overflow": null,
      "overflow_x": null,
      "overflow_y": null,
      "padding": null,
      "right": null,
      "top": null,
      "visibility": null,
      "width": null
     }
    },
    "640e61fd16884dfe9caf69c63813b598": {
     "model_module": "@jupyter-widgets/controls",
     "model_module_version": "1.5.0",
     "model_name": "FloatProgressModel",
     "state": {
      "_dom_classes": [],
      "_model_module": "@jupyter-widgets/controls",
      "_model_module_version": "1.5.0",
      "_model_name": "FloatProgressModel",
      "_view_count": null,
      "_view_module": "@jupyter-widgets/controls",
      "_view_module_version": "1.5.0",
      "_view_name": "ProgressView",
      "bar_style": "success",
      "description": "",
      "description_tooltip": null,
      "layout": "IPY_MODEL_f6b21eeb68834253bd7a9c221629c9e6",
      "max": 5,
      "min": 0,
      "orientation": "horizontal",
      "style": "IPY_MODEL_49f5c3c651184908be7c9e112e4a0220",
      "value": 5
     }
    },
    "6b8a752499c348108e0fd9528475bea3": {
     "model_module": "@jupyter-widgets/controls",
     "model_module_version": "1.5.0",
     "model_name": "DescriptionStyleModel",
     "state": {
      "_model_module": "@jupyter-widgets/controls",
      "_model_module_version": "1.5.0",
      "_model_name": "DescriptionStyleModel",
      "_view_count": null,
      "_view_module": "@jupyter-widgets/base",
      "_view_module_version": "1.2.0",
      "_view_name": "StyleView",
      "description_width": ""
     }
    },
    "6b9e52b151da478882c1eab0d8b5739c": {
     "model_module": "@jupyter-widgets/controls",
     "model_module_version": "1.5.0",
     "model_name": "DescriptionStyleModel",
     "state": {
      "_model_module": "@jupyter-widgets/controls",
      "_model_module_version": "1.5.0",
      "_model_name": "DescriptionStyleModel",
      "_view_count": null,
      "_view_module": "@jupyter-widgets/base",
      "_view_module_version": "1.2.0",
      "_view_name": "StyleView",
      "description_width": ""
     }
    },
    "7810bfab15d6485da68b9062b456a4a0": {
     "model_module": "@jupyter-widgets/controls",
     "model_module_version": "1.5.0",
     "model_name": "FloatProgressModel",
     "state": {
      "_dom_classes": [],
      "_model_module": "@jupyter-widgets/controls",
      "_model_module_version": "1.5.0",
      "_model_name": "FloatProgressModel",
      "_view_count": null,
      "_view_module": "@jupyter-widgets/controls",
      "_view_module_version": "1.5.0",
      "_view_name": "ProgressView",
      "bar_style": "success",
      "description": "",
      "description_tooltip": null,
      "layout": "IPY_MODEL_c3f0814f1b3843be8947c53dabb60c40",
      "max": 1,
      "min": 0,
      "orientation": "horizontal",
      "style": "IPY_MODEL_9d24937a4edd4016836d6de1aec43fe9",
      "value": 1
     }
    },
    "797719294d32430a9c948500efae813d": {
     "model_module": "@jupyter-widgets/base",
     "model_module_version": "1.2.0",
     "model_name": "LayoutModel",
     "state": {
      "_model_module": "@jupyter-widgets/base",
      "_model_module_version": "1.2.0",
      "_model_name": "LayoutModel",
      "_view_count": null,
      "_view_module": "@jupyter-widgets/base",
      "_view_module_version": "1.2.0",
      "_view_name": "LayoutView",
      "align_content": null,
      "align_items": null,
      "align_self": null,
      "border": null,
      "bottom": null,
      "display": null,
      "flex": null,
      "flex_flow": null,
      "grid_area": null,
      "grid_auto_columns": null,
      "grid_auto_flow": null,
      "grid_auto_rows": null,
      "grid_column": null,
      "grid_gap": null,
      "grid_row": null,
      "grid_template_areas": null,
      "grid_template_columns": null,
      "grid_template_rows": null,
      "height": null,
      "justify_content": null,
      "justify_items": null,
      "left": null,
      "margin": null,
      "max_height": null,
      "max_width": null,
      "min_height": null,
      "min_width": null,
      "object_fit": null,
      "object_position": null,
      "order": null,
      "overflow": null,
      "overflow_x": null,
      "overflow_y": null,
      "padding": null,
      "right": null,
      "top": null,
      "visibility": null,
      "width": null
     }
    },
    "7ad2fdb28eb74464b967499406c278a6": {
     "model_module": "@jupyter-widgets/base",
     "model_module_version": "1.2.0",
     "model_name": "LayoutModel",
     "state": {
      "_model_module": "@jupyter-widgets/base",
      "_model_module_version": "1.2.0",
      "_model_name": "LayoutModel",
      "_view_count": null,
      "_view_module": "@jupyter-widgets/base",
      "_view_module_version": "1.2.0",
      "_view_name": "LayoutView",
      "align_content": null,
      "align_items": null,
      "align_self": null,
      "border": null,
      "bottom": null,
      "display": null,
      "flex": null,
      "flex_flow": null,
      "grid_area": null,
      "grid_auto_columns": null,
      "grid_auto_flow": null,
      "grid_auto_rows": null,
      "grid_column": null,
      "grid_gap": null,
      "grid_row": null,
      "grid_template_areas": null,
      "grid_template_columns": null,
      "grid_template_rows": null,
      "height": null,
      "justify_content": null,
      "justify_items": null,
      "left": null,
      "margin": null,
      "max_height": null,
      "max_width": null,
      "min_height": null,
      "min_width": null,
      "object_fit": null,
      "object_position": null,
      "order": null,
      "overflow": null,
      "overflow_x": null,
      "overflow_y": null,
      "padding": null,
      "right": null,
      "top": null,
      "visibility": null,
      "width": null
     }
    },
    "8971e2c75e3c4df4ab426ba735c7ad4c": {
     "model_module": "@jupyter-widgets/controls",
     "model_module_version": "1.5.0",
     "model_name": "DescriptionStyleModel",
     "state": {
      "_model_module": "@jupyter-widgets/controls",
      "_model_module_version": "1.5.0",
      "_model_name": "DescriptionStyleModel",
      "_view_count": null,
      "_view_module": "@jupyter-widgets/base",
      "_view_module_version": "1.2.0",
      "_view_name": "StyleView",
      "description_width": ""
     }
    },
    "977eb8dbb83e40bfaf734ed5c41efacf": {
     "model_module": "@jupyter-widgets/controls",
     "model_module_version": "1.5.0",
     "model_name": "DescriptionStyleModel",
     "state": {
      "_model_module": "@jupyter-widgets/controls",
      "_model_module_version": "1.5.0",
      "_model_name": "DescriptionStyleModel",
      "_view_count": null,
      "_view_module": "@jupyter-widgets/base",
      "_view_module_version": "1.2.0",
      "_view_name": "StyleView",
      "description_width": ""
     }
    },
    "989b6a7e0c604d35b79b8f6f846aa4a7": {
     "model_module": "@jupyter-widgets/controls",
     "model_module_version": "1.5.0",
     "model_name": "FloatProgressModel",
     "state": {
      "_dom_classes": [],
      "_model_module": "@jupyter-widgets/controls",
      "_model_module_version": "1.5.0",
      "_model_name": "FloatProgressModel",
      "_view_count": null,
      "_view_module": "@jupyter-widgets/controls",
      "_view_module_version": "1.5.0",
      "_view_name": "ProgressView",
      "bar_style": "success",
      "description": "",
      "description_tooltip": null,
      "layout": "IPY_MODEL_f0d7a06bd5844feeb69b6ef7dc42a9f3",
      "max": 1,
      "min": 0,
      "orientation": "horizontal",
      "style": "IPY_MODEL_99c57d2f731a45faaee9de88d411b4c9",
      "value": 1
     }
    },
    "99c57d2f731a45faaee9de88d411b4c9": {
     "model_module": "@jupyter-widgets/controls",
     "model_module_version": "1.5.0",
     "model_name": "ProgressStyleModel",
     "state": {
      "_model_module": "@jupyter-widgets/controls",
      "_model_module_version": "1.5.0",
      "_model_name": "ProgressStyleModel",
      "_view_count": null,
      "_view_module": "@jupyter-widgets/base",
      "_view_module_version": "1.2.0",
      "_view_name": "StyleView",
      "bar_color": null,
      "description_width": ""
     }
    },
    "9d24937a4edd4016836d6de1aec43fe9": {
     "model_module": "@jupyter-widgets/controls",
     "model_module_version": "1.5.0",
     "model_name": "ProgressStyleModel",
     "state": {
      "_model_module": "@jupyter-widgets/controls",
      "_model_module_version": "1.5.0",
      "_model_name": "ProgressStyleModel",
      "_view_count": null,
      "_view_module": "@jupyter-widgets/base",
      "_view_module_version": "1.2.0",
      "_view_name": "StyleView",
      "bar_color": null,
      "description_width": ""
     }
    },
    "abfafb94cb574835ac388cefe3cea5ef": {
     "model_module": "@jupyter-widgets/controls",
     "model_module_version": "1.5.0",
     "model_name": "HBoxModel",
     "state": {
      "_dom_classes": [],
      "_model_module": "@jupyter-widgets/controls",
      "_model_module_version": "1.5.0",
      "_model_name": "HBoxModel",
      "_view_count": null,
      "_view_module": "@jupyter-widgets/controls",
      "_view_module_version": "1.5.0",
      "_view_name": "HBoxView",
      "box_style": "",
      "children": [
       "IPY_MODEL_f31b86d61b5247c58e2cf2ce48e31396",
       "IPY_MODEL_7810bfab15d6485da68b9062b456a4a0",
       "IPY_MODEL_071f52cfc6d841a8b415aaf4c8fa78c9"
      ],
      "layout": "IPY_MODEL_7ad2fdb28eb74464b967499406c278a6"
     }
    },
    "ad21f2a9e00d4a3f8702745c0a389871": {
     "model_module": "@jupyter-widgets/base",
     "model_module_version": "1.2.0",
     "model_name": "LayoutModel",
     "state": {
      "_model_module": "@jupyter-widgets/base",
      "_model_module_version": "1.2.0",
      "_model_name": "LayoutModel",
      "_view_count": null,
      "_view_module": "@jupyter-widgets/base",
      "_view_module_version": "1.2.0",
      "_view_name": "LayoutView",
      "align_content": null,
      "align_items": null,
      "align_self": null,
      "border": null,
      "bottom": null,
      "display": null,
      "flex": null,
      "flex_flow": null,
      "grid_area": null,
      "grid_auto_columns": null,
      "grid_auto_flow": null,
      "grid_auto_rows": null,
      "grid_column": null,
      "grid_gap": null,
      "grid_row": null,
      "grid_template_areas": null,
      "grid_template_columns": null,
      "grid_template_rows": null,
      "height": null,
      "justify_content": null,
      "justify_items": null,
      "left": null,
      "margin": null,
      "max_height": null,
      "max_width": null,
      "min_height": null,
      "min_width": null,
      "object_fit": null,
      "object_position": null,
      "order": null,
      "overflow": null,
      "overflow_x": null,
      "overflow_y": null,
      "padding": null,
      "right": null,
      "top": null,
      "visibility": null,
      "width": null
     }
    },
    "befa706b4de14e238846532fbb9f4ae5": {
     "model_module": "@jupyter-widgets/base",
     "model_module_version": "1.2.0",
     "model_name": "LayoutModel",
     "state": {
      "_model_module": "@jupyter-widgets/base",
      "_model_module_version": "1.2.0",
      "_model_name": "LayoutModel",
      "_view_count": null,
      "_view_module": "@jupyter-widgets/base",
      "_view_module_version": "1.2.0",
      "_view_name": "LayoutView",
      "align_content": null,
      "align_items": null,
      "align_self": null,
      "border": null,
      "bottom": null,
      "display": null,
      "flex": null,
      "flex_flow": null,
      "grid_area": null,
      "grid_auto_columns": null,
      "grid_auto_flow": null,
      "grid_auto_rows": null,
      "grid_column": null,
      "grid_gap": null,
      "grid_row": null,
      "grid_template_areas": null,
      "grid_template_columns": null,
      "grid_template_rows": null,
      "height": null,
      "justify_content": null,
      "justify_items": null,
      "left": null,
      "margin": null,
      "max_height": null,
      "max_width": null,
      "min_height": null,
      "min_width": null,
      "object_fit": null,
      "object_position": null,
      "order": null,
      "overflow": null,
      "overflow_x": null,
      "overflow_y": null,
      "padding": null,
      "right": null,
      "top": null,
      "visibility": null,
      "width": null
     }
    },
    "c3f0814f1b3843be8947c53dabb60c40": {
     "model_module": "@jupyter-widgets/base",
     "model_module_version": "1.2.0",
     "model_name": "LayoutModel",
     "state": {
      "_model_module": "@jupyter-widgets/base",
      "_model_module_version": "1.2.0",
      "_model_name": "LayoutModel",
      "_view_count": null,
      "_view_module": "@jupyter-widgets/base",
      "_view_module_version": "1.2.0",
      "_view_name": "LayoutView",
      "align_content": null,
      "align_items": null,
      "align_self": null,
      "border": null,
      "bottom": null,
      "display": null,
      "flex": null,
      "flex_flow": null,
      "grid_area": null,
      "grid_auto_columns": null,
      "grid_auto_flow": null,
      "grid_auto_rows": null,
      "grid_column": null,
      "grid_gap": null,
      "grid_row": null,
      "grid_template_areas": null,
      "grid_template_columns": null,
      "grid_template_rows": null,
      "height": null,
      "justify_content": null,
      "justify_items": null,
      "left": null,
      "margin": null,
      "max_height": null,
      "max_width": null,
      "min_height": null,
      "min_width": null,
      "object_fit": null,
      "object_position": null,
      "order": null,
      "overflow": null,
      "overflow_x": null,
      "overflow_y": null,
      "padding": null,
      "right": null,
      "top": null,
      "visibility": null,
      "width": null
     }
    },
    "c5cbebec12494107a3234f1192071acd": {
     "model_module": "@jupyter-widgets/base",
     "model_module_version": "1.2.0",
     "model_name": "LayoutModel",
     "state": {
      "_model_module": "@jupyter-widgets/base",
      "_model_module_version": "1.2.0",
      "_model_name": "LayoutModel",
      "_view_count": null,
      "_view_module": "@jupyter-widgets/base",
      "_view_module_version": "1.2.0",
      "_view_name": "LayoutView",
      "align_content": null,
      "align_items": null,
      "align_self": null,
      "border": null,
      "bottom": null,
      "display": null,
      "flex": null,
      "flex_flow": null,
      "grid_area": null,
      "grid_auto_columns": null,
      "grid_auto_flow": null,
      "grid_auto_rows": null,
      "grid_column": null,
      "grid_gap": null,
      "grid_row": null,
      "grid_template_areas": null,
      "grid_template_columns": null,
      "grid_template_rows": null,
      "height": null,
      "justify_content": null,
      "justify_items": null,
      "left": null,
      "margin": null,
      "max_height": null,
      "max_width": null,
      "min_height": null,
      "min_width": null,
      "object_fit": null,
      "object_position": null,
      "order": null,
      "overflow": null,
      "overflow_x": null,
      "overflow_y": null,
      "padding": null,
      "right": null,
      "top": null,
      "visibility": null,
      "width": null
     }
    },
    "c6e0e71d77ef415b944a175fc911053a": {
     "model_module": "@jupyter-widgets/controls",
     "model_module_version": "1.5.0",
     "model_name": "DescriptionStyleModel",
     "state": {
      "_model_module": "@jupyter-widgets/controls",
      "_model_module_version": "1.5.0",
      "_model_name": "DescriptionStyleModel",
      "_view_count": null,
      "_view_module": "@jupyter-widgets/base",
      "_view_module_version": "1.2.0",
      "_view_name": "StyleView",
      "description_width": ""
     }
    },
    "c711927fc0164bfbaadba8dd125f60df": {
     "model_module": "@jupyter-widgets/base",
     "model_module_version": "1.2.0",
     "model_name": "LayoutModel",
     "state": {
      "_model_module": "@jupyter-widgets/base",
      "_model_module_version": "1.2.0",
      "_model_name": "LayoutModel",
      "_view_count": null,
      "_view_module": "@jupyter-widgets/base",
      "_view_module_version": "1.2.0",
      "_view_name": "LayoutView",
      "align_content": null,
      "align_items": null,
      "align_self": null,
      "border": null,
      "bottom": null,
      "display": null,
      "flex": null,
      "flex_flow": null,
      "grid_area": null,
      "grid_auto_columns": null,
      "grid_auto_flow": null,
      "grid_auto_rows": null,
      "grid_column": null,
      "grid_gap": null,
      "grid_row": null,
      "grid_template_areas": null,
      "grid_template_columns": null,
      "grid_template_rows": null,
      "height": null,
      "justify_content": null,
      "justify_items": null,
      "left": null,
      "margin": null,
      "max_height": null,
      "max_width": null,
      "min_height": null,
      "min_width": null,
      "object_fit": null,
      "object_position": null,
      "order": null,
      "overflow": null,
      "overflow_x": null,
      "overflow_y": null,
      "padding": null,
      "right": null,
      "top": null,
      "visibility": null,
      "width": null
     }
    },
    "cc471a068aaf4bf6b8df2b977a13e04f": {
     "model_module": "@jupyter-widgets/controls",
     "model_module_version": "1.5.0",
     "model_name": "HBoxModel",
     "state": {
      "_dom_classes": [],
      "_model_module": "@jupyter-widgets/controls",
      "_model_module_version": "1.5.0",
      "_model_name": "HBoxModel",
      "_view_count": null,
      "_view_module": "@jupyter-widgets/controls",
      "_view_module_version": "1.5.0",
      "_view_name": "HBoxView",
      "box_style": "",
      "children": [
       "IPY_MODEL_19a2af58d0d44c068f178fdd7f2876f9",
       "IPY_MODEL_989b6a7e0c604d35b79b8f6f846aa4a7",
       "IPY_MODEL_08e6c190c833447bb0cf4e313290723f"
      ],
      "layout": "IPY_MODEL_4935518981884b7ea71fe5bf50a960cf"
     }
    },
    "d25ee0c6c6e84405a13036c93db1c399": {
     "model_module": "@jupyter-widgets/base",
     "model_module_version": "1.2.0",
     "model_name": "LayoutModel",
     "state": {
      "_model_module": "@jupyter-widgets/base",
      "_model_module_version": "1.2.0",
      "_model_name": "LayoutModel",
      "_view_count": null,
      "_view_module": "@jupyter-widgets/base",
      "_view_module_version": "1.2.0",
      "_view_name": "LayoutView",
      "align_content": null,
      "align_items": null,
      "align_self": null,
      "border": null,
      "bottom": null,
      "display": null,
      "flex": null,
      "flex_flow": null,
      "grid_area": null,
      "grid_auto_columns": null,
      "grid_auto_flow": null,
      "grid_auto_rows": null,
      "grid_column": null,
      "grid_gap": null,
      "grid_row": null,
      "grid_template_areas": null,
      "grid_template_columns": null,
      "grid_template_rows": null,
      "height": null,
      "justify_content": null,
      "justify_items": null,
      "left": null,
      "margin": null,
      "max_height": null,
      "max_width": null,
      "min_height": null,
      "min_width": null,
      "object_fit": null,
      "object_position": null,
      "order": null,
      "overflow": null,
      "overflow_x": null,
      "overflow_y": null,
      "padding": null,
      "right": null,
      "top": null,
      "visibility": null,
      "width": null
     }
    },
    "de9f28e59e9847e2a789a5c091e6816d": {
     "model_module": "@jupyter-widgets/controls",
     "model_module_version": "1.5.0",
     "model_name": "ProgressStyleModel",
     "state": {
      "_model_module": "@jupyter-widgets/controls",
      "_model_module_version": "1.5.0",
      "_model_name": "ProgressStyleModel",
      "_view_count": null,
      "_view_module": "@jupyter-widgets/base",
      "_view_module_version": "1.2.0",
      "_view_name": "StyleView",
      "bar_color": null,
      "description_width": ""
     }
    },
    "e5788dcaebbe4bacadae53f9e2c5f59d": {
     "model_module": "@jupyter-widgets/controls",
     "model_module_version": "1.5.0",
     "model_name": "HTMLModel",
     "state": {
      "_dom_classes": [],
      "_model_module": "@jupyter-widgets/controls",
      "_model_module_version": "1.5.0",
      "_model_name": "HTMLModel",
      "_view_count": null,
      "_view_module": "@jupyter-widgets/controls",
      "_view_module_version": "1.5.0",
      "_view_name": "HTMLView",
      "description": "",
      "description_tooltip": null,
      "layout": "IPY_MODEL_3cba9c31555b4b959592f1ca8e7014dd",
      "placeholder": "​",
      "style": "IPY_MODEL_3c4705c800eb4f2e844c4c3c2ebb7070",
      "value": " 1/1 [00:59&lt;00:00, 59.32s/it]"
     }
    },
    "f0d7a06bd5844feeb69b6ef7dc42a9f3": {
     "model_module": "@jupyter-widgets/base",
     "model_module_version": "1.2.0",
     "model_name": "LayoutModel",
     "state": {
      "_model_module": "@jupyter-widgets/base",
      "_model_module_version": "1.2.0",
      "_model_name": "LayoutModel",
      "_view_count": null,
      "_view_module": "@jupyter-widgets/base",
      "_view_module_version": "1.2.0",
      "_view_name": "LayoutView",
      "align_content": null,
      "align_items": null,
      "align_self": null,
      "border": null,
      "bottom": null,
      "display": null,
      "flex": null,
      "flex_flow": null,
      "grid_area": null,
      "grid_auto_columns": null,
      "grid_auto_flow": null,
      "grid_auto_rows": null,
      "grid_column": null,
      "grid_gap": null,
      "grid_row": null,
      "grid_template_areas": null,
      "grid_template_columns": null,
      "grid_template_rows": null,
      "height": null,
      "justify_content": null,
      "justify_items": null,
      "left": null,
      "margin": null,
      "max_height": null,
      "max_width": null,
      "min_height": null,
      "min_width": null,
      "object_fit": null,
      "object_position": null,
      "order": null,
      "overflow": null,
      "overflow_x": null,
      "overflow_y": null,
      "padding": null,
      "right": null,
      "top": null,
      "visibility": null,
      "width": null
     }
    },
    "f0f433ddc6eb4ec8a2b8f6e97d1aedb1": {
     "model_module": "@jupyter-widgets/controls",
     "model_module_version": "1.5.0",
     "model_name": "FloatProgressModel",
     "state": {
      "_dom_classes": [],
      "_model_module": "@jupyter-widgets/controls",
      "_model_module_version": "1.5.0",
      "_model_name": "FloatProgressModel",
      "_view_count": null,
      "_view_module": "@jupyter-widgets/controls",
      "_view_module_version": "1.5.0",
      "_view_name": "ProgressView",
      "bar_style": "success",
      "description": "",
      "description_tooltip": null,
      "layout": "IPY_MODEL_ad21f2a9e00d4a3f8702745c0a389871",
      "max": 1,
      "min": 0,
      "orientation": "horizontal",
      "style": "IPY_MODEL_de9f28e59e9847e2a789a5c091e6816d",
      "value": 1
     }
    },
    "f31b86d61b5247c58e2cf2ce48e31396": {
     "model_module": "@jupyter-widgets/controls",
     "model_module_version": "1.5.0",
     "model_name": "HTMLModel",
     "state": {
      "_dom_classes": [],
      "_model_module": "@jupyter-widgets/controls",
      "_model_module_version": "1.5.0",
      "_model_name": "HTMLModel",
      "_view_count": null,
      "_view_module": "@jupyter-widgets/controls",
      "_view_module_version": "1.5.0",
      "_view_name": "HTMLView",
      "description": "",
      "description_tooltip": null,
      "layout": "IPY_MODEL_c711927fc0164bfbaadba8dd125f60df",
      "placeholder": "​",
      "style": "IPY_MODEL_4e3926c419f8420c9036d5789f907462",
      "value": "Export report to file: 100%"
     }
    },
    "f6b21eeb68834253bd7a9c221629c9e6": {
     "model_module": "@jupyter-widgets/base",
     "model_module_version": "1.2.0",
     "model_name": "LayoutModel",
     "state": {
      "_model_module": "@jupyter-widgets/base",
      "_model_module_version": "1.2.0",
      "_model_name": "LayoutModel",
      "_view_count": null,
      "_view_module": "@jupyter-widgets/base",
      "_view_module_version": "1.2.0",
      "_view_name": "LayoutView",
      "align_content": null,
      "align_items": null,
      "align_self": null,
      "border": null,
      "bottom": null,
      "display": null,
      "flex": null,
      "flex_flow": null,
      "grid_area": null,
      "grid_auto_columns": null,
      "grid_auto_flow": null,
      "grid_auto_rows": null,
      "grid_column": null,
      "grid_gap": null,
      "grid_row": null,
      "grid_template_areas": null,
      "grid_template_columns": null,
      "grid_template_rows": null,
      "height": null,
      "justify_content": null,
      "justify_items": null,
      "left": null,
      "margin": null,
      "max_height": null,
      "max_width": null,
      "min_height": null,
      "min_width": null,
      "object_fit": null,
      "object_position": null,
      "order": null,
      "overflow": null,
      "overflow_x": null,
      "overflow_y": null,
      "padding": null,
      "right": null,
      "top": null,
      "visibility": null,
      "width": null
     }
    },
    "f784db6f45c647b299aadb6984a9d8cf": {
     "model_module": "@jupyter-widgets/base",
     "model_module_version": "1.2.0",
     "model_name": "LayoutModel",
     "state": {
      "_model_module": "@jupyter-widgets/base",
      "_model_module_version": "1.2.0",
      "_model_name": "LayoutModel",
      "_view_count": null,
      "_view_module": "@jupyter-widgets/base",
      "_view_module_version": "1.2.0",
      "_view_name": "LayoutView",
      "align_content": null,
      "align_items": null,
      "align_self": null,
      "border": null,
      "bottom": null,
      "display": null,
      "flex": null,
      "flex_flow": null,
      "grid_area": null,
      "grid_auto_columns": null,
      "grid_auto_flow": null,
      "grid_auto_rows": null,
      "grid_column": null,
      "grid_gap": null,
      "grid_row": null,
      "grid_template_areas": null,
      "grid_template_columns": null,
      "grid_template_rows": null,
      "height": null,
      "justify_content": null,
      "justify_items": null,
      "left": null,
      "margin": null,
      "max_height": null,
      "max_width": null,
      "min_height": null,
      "min_width": null,
      "object_fit": null,
      "object_position": null,
      "order": null,
      "overflow": null,
      "overflow_x": null,
      "overflow_y": null,
      "padding": null,
      "right": null,
      "top": null,
      "visibility": null,
      "width": null
     }
    }
   }
  }
 },
 "nbformat": 4,
 "nbformat_minor": 1
}
