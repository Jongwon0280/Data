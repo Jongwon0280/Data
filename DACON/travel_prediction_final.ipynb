{
  "cells": [
    {
      "cell_type": "code",
      "execution_count": null,
      "metadata": {
        "colab": {
          "base_uri": "https://localhost:8080/"
        },
        "id": "L87S5e_ygjZ7",
        "outputId": "a3c94bac-dcf5-4012-fa43-5ce1dfd3b808"
      },
      "outputs": [
        {
          "name": "stdout",
          "output_type": "stream",
          "text": [
            "Looking in indexes: https://pypi.org/simple, https://us-python.pkg.dev/colab-wheels/public/simple/\n",
            "Collecting anaconda\n",
            "  Downloading anaconda-0.0.1.1.tar.gz (726 bytes)\n",
            "Building wheels for collected packages: anaconda\n",
            "  Building wheel for anaconda (setup.py) ... \u001b[?25l\u001b[?25hdone\n",
            "  Created wheel for anaconda: filename=anaconda-0.0.1.1-py3-none-any.whl size=1124 sha256=b29beffdc85f7086e5b88898a26b3620fff5453ca1bd840b7c410bf87eb7da66\n",
            "  Stored in directory: /root/.cache/pip/wheels/70/29/df/a691ce9377d2b9b8ad2659144a1c4c51c216f2d8037b72dbc2\n",
            "Successfully built anaconda\n",
            "Installing collected packages: anaconda\n",
            "Successfully installed anaconda-0.0.1.1\n"
          ]
        }
      ],
      "source": [
        "!pip install anaconda"
      ]
    },
    {
      "cell_type": "markdown",
      "metadata": {
        "id": "GeJYF4k2keFG"
      },
      "source": [
        "### 한글 폰트 사용."
      ]
    },
    {
      "cell_type": "code",
      "execution_count": null,
      "metadata": {
        "colab": {
          "base_uri": "https://localhost:8080/"
        },
        "id": "gEAQsl0-jd0a",
        "outputId": "6438e405-fe50-4b85-daff-8d8d94be4ce4"
      },
      "outputs": [
        {
          "output_type": "stream",
          "name": "stdout",
          "text": [
            "Looking in indexes: https://pypi.org/simple, https://us-python.pkg.dev/colab-wheels/public/simple/\n",
            "Requirement already satisfied: matplotlib in /usr/local/lib/python3.7/dist-packages (3.5.3)\n",
            "Requirement already satisfied: packaging>=20.0 in /usr/local/lib/python3.7/dist-packages (from matplotlib) (21.3)\n",
            "Requirement already satisfied: kiwisolver>=1.0.1 in /usr/local/lib/python3.7/dist-packages (from matplotlib) (1.4.4)\n",
            "Requirement already satisfied: pillow>=6.2.0 in /usr/local/lib/python3.7/dist-packages (from matplotlib) (7.1.2)\n",
            "Requirement already satisfied: pyparsing>=2.2.1 in /usr/local/lib/python3.7/dist-packages (from matplotlib) (3.0.9)\n",
            "Requirement already satisfied: fonttools>=4.22.0 in /usr/local/lib/python3.7/dist-packages (from matplotlib) (4.37.1)\n",
            "Requirement already satisfied: cycler>=0.10 in /usr/local/lib/python3.7/dist-packages (from matplotlib) (0.11.0)\n",
            "Requirement already satisfied: numpy>=1.17 in /usr/local/lib/python3.7/dist-packages (from matplotlib) (1.21.6)\n",
            "Requirement already satisfied: python-dateutil>=2.7 in /usr/local/lib/python3.7/dist-packages (from matplotlib) (2.8.2)\n",
            "Requirement already satisfied: typing-extensions in /usr/local/lib/python3.7/dist-packages (from kiwisolver>=1.0.1->matplotlib) (4.1.1)\n",
            "Requirement already satisfied: six>=1.5 in /usr/local/lib/python3.7/dist-packages (from python-dateutil>=2.7->matplotlib) (1.15.0)\n",
            "Reading package lists... Done\n",
            "Building dependency tree       \n",
            "Reading state information... Done\n",
            "fonts-nanum is already the newest version (20170925-1).\n",
            "The following package was automatically installed and is no longer required:\n",
            "  libnvidia-common-460\n",
            "Use 'sudo apt autoremove' to remove it.\n",
            "0 upgraded, 0 newly installed, 0 to remove and 20 not upgraded.\n",
            "/usr/share/fonts: caching, new cache contents: 0 fonts, 1 dirs\n",
            "/usr/share/fonts/truetype: caching, new cache contents: 0 fonts, 3 dirs\n",
            "/usr/share/fonts/truetype/humor-sans: caching, new cache contents: 1 fonts, 0 dirs\n",
            "/usr/share/fonts/truetype/liberation: caching, new cache contents: 16 fonts, 0 dirs\n",
            "/usr/share/fonts/truetype/nanum: caching, new cache contents: 10 fonts, 0 dirs\n",
            "/usr/local/share/fonts: caching, new cache contents: 0 fonts, 0 dirs\n",
            "/root/.local/share/fonts: skipping, no such directory\n",
            "/root/.fonts: skipping, no such directory\n",
            "/var/cache/fontconfig: cleaning cache directory\n",
            "/root/.cache/fontconfig: not cleaning non-existent cache directory\n",
            "/root/.fontconfig: not cleaning non-existent cache directory\n",
            "fc-cache: succeeded\n"
          ]
        }
      ],
      "source": [
        "!pip install matplotlib -U\n",
        "!sudo apt-get install -y fonts-nanum\n",
        "!sudo fc-cache -fv\n",
        "!rm ~/.cache/matplotlib -rf"
      ]
    },
    {
      "cell_type": "code",
      "execution_count": null,
      "metadata": {
        "id": "YKi9hpkMkdPS"
      },
      "outputs": [],
      "source": [
        "import matplotlib.pyplot as plt\n",
        "plt.rcParams['font.family']=['NanumGothic','sans-serif']\n",
        "plt.rcParams['axes.unicode_minus']=False"
      ]
    },
    {
      "cell_type": "markdown",
      "metadata": {
        "id": "HgMN0kKZpndy"
      },
      "source": [
        "'id' 컬럼을 인덱스로 사용하기."
      ]
    },
    {
      "cell_type": "code",
      "execution_count": null,
      "metadata": {
        "colab": {
          "base_uri": "https://localhost:8080/",
          "height": 388
        },
        "id": "3qW2hUDtlXpT",
        "outputId": "7421dc75-ef94-40c9-eb6b-baacd0c83a35"
      },
      "outputs": [
        {
          "output_type": "execute_result",
          "data": {
            "text/plain": [
              "     Age    TypeofContact  CityTier  DurationOfPitch      Occupation  Gender  \\\n",
              "id                                                                             \n",
              "0   32.0  Company Invited         3              NaN  Small Business    Male   \n",
              "1   46.0     Self Enquiry         2             11.0  Small Business    Male   \n",
              "2   37.0     Self Enquiry         3             22.0  Small Business    Male   \n",
              "3   43.0     Self Enquiry         1             36.0  Small Business    Male   \n",
              "4   25.0     Self Enquiry         3              7.0  Large Business  Female   \n",
              "\n",
              "    NumberOfPersonVisiting  NumberOfFollowups ProductPitched  \\\n",
              "id                                                             \n",
              "0                        2                5.0         Deluxe   \n",
              "1                        3                NaN         Deluxe   \n",
              "2                        3                4.0         Deluxe   \n",
              "3                        3                6.0         Deluxe   \n",
              "4                        4                4.0          Basic   \n",
              "\n",
              "    PreferredPropertyStar MaritalStatus  NumberOfTrips  Passport  \\\n",
              "id                                                                 \n",
              "0                     3.0       Married            1.0         0   \n",
              "1                     4.0       Married            1.0         1   \n",
              "2                     3.0       Married            5.0         0   \n",
              "3                     3.0     Unmarried            6.0         0   \n",
              "4                     4.0     Unmarried            3.0         1   \n",
              "\n",
              "    PitchSatisfactionScore  OwnCar  NumberOfChildrenVisiting Designation  \\\n",
              "id                                                                         \n",
              "0                        2       0                       1.0     Manager   \n",
              "1                        5       0                       1.0     Manager   \n",
              "2                        5       1                       0.0     Manager   \n",
              "3                        3       1                       2.0     Manager   \n",
              "4                        4       1                       3.0   Executive   \n",
              "\n",
              "    MonthlyIncome  \n",
              "id                 \n",
              "0         19668.0  \n",
              "1         20021.0  \n",
              "2         21334.0  \n",
              "3         22950.0  \n",
              "4         21880.0  "
            ],
            "text/html": [
              "\n",
              "  <div id=\"df-b304c84f-0b5e-4dc9-8ae4-19bcd5cbca34\">\n",
              "    <div class=\"colab-df-container\">\n",
              "      <div>\n",
              "<style scoped>\n",
              "    .dataframe tbody tr th:only-of-type {\n",
              "        vertical-align: middle;\n",
              "    }\n",
              "\n",
              "    .dataframe tbody tr th {\n",
              "        vertical-align: top;\n",
              "    }\n",
              "\n",
              "    .dataframe thead th {\n",
              "        text-align: right;\n",
              "    }\n",
              "</style>\n",
              "<table border=\"1\" class=\"dataframe\">\n",
              "  <thead>\n",
              "    <tr style=\"text-align: right;\">\n",
              "      <th></th>\n",
              "      <th>Age</th>\n",
              "      <th>TypeofContact</th>\n",
              "      <th>CityTier</th>\n",
              "      <th>DurationOfPitch</th>\n",
              "      <th>Occupation</th>\n",
              "      <th>Gender</th>\n",
              "      <th>NumberOfPersonVisiting</th>\n",
              "      <th>NumberOfFollowups</th>\n",
              "      <th>ProductPitched</th>\n",
              "      <th>PreferredPropertyStar</th>\n",
              "      <th>MaritalStatus</th>\n",
              "      <th>NumberOfTrips</th>\n",
              "      <th>Passport</th>\n",
              "      <th>PitchSatisfactionScore</th>\n",
              "      <th>OwnCar</th>\n",
              "      <th>NumberOfChildrenVisiting</th>\n",
              "      <th>Designation</th>\n",
              "      <th>MonthlyIncome</th>\n",
              "    </tr>\n",
              "    <tr>\n",
              "      <th>id</th>\n",
              "      <th></th>\n",
              "      <th></th>\n",
              "      <th></th>\n",
              "      <th></th>\n",
              "      <th></th>\n",
              "      <th></th>\n",
              "      <th></th>\n",
              "      <th></th>\n",
              "      <th></th>\n",
              "      <th></th>\n",
              "      <th></th>\n",
              "      <th></th>\n",
              "      <th></th>\n",
              "      <th></th>\n",
              "      <th></th>\n",
              "      <th></th>\n",
              "      <th></th>\n",
              "      <th></th>\n",
              "    </tr>\n",
              "  </thead>\n",
              "  <tbody>\n",
              "    <tr>\n",
              "      <th>0</th>\n",
              "      <td>32.0</td>\n",
              "      <td>Company Invited</td>\n",
              "      <td>3</td>\n",
              "      <td>NaN</td>\n",
              "      <td>Small Business</td>\n",
              "      <td>Male</td>\n",
              "      <td>2</td>\n",
              "      <td>5.0</td>\n",
              "      <td>Deluxe</td>\n",
              "      <td>3.0</td>\n",
              "      <td>Married</td>\n",
              "      <td>1.0</td>\n",
              "      <td>0</td>\n",
              "      <td>2</td>\n",
              "      <td>0</td>\n",
              "      <td>1.0</td>\n",
              "      <td>Manager</td>\n",
              "      <td>19668.0</td>\n",
              "    </tr>\n",
              "    <tr>\n",
              "      <th>1</th>\n",
              "      <td>46.0</td>\n",
              "      <td>Self Enquiry</td>\n",
              "      <td>2</td>\n",
              "      <td>11.0</td>\n",
              "      <td>Small Business</td>\n",
              "      <td>Male</td>\n",
              "      <td>3</td>\n",
              "      <td>NaN</td>\n",
              "      <td>Deluxe</td>\n",
              "      <td>4.0</td>\n",
              "      <td>Married</td>\n",
              "      <td>1.0</td>\n",
              "      <td>1</td>\n",
              "      <td>5</td>\n",
              "      <td>0</td>\n",
              "      <td>1.0</td>\n",
              "      <td>Manager</td>\n",
              "      <td>20021.0</td>\n",
              "    </tr>\n",
              "    <tr>\n",
              "      <th>2</th>\n",
              "      <td>37.0</td>\n",
              "      <td>Self Enquiry</td>\n",
              "      <td>3</td>\n",
              "      <td>22.0</td>\n",
              "      <td>Small Business</td>\n",
              "      <td>Male</td>\n",
              "      <td>3</td>\n",
              "      <td>4.0</td>\n",
              "      <td>Deluxe</td>\n",
              "      <td>3.0</td>\n",
              "      <td>Married</td>\n",
              "      <td>5.0</td>\n",
              "      <td>0</td>\n",
              "      <td>5</td>\n",
              "      <td>1</td>\n",
              "      <td>0.0</td>\n",
              "      <td>Manager</td>\n",
              "      <td>21334.0</td>\n",
              "    </tr>\n",
              "    <tr>\n",
              "      <th>3</th>\n",
              "      <td>43.0</td>\n",
              "      <td>Self Enquiry</td>\n",
              "      <td>1</td>\n",
              "      <td>36.0</td>\n",
              "      <td>Small Business</td>\n",
              "      <td>Male</td>\n",
              "      <td>3</td>\n",
              "      <td>6.0</td>\n",
              "      <td>Deluxe</td>\n",
              "      <td>3.0</td>\n",
              "      <td>Unmarried</td>\n",
              "      <td>6.0</td>\n",
              "      <td>0</td>\n",
              "      <td>3</td>\n",
              "      <td>1</td>\n",
              "      <td>2.0</td>\n",
              "      <td>Manager</td>\n",
              "      <td>22950.0</td>\n",
              "    </tr>\n",
              "    <tr>\n",
              "      <th>4</th>\n",
              "      <td>25.0</td>\n",
              "      <td>Self Enquiry</td>\n",
              "      <td>3</td>\n",
              "      <td>7.0</td>\n",
              "      <td>Large Business</td>\n",
              "      <td>Female</td>\n",
              "      <td>4</td>\n",
              "      <td>4.0</td>\n",
              "      <td>Basic</td>\n",
              "      <td>4.0</td>\n",
              "      <td>Unmarried</td>\n",
              "      <td>3.0</td>\n",
              "      <td>1</td>\n",
              "      <td>4</td>\n",
              "      <td>1</td>\n",
              "      <td>3.0</td>\n",
              "      <td>Executive</td>\n",
              "      <td>21880.0</td>\n",
              "    </tr>\n",
              "  </tbody>\n",
              "</table>\n",
              "</div>\n",
              "      <button class=\"colab-df-convert\" onclick=\"convertToInteractive('df-b304c84f-0b5e-4dc9-8ae4-19bcd5cbca34')\"\n",
              "              title=\"Convert this dataframe to an interactive table.\"\n",
              "              style=\"display:none;\">\n",
              "        \n",
              "  <svg xmlns=\"http://www.w3.org/2000/svg\" height=\"24px\"viewBox=\"0 0 24 24\"\n",
              "       width=\"24px\">\n",
              "    <path d=\"M0 0h24v24H0V0z\" fill=\"none\"/>\n",
              "    <path d=\"M18.56 5.44l.94 2.06.94-2.06 2.06-.94-2.06-.94-.94-2.06-.94 2.06-2.06.94zm-11 1L8.5 8.5l.94-2.06 2.06-.94-2.06-.94L8.5 2.5l-.94 2.06-2.06.94zm10 10l.94 2.06.94-2.06 2.06-.94-2.06-.94-.94-2.06-.94 2.06-2.06.94z\"/><path d=\"M17.41 7.96l-1.37-1.37c-.4-.4-.92-.59-1.43-.59-.52 0-1.04.2-1.43.59L10.3 9.45l-7.72 7.72c-.78.78-.78 2.05 0 2.83L4 21.41c.39.39.9.59 1.41.59.51 0 1.02-.2 1.41-.59l7.78-7.78 2.81-2.81c.8-.78.8-2.07 0-2.86zM5.41 20L4 18.59l7.72-7.72 1.47 1.35L5.41 20z\"/>\n",
              "  </svg>\n",
              "      </button>\n",
              "      \n",
              "  <style>\n",
              "    .colab-df-container {\n",
              "      display:flex;\n",
              "      flex-wrap:wrap;\n",
              "      gap: 12px;\n",
              "    }\n",
              "\n",
              "    .colab-df-convert {\n",
              "      background-color: #E8F0FE;\n",
              "      border: none;\n",
              "      border-radius: 50%;\n",
              "      cursor: pointer;\n",
              "      display: none;\n",
              "      fill: #1967D2;\n",
              "      height: 32px;\n",
              "      padding: 0 0 0 0;\n",
              "      width: 32px;\n",
              "    }\n",
              "\n",
              "    .colab-df-convert:hover {\n",
              "      background-color: #E2EBFA;\n",
              "      box-shadow: 0px 1px 2px rgba(60, 64, 67, 0.3), 0px 1px 3px 1px rgba(60, 64, 67, 0.15);\n",
              "      fill: #174EA6;\n",
              "    }\n",
              "\n",
              "    [theme=dark] .colab-df-convert {\n",
              "      background-color: #3B4455;\n",
              "      fill: #D2E3FC;\n",
              "    }\n",
              "\n",
              "    [theme=dark] .colab-df-convert:hover {\n",
              "      background-color: #434B5C;\n",
              "      box-shadow: 0px 1px 3px 1px rgba(0, 0, 0, 0.15);\n",
              "      filter: drop-shadow(0px 1px 2px rgba(0, 0, 0, 0.3));\n",
              "      fill: #FFFFFF;\n",
              "    }\n",
              "  </style>\n",
              "\n",
              "      <script>\n",
              "        const buttonEl =\n",
              "          document.querySelector('#df-b304c84f-0b5e-4dc9-8ae4-19bcd5cbca34 button.colab-df-convert');\n",
              "        buttonEl.style.display =\n",
              "          google.colab.kernel.accessAllowed ? 'block' : 'none';\n",
              "\n",
              "        async function convertToInteractive(key) {\n",
              "          const element = document.querySelector('#df-b304c84f-0b5e-4dc9-8ae4-19bcd5cbca34');\n",
              "          const dataTable =\n",
              "            await google.colab.kernel.invokeFunction('convertToInteractive',\n",
              "                                                     [key], {});\n",
              "          if (!dataTable) return;\n",
              "\n",
              "          const docLinkHtml = 'Like what you see? Visit the ' +\n",
              "            '<a target=\"_blank\" href=https://colab.research.google.com/notebooks/data_table.ipynb>data table notebook</a>'\n",
              "            + ' to learn more about interactive tables.';\n",
              "          element.innerHTML = '';\n",
              "          dataTable['output_type'] = 'display_data';\n",
              "          await google.colab.output.renderOutput(dataTable, element);\n",
              "          const docLink = document.createElement('div');\n",
              "          docLink.innerHTML = docLinkHtml;\n",
              "          element.appendChild(docLink);\n",
              "        }\n",
              "      </script>\n",
              "    </div>\n",
              "  </div>\n",
              "  "
            ]
          },
          "metadata": {},
          "execution_count": 59
        }
      ],
      "source": [
        "import pandas as pd\n",
        "\n",
        "df = pd.read_csv('/content/drive/MyDrive/dataset/dacon/train.csv')\n",
        "\n",
        "df1 = pd.read_csv('/content/drive/MyDrive/dataset/dacon/test.csv')\n",
        "\n",
        "\n",
        "df['id'] = df['id']-1\n",
        "df1['id'] = df1['id']-1\n",
        "df.index = df['id']\n",
        "\n",
        "df1.index = df1['id']\n",
        "\n",
        "df.drop(['id'],axis=1,inplace=True)\n",
        "\n",
        "df1.drop(['id'],axis=1,inplace = True)\n",
        "df1.head()"
      ]
    },
    {
      "cell_type": "markdown",
      "metadata": {
        "id": "aUaERg1NptfH"
      },
      "source": [
        "컬럼명 한글로 변경하기."
      ]
    },
    {
      "cell_type": "markdown",
      "metadata": {
        "id": "OOm5VvgPpxpb"
      },
      "source": [
        "- 컬럼 description :\n",
        "  \n",
        "  \n",
        "  id : 샘플 아이디\n",
        "\n",
        "\n",
        "  Age : 나이\n",
        "  \n",
        "  TypeofContact : 고객의 제품 인지 방법 (회사의 홍보 or 스스로 검색)\n",
        "  \n",
        "  CityTier : 주거 중인 도시의 등급. (인구, 시설, 생활 수준 기준) (1등급 > 2등급 > 3등급) \n",
        "\n",
        "  DurationOfPitch : 영업 사원이 고객에게 제공하는 프레젠테이션 기간\n",
        "  \n",
        "  Occupation : 직업\n",
        "  \n",
        "  Gender : 성별\n",
        "  \n",
        "  NumberOfPersonVisiting : 고객과 함께 여행을 계획 중인 총 인원\n",
        "  \n",
        "  NumberOfFollowups : 영업 사원의 프레젠테이션 후 이루어진 후속 조치 수\n",
        "  \n",
        "  ProductPitched : 영업 사원이 제시한 상품\n",
        "  \n",
        "  PreferredPropertyStar : 선호 호텔 숙박업소 등급\n",
        "  \n",
        "  MaritalStatus : 결혼여부\n",
        "  \n",
        "  NumberOfTrips : 평균 연간 여행 횟수\n",
        "  \n",
        "  Passport : 여권 보유 여부 (0: 없음, 1: 있음)\n",
        "  \n",
        "  PitchSatisfactionScore : 영업 사원의 프레젠테이션 만족도\n",
        "  \n",
        "  OwnCar : 자동차 보유 여부 (0: 없음, 1: 있음)\n",
        "  \n",
        "  NumberOfChildrenVisiting : 함께 여행을 계획 중인 5세 미만의 어린이 수\n",
        "  \n",
        "  Designation : (직업의) 직급\n",
        "  \n",
        "  MonthlyIncome : 월 급여\n",
        "  \n",
        "  ProdTaken : 여행 패키지 신청 여부 (0: 신청 안 함, 1: 신청함)\n",
        "\n",
        "\n",
        "  2. test.csv : 테스트 데이터\n",
        "\n",
        "train.csv파일과 동일하게 처리.\n"
      ]
    },
    {
      "cell_type": "markdown",
      "source": [
        "train.csv 파일과 test.csv파일에 있는 결측값을 확인."
      ],
      "metadata": {
        "id": "5fw6cxIQtjSz"
      }
    },
    {
      "cell_type": "code",
      "execution_count": null,
      "metadata": {
        "colab": {
          "base_uri": "https://localhost:8080/"
        },
        "id": "-D8NK_-dprtD",
        "outputId": "44cffce6-d82e-4780-bf41-85071e4c947c"
      },
      "outputs": [
        {
          "output_type": "stream",
          "name": "stdout",
          "text": [
            "train의 결측값 : \n",
            " 나이           94\n",
            "접근경로         10\n",
            "도시등급          0\n",
            "공개기간        102\n",
            "직업            0\n",
            "성별            0\n",
            "총인원           0\n",
            "후속조치수        13\n",
            "제시상품          0\n",
            "선호호텔등급       10\n",
            "결혼여부          0\n",
            "평균여행횟수       57\n",
            "여권유무          0\n",
            "발표만족도         0\n",
            "자동차유무         0\n",
            "5세미만어린이수     27\n",
            "직급            0\n",
            "월급여         100\n",
            "신청여부          0\n",
            "dtype: int64\n",
            "\n",
            "test의 결측값 : \n",
            " 나이          132\n",
            "접근경로         15\n",
            "도시등급          0\n",
            "공개기간        149\n",
            "직업            0\n",
            "성별            0\n",
            "총인원           0\n",
            "후속조치수        32\n",
            "제시상품          0\n",
            "선호호텔등급       16\n",
            "결혼여부          0\n",
            "평균여행횟수       83\n",
            "여권유무          0\n",
            "발표만족도         0\n",
            "자동차유무         0\n",
            "5세미만어린이수     39\n",
            "직급            0\n",
            "월급여         133\n",
            "dtype: int64\n"
          ]
        }
      ],
      "source": [
        "df.rename(columns={'Age' : '나이' , 'TypeofContact' : '접근경로', 'CityTier' : '도시등급' ,\n",
        " 'DurationOfPitch' : '공개기간' , 'Occupation' : '직업' , 'Gender' : '성별',\n",
        "'NumberOfPersonVisiting' : '총인원' , 'NumberOfFollowups' : '후속조치수',\n",
        "'ProductPitched' : '제시상품' , 'PreferredPropertyStar' : '선호호텔등급' ,\n",
        "'MaritalStatus' : '결혼여부' , 'NumberOfTrips' : '평균여행횟수' , 'Passport' : '여권유무',\n",
        "'PitchSatisfactionScore' : '발표만족도' , 'OwnCar' : '자동차유무',  'NumberOfChildrenVisiting' : '5세미만어린이수' , 'Designation' : '직급' ,\n",
        "'MonthlyIncome' : '월급여' , 'ProdTaken' : '신청여부'},inplace =True)\n",
        "\n",
        "df1.rename(columns={'Age' : '나이' , 'TypeofContact' : '접근경로', 'CityTier' : '도시등급' ,\n",
        " 'DurationOfPitch' : '공개기간' , 'Occupation' : '직업' , 'Gender' : '성별',\n",
        "'NumberOfPersonVisiting' : '총인원' , 'NumberOfFollowups' : '후속조치수',\n",
        "'ProductPitched' : '제시상품' , 'PreferredPropertyStar' : '선호호텔등급' ,\n",
        "'MaritalStatus' : '결혼여부' , 'NumberOfTrips' : '평균여행횟수' , 'Passport' : '여권유무',\n",
        "'PitchSatisfactionScore' : '발표만족도' , 'OwnCar' : '자동차유무',  'NumberOfChildrenVisiting' : '5세미만어린이수' , 'Designation' : '직급' ,\n",
        "'MonthlyIncome' : '월급여' },inplace =True)\n",
        "\n",
        "print('train의 결측값 : \\n',df.isnull().sum())\n",
        "print('\\ntest의 결측값 : \\n',df1.isnull().sum())"
      ]
    },
    {
      "cell_type": "markdown",
      "source": [
        "train과 test둘다 동일한 특성에 결측값이 존재한다.\n",
        "\n",
        "\n",
        "(나이 , 접근경로, 공개기간, 후속조치수, 선호호텔등급, 평균여행횟수, 5세미만어린이수, 월급여)"
      ],
      "metadata": {
        "id": "tySYiw6pt-Uu"
      }
    },
    {
      "cell_type": "markdown",
      "source": [
        "성별 특성에서 Fe Male을 Female로 병합해주기."
      ],
      "metadata": {
        "id": "7bMfNtP8vHa3"
      }
    },
    {
      "cell_type": "code",
      "execution_count": null,
      "metadata": {
        "colab": {
          "base_uri": "https://localhost:8080/"
        },
        "id": "Iw4OPYTcshj8",
        "outputId": "6e319f6c-b31a-4cd3-b6ca-edb113b5a379"
      },
      "outputs": [
        {
          "output_type": "stream",
          "name": "stdout",
          "text": [
            "train[성별] : \n",
            " 성별\n",
            "Fe Male      56\n",
            "Female      692\n",
            "Male       1207\n",
            "Name: 성별, dtype: int64 \n",
            "\n",
            "test[성별] : \n",
            " 성별\n",
            "Fe Male      99\n",
            "Female     1125\n",
            "Male       1709\n",
            "Name: 성별, dtype: int64 \n",
            "\n"
          ]
        }
      ],
      "source": [
        "print('train[성별] : \\n',df.groupby(by=['성별'])['성별'].count(),'\\n')\n",
        "\n",
        "print('test[성별] : \\n',df1.groupby(by=['성별'])['성별'].count(),'\\n')"
      ]
    },
    {
      "cell_type": "code",
      "execution_count": null,
      "metadata": {
        "colab": {
          "base_uri": "https://localhost:8080/"
        },
        "id": "S55oI20i84cb",
        "outputId": "b77d904c-9fef-4760-afb0-c230569fccbd"
      },
      "outputs": [
        {
          "output_type": "stream",
          "name": "stdout",
          "text": [
            "train[성별] : \n",
            " 성별\n",
            "Female     748\n",
            "Male      1207\n",
            "Name: 성별, dtype: int64 \n",
            "\n",
            "test[성별] : \n",
            " 성별\n",
            "Female    1224\n",
            "Male      1709\n",
            "Name: 성별, dtype: int64 \n",
            "\n"
          ]
        }
      ],
      "source": [
        "a = df[df['성별']=='Fe Male']\n",
        "pd.set_option('mode.chained_assignment',None)\n",
        "df['성별'][a.index] = 'Female'\n",
        "\n",
        "a1 = df1[df1['성별']=='Fe Male']\n",
        "df1['성별'][a1.index] = 'Female'\n",
        "\n",
        "print('train[성별] : \\n',df.groupby(by=['성별'])['성별'].count(),'\\n')\n",
        "\n",
        "print('test[성별] : \\n',df1.groupby(by=['성별'])['성별'].count(),'\\n')"
      ]
    },
    {
      "cell_type": "code",
      "source": [
        "df.dtypes"
      ],
      "metadata": {
        "colab": {
          "base_uri": "https://localhost:8080/"
        },
        "id": "fgOz84FNwLsi",
        "outputId": "f60b9c63-1ec4-488e-aa18-d9a9732bf76d"
      },
      "execution_count": null,
      "outputs": [
        {
          "output_type": "execute_result",
          "data": {
            "text/plain": [
              "나이          float64\n",
              "접근경로         object\n",
              "도시등급          int64\n",
              "공개기간        float64\n",
              "직업           object\n",
              "성별           object\n",
              "총인원           int64\n",
              "후속조치수       float64\n",
              "제시상품         object\n",
              "선호호텔등급      float64\n",
              "결혼여부         object\n",
              "평균여행횟수      float64\n",
              "여권유무          int64\n",
              "발표만족도         int64\n",
              "자동차유무         int64\n",
              "5세미만어린이수    float64\n",
              "직급           object\n",
              "월급여         float64\n",
              "신청여부          int64\n",
              "dtype: object"
            ]
          },
          "metadata": {},
          "execution_count": 6
        }
      ]
    },
    {
      "cell_type": "markdown",
      "metadata": {
        "id": "beL96dJ3skiI"
      },
      "source": [
        "\n",
        "결측값이 존재하는 특성 :\n",
        "\n",
        "**(나이 , 접근경로, 공개기간, 후속조치수, 선호호텔등급, 평균여행횟수, 5세미만어린이수, 월급여)** \n",
        "\n",
        "**NUMERICAL :**\n",
        "\n",
        "나이,  공개기간 , 총인원, 후속조치수, 5세미만 어린이 수, 평균여행횟수. 월급여\n",
        "\n",
        "\n",
        "\n",
        "**CATEGORICAL :** \n",
        "\n",
        "도시등급, 직업, 성별 , 제시상품, 선호호텔등급, 결혼여부, 여권유무, 발표만족도, \n",
        "\n",
        "자동차유무, 직급\n",
        "\n",
        "**TARGET :**  \n",
        "\n",
        "신청여부\n",
        "\n"
      ]
    },
    {
      "cell_type": "markdown",
      "metadata": {
        "id": "YndafRjqnlZ9"
      },
      "source": [
        "EDA"
      ]
    },
    {
      "cell_type": "markdown",
      "source": [
        "각 특성별 상관계수 분석."
      ],
      "metadata": {
        "id": "nVhh1PqX0jnf"
      }
    },
    {
      "cell_type": "code",
      "source": [
        "import numpy as np\n",
        "data = df.corr()\n",
        "# 그림 사이즈 지정\n",
        "fig, ax = plt.subplots( figsize=(15,15) )\n",
        "\n",
        "# 삼각형 마스크를 만든다(위 쪽 삼각형에 True, 아래 삼각형에 False)\n",
        "mask = np.zeros_like(data, dtype=np.bool)\n",
        "mask[np.triu_indices_from(mask)] = True\n",
        "\n",
        "# 히트맵을 그린다\n",
        "sns.heatmap(data, \n",
        "            cmap = 'RdYlBu_r', \n",
        "            annot = True,   # 실제 값을 표시한다\n",
        "            mask=mask,      # 표시하지 않을 마스크 부분을 지정한다\n",
        "            linewidths=.5,  # 경계면 실선으로 구분하기\n",
        "            cbar_kws={\"shrink\": .5},# 컬러바 크기 절반으로 줄이기\n",
        "            vmin = -1,vmax = 1   # 컬러바 범위 -1 ~ 1\n",
        "           )\n",
        "plt.title('특성별 상관관계\\n',fontsize=20)  \n",
        "plt.show()"
      ],
      "metadata": {
        "colab": {
          "base_uri": "https://localhost:8080/",
          "height": 1000
        },
        "id": "keplCuy80-UR",
        "outputId": "386ff776-9f41-4fb3-dbea-02050f171c73"
      },
      "execution_count": null,
      "outputs": [
        {
          "output_type": "stream",
          "name": "stderr",
          "text": [
            "/usr/local/lib/python3.7/dist-packages/ipykernel_launcher.py:7: DeprecationWarning: `np.bool` is a deprecated alias for the builtin `bool`. To silence this warning, use `bool` by itself. Doing this will not modify any behavior and is safe. If you specifically wanted the numpy scalar type, use `np.bool_` here.\n",
            "Deprecated in NumPy 1.20; for more details and guidance: https://numpy.org/devdocs/release/1.20.0-notes.html#deprecations\n",
            "  import sys\n"
          ]
        },
        {
          "output_type": "display_data",
          "data": {
            "text/plain": [
              "<Figure size 1080x1080 with 2 Axes>"
            ],
            "image/png": "[encoded data removed]"
          },
          "metadata": {}
        }
      ]
    },
    {
      "cell_type": "code",
      "execution_count": null,
      "metadata": {
        "colab": {
          "base_uri": "https://localhost:8080/",
          "height": 637
        },
        "id": "Q49ss02wnnxX",
        "outputId": "5d88313b-b70f-4ed5-d4dd-49676d243083"
      },
      "outputs": [
        {
          "output_type": "stream",
          "name": "stderr",
          "text": [
            "/usr/local/lib/python3.7/dist-packages/IPython/core/events.py:88: UserWarning: Glyph 49457 (\\N{HANGUL SYLLABLE SEONG}) missing from current font.\n",
            "  func(*args, **kwargs)\n",
            "/usr/local/lib/python3.7/dist-packages/IPython/core/events.py:88: UserWarning: Glyph 48324 (\\N{HANGUL SYLLABLE BYEOL}) missing from current font.\n",
            "  func(*args, **kwargs)\n",
            "/usr/local/lib/python3.7/dist-packages/IPython/core/events.py:88: UserWarning: Glyph 51649 (\\N{HANGUL SYLLABLE JIG}) missing from current font.\n",
            "  func(*args, **kwargs)\n",
            "/usr/local/lib/python3.7/dist-packages/IPython/core/events.py:88: UserWarning: Glyph 44553 (\\N{HANGUL SYLLABLE GEUB}) missing from current font.\n",
            "  func(*args, **kwargs)\n",
            "/usr/local/lib/python3.7/dist-packages/IPython/core/pylabtools.py:128: UserWarning: Glyph 49457 (\\N{HANGUL SYLLABLE SEONG}) missing from current font.\n",
            "  fig.canvas.print_figure(bytes_io, **kw)\n",
            "/usr/local/lib/python3.7/dist-packages/IPython/core/pylabtools.py:128: UserWarning: Glyph 48324 (\\N{HANGUL SYLLABLE BYEOL}) missing from current font.\n",
            "  fig.canvas.print_figure(bytes_io, **kw)\n",
            "/usr/local/lib/python3.7/dist-packages/IPython/core/pylabtools.py:128: UserWarning: Glyph 51649 (\\N{HANGUL SYLLABLE JIG}) missing from current font.\n",
            "  fig.canvas.print_figure(bytes_io, **kw)\n",
            "/usr/local/lib/python3.7/dist-packages/IPython/core/pylabtools.py:128: UserWarning: Glyph 44553 (\\N{HANGUL SYLLABLE GEUB}) missing from current font.\n",
            "  fig.canvas.print_figure(bytes_io, **kw)\n"
          ]
        },
        {
          "output_type": "display_data",
          "data": {
            "text/plain": [
              "<Figure size 720x360 with 1 Axes>"
            ],
            "image/png": "[encoded data removed]"
          },
          "metadata": {}
        }
      ],
      "source": [
        "import seaborn as sns\n",
        "import matplotlib.pyplot as plt\n",
        "sns.set(rc={'figure.figsize':(10,5)});\n",
        "\n",
        "sns.countplot(data=df,x='성별',hue='직급');"
      ]
    },
    {
      "cell_type": "code",
      "execution_count": null,
      "metadata": {
        "colab": {
          "base_uri": "https://localhost:8080/",
          "height": 414
        },
        "id": "O3vXxb0dq06y",
        "outputId": "429a0d00-fba7-47eb-9e0f-98ceea144dd5"
      },
      "outputs": [
        {
          "output_type": "stream",
          "name": "stderr",
          "text": [
            "/usr/local/lib/python3.7/dist-packages/seaborn/categorical.py:1296: UserWarning: 51.5% of the points cannot be placed; you may want to decrease the size of the markers or use stripplot.\n",
            "  warnings.warn(msg, UserWarning)\n"
          ]
        },
        {
          "output_type": "execute_result",
          "data": {
            "text/plain": [
              "Text(0.5, 1.0, 'train_급여분포')"
            ]
          },
          "metadata": {},
          "execution_count": 17
        },
        {
          "output_type": "display_data",
          "data": {
            "text/plain": [
              "<Figure size 720x360 with 1 Axes>"
            ],
            "image/png": "[encoded data removed]"
          },
          "metadata": {}
        }
      ],
      "source": [
        "\n",
        "sns.boxplot(data=df['월급여']);\n",
        "sns.swarmplot(data=df['월급여'],color='black')\n",
        "plt.title('train_급여분포')"
      ]
    },
    {
      "cell_type": "code",
      "execution_count": null,
      "metadata": {
        "colab": {
          "base_uri": "https://localhost:8080/",
          "height": 372
        },
        "id": "hff8B2_QsK0Z",
        "outputId": "cbe51fe9-8567-413a-a2a3-ab470d802c7e"
      },
      "outputs": [
        {
          "output_type": "execute_result",
          "data": {
            "text/plain": [
              "Text(0.5, 1.0, '급여별 신청여부')"
            ]
          },
          "metadata": {},
          "execution_count": 16
        },
        {
          "output_type": "display_data",
          "data": {
            "text/plain": [
              "<Figure size 720x360 with 1 Axes>"
            ],
            "image/png": "[encoded data removed]"
          },
          "metadata": {}
        }
      ],
      "source": [
        "sns.histplot(data=df,x='월급여',bins=20,stat='density',hue='신청여부')\n",
        "plt.title('급여별 신청여부')"
      ]
    },
    {
      "cell_type": "code",
      "source": [
        "\n",
        "sns.boxplot(data=df1['월급여']);\n",
        "sns.swarmplot(data=df1['월급여'],color='black');\n",
        "plt.title('test_급여분포')"
      ],
      "metadata": {
        "colab": {
          "base_uri": "https://localhost:8080/",
          "height": 414
        },
        "id": "PufnVelRzQCD",
        "outputId": "0bf71709-9f6c-450d-c8bb-7b86676d996b"
      },
      "execution_count": null,
      "outputs": [
        {
          "output_type": "stream",
          "name": "stderr",
          "text": [
            "/usr/local/lib/python3.7/dist-packages/seaborn/categorical.py:1296: UserWarning: 32.9% of the points cannot be placed; you may want to decrease the size of the markers or use stripplot.\n",
            "  warnings.warn(msg, UserWarning)\n"
          ]
        },
        {
          "output_type": "execute_result",
          "data": {
            "text/plain": [
              "Text(0.5, 1.0, 'test_급여분포')"
            ]
          },
          "metadata": {},
          "execution_count": 14
        },
        {
          "output_type": "display_data",
          "data": {
            "text/plain": [
              "<Figure size 720x360 with 1 Axes>"
            ],
            "image/png": "[encoded data removed]"
          },
          "metadata": {}
        }
      ]
    },
    {
      "cell_type": "markdown",
      "source": [
        "train_급여 분포에 이상치가 존재한다. 하지만 이상치를 지우고 모델링하였을때 성능이 떨어져 따로 처리하진 않았다.."
      ],
      "metadata": {
        "id": "WnurUFQQzA7Q"
      }
    },
    {
      "cell_type": "markdown",
      "source": [
        "5세미만 어린이수 별 신청여부를 보았을때 신청여부와의 연관성이 없다고 판단하여,\n",
        "\n",
        "특성을 제외하였다."
      ],
      "metadata": {
        "id": "MfU96_aD79gM"
      }
    },
    {
      "cell_type": "code",
      "source": [
        "sns.histplot(data=df,x='5세미만어린이수',bins=20,stat='density',hue='신청여부');\n",
        "plt.title('5세미만어린이수 별 신청여부\\n',fontsize=20)"
      ],
      "metadata": {
        "colab": {
          "base_uri": "https://localhost:8080/",
          "height": 401
        },
        "id": "gB3Yiwfo7mCw",
        "outputId": "a3e3d443-4e73-4b22-e77b-1260fdc08684"
      },
      "execution_count": null,
      "outputs": [
        {
          "output_type": "execute_result",
          "data": {
            "text/plain": [
              "Text(0.5, 1.0, '5세미만어린이수 별 신청여부\\n')"
            ]
          },
          "metadata": {},
          "execution_count": 37
        },
        {
          "output_type": "display_data",
          "data": {
            "text/plain": [
              "<Figure size 720x360 with 1 Axes>"
            ],
            "image/png": "[encoded data removed]"
          },
          "metadata": {}
        }
      ]
    },
    {
      "cell_type": "markdown",
      "source": [
        "그외 값들에 대해서는 평균치를 적용하였다."
      ],
      "metadata": {
        "id": "WqN2W81M8fka"
      }
    },
    {
      "cell_type": "code",
      "execution_count": null,
      "metadata": {
        "colab": {
          "base_uri": "https://localhost:8080/",
          "height": 263
        },
        "id": "ydZ-kfJNISab",
        "outputId": "586735a4-661d-4d17-f5e6-ec0e80f4dacd"
      },
      "outputs": [
        {
          "output_type": "stream",
          "name": "stderr",
          "text": [
            "/usr/local/lib/python3.7/dist-packages/ipykernel_launcher.py:1: FutureWarning: Dropping of nuisance columns in DataFrame reductions (with 'numeric_only=None') is deprecated; in a future version this will raise TypeError.  Select only valid columns before calling the reduction.\n",
            "  \"\"\"Entry point for launching an IPython kernel.\n"
          ]
        },
        {
          "output_type": "execute_result",
          "data": {
            "text/plain": [
              "                   0\n",
              "나이         37.462117\n",
              "공개기간       15.524015\n",
              "후속조치수       3.718332\n",
              "평균여행횟수      3.255532\n",
              "월급여     23624.108895"
            ],
            "text/html": [
              "\n",
              "  <div id=\"df-2174fb8a-40e3-455c-be29-f2eee9f79064\">\n",
              "    <div class=\"colab-df-container\">\n",
              "      <div>\n",
              "<style scoped>\n",
              "    .dataframe tbody tr th:only-of-type {\n",
              "        vertical-align: middle;\n",
              "    }\n",
              "\n",
              "    .dataframe tbody tr th {\n",
              "        vertical-align: top;\n",
              "    }\n",
              "\n",
              "    .dataframe thead th {\n",
              "        text-align: right;\n",
              "    }\n",
              "</style>\n",
              "<table border=\"1\" class=\"dataframe\">\n",
              "  <thead>\n",
              "    <tr style=\"text-align: right;\">\n",
              "      <th></th>\n",
              "      <th>0</th>\n",
              "    </tr>\n",
              "  </thead>\n",
              "  <tbody>\n",
              "    <tr>\n",
              "      <th>나이</th>\n",
              "      <td>37.462117</td>\n",
              "    </tr>\n",
              "    <tr>\n",
              "      <th>공개기간</th>\n",
              "      <td>15.524015</td>\n",
              "    </tr>\n",
              "    <tr>\n",
              "      <th>후속조치수</th>\n",
              "      <td>3.718332</td>\n",
              "    </tr>\n",
              "    <tr>\n",
              "      <th>평균여행횟수</th>\n",
              "      <td>3.255532</td>\n",
              "    </tr>\n",
              "    <tr>\n",
              "      <th>월급여</th>\n",
              "      <td>23624.108895</td>\n",
              "    </tr>\n",
              "  </tbody>\n",
              "</table>\n",
              "</div>\n",
              "      <button class=\"colab-df-convert\" onclick=\"convertToInteractive('df-2174fb8a-40e3-455c-be29-f2eee9f79064')\"\n",
              "              title=\"Convert this dataframe to an interactive table.\"\n",
              "              style=\"display:none;\">\n",
              "        \n",
              "  <svg xmlns=\"http://www.w3.org/2000/svg\" height=\"24px\"viewBox=\"0 0 24 24\"\n",
              "       width=\"24px\">\n",
              "    <path d=\"M0 0h24v24H0V0z\" fill=\"none\"/>\n",
              "    <path d=\"M18.56 5.44l.94 2.06.94-2.06 2.06-.94-2.06-.94-.94-2.06-.94 2.06-2.06.94zm-11 1L8.5 8.5l.94-2.06 2.06-.94-2.06-.94L8.5 2.5l-.94 2.06-2.06.94zm10 10l.94 2.06.94-2.06 2.06-.94-2.06-.94-.94-2.06-.94 2.06-2.06.94z\"/><path d=\"M17.41 7.96l-1.37-1.37c-.4-.4-.92-.59-1.43-.59-.52 0-1.04.2-1.43.59L10.3 9.45l-7.72 7.72c-.78.78-.78 2.05 0 2.83L4 21.41c.39.39.9.59 1.41.59.51 0 1.02-.2 1.41-.59l7.78-7.78 2.81-2.81c.8-.78.8-2.07 0-2.86zM5.41 20L4 18.59l7.72-7.72 1.47 1.35L5.41 20z\"/>\n",
              "  </svg>\n",
              "      </button>\n",
              "      \n",
              "  <style>\n",
              "    .colab-df-container {\n",
              "      display:flex;\n",
              "      flex-wrap:wrap;\n",
              "      gap: 12px;\n",
              "    }\n",
              "\n",
              "    .colab-df-convert {\n",
              "      background-color: #E8F0FE;\n",
              "      border: none;\n",
              "      border-radius: 50%;\n",
              "      cursor: pointer;\n",
              "      display: none;\n",
              "      fill: #1967D2;\n",
              "      height: 32px;\n",
              "      padding: 0 0 0 0;\n",
              "      width: 32px;\n",
              "    }\n",
              "\n",
              "    .colab-df-convert:hover {\n",
              "      background-color: #E2EBFA;\n",
              "      box-shadow: 0px 1px 2px rgba(60, 64, 67, 0.3), 0px 1px 3px 1px rgba(60, 64, 67, 0.15);\n",
              "      fill: #174EA6;\n",
              "    }\n",
              "\n",
              "    [theme=dark] .colab-df-convert {\n",
              "      background-color: #3B4455;\n",
              "      fill: #D2E3FC;\n",
              "    }\n",
              "\n",
              "    [theme=dark] .colab-df-convert:hover {\n",
              "      background-color: #434B5C;\n",
              "      box-shadow: 0px 1px 3px 1px rgba(0, 0, 0, 0.15);\n",
              "      filter: drop-shadow(0px 1px 2px rgba(0, 0, 0, 0.3));\n",
              "      fill: #FFFFFF;\n",
              "    }\n",
              "  </style>\n",
              "\n",
              "      <script>\n",
              "        const buttonEl =\n",
              "          document.querySelector('#df-2174fb8a-40e3-455c-be29-f2eee9f79064 button.colab-df-convert');\n",
              "        buttonEl.style.display =\n",
              "          google.colab.kernel.accessAllowed ? 'block' : 'none';\n",
              "\n",
              "        async function convertToInteractive(key) {\n",
              "          const element = document.querySelector('#df-2174fb8a-40e3-455c-be29-f2eee9f79064');\n",
              "          const dataTable =\n",
              "            await google.colab.kernel.invokeFunction('convertToInteractive',\n",
              "                                                     [key], {});\n",
              "          if (!dataTable) return;\n",
              "\n",
              "          const docLinkHtml = 'Like what you see? Visit the ' +\n",
              "            '<a target=\"_blank\" href=https://colab.research.google.com/notebooks/data_table.ipynb>data table notebook</a>'\n",
              "            + ' to learn more about interactive tables.';\n",
              "          element.innerHTML = '';\n",
              "          dataTable['output_type'] = 'display_data';\n",
              "          await google.colab.output.renderOutput(dataTable, element);\n",
              "          const docLink = document.createElement('div');\n",
              "          docLink.innerHTML = docLinkHtml;\n",
              "          element.appendChild(docLink);\n",
              "        }\n",
              "      </script>\n",
              "    </div>\n",
              "  </div>\n",
              "  "
            ]
          },
          "metadata": {},
          "execution_count": 28
        }
      ],
      "source": [
        "pd.DataFrame(df.mean()[['나이','공개기간','후속조치수','평균여행횟수','월급여']])"
      ]
    },
    {
      "cell_type": "markdown",
      "metadata": {
        "id": "5MAYASAO1wWL"
      },
      "source": [
        "# numerical_value에 해당하는 결측값들을 평균으로 대체."
      ]
    },
    {
      "cell_type": "code",
      "execution_count": null,
      "metadata": {
        "colab": {
          "base_uri": "https://localhost:8080/"
        },
        "id": "VLXG7RaXu-ZB",
        "outputId": "25957b9e-c31a-4e87-c914-9bc541062a72"
      },
      "outputs": [
        {
          "output_type": "stream",
          "name": "stdout",
          "text": [
            "train의 결측값 : \n",
            " 나이         0\n",
            "접근경로      10\n",
            "도시등급       0\n",
            "공개기간       0\n",
            "직업         0\n",
            "성별         0\n",
            "총인원        0\n",
            "후속조치수      0\n",
            "제시상품       0\n",
            "선호호텔등급    10\n",
            "결혼여부       0\n",
            "평균여행횟수     0\n",
            "여권유무       0\n",
            "발표만족도      0\n",
            "자동차유무      0\n",
            "직급         0\n",
            "월급여        0\n",
            "신청여부       0\n",
            "dtype: int64\n",
            "\n",
            "test의 결측값 : \n",
            " 나이         0\n",
            "접근경로      15\n",
            "도시등급       0\n",
            "공개기간       0\n",
            "직업         0\n",
            "성별         0\n",
            "총인원        0\n",
            "후속조치수      0\n",
            "제시상품       0\n",
            "선호호텔등급    16\n",
            "결혼여부       0\n",
            "평균여행횟수     0\n",
            "여권유무       0\n",
            "발표만족도      0\n",
            "자동차유무      0\n",
            "직급         0\n",
            "월급여        0\n",
            "dtype: int64\n"
          ]
        },
        {
          "output_type": "stream",
          "name": "stderr",
          "text": [
            "/usr/local/lib/python3.7/dist-packages/ipykernel_launcher.py:3: FutureWarning: Dropping of nuisance columns in DataFrame reductions (with 'numeric_only=None') is deprecated; in a future version this will raise TypeError.  Select only valid columns before calling the reduction.\n",
            "  This is separate from the ipykernel package so we can avoid doing imports until\n",
            "/usr/local/lib/python3.7/dist-packages/ipykernel_launcher.py:10: FutureWarning: Dropping of nuisance columns in DataFrame reductions (with 'numeric_only=None') is deprecated; in a future version this will raise TypeError.  Select only valid columns before calling the reduction.\n",
            "  # Remove the CWD from sys.path while we load stuff.\n"
          ]
        }
      ],
      "source": [
        "\n",
        "\n",
        "avgg = ['나이','공개기간','평균여행횟수','월급여']\n",
        "\n",
        "df.fillna(df.mean()[avgg],inplace=True)\n",
        "df['후속조치수'].fillna(round(df['후속조치수'].mean()),inplace = True)\n",
        "df=df.drop(['5세미만어린이수'],axis=1)\n",
        "\n",
        "\n",
        "# test\n",
        "\n",
        "df1.fillna(df1.mean()[avgg],inplace=True)\n",
        "df1['후속조치수'].fillna(round(df1['후속조치수'].mean()), inplace=True)\n",
        "df1=df1.drop(['5세미만어린이수'],axis=1)\n",
        "\n",
        "\n",
        "\n",
        "\n",
        "\n",
        "print('train의 결측값 : \\n',df.isnull().sum())\n",
        "print('\\ntest의 결측값 : \\n',df1.isnull().sum())\n"
      ]
    },
    {
      "cell_type": "markdown",
      "source": [
        "# Categorical Value의 결측값들을 처리."
      ],
      "metadata": {
        "id": "dEZ5Fllo81Fb"
      }
    },
    {
      "cell_type": "code",
      "execution_count": null,
      "metadata": {
        "colab": {
          "base_uri": "https://localhost:8080/"
        },
        "id": "FkGXQxTz4w8r",
        "outputId": "04cb8fc7-f5b9-466f-c54a-025b407aa69a"
      },
      "outputs": [
        {
          "output_type": "stream",
          "name": "stdout",
          "text": [
            "train_접근경로 : \n",
            " 접근경로\n",
            "Company Invited     566\n",
            "Self Enquiry       1379\n",
            "Name: 접근경로, dtype: int64\n",
            "\n",
            "train_접근경로 NaN값 개수 :  10\n",
            "\n",
            "test_접근경로 : \n",
            " 접근경로\n",
            "Company Invited     853\n",
            "Self Enquiry       2065\n",
            "Name: 접근경로, dtype: int64\n",
            "\n",
            "test_접근경로 NaN값 개수 :  15\n"
          ]
        }
      ],
      "source": [
        "\n",
        "print('train_접근경로 : \\n',df.groupby(by=['접근경로'])['접근경로'].count())\n",
        "print('\\ntrain_접근경로 NaN값 개수 : ',df['접근경로'].isnull().sum())\n",
        "print('\\ntest_접근경로 : \\n',df1.groupby(by=['접근경로'])['접근경로'].count())\n",
        "print('\\ntest_접근경로 NaN값 개수 : ',df1['접근경로'].isnull().sum())\n",
        "\n",
        "\n"
      ]
    },
    {
      "cell_type": "markdown",
      "source": [
        "Self Enquiry의 값이 대부분이므로, Self Enquiry로 처리하였다."
      ],
      "metadata": {
        "id": "kHlWQhxm9d9H"
      }
    },
    {
      "cell_type": "code",
      "execution_count": null,
      "metadata": {
        "colab": {
          "base_uri": "https://localhost:8080/"
        },
        "id": "9B1QCKLF5q2H",
        "outputId": "3a5a218a-b897-4617-c2e8-341a8eada6db"
      },
      "outputs": [
        {
          "output_type": "execute_result",
          "data": {
            "text/plain": [
              "접근경로\n",
              "Company Invited     566\n",
              "Self Enquiry       1389\n",
              "Name: 접근경로, dtype: int64"
            ]
          },
          "metadata": {},
          "execution_count": 44
        }
      ],
      "source": [
        "df['접근경로'].fillna('Self Enquiry',inplace=True)\n",
        "\n",
        "df1['접근경로'].fillna('Self Enquiry',inplace=True)\n",
        "\n",
        "\n",
        "df.groupby(by=['접근경로'])['접근경로'].count()"
      ]
    },
    {
      "cell_type": "code",
      "execution_count": null,
      "metadata": {
        "colab": {
          "base_uri": "https://localhost:8080/"
        },
        "id": "zB6w2K4g6AdA",
        "outputId": "8780b1c1-8116-469e-b28c-e109aedd3c22"
      },
      "outputs": [
        {
          "output_type": "stream",
          "name": "stdout",
          "text": [
            "train_선호호텔등급 : \n",
            " 선호호텔등급\n",
            "3.0    1212\n",
            "4.0     360\n",
            "5.0     373\n",
            "Name: 선호호텔등급, dtype: int64\n",
            "\n",
            "train_선호호텔등급 NaN값 개수 :  10\n",
            "\n",
            "test_선호호텔등급 : \n",
            " 선호호텔등급\n",
            "3.0    1781\n",
            "4.0     553\n",
            "5.0     583\n",
            "Name: 선호호텔등급, dtype: int64\n",
            "\n",
            "test_선호호텔등급 NaN값 개수 :  16\n"
          ]
        }
      ],
      "source": [
        "\n",
        "print('train_선호호텔등급 : \\n',df.groupby(by=['선호호텔등급'])['선호호텔등급'].count())\n",
        "print('\\ntrain_선호호텔등급 NaN값 개수 : ',df['선호호텔등급'].isnull().sum())\n",
        "print('\\ntest_선호호텔등급 : \\n',df1.groupby(by=['선호호텔등급'])['선호호텔등급'].count())\n",
        "print('\\ntest_선호호텔등급 NaN값 개수 : ',df1['선호호텔등급'].isnull().sum())"
      ]
    },
    {
      "cell_type": "markdown",
      "source": [
        "선호호텔등급 또한 가장 많은 값이 있는 3.0으로 처리하였다."
      ],
      "metadata": {
        "id": "Qhv02WMd9ndg"
      }
    },
    {
      "cell_type": "code",
      "execution_count": null,
      "metadata": {
        "colab": {
          "base_uri": "https://localhost:8080/"
        },
        "id": "LevYRghT6JB-",
        "outputId": "d3482ed0-3078-47cf-90f0-0c04fa903616"
      },
      "outputs": [
        {
          "output_type": "execute_result",
          "data": {
            "text/plain": [
              "나이        0\n",
              "접근경로      0\n",
              "도시등급      0\n",
              "공개기간      0\n",
              "직업        0\n",
              "성별        0\n",
              "총인원       0\n",
              "후속조치수     0\n",
              "제시상품      0\n",
              "선호호텔등급    0\n",
              "결혼여부      0\n",
              "평균여행횟수    0\n",
              "여권유무      0\n",
              "발표만족도     0\n",
              "자동차유무     0\n",
              "직급        0\n",
              "월급여       0\n",
              "신청여부      0\n",
              "dtype: int64"
            ]
          },
          "metadata": {},
          "execution_count": 45
        }
      ],
      "source": [
        "df['선호호텔등급'].fillna(3.0,inplace=True)\n",
        "\n",
        "df1['선호호텔등급'].fillna(3.0,inplace=True)\n",
        "\n",
        "df.isnull().sum()"
      ]
    },
    {
      "cell_type": "markdown",
      "metadata": {
        "id": "vkOQsb7S6mgM"
      },
      "source": [
        "# Categorical Value\n",
        "도시등급, 직업, 성별 , 제시상품, 선호호텔등급, 결혼여부, 여권유무, 발표만족도,\n",
        "\n",
        "자동차유무, 직급"
      ]
    },
    {
      "cell_type": "code",
      "execution_count": null,
      "metadata": {
        "colab": {
          "base_uri": "https://localhost:8080/"
        },
        "id": "w8YrafbyK0me",
        "outputId": "e4cb7479-ec16-4cb3-f367-ef24f1d13575"
      },
      "outputs": [
        {
          "output_type": "execute_result",
          "data": {
            "text/plain": [
              "나이          int64\n",
              "접근경로        int64\n",
              "도시등급        int64\n",
              "공개기간        int64\n",
              "직업          int64\n",
              "성별          int64\n",
              "총인원         int64\n",
              "후속조치수       int64\n",
              "제시상품        int64\n",
              "선호호텔등급      int64\n",
              "결혼여부        int64\n",
              "평균여행횟수    float64\n",
              "여권유무        int64\n",
              "발표만족도       int64\n",
              "자동차유무       int64\n",
              "직급          int64\n",
              "월급여         int64\n",
              "dtype: object"
            ]
          },
          "metadata": {},
          "execution_count": 47
        }
      ],
      "source": [
        "df1.dtypes"
      ]
    },
    {
      "cell_type": "code",
      "execution_count": null,
      "metadata": {
        "colab": {
          "base_uri": "https://localhost:8080/"
        },
        "id": "flRW4cdiK2Pz",
        "outputId": "6fd33cb6-96d1-46c8-9147-8ab455fc3349"
      },
      "outputs": [
        {
          "output_type": "execute_result",
          "data": {
            "text/plain": [
              "나이          int64\n",
              "접근경로       object\n",
              "도시등급        int64\n",
              "공개기간        int64\n",
              "직업         object\n",
              "성별         object\n",
              "총인원         int64\n",
              "후속조치수       int64\n",
              "제시상품       object\n",
              "선호호텔등급      int64\n",
              "결혼여부       object\n",
              "평균여행횟수    float64\n",
              "여권유무        int64\n",
              "발표만족도       int64\n",
              "자동차유무       int64\n",
              "직급         object\n",
              "월급여         int64\n",
              "신청여부        int64\n",
              "dtype: object"
            ]
          },
          "metadata": {},
          "execution_count": 91
        }
      ],
      "source": [
        "df.dtypes"
      ]
    },
    {
      "cell_type": "markdown",
      "source": [
        "추가로 도시등급과 선호호텔등급은 numerical_value이지만, 범위가 정해져있기에, categorical하게  처리해주었다."
      ],
      "metadata": {
        "id": "WkLK6DFY-yxG"
      }
    },
    {
      "cell_type": "code",
      "source": [
        "\n",
        "df['도시등급']=df['도시등급'].astype('int')\n",
        "df1['도시등급']=df1['도시등급'].astype('int')\n",
        "\n",
        "df['선호호텔등급']=df['선호호텔등급'].astype('int')\n",
        "df1['선호호텔등급']=df1['선호호텔등급'].astype('int')\n",
        "\n",
        "print('도시등급 값 : ',df['도시등급'].unique())\n",
        "print('\\n선호호텔등급 값 : ',df['선호호텔등급'].unique())\n",
        "\n"
      ],
      "metadata": {
        "colab": {
          "base_uri": "https://localhost:8080/"
        },
        "id": "phEB1T4s-_EB",
        "outputId": "49dfa7a6-16ea-4d07-e56f-6b60a02c5cd8"
      },
      "execution_count": null,
      "outputs": [
        {
          "output_type": "stream",
          "name": "stdout",
          "text": [
            "도시등급 값 :  [1 3 2]\n",
            "\n",
            "선호호텔등급 값 :  [3 4 5]\n"
          ]
        }
      ]
    },
    {
      "cell_type": "markdown",
      "source": [
        "OneHotEncoding을 하기전 문자열로 구성된 특성들을 라벨화시켜주었다."
      ],
      "metadata": {
        "id": "Q5Phh-sL-EVo"
      }
    },
    {
      "cell_type": "code",
      "source": [
        "from sklearn.preprocessing import LabelEncoder\n",
        "\n",
        "\n",
        "obj_val = ['접근경로','직급','직업','성별','제시상품','결혼여부']\n",
        "\n",
        "for i in obj_val:\n",
        "\n",
        "  encoder=LabelEncoder()\n",
        "  encoder.fit(df[i]) # train으로 학습시켜 테스트셋에도 동일하게 적용.\n",
        "  df[i]=encoder.transform(df[i]) \n",
        "  df1[i]=encoder.transform(df1[i]) \n",
        "df.dtypes"
      ],
      "metadata": {
        "colab": {
          "base_uri": "https://localhost:8080/"
        },
        "id": "0ek0KmNddpAk",
        "outputId": "3f39f088-3cb6-430f-a99a-282bd52c0b49"
      },
      "execution_count": null,
      "outputs": [
        {
          "output_type": "execute_result",
          "data": {
            "text/plain": [
              "나이        float64\n",
              "접근경로        int64\n",
              "도시등급        int64\n",
              "공개기간      float64\n",
              "직업          int64\n",
              "성별          int64\n",
              "총인원         int64\n",
              "후속조치수     float64\n",
              "제시상품        int64\n",
              "선호호텔등급    float64\n",
              "결혼여부        int64\n",
              "평균여행횟수    float64\n",
              "여권유무        int64\n",
              "발표만족도       int64\n",
              "자동차유무       int64\n",
              "직급          int64\n",
              "월급여       float64\n",
              "신청여부        int64\n",
              "dtype: object"
            ]
          },
          "metadata": {},
          "execution_count": 46
        }
      ]
    },
    {
      "cell_type": "code",
      "source": [
        "df"
      ],
      "metadata": {
        "colab": {
          "base_uri": "https://localhost:8080/",
          "height": 516
        },
        "id": "u_3spMdod9kZ",
        "outputId": "8ec21aa4-8fd9-4b1f-939e-2aff32415ac9"
      },
      "execution_count": null,
      "outputs": [
        {
          "output_type": "execute_result",
          "data": {
            "text/plain": [
              "        나이  접근경로  도시등급       공개기간  직업  성별  총인원  후속조치수  제시상품  선호호텔등급  결혼여부  \\\n",
              "id                                                                          \n",
              "0     28.0     0     1  10.000000   3   1    3    4.0     0       3     1   \n",
              "1     34.0     1     3  15.524015   3   0    2    4.0     1       4     2   \n",
              "2     45.0     0     1  15.524015   2   1    2    3.0     1       4     1   \n",
              "3     29.0     0     1   7.000000   3   1    3    5.0     0       4     1   \n",
              "4     42.0     1     3   6.000000   2   1    2    3.0     1       3     0   \n",
              "...    ...   ...   ...        ...  ..  ..  ...    ...   ...     ...   ...   \n",
              "1950  28.0     1     1  10.000000   3   1    3    5.0     0       3     2   \n",
              "1951  41.0     1     3   8.000000   2   0    3    3.0     4       5     0   \n",
              "1952  38.0     0     3  28.000000   3   0    3    4.0     0       3     0   \n",
              "1953  28.0     1     3  30.000000   3   0    3    5.0     1       3     1   \n",
              "1954  22.0     0     1   9.000000   2   1    2    4.0     0       3     0   \n",
              "\n",
              "      평균여행횟수  여권유무  발표만족도  자동차유무  직급           월급여  신청여부  \n",
              "id                                                        \n",
              "0        3.0     0      1      0   1  20384.000000     0  \n",
              "1        1.0     1      5      1   2  19599.000000     1  \n",
              "2        2.0     0      4      1   2  23624.108895     0  \n",
              "3        3.0     0      4      0   1  21274.000000     1  \n",
              "4        2.0     0      3      1   2  19907.000000     0  \n",
              "...      ...   ...    ...    ...  ..           ...   ...  \n",
              "1950     2.0     0      1      1   1  20723.000000     0  \n",
              "1951     1.0     0      5      1   0  31595.000000     0  \n",
              "1952     7.0     0      2      1   1  21651.000000     0  \n",
              "1953     3.0     0      1      1   2  22218.000000     0  \n",
              "1954     1.0     1      3      0   1  17853.000000     1  \n",
              "\n",
              "[1955 rows x 18 columns]"
            ],
            "text/html": [
              "\n",
              "  <div id=\"df-46726c64-af02-4cda-98d5-c0629c92dddc\">\n",
              "    <div class=\"colab-df-container\">\n",
              "      <div>\n",
              "<style scoped>\n",
              "    .dataframe tbody tr th:only-of-type {\n",
              "        vertical-align: middle;\n",
              "    }\n",
              "\n",
              "    .dataframe tbody tr th {\n",
              "        vertical-align: top;\n",
              "    }\n",
              "\n",
              "    .dataframe thead th {\n",
              "        text-align: right;\n",
              "    }\n",
              "</style>\n",
              "<table border=\"1\" class=\"dataframe\">\n",
              "  <thead>\n",
              "    <tr style=\"text-align: right;\">\n",
              "      <th></th>\n",
              "      <th>나이</th>\n",
              "      <th>접근경로</th>\n",
              "      <th>도시등급</th>\n",
              "      <th>공개기간</th>\n",
              "      <th>직업</th>\n",
              "      <th>성별</th>\n",
              "      <th>총인원</th>\n",
              "      <th>후속조치수</th>\n",
              "      <th>제시상품</th>\n",
              "      <th>선호호텔등급</th>\n",
              "      <th>결혼여부</th>\n",
              "      <th>평균여행횟수</th>\n",
              "      <th>여권유무</th>\n",
              "      <th>발표만족도</th>\n",
              "      <th>자동차유무</th>\n",
              "      <th>직급</th>\n",
              "      <th>월급여</th>\n",
              "      <th>신청여부</th>\n",
              "    </tr>\n",
              "    <tr>\n",
              "      <th>id</th>\n",
              "      <th></th>\n",
              "      <th></th>\n",
              "      <th></th>\n",
              "      <th></th>\n",
              "      <th></th>\n",
              "      <th></th>\n",
              "      <th></th>\n",
              "      <th></th>\n",
              "      <th></th>\n",
              "      <th></th>\n",
              "      <th></th>\n",
              "      <th></th>\n",
              "      <th></th>\n",
              "      <th></th>\n",
              "      <th></th>\n",
              "      <th></th>\n",
              "      <th></th>\n",
              "      <th></th>\n",
              "    </tr>\n",
              "  </thead>\n",
              "  <tbody>\n",
              "    <tr>\n",
              "      <th>0</th>\n",
              "      <td>28.0</td>\n",
              "      <td>0</td>\n",
              "      <td>1</td>\n",
              "      <td>10.000000</td>\n",
              "      <td>3</td>\n",
              "      <td>1</td>\n",
              "      <td>3</td>\n",
              "      <td>4.0</td>\n",
              "      <td>0</td>\n",
              "      <td>3</td>\n",
              "      <td>1</td>\n",
              "      <td>3.0</td>\n",
              "      <td>0</td>\n",
              "      <td>1</td>\n",
              "      <td>0</td>\n",
              "      <td>1</td>\n",
              "      <td>20384.000000</td>\n",
              "      <td>0</td>\n",
              "    </tr>\n",
              "    <tr>\n",
              "      <th>1</th>\n",
              "      <td>34.0</td>\n",
              "      <td>1</td>\n",
              "      <td>3</td>\n",
              "      <td>15.524015</td>\n",
              "      <td>3</td>\n",
              "      <td>0</td>\n",
              "      <td>2</td>\n",
              "      <td>4.0</td>\n",
              "      <td>1</td>\n",
              "      <td>4</td>\n",
              "      <td>2</td>\n",
              "      <td>1.0</td>\n",
              "      <td>1</td>\n",
              "      <td>5</td>\n",
              "      <td>1</td>\n",
              "      <td>2</td>\n",
              "      <td>19599.000000</td>\n",
              "      <td>1</td>\n",
              "    </tr>\n",
              "    <tr>\n",
              "      <th>2</th>\n",
              "      <td>45.0</td>\n",
              "      <td>0</td>\n",
              "      <td>1</td>\n",
              "      <td>15.524015</td>\n",
              "      <td>2</td>\n",
              "      <td>1</td>\n",
              "      <td>2</td>\n",
              "      <td>3.0</td>\n",
              "      <td>1</td>\n",
              "      <td>4</td>\n",
              "      <td>1</td>\n",
              "      <td>2.0</td>\n",
              "      <td>0</td>\n",
              "      <td>4</td>\n",
              "      <td>1</td>\n",
              "      <td>2</td>\n",
              "      <td>23624.108895</td>\n",
              "      <td>0</td>\n",
              "    </tr>\n",
              "    <tr>\n",
              "      <th>3</th>\n",
              "      <td>29.0</td>\n",
              "      <td>0</td>\n",
              "      <td>1</td>\n",
              "      <td>7.000000</td>\n",
              "      <td>3</td>\n",
              "      <td>1</td>\n",
              "      <td>3</td>\n",
              "      <td>5.0</td>\n",
              "      <td>0</td>\n",
              "      <td>4</td>\n",
              "      <td>1</td>\n",
              "      <td>3.0</td>\n",
              "      <td>0</td>\n",
              "      <td>4</td>\n",
              "      <td>0</td>\n",
              "      <td>1</td>\n",
              "      <td>21274.000000</td>\n",
              "      <td>1</td>\n",
              "    </tr>\n",
              "    <tr>\n",
              "      <th>4</th>\n",
              "      <td>42.0</td>\n",
              "      <td>1</td>\n",
              "      <td>3</td>\n",
              "      <td>6.000000</td>\n",
              "      <td>2</td>\n",
              "      <td>1</td>\n",
              "      <td>2</td>\n",
              "      <td>3.0</td>\n",
              "      <td>1</td>\n",
              "      <td>3</td>\n",
              "      <td>0</td>\n",
              "      <td>2.0</td>\n",
              "      <td>0</td>\n",
              "      <td>3</td>\n",
              "      <td>1</td>\n",
              "      <td>2</td>\n",
              "      <td>19907.000000</td>\n",
              "      <td>0</td>\n",
              "    </tr>\n",
              "    <tr>\n",
              "      <th>...</th>\n",
              "      <td>...</td>\n",
              "      <td>...</td>\n",
              "      <td>...</td>\n",
              "      <td>...</td>\n",
              "      <td>...</td>\n",
              "      <td>...</td>\n",
              "      <td>...</td>\n",
              "      <td>...</td>\n",
              "      <td>...</td>\n",
              "      <td>...</td>\n",
              "      <td>...</td>\n",
              "      <td>...</td>\n",
              "      <td>...</td>\n",
              "      <td>...</td>\n",
              "      <td>...</td>\n",
              "      <td>...</td>\n",
              "      <td>...</td>\n",
              "      <td>...</td>\n",
              "    </tr>\n",
              "    <tr>\n",
              "      <th>1950</th>\n",
              "      <td>28.0</td>\n",
              "      <td>1</td>\n",
              "      <td>1</td>\n",
              "      <td>10.000000</td>\n",
              "      <td>3</td>\n",
              "      <td>1</td>\n",
              "      <td>3</td>\n",
              "      <td>5.0</td>\n",
              "      <td>0</td>\n",
              "      <td>3</td>\n",
              "      <td>2</td>\n",
              "      <td>2.0</td>\n",
              "      <td>0</td>\n",
              "      <td>1</td>\n",
              "      <td>1</td>\n",
              "      <td>1</td>\n",
              "      <td>20723.000000</td>\n",
              "      <td>0</td>\n",
              "    </tr>\n",
              "    <tr>\n",
              "      <th>1951</th>\n",
              "      <td>41.0</td>\n",
              "      <td>1</td>\n",
              "      <td>3</td>\n",
              "      <td>8.000000</td>\n",
              "      <td>2</td>\n",
              "      <td>0</td>\n",
              "      <td>3</td>\n",
              "      <td>3.0</td>\n",
              "      <td>4</td>\n",
              "      <td>5</td>\n",
              "      <td>0</td>\n",
              "      <td>1.0</td>\n",
              "      <td>0</td>\n",
              "      <td>5</td>\n",
              "      <td>1</td>\n",
              "      <td>0</td>\n",
              "      <td>31595.000000</td>\n",
              "      <td>0</td>\n",
              "    </tr>\n",
              "    <tr>\n",
              "      <th>1952</th>\n",
              "      <td>38.0</td>\n",
              "      <td>0</td>\n",
              "      <td>3</td>\n",
              "      <td>28.000000</td>\n",
              "      <td>3</td>\n",
              "      <td>0</td>\n",
              "      <td>3</td>\n",
              "      <td>4.0</td>\n",
              "      <td>0</td>\n",
              "      <td>3</td>\n",
              "      <td>0</td>\n",
              "      <td>7.0</td>\n",
              "      <td>0</td>\n",
              "      <td>2</td>\n",
              "      <td>1</td>\n",
              "      <td>1</td>\n",
              "      <td>21651.000000</td>\n",
              "      <td>0</td>\n",
              "    </tr>\n",
              "    <tr>\n",
              "      <th>1953</th>\n",
              "      <td>28.0</td>\n",
              "      <td>1</td>\n",
              "      <td>3</td>\n",
              "      <td>30.000000</td>\n",
              "      <td>3</td>\n",
              "      <td>0</td>\n",
              "      <td>3</td>\n",
              "      <td>5.0</td>\n",
              "      <td>1</td>\n",
              "      <td>3</td>\n",
              "      <td>1</td>\n",
              "      <td>3.0</td>\n",
              "      <td>0</td>\n",
              "      <td>1</td>\n",
              "      <td>1</td>\n",
              "      <td>2</td>\n",
              "      <td>22218.000000</td>\n",
              "      <td>0</td>\n",
              "    </tr>\n",
              "    <tr>\n",
              "      <th>1954</th>\n",
              "      <td>22.0</td>\n",
              "      <td>0</td>\n",
              "      <td>1</td>\n",
              "      <td>9.000000</td>\n",
              "      <td>2</td>\n",
              "      <td>1</td>\n",
              "      <td>2</td>\n",
              "      <td>4.0</td>\n",
              "      <td>0</td>\n",
              "      <td>3</td>\n",
              "      <td>0</td>\n",
              "      <td>1.0</td>\n",
              "      <td>1</td>\n",
              "      <td>3</td>\n",
              "      <td>0</td>\n",
              "      <td>1</td>\n",
              "      <td>17853.000000</td>\n",
              "      <td>1</td>\n",
              "    </tr>\n",
              "  </tbody>\n",
              "</table>\n",
              "<p>1955 rows × 18 columns</p>\n",
              "</div>\n",
              "      <button class=\"colab-df-convert\" onclick=\"convertToInteractive('df-46726c64-af02-4cda-98d5-c0629c92dddc')\"\n",
              "              title=\"Convert this dataframe to an interactive table.\"\n",
              "              style=\"display:none;\">\n",
              "        \n",
              "  <svg xmlns=\"http://www.w3.org/2000/svg\" height=\"24px\"viewBox=\"0 0 24 24\"\n",
              "       width=\"24px\">\n",
              "    <path d=\"M0 0h24v24H0V0z\" fill=\"none\"/>\n",
              "    <path d=\"M18.56 5.44l.94 2.06.94-2.06 2.06-.94-2.06-.94-.94-2.06-.94 2.06-2.06.94zm-11 1L8.5 8.5l.94-2.06 2.06-.94-2.06-.94L8.5 2.5l-.94 2.06-2.06.94zm10 10l.94 2.06.94-2.06 2.06-.94-2.06-.94-.94-2.06-.94 2.06-2.06.94z\"/><path d=\"M17.41 7.96l-1.37-1.37c-.4-.4-.92-.59-1.43-.59-.52 0-1.04.2-1.43.59L10.3 9.45l-7.72 7.72c-.78.78-.78 2.05 0 2.83L4 21.41c.39.39.9.59 1.41.59.51 0 1.02-.2 1.41-.59l7.78-7.78 2.81-2.81c.8-.78.8-2.07 0-2.86zM5.41 20L4 18.59l7.72-7.72 1.47 1.35L5.41 20z\"/>\n",
              "  </svg>\n",
              "      </button>\n",
              "      \n",
              "  <style>\n",
              "    .colab-df-container {\n",
              "      display:flex;\n",
              "      flex-wrap:wrap;\n",
              "      gap: 12px;\n",
              "    }\n",
              "\n",
              "    .colab-df-convert {\n",
              "      background-color: #E8F0FE;\n",
              "      border: none;\n",
              "      border-radius: 50%;\n",
              "      cursor: pointer;\n",
              "      display: none;\n",
              "      fill: #1967D2;\n",
              "      height: 32px;\n",
              "      padding: 0 0 0 0;\n",
              "      width: 32px;\n",
              "    }\n",
              "\n",
              "    .colab-df-convert:hover {\n",
              "      background-color: #E2EBFA;\n",
              "      box-shadow: 0px 1px 2px rgba(60, 64, 67, 0.3), 0px 1px 3px 1px rgba(60, 64, 67, 0.15);\n",
              "      fill: #174EA6;\n",
              "    }\n",
              "\n",
              "    [theme=dark] .colab-df-convert {\n",
              "      background-color: #3B4455;\n",
              "      fill: #D2E3FC;\n",
              "    }\n",
              "\n",
              "    [theme=dark] .colab-df-convert:hover {\n",
              "      background-color: #434B5C;\n",
              "      box-shadow: 0px 1px 3px 1px rgba(0, 0, 0, 0.15);\n",
              "      filter: drop-shadow(0px 1px 2px rgba(0, 0, 0, 0.3));\n",
              "      fill: #FFFFFF;\n",
              "    }\n",
              "  </style>\n",
              "\n",
              "      <script>\n",
              "        const buttonEl =\n",
              "          document.querySelector('#df-46726c64-af02-4cda-98d5-c0629c92dddc button.colab-df-convert');\n",
              "        buttonEl.style.display =\n",
              "          google.colab.kernel.accessAllowed ? 'block' : 'none';\n",
              "\n",
              "        async function convertToInteractive(key) {\n",
              "          const element = document.querySelector('#df-46726c64-af02-4cda-98d5-c0629c92dddc');\n",
              "          const dataTable =\n",
              "            await google.colab.kernel.invokeFunction('convertToInteractive',\n",
              "                                                     [key], {});\n",
              "          if (!dataTable) return;\n",
              "\n",
              "          const docLinkHtml = 'Like what you see? Visit the ' +\n",
              "            '<a target=\"_blank\" href=https://colab.research.google.com/notebooks/data_table.ipynb>data table notebook</a>'\n",
              "            + ' to learn more about interactive tables.';\n",
              "          element.innerHTML = '';\n",
              "          dataTable['output_type'] = 'display_data';\n",
              "          await google.colab.output.renderOutput(dataTable, element);\n",
              "          const docLink = document.createElement('div');\n",
              "          docLink.innerHTML = docLinkHtml;\n",
              "          element.appendChild(docLink);\n",
              "        }\n",
              "      </script>\n",
              "    </div>\n",
              "  </div>\n",
              "  "
            ]
          },
          "metadata": {},
          "execution_count": 52
        }
      ]
    },
    {
      "cell_type": "code",
      "source": [
        "\n",
        "df1"
      ],
      "metadata": {
        "colab": {
          "base_uri": "https://localhost:8080/",
          "height": 516
        },
        "id": "TAOsqqTRCdVJ",
        "outputId": "fa03151b-9629-4785-df5e-78d865332cf8"
      },
      "execution_count": null,
      "outputs": [
        {
          "output_type": "execute_result",
          "data": {
            "text/plain": [
              "        나이  접근경로  도시등급      공개기간  직업  성별  총인원  후속조치수  제시상품  선호호텔등급  결혼여부  \\\n",
              "id                                                                         \n",
              "0     32.0     0     3  15.46875   3   1    2    5.0     1       3     1   \n",
              "1     46.0     1     2  11.00000   3   1    3    4.0     1       4     1   \n",
              "2     37.0     1     3  22.00000   3   1    3    4.0     1       3     1   \n",
              "3     43.0     1     1  36.00000   3   1    3    6.0     1       3     3   \n",
              "4     25.0     1     3   7.00000   1   0    4    4.0     0       4     3   \n",
              "...    ...   ...   ...       ...  ..  ..  ...    ...   ...     ...   ...   \n",
              "2928  54.0     1     1   6.00000   3   0    2    3.0     4       3     2   \n",
              "2929  33.0     1     1   9.00000   3   0    4    2.0     1       3     3   \n",
              "2930  33.0     0     1  31.00000   2   1    4    4.0     1       3     0   \n",
              "2931  26.0     1     1   9.00000   3   1    4    2.0     0       5     3   \n",
              "2932  31.0     1     1   9.00000   2   1    3    5.0     1       3     0   \n",
              "\n",
              "      평균여행횟수  여권유무  발표만족도  자동차유무  직급      월급여  \n",
              "id                                             \n",
              "0        1.0     0      2      0   2  19668.0  \n",
              "1        1.0     1      5      0   2  20021.0  \n",
              "2        5.0     0      5      1   2  21334.0  \n",
              "3        6.0     0      3      1   2  22950.0  \n",
              "4        3.0     1      4      1   1  21880.0  \n",
              "...      ...   ...    ...    ...  ..      ...  \n",
              "2928     7.0     0      4      1   0  32328.0  \n",
              "2929     2.0     0      3      0   2  23733.0  \n",
              "2930     3.0     0      4      1   2  23987.0  \n",
              "2931     2.0     0      2      1   1  22102.0  \n",
              "2932     3.0     0      4      1   2  22830.0  \n",
              "\n",
              "[2933 rows x 17 columns]"
            ],
            "text/html": [
              "\n",
              "  <div id=\"df-32f804bb-0e62-4488-8c86-0575c83f1e87\">\n",
              "    <div class=\"colab-df-container\">\n",
              "      <div>\n",
              "<style scoped>\n",
              "    .dataframe tbody tr th:only-of-type {\n",
              "        vertical-align: middle;\n",
              "    }\n",
              "\n",
              "    .dataframe tbody tr th {\n",
              "        vertical-align: top;\n",
              "    }\n",
              "\n",
              "    .dataframe thead th {\n",
              "        text-align: right;\n",
              "    }\n",
              "</style>\n",
              "<table border=\"1\" class=\"dataframe\">\n",
              "  <thead>\n",
              "    <tr style=\"text-align: right;\">\n",
              "      <th></th>\n",
              "      <th>나이</th>\n",
              "      <th>접근경로</th>\n",
              "      <th>도시등급</th>\n",
              "      <th>공개기간</th>\n",
              "      <th>직업</th>\n",
              "      <th>성별</th>\n",
              "      <th>총인원</th>\n",
              "      <th>후속조치수</th>\n",
              "      <th>제시상품</th>\n",
              "      <th>선호호텔등급</th>\n",
              "      <th>결혼여부</th>\n",
              "      <th>평균여행횟수</th>\n",
              "      <th>여권유무</th>\n",
              "      <th>발표만족도</th>\n",
              "      <th>자동차유무</th>\n",
              "      <th>직급</th>\n",
              "      <th>월급여</th>\n",
              "    </tr>\n",
              "    <tr>\n",
              "      <th>id</th>\n",
              "      <th></th>\n",
              "      <th></th>\n",
              "      <th></th>\n",
              "      <th></th>\n",
              "      <th></th>\n",
              "      <th></th>\n",
              "      <th></th>\n",
              "      <th></th>\n",
              "      <th></th>\n",
              "      <th></th>\n",
              "      <th></th>\n",
              "      <th></th>\n",
              "      <th></th>\n",
              "      <th></th>\n",
              "      <th></th>\n",
              "      <th></th>\n",
              "      <th></th>\n",
              "    </tr>\n",
              "  </thead>\n",
              "  <tbody>\n",
              "    <tr>\n",
              "      <th>0</th>\n",
              "      <td>32.0</td>\n",
              "      <td>0</td>\n",
              "      <td>3</td>\n",
              "      <td>15.46875</td>\n",
              "      <td>3</td>\n",
              "      <td>1</td>\n",
              "      <td>2</td>\n",
              "      <td>5.0</td>\n",
              "      <td>1</td>\n",
              "      <td>3</td>\n",
              "      <td>1</td>\n",
              "      <td>1.0</td>\n",
              "      <td>0</td>\n",
              "      <td>2</td>\n",
              "      <td>0</td>\n",
              "      <td>2</td>\n",
              "      <td>19668.0</td>\n",
              "    </tr>\n",
              "    <tr>\n",
              "      <th>1</th>\n",
              "      <td>46.0</td>\n",
              "      <td>1</td>\n",
              "      <td>2</td>\n",
              "      <td>11.00000</td>\n",
              "      <td>3</td>\n",
              "      <td>1</td>\n",
              "      <td>3</td>\n",
              "      <td>4.0</td>\n",
              "      <td>1</td>\n",
              "      <td>4</td>\n",
              "      <td>1</td>\n",
              "      <td>1.0</td>\n",
              "      <td>1</td>\n",
              "      <td>5</td>\n",
              "      <td>0</td>\n",
              "      <td>2</td>\n",
              "      <td>20021.0</td>\n",
              "    </tr>\n",
              "    <tr>\n",
              "      <th>2</th>\n",
              "      <td>37.0</td>\n",
              "      <td>1</td>\n",
              "      <td>3</td>\n",
              "      <td>22.00000</td>\n",
              "      <td>3</td>\n",
              "      <td>1</td>\n",
              "      <td>3</td>\n",
              "      <td>4.0</td>\n",
              "      <td>1</td>\n",
              "      <td>3</td>\n",
              "      <td>1</td>\n",
              "      <td>5.0</td>\n",
              "      <td>0</td>\n",
              "      <td>5</td>\n",
              "      <td>1</td>\n",
              "      <td>2</td>\n",
              "      <td>21334.0</td>\n",
              "    </tr>\n",
              "    <tr>\n",
              "      <th>3</th>\n",
              "      <td>43.0</td>\n",
              "      <td>1</td>\n",
              "      <td>1</td>\n",
              "      <td>36.00000</td>\n",
              "      <td>3</td>\n",
              "      <td>1</td>\n",
              "      <td>3</td>\n",
              "      <td>6.0</td>\n",
              "      <td>1</td>\n",
              "      <td>3</td>\n",
              "      <td>3</td>\n",
              "      <td>6.0</td>\n",
              "      <td>0</td>\n",
              "      <td>3</td>\n",
              "      <td>1</td>\n",
              "      <td>2</td>\n",
              "      <td>22950.0</td>\n",
              "    </tr>\n",
              "    <tr>\n",
              "      <th>4</th>\n",
              "      <td>25.0</td>\n",
              "      <td>1</td>\n",
              "      <td>3</td>\n",
              "      <td>7.00000</td>\n",
              "      <td>1</td>\n",
              "      <td>0</td>\n",
              "      <td>4</td>\n",
              "      <td>4.0</td>\n",
              "      <td>0</td>\n",
              "      <td>4</td>\n",
              "      <td>3</td>\n",
              "      <td>3.0</td>\n",
              "      <td>1</td>\n",
              "      <td>4</td>\n",
              "      <td>1</td>\n",
              "      <td>1</td>\n",
              "      <td>21880.0</td>\n",
              "    </tr>\n",
              "    <tr>\n",
              "      <th>...</th>\n",
              "      <td>...</td>\n",
              "      <td>...</td>\n",
              "      <td>...</td>\n",
              "      <td>...</td>\n",
              "      <td>...</td>\n",
              "      <td>...</td>\n",
              "      <td>...</td>\n",
              "      <td>...</td>\n",
              "      <td>...</td>\n",
              "      <td>...</td>\n",
              "      <td>...</td>\n",
              "      <td>...</td>\n",
              "      <td>...</td>\n",
              "      <td>...</td>\n",
              "      <td>...</td>\n",
              "      <td>...</td>\n",
              "      <td>...</td>\n",
              "    </tr>\n",
              "    <tr>\n",
              "      <th>2928</th>\n",
              "      <td>54.0</td>\n",
              "      <td>1</td>\n",
              "      <td>1</td>\n",
              "      <td>6.00000</td>\n",
              "      <td>3</td>\n",
              "      <td>0</td>\n",
              "      <td>2</td>\n",
              "      <td>3.0</td>\n",
              "      <td>4</td>\n",
              "      <td>3</td>\n",
              "      <td>2</td>\n",
              "      <td>7.0</td>\n",
              "      <td>0</td>\n",
              "      <td>4</td>\n",
              "      <td>1</td>\n",
              "      <td>0</td>\n",
              "      <td>32328.0</td>\n",
              "    </tr>\n",
              "    <tr>\n",
              "      <th>2929</th>\n",
              "      <td>33.0</td>\n",
              "      <td>1</td>\n",
              "      <td>1</td>\n",
              "      <td>9.00000</td>\n",
              "      <td>3</td>\n",
              "      <td>0</td>\n",
              "      <td>4</td>\n",
              "      <td>2.0</td>\n",
              "      <td>1</td>\n",
              "      <td>3</td>\n",
              "      <td>3</td>\n",
              "      <td>2.0</td>\n",
              "      <td>0</td>\n",
              "      <td>3</td>\n",
              "      <td>0</td>\n",
              "      <td>2</td>\n",
              "      <td>23733.0</td>\n",
              "    </tr>\n",
              "    <tr>\n",
              "      <th>2930</th>\n",
              "      <td>33.0</td>\n",
              "      <td>0</td>\n",
              "      <td>1</td>\n",
              "      <td>31.00000</td>\n",
              "      <td>2</td>\n",
              "      <td>1</td>\n",
              "      <td>4</td>\n",
              "      <td>4.0</td>\n",
              "      <td>1</td>\n",
              "      <td>3</td>\n",
              "      <td>0</td>\n",
              "      <td>3.0</td>\n",
              "      <td>0</td>\n",
              "      <td>4</td>\n",
              "      <td>1</td>\n",
              "      <td>2</td>\n",
              "      <td>23987.0</td>\n",
              "    </tr>\n",
              "    <tr>\n",
              "      <th>2931</th>\n",
              "      <td>26.0</td>\n",
              "      <td>1</td>\n",
              "      <td>1</td>\n",
              "      <td>9.00000</td>\n",
              "      <td>3</td>\n",
              "      <td>1</td>\n",
              "      <td>4</td>\n",
              "      <td>2.0</td>\n",
              "      <td>0</td>\n",
              "      <td>5</td>\n",
              "      <td>3</td>\n",
              "      <td>2.0</td>\n",
              "      <td>0</td>\n",
              "      <td>2</td>\n",
              "      <td>1</td>\n",
              "      <td>1</td>\n",
              "      <td>22102.0</td>\n",
              "    </tr>\n",
              "    <tr>\n",
              "      <th>2932</th>\n",
              "      <td>31.0</td>\n",
              "      <td>1</td>\n",
              "      <td>1</td>\n",
              "      <td>9.00000</td>\n",
              "      <td>2</td>\n",
              "      <td>1</td>\n",
              "      <td>3</td>\n",
              "      <td>5.0</td>\n",
              "      <td>1</td>\n",
              "      <td>3</td>\n",
              "      <td>0</td>\n",
              "      <td>3.0</td>\n",
              "      <td>0</td>\n",
              "      <td>4</td>\n",
              "      <td>1</td>\n",
              "      <td>2</td>\n",
              "      <td>22830.0</td>\n",
              "    </tr>\n",
              "  </tbody>\n",
              "</table>\n",
              "<p>2933 rows × 17 columns</p>\n",
              "</div>\n",
              "      <button class=\"colab-df-convert\" onclick=\"convertToInteractive('df-32f804bb-0e62-4488-8c86-0575c83f1e87')\"\n",
              "              title=\"Convert this dataframe to an interactive table.\"\n",
              "              style=\"display:none;\">\n",
              "        \n",
              "  <svg xmlns=\"http://www.w3.org/2000/svg\" height=\"24px\"viewBox=\"0 0 24 24\"\n",
              "       width=\"24px\">\n",
              "    <path d=\"M0 0h24v24H0V0z\" fill=\"none\"/>\n",
              "    <path d=\"M18.56 5.44l.94 2.06.94-2.06 2.06-.94-2.06-.94-.94-2.06-.94 2.06-2.06.94zm-11 1L8.5 8.5l.94-2.06 2.06-.94-2.06-.94L8.5 2.5l-.94 2.06-2.06.94zm10 10l.94 2.06.94-2.06 2.06-.94-2.06-.94-.94-2.06-.94 2.06-2.06.94z\"/><path d=\"M17.41 7.96l-1.37-1.37c-.4-.4-.92-.59-1.43-.59-.52 0-1.04.2-1.43.59L10.3 9.45l-7.72 7.72c-.78.78-.78 2.05 0 2.83L4 21.41c.39.39.9.59 1.41.59.51 0 1.02-.2 1.41-.59l7.78-7.78 2.81-2.81c.8-.78.8-2.07 0-2.86zM5.41 20L4 18.59l7.72-7.72 1.47 1.35L5.41 20z\"/>\n",
              "  </svg>\n",
              "      </button>\n",
              "      \n",
              "  <style>\n",
              "    .colab-df-container {\n",
              "      display:flex;\n",
              "      flex-wrap:wrap;\n",
              "      gap: 12px;\n",
              "    }\n",
              "\n",
              "    .colab-df-convert {\n",
              "      background-color: #E8F0FE;\n",
              "      border: none;\n",
              "      border-radius: 50%;\n",
              "      cursor: pointer;\n",
              "      display: none;\n",
              "      fill: #1967D2;\n",
              "      height: 32px;\n",
              "      padding: 0 0 0 0;\n",
              "      width: 32px;\n",
              "    }\n",
              "\n",
              "    .colab-df-convert:hover {\n",
              "      background-color: #E2EBFA;\n",
              "      box-shadow: 0px 1px 2px rgba(60, 64, 67, 0.3), 0px 1px 3px 1px rgba(60, 64, 67, 0.15);\n",
              "      fill: #174EA6;\n",
              "    }\n",
              "\n",
              "    [theme=dark] .colab-df-convert {\n",
              "      background-color: #3B4455;\n",
              "      fill: #D2E3FC;\n",
              "    }\n",
              "\n",
              "    [theme=dark] .colab-df-convert:hover {\n",
              "      background-color: #434B5C;\n",
              "      box-shadow: 0px 1px 3px 1px rgba(0, 0, 0, 0.15);\n",
              "      filter: drop-shadow(0px 1px 2px rgba(0, 0, 0, 0.3));\n",
              "      fill: #FFFFFF;\n",
              "    }\n",
              "  </style>\n",
              "\n",
              "      <script>\n",
              "        const buttonEl =\n",
              "          document.querySelector('#df-32f804bb-0e62-4488-8c86-0575c83f1e87 button.colab-df-convert');\n",
              "        buttonEl.style.display =\n",
              "          google.colab.kernel.accessAllowed ? 'block' : 'none';\n",
              "\n",
              "        async function convertToInteractive(key) {\n",
              "          const element = document.querySelector('#df-32f804bb-0e62-4488-8c86-0575c83f1e87');\n",
              "          const dataTable =\n",
              "            await google.colab.kernel.invokeFunction('convertToInteractive',\n",
              "                                                     [key], {});\n",
              "          if (!dataTable) return;\n",
              "\n",
              "          const docLinkHtml = 'Like what you see? Visit the ' +\n",
              "            '<a target=\"_blank\" href=https://colab.research.google.com/notebooks/data_table.ipynb>data table notebook</a>'\n",
              "            + ' to learn more about interactive tables.';\n",
              "          element.innerHTML = '';\n",
              "          dataTable['output_type'] = 'display_data';\n",
              "          await google.colab.output.renderOutput(dataTable, element);\n",
              "          const docLink = document.createElement('div');\n",
              "          docLink.innerHTML = docLinkHtml;\n",
              "          element.appendChild(docLink);\n",
              "        }\n",
              "      </script>\n",
              "    </div>\n",
              "  </div>\n",
              "  "
            ]
          },
          "metadata": {},
          "execution_count": 53
        }
      ]
    },
    {
      "cell_type": "markdown",
      "metadata": {
        "id": "Yebx6VWzLqkr"
      },
      "source": [
        "# Scaling & GridSearch(SVC & RandomForestClassifier)\n",
        "\n",
        "( numerical_value -> MinMaxScaler(나이, 공개기간, 월급여) // QuantileTransformer(후속조치수, 평균여행횟수, 나이, 공개기간, 월급여, 총인원) \n",
        "\n",
        ", categorical_value -> OneHotEncoder)"
      ]
    },
    {
      "cell_type": "code",
      "execution_count": null,
      "metadata": {
        "colab": {
          "base_uri": "https://localhost:8080/"
        },
        "id": "0--qezS18OBS",
        "outputId": "f101726b-8b01-46ea-dc27-434b8380f3ea"
      },
      "outputs": [
        {
          "output_type": "stream",
          "name": "stdout",
          "text": [
            "{'classifier': SVC(C=25, gamma=0.358), 'classifier__C': 25, 'classifier__gamma': 0.358}\n",
            "0.9150811093668236\n"
          ]
        }
      ],
      "source": [
        "\n",
        "from sklearn.preprocessing import MinMaxScaler, OneHotEncoder, QuantileTransformer\n",
        "from sklearn.model_selection import train_test_split\n",
        "from sklearn.compose import ColumnTransformer\n",
        "from sklearn.pipeline import Pipeline\n",
        "from sklearn.model_selection import GridSearchCV\n",
        "from sklearn.ensemble import RandomForestClassifier\n",
        "from sklearn.svm import SVC\n",
        "\n",
        "ct1 = ColumnTransformer([('scaling1',MinMaxScaler(),['나이' ,  '공개기간', '월급여']),('scaling3',QuantileTransformer(n_quantiles=400),[ '후속조치수',  '평균여행횟수','나이' , '공개기간' , '월급여','총인원']),('onehot',OneHotEncoder(sparse=False,handle_unknown = 'ignore'),['선호호텔등급','도시등급','접근경로', '직업', '성별' , '제시상품', '결혼여부', '여권유무', '발표만족도','자동차유무', '직급'])])\n",
        "\n",
        "\n",
        "df_train = df.drop(['신청여부'],axis=1)\n",
        "\n",
        "\n",
        "pipe = Pipeline([('scaling',ct1),('classifier',RandomForestClassifier())])\n",
        "\n",
        "params_grid = [{'classifier':[SVC()],'classifier__gamma' : [0.355,0.357,0.358,0.359,0.36,0.363,0.37],\n",
        "               'classifier__C':[24,25,25.4,25.6,25.8,26,27,28,29,30,31,32,33,33.4,34]},{\n",
        "               'classifier__n_estimators':[10,14]}\n",
        "               ]\n",
        "\n",
        "grid=GridSearchCV(pipe,params_grid,cv=10)\n",
        "\n",
        "grid.fit(df_train,df['신청여부'])\n",
        "\n",
        "print(grid.best_params_)\n",
        "print(grid.best_score_)"
      ]
    },
    {
      "cell_type": "markdown",
      "source": [
        "\n",
        "\n",
        "#{'classifier': SVC(C=25, gamma=0.358), 'classifier__C': 25, 'classifier__gamma': 0.358}\n",
        "0.9150811093668236"
      ],
      "metadata": {
        "id": "zlHUEYMHHlzz"
      }
    },
    {
      "cell_type": "code",
      "execution_count": null,
      "metadata": {
        "id": "eQN0NyFawYal"
      },
      "outputs": [],
      "source": [
        "em=grid.best_estimator_\n",
        "pred=em.predict(df1)\n",
        "\n",
        "submit = pd.DataFrame(pred,columns=['ProdTaken'])\n"
      ]
    },
    {
      "cell_type": "code",
      "execution_count": null,
      "metadata": {
        "colab": {
          "base_uri": "https://localhost:8080/"
        },
        "id": "zRczybTSzvNH",
        "outputId": "448d080a-2c0f-4bfa-9afe-9711c8f57abe"
      },
      "outputs": [
        {
          "output_type": "execute_result",
          "data": {
            "text/plain": [
              "ProdTaken\n",
              "0    2495\n",
              "1     438\n",
              "Name: ProdTaken, dtype: int64"
            ]
          },
          "metadata": {},
          "execution_count": 56
        }
      ],
      "source": [
        "submit = pd.DataFrame(pred,columns=['ProdTaken'])\n",
        "\n",
        "submit.groupby(by=['ProdTaken'])['ProdTaken'].count()"
      ]
    },
    {
      "cell_type": "code",
      "execution_count": null,
      "metadata": {
        "colab": {
          "base_uri": "https://localhost:8080/",
          "height": 424
        },
        "id": "NCSmkL7hoarX",
        "outputId": "7930f2a6-e6a2-440b-db9b-1e38a03ef0a0"
      },
      "outputs": [
        {
          "output_type": "execute_result",
          "data": {
            "text/plain": [
              "        id  ProdTaken\n",
              "0        1          0\n",
              "1        2          0\n",
              "2        3          0\n",
              "3        4          0\n",
              "4        5          0\n",
              "...    ...        ...\n",
              "2928  2929          0\n",
              "2929  2930          0\n",
              "2930  2931          0\n",
              "2931  2932          0\n",
              "2932  2933          0\n",
              "\n",
              "[2933 rows x 2 columns]"
            ],
            "text/html": [
              "\n",
              "  <div id=\"df-516e084f-fde7-4d89-9b59-b6b1813e905f\">\n",
              "    <div class=\"colab-df-container\">\n",
              "      <div>\n",
              "<style scoped>\n",
              "    .dataframe tbody tr th:only-of-type {\n",
              "        vertical-align: middle;\n",
              "    }\n",
              "\n",
              "    .dataframe tbody tr th {\n",
              "        vertical-align: top;\n",
              "    }\n",
              "\n",
              "    .dataframe thead th {\n",
              "        text-align: right;\n",
              "    }\n",
              "</style>\n",
              "<table border=\"1\" class=\"dataframe\">\n",
              "  <thead>\n",
              "    <tr style=\"text-align: right;\">\n",
              "      <th></th>\n",
              "      <th>id</th>\n",
              "      <th>ProdTaken</th>\n",
              "    </tr>\n",
              "  </thead>\n",
              "  <tbody>\n",
              "    <tr>\n",
              "      <th>0</th>\n",
              "      <td>1</td>\n",
              "      <td>0</td>\n",
              "    </tr>\n",
              "    <tr>\n",
              "      <th>1</th>\n",
              "      <td>2</td>\n",
              "      <td>0</td>\n",
              "    </tr>\n",
              "    <tr>\n",
              "      <th>2</th>\n",
              "      <td>3</td>\n",
              "      <td>0</td>\n",
              "    </tr>\n",
              "    <tr>\n",
              "      <th>3</th>\n",
              "      <td>4</td>\n",
              "      <td>0</td>\n",
              "    </tr>\n",
              "    <tr>\n",
              "      <th>4</th>\n",
              "      <td>5</td>\n",
              "      <td>0</td>\n",
              "    </tr>\n",
              "    <tr>\n",
              "      <th>...</th>\n",
              "      <td>...</td>\n",
              "      <td>...</td>\n",
              "    </tr>\n",
              "    <tr>\n",
              "      <th>2928</th>\n",
              "      <td>2929</td>\n",
              "      <td>0</td>\n",
              "    </tr>\n",
              "    <tr>\n",
              "      <th>2929</th>\n",
              "      <td>2930</td>\n",
              "      <td>0</td>\n",
              "    </tr>\n",
              "    <tr>\n",
              "      <th>2930</th>\n",
              "      <td>2931</td>\n",
              "      <td>0</td>\n",
              "    </tr>\n",
              "    <tr>\n",
              "      <th>2931</th>\n",
              "      <td>2932</td>\n",
              "      <td>0</td>\n",
              "    </tr>\n",
              "    <tr>\n",
              "      <th>2932</th>\n",
              "      <td>2933</td>\n",
              "      <td>0</td>\n",
              "    </tr>\n",
              "  </tbody>\n",
              "</table>\n",
              "<p>2933 rows × 2 columns</p>\n",
              "</div>\n",
              "      <button class=\"colab-df-convert\" onclick=\"convertToInteractive('df-516e084f-fde7-4d89-9b59-b6b1813e905f')\"\n",
              "              title=\"Convert this dataframe to an interactive table.\"\n",
              "              style=\"display:none;\">\n",
              "        \n",
              "  <svg xmlns=\"http://www.w3.org/2000/svg\" height=\"24px\"viewBox=\"0 0 24 24\"\n",
              "       width=\"24px\">\n",
              "    <path d=\"M0 0h24v24H0V0z\" fill=\"none\"/>\n",
              "    <path d=\"M18.56 5.44l.94 2.06.94-2.06 2.06-.94-2.06-.94-.94-2.06-.94 2.06-2.06.94zm-11 1L8.5 8.5l.94-2.06 2.06-.94-2.06-.94L8.5 2.5l-.94 2.06-2.06.94zm10 10l.94 2.06.94-2.06 2.06-.94-2.06-.94-.94-2.06-.94 2.06-2.06.94z\"/><path d=\"M17.41 7.96l-1.37-1.37c-.4-.4-.92-.59-1.43-.59-.52 0-1.04.2-1.43.59L10.3 9.45l-7.72 7.72c-.78.78-.78 2.05 0 2.83L4 21.41c.39.39.9.59 1.41.59.51 0 1.02-.2 1.41-.59l7.78-7.78 2.81-2.81c.8-.78.8-2.07 0-2.86zM5.41 20L4 18.59l7.72-7.72 1.47 1.35L5.41 20z\"/>\n",
              "  </svg>\n",
              "      </button>\n",
              "      \n",
              "  <style>\n",
              "    .colab-df-container {\n",
              "      display:flex;\n",
              "      flex-wrap:wrap;\n",
              "      gap: 12px;\n",
              "    }\n",
              "\n",
              "    .colab-df-convert {\n",
              "      background-color: #E8F0FE;\n",
              "      border: none;\n",
              "      border-radius: 50%;\n",
              "      cursor: pointer;\n",
              "      display: none;\n",
              "      fill: #1967D2;\n",
              "      height: 32px;\n",
              "      padding: 0 0 0 0;\n",
              "      width: 32px;\n",
              "    }\n",
              "\n",
              "    .colab-df-convert:hover {\n",
              "      background-color: #E2EBFA;\n",
              "      box-shadow: 0px 1px 2px rgba(60, 64, 67, 0.3), 0px 1px 3px 1px rgba(60, 64, 67, 0.15);\n",
              "      fill: #174EA6;\n",
              "    }\n",
              "\n",
              "    [theme=dark] .colab-df-convert {\n",
              "      background-color: #3B4455;\n",
              "      fill: #D2E3FC;\n",
              "    }\n",
              "\n",
              "    [theme=dark] .colab-df-convert:hover {\n",
              "      background-color: #434B5C;\n",
              "      box-shadow: 0px 1px 3px 1px rgba(0, 0, 0, 0.15);\n",
              "      filter: drop-shadow(0px 1px 2px rgba(0, 0, 0, 0.3));\n",
              "      fill: #FFFFFF;\n",
              "    }\n",
              "  </style>\n",
              "\n",
              "      <script>\n",
              "        const buttonEl =\n",
              "          document.querySelector('#df-516e084f-fde7-4d89-9b59-b6b1813e905f button.colab-df-convert');\n",
              "        buttonEl.style.display =\n",
              "          google.colab.kernel.accessAllowed ? 'block' : 'none';\n",
              "\n",
              "        async function convertToInteractive(key) {\n",
              "          const element = document.querySelector('#df-516e084f-fde7-4d89-9b59-b6b1813e905f');\n",
              "          const dataTable =\n",
              "            await google.colab.kernel.invokeFunction('convertToInteractive',\n",
              "                                                     [key], {});\n",
              "          if (!dataTable) return;\n",
              "\n",
              "          const docLinkHtml = 'Like what you see? Visit the ' +\n",
              "            '<a target=\"_blank\" href=https://colab.research.google.com/notebooks/data_table.ipynb>data table notebook</a>'\n",
              "            + ' to learn more about interactive tables.';\n",
              "          element.innerHTML = '';\n",
              "          dataTable['output_type'] = 'display_data';\n",
              "          await google.colab.output.renderOutput(dataTable, element);\n",
              "          const docLink = document.createElement('div');\n",
              "          docLink.innerHTML = docLinkHtml;\n",
              "          element.appendChild(docLink);\n",
              "        }\n",
              "      </script>\n",
              "    </div>\n",
              "  </div>\n",
              "  "
            ]
          },
          "metadata": {},
          "execution_count": 57
        }
      ],
      "source": [
        "df55 = pd.read_csv('/content/drive/MyDrive/dataset/dacon/test.csv')\n",
        "submit['id'] = df55['id']\n",
        "\n",
        "\n",
        "submit = submit[['id','ProdTaken']]\n",
        "submit"
      ]
    },
    {
      "cell_type": "code",
      "execution_count": null,
      "metadata": {
        "id": "_NFzwLMo0pOB"
      },
      "outputs": [],
      "source": [
        "submit.to_csv('/content/drive/MyDrive/dataset/dacon/submission_final.csv',index=False)"
      ]
    },
    {
      "cell_type": "code",
      "execution_count": null,
      "metadata": {
        "id": "YlXwUQ4Tcm_V"
      },
      "outputs": [],
      "source": [
        "import pandas as pd\n",
        "data = pd.read_csv('/content/drive/MyDrive/dataset/dacon/submission_final.csv', engine='python')\n",
        "\n",
        "\n",
        "data.to_csv('/content/drive/MyDrive/dataset/dacon/submiss_final.csv', index=False)\n",
        "\n"
      ]
    }
  ],
  "metadata": {
    "accelerator": "GPU",
    "colab": {
      "provenance": []
    },
    "gpuClass": "standard",
    "kernelspec": {
      "display_name": "Python 3",
      "name": "python3"
    },
    "language_info": {
      "name": "python"
    }
  },
  "nbformat": 4,
  "nbformat_minor": 0
}